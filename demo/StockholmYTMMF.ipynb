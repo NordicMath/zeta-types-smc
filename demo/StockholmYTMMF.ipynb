{
 "cells": [
  {
   "cell_type": "code",
   "execution_count": 1,
   "metadata": {},
   "outputs": [],
   "source": [
    "%runfile ../zetatypes/util/lazylist.py\n",
    "%runfile ../zetatypes/ts/monoid.py\n",
    "%runfile ../zetatypes/ts/ring.py\n",
    "%runfile ../zetatypes/util/berlekamp.py\n",
    "%runfile ../zetatypes/ts/complex.py"
   ]
  },
  {
   "cell_type": "code",
   "execution_count": 2,
   "metadata": {},
   "outputs": [],
   "source": [
    "%runfile ../zetatypes/mf/mf.py\n",
    "%runfile ../zetatypes/mf/library.py"
   ]
  },
  {
   "cell_type": "code",
   "execution_count": null,
   "metadata": {},
   "outputs": [],
   "source": []
  },
  {
   "cell_type": "code",
   "execution_count": null,
   "metadata": {},
   "outputs": [],
   "source": []
  },
  {
   "cell_type": "code",
   "execution_count": null,
   "metadata": {},
   "outputs": [],
   "source": []
  },
  {
   "cell_type": "code",
   "execution_count": 3,
   "metadata": {},
   "outputs": [],
   "source": [
    "loadMultiplicativeLibrary(\"../data/classical-functions.json\")"
   ]
  },
  {
   "cell_type": "code",
   "execution_count": 4,
   "metadata": {},
   "outputs": [],
   "source": [
    "defineTS()"
   ]
  },
  {
   "cell_type": "code",
   "execution_count": 5,
   "metadata": {},
   "outputs": [],
   "source": [
    "defineMF()"
   ]
  },
  {
   "cell_type": "code",
   "execution_count": null,
   "metadata": {},
   "outputs": [],
   "source": []
  },
  {
   "cell_type": "code",
   "execution_count": 6,
   "metadata": {},
   "outputs": [
    {
     "name": "stdout",
     "output_type": "stream",
     "text": [
      "char_fn_squares\n",
      "core\n",
      "one\n",
      "tau_3\n",
      "beta\n",
      "char_fn_squarefree\n",
      "tau\n",
      "id_2\n",
      "id\n",
      "euler_phi\n",
      "dedekind_psi\n",
      "id_3\n",
      "gamma\n",
      "zero\n",
      "liouville\n",
      "tau_4\n",
      "sigma\n",
      "theta\n",
      "mu\n",
      "sigma_k\n",
      "psi_k\n",
      "id_k\n",
      "jordan_k\n",
      "tau_k\n"
     ]
    }
   ],
   "source": [
    "multiplicativeFunctionLibrary.printLoaded()"
   ]
  },
  {
   "cell_type": "code",
   "execution_count": null,
   "metadata": {},
   "outputs": [],
   "source": []
  },
  {
   "cell_type": "code",
   "execution_count": null,
   "metadata": {},
   "outputs": [],
   "source": []
  },
  {
   "cell_type": "code",
   "execution_count": 7,
   "metadata": {},
   "outputs": [
    {
     "name": "stdout",
     "output_type": "stream",
     "text": [
      "loaded!\n"
     ]
    }
   ],
   "source": [
    "mfd('euler_phi', name='phi')\n",
    "mfd('sigma_1')\n",
    "mfd('tau')\n",
    "mfd('one')\n",
    "mfd('id')\n",
    "mfd('id_2')\n",
    "mfd('id_3')\n",
    "mfd('zero')\n",
    "mfd('liouville')\n",
    "mfd('sigma')\n",
    "mfd('mu')\n",
    "print \"loaded!\""
   ]
  },
  {
   "cell_type": "code",
   "execution_count": null,
   "metadata": {},
   "outputs": [],
   "source": []
  },
  {
   "cell_type": "code",
   "execution_count": null,
   "metadata": {},
   "outputs": [],
   "source": []
  },
  {
   "cell_type": "code",
   "execution_count": 8,
   "metadata": {},
   "outputs": [
    {
     "data": {
      "text/plain": [
       "tau_20"
      ]
     },
     "execution_count": 8,
     "metadata": {},
     "output_type": "execute_result"
    }
   ],
   "source": [
    "mfd('tau_20')"
   ]
  },
  {
   "cell_type": "code",
   "execution_count": 9,
   "metadata": {},
   "outputs": [
    {
     "data": {
      "text/plain": [
       "{1, 1, 1, 1, 1, 1, 1, 1, 1, 1, 1, 1, 1, 1, 1, 1, 1, 1, 1, 1}/Ø"
      ]
     },
     "execution_count": 9,
     "metadata": {},
     "output_type": "execute_result"
    }
   ],
   "source": [
    "tau_20.symbol"
   ]
  },
  {
   "cell_type": "code",
   "execution_count": null,
   "metadata": {},
   "outputs": [],
   "source": []
  },
  {
   "cell_type": "code",
   "execution_count": 10,
   "metadata": {},
   "outputs": [
    {
     "data": {
      "text/plain": [
       "84000"
      ]
     },
     "execution_count": 10,
     "metadata": {},
     "output_type": "execute_result"
    }
   ],
   "source": [
    "tau_20(342)"
   ]
  },
  {
   "cell_type": "code",
   "execution_count": null,
   "metadata": {},
   "outputs": [],
   "source": []
  },
  {
   "cell_type": "code",
   "execution_count": 11,
   "metadata": {},
   "outputs": [
    {
     "data": {
      "text/plain": [
       "sigma_3"
      ]
     },
     "execution_count": 11,
     "metadata": {},
     "output_type": "execute_result"
    }
   ],
   "source": [
    "mfd('sigma_3')"
   ]
  },
  {
   "cell_type": "code",
   "execution_count": 12,
   "metadata": {},
   "outputs": [
    {
     "data": {
      "text/plain": [
       "{1, p^3}/Ø"
      ]
     },
     "execution_count": 12,
     "metadata": {},
     "output_type": "execute_result"
    }
   ],
   "source": [
    "sigma_3.symbol"
   ]
  },
  {
   "cell_type": "code",
   "execution_count": 13,
   "metadata": {},
   "outputs": [
    {
     "data": {
      "text/plain": [
       "25112"
      ]
     },
     "execution_count": 13,
     "metadata": {},
     "output_type": "execute_result"
    }
   ],
   "source": [
    "sigma_3(28)"
   ]
  },
  {
   "cell_type": "code",
   "execution_count": null,
   "metadata": {},
   "outputs": [],
   "source": []
  },
  {
   "cell_type": "code",
   "execution_count": 14,
   "metadata": {},
   "outputs": [
    {
     "data": {
      "text/plain": [
       "42462000"
      ]
     },
     "execution_count": 14,
     "metadata": {},
     "output_type": "execute_result"
    }
   ],
   "source": [
    "(sigma_3 * tau_20)(20)"
   ]
  },
  {
   "cell_type": "code",
   "execution_count": null,
   "metadata": {},
   "outputs": [],
   "source": []
  },
  {
   "cell_type": "code",
   "execution_count": 15,
   "metadata": {},
   "outputs": [
    {
     "data": {
      "text/plain": [
       "True"
      ]
     },
     "execution_count": 15,
     "metadata": {},
     "output_type": "execute_result"
    }
   ],
   "source": [
    "id * tau == sigma + phi"
   ]
  },
  {
   "cell_type": "code",
   "execution_count": 16,
   "metadata": {},
   "outputs": [
    {
     "data": {
      "text/html": [
       "<script type=\"math/tex\">{n} \\cdot \\tau\\left(n\\right) = \\sum_{d_{0} \\mid n} \\sigma\\left(d_{0}\\right) \\cdot \\varphi\\left(\\frac{n}{d_{0}}\\right)</script>"
      ],
      "text/plain": [
       "<script type=\"math/tex\">{n} \\cdot \\tau\\left(n\\right) = \\sum_{d_{0} \\mid n} \\sigma\\left(d_{0}\\right) \\cdot \\varphi\\left(\\frac{n}{d_{0}}\\right)</script>"
      ]
     },
     "metadata": {},
     "output_type": "display_data"
    },
    {
     "data": {
      "text/plain": []
     },
     "execution_count": 16,
     "metadata": {},
     "output_type": "execute_result"
    }
   ],
   "source": [
    "html(id * tau & sigma + phi)"
   ]
  },
  {
   "cell_type": "code",
   "execution_count": null,
   "metadata": {},
   "outputs": [],
   "source": []
  },
  {
   "cell_type": "code",
   "execution_count": null,
   "metadata": {},
   "outputs": [],
   "source": []
  },
  {
   "cell_type": "code",
   "execution_count": null,
   "metadata": {},
   "outputs": [],
   "source": []
  },
  {
   "cell_type": "code",
   "execution_count": 17,
   "metadata": {},
   "outputs": [
    {
     "name": "stdout",
     "output_type": "stream",
     "text": [
      "p = 2 : [1, 3, 5, 9, 17, 33, 65, 129, 257, 513]\n",
      "p = 3 : [1, 4, 10, 28, 82, 244, 730, 2188, 6562, 19684]\n",
      "p = 5 : [1, 6, 26, 126, 626, 3126, 15626, 78126, 390626, 1953126]\n",
      "p = 7 : [1, 8, 50, 344, 2402, 16808, 117650, 823544, 5764802, 40353608]\n",
      "p = 11 : [1, 12, 122, 1332, 14642, 161052, 1771562, 19487172, 214358882, 2357947692]\n",
      "p = 13 : [1, 14, 170, 2198, 28562, 371294, 4826810, 62748518, 815730722, 10604499374]\n",
      "p = 17 : [1, 18, 290, 4914, 83522, 1419858, 24137570, 410338674, 6975757442, 118587876498]\n",
      "p = 19 : [1, 20, 362, 6860, 130322, 2476100, 47045882, 893871740, 16983563042, 322687697780]\n",
      "p = 23 : [1, 24, 530, 12168, 279842, 6436344, 148035890, 3404825448, 78310985282, 1801152661464]\n",
      "p = 29 : [1, 30, 842, 24390, 707282, 20511150, 594823322, 17249876310, 500246412962, 14507145975870]\n"
     ]
    }
   ],
   "source": [
    "sigma.printBellTable(BellDegree = 1, width= 10, height = 10)"
   ]
  },
  {
   "cell_type": "code",
   "execution_count": null,
   "metadata": {},
   "outputs": [],
   "source": []
  },
  {
   "cell_type": "code",
   "execution_count": null,
   "metadata": {},
   "outputs": [],
   "source": []
  },
  {
   "cell_type": "code",
   "execution_count": 18,
   "metadata": {
    "scrolled": true
   },
   "outputs": [
    {
     "name": "stdout",
     "output_type": "stream",
     "text": [
      "\\begin{frame}{Example: $ \\tau $}\n",
      "Values: 1, 2, 2, 3, 2, 4, 2, 4, 3, 4, 2, 6, 2, 4, 4, 5, 2, 6, 2\\ldots\\\n",
      "\\vskip 6pt\n",
      "Bell table: \n",
      "\\begin{table}\n",
      "\\centering\n",
      "\\begin{tabular}{| l | | c | c | c | c | c | c |}\n",
      "\\hline\n",
      "& $e = 1$ & $e = 2$ & $e = 3$ & $e = 4$ & $e = 5$ & $e = 6$\\\\\n",
      "\\hline\n",
      "\\hline\n",
      "$p = 2$ & $2$ & $3$ & $4$ & $5$ & $6$ & $7$ \\\\\n",
      "\\hline\n",
      "$p = 3$ & $2$ & $3$ & $4$ & $5$ & $6$ & $7$ \\\\\n",
      "\\hline\n",
      "$p = 5$ & $2$ & $3$ & $4$ & $5$ & $6$ & $7$ \\\\\n",
      "\\hline\n",
      "$p = 7$ & $2$ & $3$ & $4$ & $5$ & $6$ & $7$ \\\\\n",
      "\\hline\n",
      "$p = 11$ & $2$ & $3$ & $4$ & $5$ & $6$ & $7$ \\\\\n",
      "\\hline\n",
      "\\end{tabular}\n",
      "\\end{table}\n",
      "Tannakian symbol: $$ \\frac{\\{1, 1\\}}{\\varnothing} $$\n",
      "\\end{frame}\n",
      "\n",
      "\n",
      "\n",
      "\n",
      "\n",
      "\n",
      "\n",
      "\n",
      "\n",
      "\n",
      "\n"
     ]
    }
   ],
   "source": [
    "for f in [tau]:\n",
    "    print \"\\\\begin{frame}{Example: $\" + latex(f) + \"$}\"\n",
    "    print \"Values: \" + ', '.join(str(f(x)) for x in range(1, 20)) + \"\\ldots\\\\\"\n",
    "    print \"\\\\vskip 6pt\"\n",
    "    print \"Bell table: \"\n",
    "    f.printBellTable(latex=True,includeOnes=False, width= 6)\n",
    "    print \"Tannakian symbol: $$ \"+ latex(f.symbol)+\"$$\"\n",
    "    print \"\\\\end{frame}\\n\\n\\n\\n\\n\\n\\n\\n\\n\\n\\n\""
   ]
  },
  {
   "cell_type": "code",
   "execution_count": null,
   "metadata": {},
   "outputs": [],
   "source": []
  },
  {
   "cell_type": "code",
   "execution_count": null,
   "metadata": {},
   "outputs": [],
   "source": []
  },
  {
   "cell_type": "code",
   "execution_count": 19,
   "metadata": {},
   "outputs": [
    {
     "name": "stdout",
     "output_type": "stream",
     "text": [
      "\\begin{table}\n",
      "\\centering\n",
      "\\begin{tabular}{| l | | c | c | c | c | c | c | c |}\n",
      "\\hline\n",
      "& $e = 1$ & $e = 2$ & $e = 3$ & $e = 4$ & $e = 5$ & $e = 6$ & $e = 7$\\\\\n",
      "\\hline\n",
      "\\hline\n",
      "$p = 2$ & $2$ & $3$ & $4$ & $5$ & $6$ & $7$ & $8$ \\\\\n",
      "\\hline\n",
      "$p = 3$ & $2$ & $3$ & $4$ & $5$ & $6$ & $7$ & $8$ \\\\\n",
      "\\hline\n",
      "$p = 5$ & $2$ & $3$ & $4$ & $5$ & $6$ & $7$ & $8$ \\\\\n",
      "\\hline\n",
      "$p = 7$ & $2$ & $3$ & $4$ & $5$ & $6$ & $7$ & $8$ \\\\\n",
      "\\hline\n",
      "$p = 11$ & $2$ & $3$ & $4$ & $5$ & $6$ & $7$ & $8$ \\\\\n",
      "\\hline\n",
      "$p = 13$ & $2$ & $3$ & $4$ & $5$ & $6$ & $7$ & $8$ \\\\\n",
      "\\hline\n",
      "\\end{tabular}\n",
      "\\end{table}\n"
     ]
    }
   ],
   "source": [
    "tau.printBellTable(latex=True, includeOnes=False, width = 7, height = 6)"
   ]
  },
  {
   "cell_type": "code",
   "execution_count": null,
   "metadata": {},
   "outputs": [],
   "source": []
  },
  {
   "cell_type": "code",
   "execution_count": 20,
   "metadata": {},
   "outputs": [
    {
     "data": {
      "text/plain": [
       "'[1, 2, 2, 3, 2, 4, 2, 4, 3, 4, 2, 6, 2, 4, 4, 5, 2, 6, 2, 6, 4, 4, 2, 8, 3, 4, 4, 6, 2, 8, 2, 6, 4, 4, 4, 9, 2, 4, 4, 8, 2, 8, 2, 6, 6, 4, 2, 10, 3, 6, 4, 6, 2, 8, 4, 8, 4, 4, 2, 12, 2, 4, 6, 7, 4, 8, 2, 6, 4, 8, 2, 12, 2, 4, 6, 6, 4, 8, 2, 10, 5, 4, 2, 12, 4, 4, 4, 8, 2, 12, 4, 6, 4, 4, 4, 12, 2, 6, 6]'"
      ]
     },
     "execution_count": 20,
     "metadata": {},
     "output_type": "execute_result"
    }
   ],
   "source": [
    "str(map(tau, range(1, 100)))"
   ]
  },
  {
   "cell_type": "code",
   "execution_count": null,
   "metadata": {},
   "outputs": [],
   "source": []
  },
  {
   "cell_type": "code",
   "execution_count": null,
   "metadata": {},
   "outputs": [],
   "source": []
  }
 ],
 "metadata": {
  "kernelspec": {
   "display_name": "SageMath 7.5.1",
   "language": "",
   "name": "sagemath"
  },
  "language_info": {
   "codemirror_mode": {
    "name": "ipython",
    "version": 2
   },
   "file_extension": ".py",
   "mimetype": "text/x-python",
   "name": "python",
   "nbconvert_exporter": "python",
   "pygments_lexer": "ipython2",
   "version": "2.7.13"
  }
 },
 "nbformat": 4,
 "nbformat_minor": 1
}
