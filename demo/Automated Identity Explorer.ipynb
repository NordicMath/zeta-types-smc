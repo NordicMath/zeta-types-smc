{
 "cells": [
  {
   "cell_type": "markdown",
   "metadata": {},
   "source": [
    "## Loading everything"
   ]
  },
  {
   "cell_type": "code",
   "execution_count": null,
   "metadata": {},
   "outputs": [],
   "source": [
    "%runfile ../zetatypes/util/lazylist.py\n",
    "%runfile ../zetatypes/ts/monoid.py\n",
    "%runfile ../zetatypes/ts/ring.py\n",
    "%runfile ../zetatypes/util/berlekamp.py\n",
    "%runfile ../zetatypes/ts/complex.py"
   ]
  },
  {
   "cell_type": "code",
   "execution_count": null,
   "metadata": {},
   "outputs": [],
   "source": [
    "%runfile ../zetatypes/mf/mf.py\n",
    "%runfile ../zetatypes/mf/library.py"
   ]
  },
  {
   "cell_type": "code",
   "execution_count": null,
   "metadata": {},
   "outputs": [],
   "source": [
    "loadMultiplicativeLibrary(\"../data/classical-functions.json\")\n",
    "defineTS()\n",
    "defineMF()"
   ]
  },
  {
   "cell_type": "code",
   "execution_count": null,
   "metadata": {},
   "outputs": [],
   "source": []
  },
  {
   "cell_type": "code",
   "execution_count": null,
   "metadata": {},
   "outputs": [],
   "source": [
    "mfd('euler_phi', name='phi')\n",
    "mfd('sigma_1')\n",
    "mfd('tau')\n",
    "mfd('one')\n",
    "mfd('id')\n",
    "mfd('id_2')\n",
    "mfd('id_3')\n",
    "mfd('zero')\n",
    "mfd('liouville')\n",
    "mfd('sigma')\n",
    "mfd('mu')\n",
    "print \"defined!\""
   ]
  },
  {
   "cell_type": "markdown",
   "metadata": {},
   "source": [
    "# Automated Identity explorer\n",
    "\n",
    "The purpose of this program is to find all identities of or under a specific cost.\n",
    "\n",
    "## What is an Identity?\n",
    "\n",
    "In this program, an identity is an equality between two objects of type 'MultiplicativeFunction', meaning a tree-structure based on specified atomic functions, negation, circleplus, circleproduct, and adamsoperations for any n.\n",
    "\n",
    "## The Cost of an Identity\n",
    "\n",
    "Let $c(z)$ be the cost of $z$. Since all identities essentially are a tree structure of various operations and 'atomic' functions, we specify the cost based on the tree structure:\n",
    "\n",
    "$c(f) = \\text{evendimension}(f) + \\text{odddimension}(f)$ when $f$ is an atomic multiplicative function\n",
    "\n",
    "$c(f + g) = c(f) + c(g) + 1$\n",
    "\n",
    "$c(f * g) = c(f) + c(g) + 2$\n",
    "\n",
    "$c(\\psi^n(f)) = n - 1 + c(f) \\text{ for } n > 1$\n",
    "\n",
    "$c(-f) = c(f) + 1$\n",
    "\n",
    "\n",
    "Finally,\n",
    "\n",
    "$c(f = g) = c(f) + c(g)$\n",
    "\n",
    "It is easy to verify that for any $n$, there is a finite number of identities of cost $n$"
   ]
  },
  {
   "cell_type": "code",
   "execution_count": null,
   "metadata": {},
   "outputs": [],
   "source": []
  },
  {
   "cell_type": "markdown",
   "metadata": {},
   "source": [
    "### The pool class partitions items into classes"
   ]
  },
  {
   "cell_type": "code",
   "execution_count": null,
   "metadata": {},
   "outputs": [],
   "source": [
    "class Pool():\n",
    "    def __init__(self, indexer):\n",
    "        self.pool = {}\n",
    "        self.indexer = indexer\n",
    "\n",
    "    def __iadd__(self, f):\n",
    "        index = self.indexer(f)\n",
    "        if index in self.pool:\n",
    "            self.pool[index].append(f)\n",
    "        else:\n",
    "            self.pool[index] = [f]\n",
    "\n",
    "    def __lshift__(self, by):\n",
    "        for x in by:\n",
    "            self < x\n",
    "\n",
    "    def __lt__(self, by):\n",
    "        self += by\n",
    "\n",
    "    def __getitem__(self, index):\n",
    "        return self.pool[index]\n",
    "\n",
    "    def __iter__(self):\n",
    "        for v in self.pool:\n",
    "            for f in self.pool[v]:\n",
    "                yield f\n",
    "\n",
    "    def __contains__(self, index):\n",
    "        return index in self.pool\n",
    "\n",
    "    def __str__(self):\n",
    "        return str(self.pool)\n",
    "\n",
    "    def __iter__(self):\n",
    "        for v in self.pool:\n",
    "            for f in self.pool[v]:\n",
    "                yield f\n",
    "\n",
    "    def __contains__(self, index):\n",
    "        return index in self.pool\n",
    "\n",
    "    def __str__(self):\n",
    "        return str(self.pool)"
   ]
  },
  {
   "cell_type": "code",
   "execution_count": null,
   "metadata": {},
   "outputs": [],
   "source": []
  },
  {
   "cell_type": "markdown",
   "metadata": {},
   "source": [
    "### The following cell contains everything related to cost-based functions\n",
    "\n",
    "With a few assumptions (for optimization):\n",
    "\n",
    "* The cost of an atom is determined by itself\n",
    "* Given a cost, one can form a list of cost-combinations such that all direct sums of cost n are represented by combining expressions of cost given by said cost-combinations\n",
    "* The same but for tensor product, adamsoperations, and negation"
   ]
  },
  {
   "cell_type": "code",
   "execution_count": null,
   "metadata": {},
   "outputs": [],
   "source": [
    "def atomCost(f):\n",
    "    return operator.add(*f.symbol.superdimension())\n",
    "\n",
    "def negateCombinations(cost):\n",
    "    if cost < 1:\n",
    "        return []\n",
    "    else:\n",
    "        return [((True, cost - 1),)]\n",
    "\n",
    "def adamsCombinations(cost):\n",
    "    if cost < 1:\n",
    "        return []\n",
    "    else:\n",
    "        return [((False, k + 2), (True, (cost - 1) - k)) for k in range(0, cost)]\n",
    "\n",
    "def sumCombinations(cost):\n",
    "    if cost < 1:\n",
    "        return []\n",
    "    else:\n",
    "        return [((True, k), (True, (cost - 1) - k)) for k in range(0, cost)]\n",
    "\n",
    "def productCombinations(cost):\n",
    "    if cost < 2:\n",
    "        return []\n",
    "    else:\n",
    "        return [((True, k), (True, (cost - 2) - k)) for k in range(0, cost - 1)]"
   ]
  },
  {
   "cell_type": "code",
   "execution_count": null,
   "metadata": {},
   "outputs": [],
   "source": []
  },
  {
   "cell_type": "code",
   "execution_count": null,
   "metadata": {},
   "outputs": [],
   "source": []
  },
  {
   "cell_type": "code",
   "execution_count": null,
   "metadata": {},
   "outputs": [],
   "source": []
  },
  {
   "cell_type": "code",
   "execution_count": null,
   "metadata": {},
   "outputs": [],
   "source": [
    "funcs = [id, one, phi, mu, tau, phi, sigma]\n",
    "\n",
    "# Sorting by cost\n",
    "funcsByCost = Pool(atomCost)\n",
    "funcsByCost << funcs\n",
    "\n",
    "print funcsByCost"
   ]
  },
  {
   "cell_type": "code",
   "execution_count": null,
   "metadata": {},
   "outputs": [],
   "source": []
  },
  {
   "cell_type": "code",
   "execution_count": null,
   "metadata": {},
   "outputs": [],
   "source": [
    "combinators = [\n",
    "   #(negateCombinations,  lambda x   : -x),\n",
    "    (adamsCombinations,   lambda n, x: x.adamsoperation(n)),\n",
    "    (sumCombinations,     lambda x, y: x + y),\n",
    "    (productCombinations, lambda x, y: x * y),\n",
    "]"
   ]
  },
  {
   "cell_type": "code",
   "execution_count": null,
   "metadata": {},
   "outputs": [],
   "source": []
  },
  {
   "cell_type": "code",
   "execution_count": null,
   "metadata": {},
   "outputs": [],
   "source": []
  },
  {
   "cell_type": "code",
   "execution_count": null,
   "metadata": {},
   "outputs": [],
   "source": []
  },
  {
   "cell_type": "code",
   "execution_count": null,
   "metadata": {},
   "outputs": [],
   "source": [
    "# Upperbound on the cost-loop\n",
    "boundcost = 10\n",
    "\n",
    "# Create all pools for each cost, with a symbol-based indexer\n",
    "pools = [Pool(lambda x: x.symbol) for i in range(boundcost)]\n",
    "\n",
    "\n",
    "\n",
    "for cost in range(boundcost):\n",
    "    if cost in funcsByCost:\n",
    "        pools[cost] << funcsByCost[cost]\n",
    "\n",
    "    for costFunction, combinator in combinators:\n",
    "        for costresult in costFunction(cost):\n",
    "            inputPools = [pools[value] if isCost else [value] for (isCost, value) in costresult]\n",
    "            for inputs in itertools.product(*inputPools):\n",
    "                pools[cost] < combinator(*inputs)\n"
   ]
  },
  {
   "cell_type": "code",
   "execution_count": null,
   "metadata": {
    "scrolled": true
   },
   "outputs": [],
   "source": []
  },
  {
   "cell_type": "code",
   "execution_count": null,
   "metadata": {},
   "outputs": [],
   "source": []
  },
  {
   "cell_type": "code",
   "execution_count": null,
   "metadata": {},
   "outputs": [],
   "source": []
  },
  {
   "cell_type": "code",
   "execution_count": null,
   "metadata": {
    "scrolled": true
   },
   "outputs": [],
   "source": []
  },
  {
   "cell_type": "code",
   "execution_count": null,
   "metadata": {},
   "outputs": [],
   "source": []
  },
  {
   "cell_type": "code",
   "execution_count": null,
   "metadata": {},
   "outputs": [],
   "source": []
  },
  {
   "cell_type": "code",
   "execution_count": null,
   "metadata": {
    "scrolled": true
   },
   "outputs": [],
   "source": []
  },
  {
   "cell_type": "code",
   "execution_count": null,
   "metadata": {},
   "outputs": [],
   "source": [
    "identities = []\n",
    "\n",
    "for lhsCost in range(boundcost):\n",
    "    for rhsCost in range(0, boundcost + 1 - lhsCost):\n",
    "        for symb in pools[lhsCost].pool:\n",
    "            if symb in pools[rhsCost].pool:\n",
    "                if lhsCost == rhsCost:\n",
    "                    it = itertools.combinations(pools[lhsCost][symb], r=2)\n",
    "                else:\n",
    "                    it = itertools.product(pools[lhsCost][symb], pools[rhsCost][symb])\n",
    "\n",
    "                for lhs, rhs in it:\n",
    "                    identities.append(lhs & rhs)"
   ]
  },
  {
   "cell_type": "code",
   "execution_count": null,
   "metadata": {},
   "outputs": [],
   "source": []
  },
  {
   "cell_type": "code",
   "execution_count": null,
   "metadata": {},
   "outputs": [],
   "source": [
    "all(x.check() for x in identities)"
   ]
  },
  {
   "cell_type": "code",
   "execution_count": null,
   "metadata": {},
   "outputs": [],
   "source": [
    "len(identities)"
   ]
  },
  {
   "cell_type": "code",
   "execution_count": null,
   "metadata": {},
   "outputs": [],
   "source": []
  },
  {
   "cell_type": "code",
   "execution_count": null,
   "metadata": {},
   "outputs": [],
   "source": [
    "start = 50000 #3284 #1435 #2478"
   ]
  },
  {
   "cell_type": "code",
   "execution_count": null,
   "metadata": {
    "scrolled": true
   },
   "outputs": [],
   "source": [
    "identities[start:start + 10]"
   ]
  },
  {
   "cell_type": "code",
   "execution_count": null,
   "metadata": {
    "scrolled": true
   },
   "outputs": [],
   "source": [
    "html(map(lambda x: '$$' + latex(x) + '$$', identities[start:start + 10]))"
   ]
  },
  {
   "cell_type": "code",
   "execution_count": null,
   "metadata": {},
   "outputs": [],
   "source": []
  },
  {
   "cell_type": "code",
   "execution_count": null,
   "metadata": {},
   "outputs": [],
   "source": []
  },
  {
   "cell_type": "code",
   "execution_count": null,
   "metadata": {},
   "outputs": [],
   "source": []
  },
  {
   "cell_type": "code",
   "execution_count": null,
   "metadata": {},
   "outputs": [],
   "source": []
  },
  {
   "cell_type": "code",
   "execution_count": null,
   "metadata": {},
   "outputs": [],
   "source": [
    "identities.index(sigma + phi & tau * id)"
   ]
  },
  {
   "cell_type": "code",
   "execution_count": null,
   "metadata": {},
   "outputs": [],
   "source": []
  }
 ],
 "metadata": {
  "kernelspec": {
   "display_name": "SageMath 7.5.1",
   "language": "",
   "name": "sagemath"
  },
  "language_info": {
   "codemirror_mode": {
    "name": "ipython",
    "version": 2
   },
   "file_extension": ".py",
   "mimetype": "text/x-python",
   "name": "python",
   "nbconvert_exporter": "python",
   "pygments_lexer": "ipython2",
   "version": "2.7.13"
  }
 },
 "nbformat": 4,
 "nbformat_minor": 1
}
