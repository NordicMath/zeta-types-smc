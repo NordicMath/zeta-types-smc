{
 "cells": [
  {
   "cell_type": "code",
   "execution_count": 2,
   "metadata": {
    "collapsed": false
   },
   "outputs": [],
   "source": [
    "%runfile ../General-Tools/LazyList.sage\n",
    "%runfile ../TS-Methods/MonoidTS.sage\n",
    "%runfile ../TS-Methods/RingTS.sage\n",
    "%runfile ../Sequence-Methods/Berlekamp.sage\n",
    "%runfile ../TS-Methods/ComplexTS.sage"
   ]
  },
  {
   "cell_type": "code",
   "execution_count": 3,
   "metadata": {
    "collapsed": false
   },
   "outputs": [],
   "source": [
    "TS = ComplexTannakianSymbols()\n",
    "ts = TS.parseSymbol"
   ]
  },
  {
   "cell_type": "code",
   "execution_count": 4,
   "metadata": {
    "collapsed": true
   },
   "outputs": [],
   "source": [
    "import pickle\n",
    "import json"
   ]
  },
  {
   "cell_type": "code",
   "execution_count": 5,
   "metadata": {
    "collapsed": true
   },
   "outputs": [],
   "source": [
    "import random\n",
    "\n",
    "maxEvenDim = 10\n",
    "maxOddDim = 10\n",
    "elementRange = (1, 5)\n",
    "\n",
    "precision = 20\n",
    "\n",
    "length = 50000\n",
    "\n",
    "data = [None] * length\n",
    "symbols = [None] * length\n",
    "\n",
    "def printProgress(i, max):\n",
    "    sys.stdout.write(\"\\r%d (%d%%)\" % (i, 100 * i / max))\n",
    "    sys.stdout.flush()"
   ]
  },
  {
   "cell_type": "code",
   "execution_count": 7,
   "metadata": {
    "collapsed": false
   },
   "outputs": [
    {
     "name": "stdout",
     "output_type": "stream",
     "text": [
      "50000 (100%)"
     ]
    }
   ],
   "source": [
    "\n",
    "random.seed(42)\n",
    "for i in range(length):\n",
    "    evendim = random.randint(0, maxEvenDim)\n",
    "    odddim  = random.randint(0, maxOddDim)\n",
    "    sym = []\n",
    "    for j in range(evendim):\n",
    "        sym.append([random.randint(*elementRange), 1])\n",
    "    for j in range(odddim):\n",
    "        sym.append([random.randint(*elementRange), -1])\n",
    "    symbol = TS.createElement(sym)\n",
    "    data[i] = (symbol.getBellCoefficients().toList(precision), symbol.evendimension())\n",
    "    symbols[i] = symbol\n",
    "    \n",
    "    if i != 0 and (i % 10) == 0:\n",
    "        printProgress(i, length)\n",
    "\n",
    "printProgress(length, length)"
   ]
  },
  {
   "cell_type": "code",
   "execution_count": 8,
   "metadata": {
    "collapsed": false
   },
   "outputs": [],
   "source": [
    "with open('recursionData.json', 'w') as f:\n",
    "    json.dump(map(lambda (l, r): (map(float, l), int(r)), data), f)"
   ]
  },
  {
   "cell_type": "code",
   "execution_count": 9,
   "metadata": {
    "collapsed": false
   },
   "outputs": [],
   "source": [
    "with open('recursionData.json') as f:\n",
    "    data2 = map(lambda (l, r): (map(float, l), int(r)), json.load(f))"
   ]
  },
  {
   "cell_type": "code",
   "execution_count": null,
   "metadata": {
    "collapsed": true
   },
   "outputs": [],
   "source": []
  },
  {
   "cell_type": "code",
   "execution_count": null,
   "metadata": {
    "collapsed": true
   },
   "outputs": [],
   "source": []
  },
  {
   "cell_type": "code",
   "execution_count": 10,
   "metadata": {
    "collapsed": true
   },
   "outputs": [],
   "source": [
    "training_size = 45000"
   ]
  },
  {
   "cell_type": "code",
   "execution_count": 11,
   "metadata": {
    "collapsed": true
   },
   "outputs": [],
   "source": [
    "testing_size = 5000"
   ]
  },
  {
   "cell_type": "code",
   "execution_count": 12,
   "metadata": {
    "collapsed": true
   },
   "outputs": [],
   "source": [
    "properData = map(lambda (coeffs, evendim): (coeffs, [0]*(evendim) + [1] + [0]*(maxEvenDim - evendim)), data2)"
   ]
  },
  {
   "cell_type": "code",
   "execution_count": 13,
   "metadata": {
    "collapsed": true
   },
   "outputs": [],
   "source": [
    "training_data = properData[0:training_size]"
   ]
  },
  {
   "cell_type": "code",
   "execution_count": 14,
   "metadata": {
    "collapsed": true
   },
   "outputs": [],
   "source": [
    "testing_data = properData[training_size:training_size + testing_size]"
   ]
  },
  {
   "cell_type": "code",
   "execution_count": 84,
   "metadata": {
    "collapsed": true
   },
   "outputs": [],
   "source": [
    "import tensorflow as tf\n",
    "import numpy as np"
   ]
  },
  {
   "cell_type": "code",
   "execution_count": 16,
   "metadata": {
    "collapsed": false
   },
   "outputs": [],
   "source": [
    "x = tf.placeholder(tf.float32, [None, precision])"
   ]
  },
  {
   "cell_type": "code",
   "execution_count": 65,
   "metadata": {
    "collapsed": false
   },
   "outputs": [],
   "source": [
    "W = tf.Variable(tf.zeros([precision, precision], tf.float32))\n",
    "W1 = tf.Variable(tf.zeros([precision, precision], tf.float32))\n",
    "W2 = tf.Variable(tf.zeros([precision, maxEvenDim + 1], tf.float32))\n",
    "b = tf.Variable(tf.zeros([maxEvenDim + 1]))"
   ]
  },
  {
   "cell_type": "code",
   "execution_count": 67,
   "metadata": {
    "collapsed": false
   },
   "outputs": [],
   "source": [
    "y1 = tf.nn.softmax(tf.matmul(x, W))\n",
    "y2 = tf.nn.softmax(tf.matmul(y1, W1))\n",
    "y = tf.nn.softmax(tf.matmul(y2, W2) + b)"
   ]
  },
  {
   "cell_type": "code",
   "execution_count": 68,
   "metadata": {
    "collapsed": true
   },
   "outputs": [],
   "source": [
    "y_ = tf.placeholder(tf.float32, [None, maxEvenDim + 1])"
   ]
  },
  {
   "cell_type": "code",
   "execution_count": 69,
   "metadata": {
    "collapsed": false
   },
   "outputs": [],
   "source": [
    "# cross entropy might not be ideal\n",
    "cost = -tf.reduce_mean(tf.reduce_sum(y * y_))"
   ]
  },
  {
   "cell_type": "code",
   "execution_count": 70,
   "metadata": {
    "collapsed": false
   },
   "outputs": [],
   "source": [
    "train_step = tf.train.GradientDescentOptimizer(0.1).minimize(cost)"
   ]
  },
  {
   "cell_type": "code",
   "execution_count": 71,
   "metadata": {
    "collapsed": true
   },
   "outputs": [],
   "source": [
    "init = tf.global_variables_initializer()"
   ]
  },
  {
   "cell_type": "code",
   "execution_count": 72,
   "metadata": {
    "collapsed": true
   },
   "outputs": [],
   "source": [
    "sess = tf.Session()"
   ]
  },
  {
   "cell_type": "code",
   "execution_count": 73,
   "metadata": {
    "collapsed": true
   },
   "outputs": [],
   "source": [
    "sess.run(init)"
   ]
  },
  {
   "cell_type": "code",
   "execution_count": 82,
   "metadata": {
    "collapsed": false
   },
   "outputs": [
    {
     "name": "stdout",
     "output_type": "stream",
     "text": [
      "45000 (100%)"
     ]
    }
   ],
   "source": [
    "printProgress(0, training_size)\n",
    "for i, (bellCoeffs, evendim) in enumerate(training_data):\n",
    "    sess.run(train_step, feed_dict={x: [bellCoeffs], y_: [evendim]})\n",
    "    \n",
    "    #if sess.run(tf.reduce_sum(tf.cast(tf.is_nan(W), tf.float32))) > 0:\n",
    "        #print \n",
    "        #print \"became nan at data[\", i, \"]\"\n",
    "        #break\n",
    "        \n",
    "    if (i + 1) % 50 == 0:\n",
    "        printProgress(i + 1, training_size)"
   ]
  },
  {
   "cell_type": "code",
   "execution_count": 83,
   "metadata": {
    "collapsed": false
   },
   "outputs": [
    {
     "name": "stdout",
     "output_type": "stream",
     "text": [
      "0.2188\n"
     ]
    }
   ],
   "source": [
    "testing_data_input = map(lambda (bellCoeffs, evendim): bellCoeffs, testing_data)\n",
    "testing_data_output = map(lambda (bellCoeffs, evendim): evendim, testing_data)\n",
    "\n",
    "correct_prediction = tf.equal(tf.argmax(y, 1), tf.argmax(y_, 1))\n",
    "accuracy = tf.reduce_mean(tf.cast(correct_prediction, tf.float32))\n",
    "print sess.run(accuracy, feed_dict={x: testing_data_input, y_: testing_data_output})"
   ]
  },
  {
   "cell_type": "code",
   "execution_count": 28,
   "metadata": {
    "collapsed": true
   },
   "outputs": [],
   "source": []
  },
  {
   "cell_type": "code",
   "execution_count": 78,
   "metadata": {
    "collapsed": false
   },
   "outputs": [],
   "source": [
    "sess.close()"
   ]
  },
  {
   "cell_type": "code",
   "execution_count": 81,
   "metadata": {
    "collapsed": false
   },
   "outputs": [
    {
     "data": {
      "text/plain": [
       "array([[  9.98439133e-01,   3.06447648e-04,   2.12071580e-04,\n",
       "          2.01341609e-04,   1.51995249e-04,   1.47978964e-04,\n",
       "          1.35576003e-04,   1.10373665e-04,   1.04805789e-04,\n",
       "          9.64957362e-05,   9.37264413e-05]], dtype=float32)"
      ]
     },
     "execution_count": 81,
     "metadata": {},
     "output_type": "execute_result"
    }
   ],
   "source": [
    "sess.run(y, feed_dict={x: [map(lambda n: n, range(20))]})"
   ]
  },
  {
   "cell_type": "code",
   "execution_count": 38,
   "metadata": {
    "collapsed": false
   },
   "outputs": [
    {
     "data": {
      "text/plain": [
       "[1.0,\n",
       " 30.0,\n",
       " 526.0,\n",
       " 7034.0,\n",
       " 79408.0,\n",
       " 797030.0,\n",
       " 7333646.0,\n",
       " 63093494.0,\n",
       " 514482413.0,\n",
       " 4015367920.0,\n",
       " 30214508816.0,\n",
       " 220429119004.0,\n",
       " 1565994824568.0,\n",
       " 10871832566260.0,\n",
       " 73968056728836.0,\n",
       " 494350479216564.0,\n",
       " 3251817326757873.0,\n",
       " 2.108799960766305e+16,\n",
       " 1.3501234845233171e+17,\n",
       " 8.544068549472751e+17]"
      ]
     },
     "execution_count": 38,
     "metadata": {},
     "output_type": "execute_result"
    }
   ],
   "source": [
    "training_data[16][0]"
   ]
  },
  {
   "cell_type": "code",
   "execution_count": 39,
   "metadata": {
    "collapsed": false
   },
   "outputs": [
    {
     "data": {},
     "execution_count": 39,
     "metadata": {},
     "output_type": "execute_result"
    }
   ],
   "source": [
    "sess.run(W)"
   ]
  },
  {
   "cell_type": "code",
   "execution_count": null,
   "metadata": {
    "collapsed": true
   },
   "outputs": [],
   "source": []
  }
 ],
 "metadata": {
  "kernelspec": {
   "display_name": "SageMath (latest)",
   "language": "",
   "name": "sagemath"
  },
  "language_info": {
   "codemirror_mode": {
    "name": "ipython",
    "version": 2
   },
   "file_extension": ".py",
   "mimetype": "text/x-python",
   "name": "python",
   "nbconvert_exporter": "python",
   "pygments_lexer": "ipython2",
   "version": "2.7.13"
  }
 },
 "nbformat": 4,
 "nbformat_minor": 0
}
