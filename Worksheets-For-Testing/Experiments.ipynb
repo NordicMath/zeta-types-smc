{
 "cells": [
  {
   "cell_type": "code",
   "execution_count": 1,
   "metadata": {
    "collapsed": false
   },
   "outputs": [
   ],
   "source": [
    "%runfile ../General-Tools/LazyList.sage\n",
    "%runfile ../TS-Methods/MonoidTS.sage\n",
    "%runfile ../TS-Methods/RingTS.sage\n",
    "%runfile ../Sequence-Methods/Berlekamp.sage\n",
    "%runfile ../TS-Methods/ComplexTS.sage"
   ]
  },
  {
   "cell_type": "code",
   "execution_count": 2,
   "metadata": {
    "collapsed": false
   },
   "outputs": [
   ],
   "source": [
    "TS = ComplexTannakianSymbols()\n",
    "ts = TS.parseSymbol"
   ]
  },
  {
   "cell_type": "code",
   "execution_count": 3,
   "metadata": {
    "collapsed": false
   },
   "outputs": [
   ],
   "source": [
    "import pickle\n",
    "import json"
   ]
  },
  {
   "cell_type": "code",
   "execution_count": 4,
   "metadata": {
    "collapsed": false
   },
   "outputs": [
   ],
   "source": [
    "import random\n",
    "\n",
    "maxEvenDim = 10\n",
    "maxOddDim = 10\n",
    "elementRange = (1, 5)\n",
    "\n",
    "precision = 20\n",
    "\n",
    "length = 50000\n",
    "\n",
    "data = [None] * length\n",
    "symbols = [None] * length\n",
    "\n",
    "def printProgress(i, max):\n",
    "    sys.stdout.write(\"\\r%d (%d%%)\" % (i, 100 * i / max))\n",
    "    sys.stdout.flush()"
   ]
  },
  {
   "cell_type": "code",
   "execution_count": 7,
   "metadata": {
    "collapsed": false
   },
   "outputs": [
    {
     "name": "stdout",
     "output_type": "stream",
     "text": [
      "50000 (100%)"
     ]
    }
   ],
   "source": [
    "\n",
    "random.seed(42)\n",
    "for i in range(length):\n",
    "    evendim = random.randint(0, maxEvenDim)\n",
    "    odddim  = random.randint(0, maxOddDim)\n",
    "    sym = []\n",
    "    for j in range(evendim):\n",
    "        sym.append([random.randint(*elementRange), 1])\n",
    "    for j in range(odddim):\n",
    "        sym.append([random.randint(*elementRange), -1])\n",
    "    symbol = TS.createElement(sym)\n",
    "    data[i] = (symbol.getBellCoefficients().toList(precision), symbol.evendimension())\n",
    "    symbols[i] = symbol\n",
    "    \n",
    "    if i != 0 and (i % 10) == 0:\n",
    "        printProgress(i, length)\n",
    "\n",
    "printProgress(length, length)"
   ]
  },
  {
   "cell_type": "code",
   "execution_count": 8,
   "metadata": {
    "collapsed": false
   },
   "outputs": [
   ],
   "source": [
    "with open('recursionData.json', 'w') as f:\n",
    "    json.dump(map(lambda (l, r): (map(float, l), int(r)), data), f)"
   ]
  },
  {
   "cell_type": "code",
   "execution_count": 5,
   "metadata": {
    "collapsed": false
   },
   "outputs": [
   ],
   "source": [
    "with open('recursionData.json') as f:\n",
    "    data2 = map(lambda (l, r): (map(float, l), int(r)), json.load(f))"
   ]
  },
  {
   "cell_type": "code",
   "execution_count": 0,
   "metadata": {
    "collapsed": true
   },
   "outputs": [
   ],
   "source": [
   ]
  },
  {
   "cell_type": "code",
   "execution_count": 0,
   "metadata": {
    "collapsed": true
   },
   "outputs": [
   ],
   "source": [
   ]
  },
  {
   "cell_type": "code",
   "execution_count": 6,
   "metadata": {
    "collapsed": false
   },
   "outputs": [
   ],
   "source": [
    "training_size = 45000"
   ]
  },
  {
   "cell_type": "code",
   "execution_count": 7,
   "metadata": {
    "collapsed": false
   },
   "outputs": [
   ],
   "source": [
    "testing_size = 5000"
   ]
  },
  {
   "cell_type": "code",
   "execution_count": 8,
   "metadata": {
    "collapsed": false
   },
   "outputs": [
   ],
   "source": [
    "properData = map(lambda (coeffs, evendim): (coeffs, [0]*(evendim) + [1] + [0]*(maxEvenDim - evendim)), data2)"
   ]
  },
  {
   "cell_type": "code",
   "execution_count": 9,
   "metadata": {
    "collapsed": false
   },
   "outputs": [
   ],
   "source": [
    "training_data = properData[0:training_size]"
   ]
  },
  {
   "cell_type": "code",
   "execution_count": 10,
   "metadata": {
    "collapsed": false
   },
   "outputs": [
   ],
   "source": [
    "testing_data = properData[training_size:training_size + testing_size]"
   ]
  },
  {
   "cell_type": "code",
   "execution_count": 11,
   "metadata": {
    "collapsed": false
   },
   "outputs": [
   ],
   "source": [
    "import tensorflow as tf\n",
    "import numpy as np"
   ]
  },
  {
   "cell_type": "code",
   "execution_count": 12,
   "metadata": {
    "collapsed": false
   },
   "outputs": [
   ],
   "source": [
    "x = tf.placeholder(tf.float32, [None, precision])"
   ]
  },
  {
   "cell_type": "code",
   "execution_count": 13,
   "metadata": {
    "collapsed": false
   },
   "outputs": [
   ],
   "source": [
    "W = tf.Variable(tf.zeros([precision, precision], tf.float32))\n",
    "W1 = tf.Variable(tf.zeros([precision, precision], tf.float32))\n",
    "W2 = tf.Variable(tf.zeros([precision, maxEvenDim + 1], tf.float32))\n",
    "b = tf.Variable(tf.zeros([maxEvenDim + 1]))"
   ]
  },
  {
   "cell_type": "code",
   "execution_count": 14,
   "metadata": {
    "collapsed": false
   },
   "outputs": [
   ],
   "source": [
    "y1 = tf.nn.softmax(tf.matmul(x, W))\n",
    "y2 = tf.nn.softmax(tf.matmul(y1, W1))\n",
    "y = tf.nn.softmax(tf.matmul(y2, W2) + b)"
   ]
  },
  {
   "cell_type": "code",
   "execution_count": 15,
   "metadata": {
    "collapsed": false
   },
   "outputs": [
   ],
   "source": [
    "y_ = tf.placeholder(tf.float32, [None, maxEvenDim + 1])"
   ]
  },
  {
   "cell_type": "code",
   "execution_count": 16,
   "metadata": {
    "collapsed": false
   },
   "outputs": [
   ],
   "source": [
    "# cross entropy might not be ideal\n",
    "cost = -tf.reduce_mean(tf.reduce_sum(y * y_))"
   ]
  },
  {
   "cell_type": "code",
   "execution_count": 17,
   "metadata": {
    "collapsed": false
   },
   "outputs": [
   ],
   "source": [
    "train_step = tf.train.GradientDescentOptimizer(0.1).minimize(cost)"
   ]
  },
  {
   "cell_type": "code",
   "execution_count": 18,
   "metadata": {
    "collapsed": false
   },
   "outputs": [
   ],
   "source": [
    "init = tf.global_variables_initializer()"
   ]
  },
  {
   "cell_type": "code",
   "execution_count": 19,
   "metadata": {
    "collapsed": false
   },
   "outputs": [
   ],
   "source": [
    "sess = tf.Session()"
   ]
  },
  {
   "cell_type": "code",
   "execution_count": 20,
   "metadata": {
    "collapsed": false
   },
   "outputs": [
   ],
   "source": [
    "sess.run(init)"
   ]
  },
  {
   "cell_type": "code",
   "execution_count": 21,
   "metadata": {
    "collapsed": false,
    "scrolled": true
   },
   "outputs": [
    {
     "name": "stdout",
     "output_type": "stream",
     "text": [
      "\r0 (0%)"
     ]
    },
    {
     "name": "stdout",
     "output_type": "stream",
     "text": [
      "\r50 (0%)"
     ]
    },
    {
     "name": "stdout",
     "output_type": "stream",
     "text": [
      "\r100 (0%)"
     ]
    },
    {
     "name": "stdout",
     "output_type": "stream",
     "text": [
      "\r150 (0%)"
     ]
    },
    {
     "name": "stdout",
     "output_type": "stream",
     "text": [
      "\r200 (0%)"
     ]
    },
    {
     "name": "stdout",
     "output_type": "stream",
     "text": [
      "\r250 (0%)"
     ]
    },
    {
     "name": "stdout",
     "output_type": "stream",
     "text": [
      "\r300 (0%)"
     ]
    },
    {
     "name": "stdout",
     "output_type": "stream",
     "text": [
      "\r350 (0%)"
     ]
    },
    {
     "name": "stdout",
     "output_type": "stream",
     "text": [
      "\r400 (0%)"
     ]
    },
    {
     "name": "stdout",
     "output_type": "stream",
     "text": [
      "\r450 (1%)"
     ]
    },
    {
     "name": "stdout",
     "output_type": "stream",
     "text": [
      "\r500 (1%)"
     ]
    },
    {
     "name": "stdout",
     "output_type": "stream",
     "text": [
      "\r550 (1%)"
     ]
    },
    {
     "name": "stdout",
     "output_type": "stream",
     "text": [
      "\r600 (1%)"
     ]
    },
    {
     "name": "stdout",
     "output_type": "stream",
     "text": [
      "\r650 (1%)"
     ]
    },
    {
     "name": "stdout",
     "output_type": "stream",
     "text": [
      "\r700 (1%)"
     ]
    },
    {
     "name": "stdout",
     "output_type": "stream",
     "text": [
      "\r750 (1%)"
     ]
    },
    {
     "name": "stdout",
     "output_type": "stream",
     "text": [
      "\r800 (1%)"
     ]
    },
    {
     "name": "stdout",
     "output_type": "stream",
     "text": [
      "\r850 (1%)"
     ]
    },
    {
     "name": "stdout",
     "output_type": "stream",
     "text": [
      "\r900 (2%)"
     ]
    },
    {
     "name": "stdout",
     "output_type": "stream",
     "text": [
      "\r950 (2%)"
     ]
    },
    {
     "name": "stdout",
     "output_type": "stream",
     "text": [
      "\r1000 (2%)"
     ]
    },
    {
     "name": "stdout",
     "output_type": "stream",
     "text": [
      "\r1050 (2%)"
     ]
    },
    {
     "name": "stdout",
     "output_type": "stream",
     "text": [
      "\r1100 (2%)"
     ]
    },
    {
     "name": "stdout",
     "output_type": "stream",
     "text": [
      "\r1150 (2%)"
     ]
    },
    {
     "name": "stdout",
     "output_type": "stream",
     "text": [
      "\r1200 (2%)"
     ]
    },
    {
     "name": "stdout",
     "output_type": "stream",
     "text": [
      "\r1250 (2%)"
     ]
    },
    {
     "name": "stdout",
     "output_type": "stream",
     "text": [
      "\r1300 (2%)"
     ]
    },
    {
     "name": "stdout",
     "output_type": "stream",
     "text": [
      "\r1350 (3%)"
     ]
    },
    {
     "name": "stdout",
     "output_type": "stream",
     "text": [
      "\r1400 (3%)"
     ]
    },
    {
     "name": "stdout",
     "output_type": "stream",
     "text": [
      "\r1450 (3%)"
     ]
    },
    {
     "name": "stdout",
     "output_type": "stream",
     "text": [
      "\r1500 (3%)"
     ]
    },
    {
     "name": "stdout",
     "output_type": "stream",
     "text": [
      "\r1550 (3%)"
     ]
    },
    {
     "name": "stdout",
     "output_type": "stream",
     "text": [
      "\r1600 (3%)"
     ]
    },
    {
     "name": "stdout",
     "output_type": "stream",
     "text": [
      "\r1650 (3%)"
     ]
    },
    {
     "name": "stdout",
     "output_type": "stream",
     "text": [
      "\r1700 (3%)"
     ]
    },
    {
     "name": "stdout",
     "output_type": "stream",
     "text": [
      "\r1750 (3%)"
     ]
    },
    {
     "name": "stdout",
     "output_type": "stream",
     "text": [
      "\r1800 (4%)"
     ]
    },
    {
     "name": "stdout",
     "output_type": "stream",
     "text": [
      "\r1850 (4%)"
     ]
    },
    {
     "name": "stdout",
     "output_type": "stream",
     "text": [
      "\r1900 (4%)"
     ]
    },
    {
     "name": "stdout",
     "output_type": "stream",
     "text": [
      "\r1950 (4%)"
     ]
    },
    {
     "name": "stdout",
     "output_type": "stream",
     "text": [
      "\r2000 (4%)"
     ]
    },
    {
     "name": "stdout",
     "output_type": "stream",
     "text": [
      "\r2050 (4%)"
     ]
    },
    {
     "name": "stdout",
     "output_type": "stream",
     "text": [
      "\r2100 (4%)"
     ]
    },
    {
     "name": "stdout",
     "output_type": "stream",
     "text": [
      "\r2150 (4%)"
     ]
    },
    {
     "name": "stdout",
     "output_type": "stream",
     "text": [
      "\r2200 (4%)"
     ]
    },
    {
     "name": "stdout",
     "output_type": "stream",
     "text": [
      "\r2250 (5%)"
     ]
    },
    {
     "name": "stdout",
     "output_type": "stream",
     "text": [
      "\r2300 (5%)"
     ]
    },
    {
     "name": "stdout",
     "output_type": "stream",
     "text": [
      "\r2350 (5%)"
     ]
    },
    {
     "name": "stdout",
     "output_type": "stream",
     "text": [
      "\r2400 (5%)"
     ]
    },
    {
     "name": "stdout",
     "output_type": "stream",
     "text": [
      "\r2450 (5%)"
     ]
    },
    {
     "name": "stdout",
     "output_type": "stream",
     "text": [
      "\r2500 (5%)"
     ]
    },
    {
     "name": "stdout",
     "output_type": "stream",
     "text": [
      "\r2550 (5%)"
     ]
    },
    {
     "name": "stdout",
     "output_type": "stream",
     "text": [
      "\r2600 (5%)"
     ]
    },
    {
     "name": "stdout",
     "output_type": "stream",
     "text": [
      "\r2650 (5%)"
     ]
    },
    {
     "name": "stdout",
     "output_type": "stream",
     "text": [
      "\r2700 (6%)"
     ]
    },
    {
     "name": "stdout",
     "output_type": "stream",
     "text": [
      "\r2750 (6%)"
     ]
    },
    {
     "name": "stdout",
     "output_type": "stream",
     "text": [
      "\r2800 (6%)"
     ]
    },
    {
     "name": "stdout",
     "output_type": "stream",
     "text": [
      "\r2850 (6%)"
     ]
    },
    {
     "name": "stdout",
     "output_type": "stream",
     "text": [
      "\r2900 (6%)"
     ]
    },
    {
     "name": "stdout",
     "output_type": "stream",
     "text": [
      "\r2950 (6%)"
     ]
    },
    {
     "name": "stdout",
     "output_type": "stream",
     "text": [
      "\r3000 (6%)"
     ]
    },
    {
     "name": "stdout",
     "output_type": "stream",
     "text": [
      "\r3050 (6%)"
     ]
    },
    {
     "name": "stdout",
     "output_type": "stream",
     "text": [
      "\r3100 (6%)"
     ]
    },
    {
     "name": "stdout",
     "output_type": "stream",
     "text": [
      "\r3150 (7%)"
     ]
    },
    {
     "name": "stdout",
     "output_type": "stream",
     "text": [
      "\r3200 (7%)"
     ]
    },
    {
     "name": "stdout",
     "output_type": "stream",
     "text": [
      "\r3250 (7%)"
     ]
    },
    {
     "name": "stdout",
     "output_type": "stream",
     "text": [
      "\r3300 (7%)"
     ]
    },
    {
     "name": "stdout",
     "output_type": "stream",
     "text": [
      "\r3350 (7%)"
     ]
    },
    {
     "name": "stdout",
     "output_type": "stream",
     "text": [
      "\r3400 (7%)"
     ]
    },
    {
     "name": "stdout",
     "output_type": "stream",
     "text": [
      "\r3450 (7%)"
     ]
    },
    {
     "name": "stdout",
     "output_type": "stream",
     "text": [
      "\r3500 (7%)"
     ]
    },
    {
     "name": "stdout",
     "output_type": "stream",
     "text": [
      "\r3550 (7%)"
     ]
    },
    {
     "name": "stdout",
     "output_type": "stream",
     "text": [
      "\r3600 (8%)"
     ]
    },
    {
     "name": "stdout",
     "output_type": "stream",
     "text": [
      "\r3650 (8%)"
     ]
    },
    {
     "name": "stdout",
     "output_type": "stream",
     "text": [
      "\r3700 (8%)"
     ]
    },
    {
     "name": "stdout",
     "output_type": "stream",
     "text": [
      "\r3750 (8%)"
     ]
    },
    {
     "name": "stdout",
     "output_type": "stream",
     "text": [
      "\r3800 (8%)"
     ]
    },
    {
     "name": "stdout",
     "output_type": "stream",
     "text": [
      "\r3850 (8%)"
     ]
    },
    {
     "name": "stdout",
     "output_type": "stream",
     "text": [
      "\r3900 (8%)"
     ]
    },
    {
     "name": "stdout",
     "output_type": "stream",
     "text": [
      "\r3950 (8%)"
     ]
    },
    {
     "name": "stdout",
     "output_type": "stream",
     "text": [
      "\r4000 (8%)"
     ]
    },
    {
     "name": "stdout",
     "output_type": "stream",
     "text": [
      "\r4050 (9%)"
     ]
    },
    {
     "name": "stdout",
     "output_type": "stream",
     "text": [
      "\r4100 (9%)"
     ]
    },
    {
     "name": "stdout",
     "output_type": "stream",
     "text": [
      "\r4150 (9%)"
     ]
    },
    {
     "name": "stdout",
     "output_type": "stream",
     "text": [
      "\r4200 (9%)"
     ]
    },
    {
     "name": "stdout",
     "output_type": "stream",
     "text": [
      "\r4250 (9%)"
     ]
    },
    {
     "name": "stdout",
     "output_type": "stream",
     "text": [
      "\r4300 (9%)"
     ]
    },
    {
     "name": "stdout",
     "output_type": "stream",
     "text": [
      "\r4350 (9%)"
     ]
    },
    {
     "name": "stdout",
     "output_type": "stream",
     "text": [
      "\r4400 (9%)"
     ]
    },
    {
     "name": "stdout",
     "output_type": "stream",
     "text": [
      "\r4450 (9%)"
     ]
    },
    {
     "name": "stdout",
     "output_type": "stream",
     "text": [
      "\r4500 (10%)"
     ]
    },
    {
     "name": "stdout",
     "output_type": "stream",
     "text": [
      "\r4550 (10%)"
     ]
    },
    {
     "name": "stdout",
     "output_type": "stream",
     "text": [
      "\r4600 (10%)"
     ]
    },
    {
     "name": "stdout",
     "output_type": "stream",
     "text": [
      "\r4650 (10%)"
     ]
    },
    {
     "name": "stdout",
     "output_type": "stream",
     "text": [
      "\r4700 (10%)"
     ]
    },
    {
     "name": "stdout",
     "output_type": "stream",
     "text": [
      "\r4750 (10%)"
     ]
    },
    {
     "name": "stdout",
     "output_type": "stream",
     "text": [
      "\r4800 (10%)"
     ]
    },
    {
     "name": "stdout",
     "output_type": "stream",
     "text": [
      "\r4850 (10%)"
     ]
    },
    {
     "name": "stdout",
     "output_type": "stream",
     "text": [
      "\r4900 (10%)"
     ]
    },
    {
     "name": "stdout",
     "output_type": "stream",
     "text": [
      "\r4950 (11%)"
     ]
    },
    {
     "name": "stdout",
     "output_type": "stream",
     "text": [
      "\r5000 (11%)"
     ]
    },
    {
     "name": "stdout",
     "output_type": "stream",
     "text": [
      "\r5050 (11%)"
     ]
    },
    {
     "name": "stdout",
     "output_type": "stream",
     "text": [
      "\r5100 (11%)"
     ]
    },
    {
     "name": "stdout",
     "output_type": "stream",
     "text": [
      "\r5150 (11%)"
     ]
    },
    {
     "name": "stdout",
     "output_type": "stream",
     "text": [
      "\r5200 (11%)"
     ]
    },
    {
     "name": "stdout",
     "output_type": "stream",
     "text": [
      "\r5250 (11%)"
     ]
    },
    {
     "name": "stdout",
     "output_type": "stream",
     "text": [
      "\r5300 (11%)"
     ]
    },
    {
     "name": "stdout",
     "output_type": "stream",
     "text": [
      "\r5350 (11%)"
     ]
    },
    {
     "name": "stdout",
     "output_type": "stream",
     "text": [
      "\r5400 (12%)"
     ]
    },
    {
     "name": "stdout",
     "output_type": "stream",
     "text": [
      "\r5450 (12%)"
     ]
    },
    {
     "name": "stdout",
     "output_type": "stream",
     "text": [
      "\r5500 (12%)"
     ]
    },
    {
     "name": "stdout",
     "output_type": "stream",
     "text": [
      "\r5550 (12%)"
     ]
    },
    {
     "name": "stdout",
     "output_type": "stream",
     "text": [
      "\r5600 (12%)"
     ]
    },
    {
     "name": "stdout",
     "output_type": "stream",
     "text": [
      "\r5650 (12%)"
     ]
    },
    {
     "name": "stdout",
     "output_type": "stream",
     "text": [
      "\r5700 (12%)"
     ]
    },
    {
     "name": "stdout",
     "output_type": "stream",
     "text": [
      "\r5750 (12%)"
     ]
    },
    {
     "name": "stdout",
     "output_type": "stream",
     "text": [
      "\r5800 (12%)"
     ]
    },
    {
     "name": "stdout",
     "output_type": "stream",
     "text": [
      "\r5850 (13%)"
     ]
    },
    {
     "name": "stdout",
     "output_type": "stream",
     "text": [
      "\r5900 (13%)"
     ]
    },
    {
     "name": "stdout",
     "output_type": "stream",
     "text": [
      "\r5950 (13%)"
     ]
    },
    {
     "name": "stdout",
     "output_type": "stream",
     "text": [
      "\r6000 (13%)"
     ]
    },
    {
     "name": "stdout",
     "output_type": "stream",
     "text": [
      "\r6050 (13%)"
     ]
    },
    {
     "name": "stdout",
     "output_type": "stream",
     "text": [
      "\r6100 (13%)"
     ]
    },
    {
     "name": "stdout",
     "output_type": "stream",
     "text": [
      "\r6150 (13%)"
     ]
    },
    {
     "name": "stdout",
     "output_type": "stream",
     "text": [
      "\r6200 (13%)"
     ]
    },
    {
     "name": "stdout",
     "output_type": "stream",
     "text": [
      "\r6250 (13%)"
     ]
    },
    {
     "name": "stdout",
     "output_type": "stream",
     "text": [
      "\r6300 (14%)"
     ]
    },
    {
     "name": "stdout",
     "output_type": "stream",
     "text": [
      "\r6350 (14%)"
     ]
    },
    {
     "name": "stdout",
     "output_type": "stream",
     "text": [
      "\r6400 (14%)"
     ]
    },
    {
     "name": "stdout",
     "output_type": "stream",
     "text": [
      "\r6450 (14%)"
     ]
    },
    {
     "name": "stdout",
     "output_type": "stream",
     "text": [
      "\r6500 (14%)"
     ]
    },
    {
     "name": "stdout",
     "output_type": "stream",
     "text": [
      "\r6550 (14%)"
     ]
    },
    {
     "name": "stdout",
     "output_type": "stream",
     "text": [
      "\r6600 (14%)"
     ]
    },
    {
     "name": "stdout",
     "output_type": "stream",
     "text": [
      "\r6650 (14%)"
     ]
    },
    {
     "name": "stdout",
     "output_type": "stream",
     "text": [
      "\r6700 (14%)"
     ]
    },
    {
     "name": "stdout",
     "output_type": "stream",
     "text": [
      "\r6750 (15%)"
     ]
    },
    {
     "name": "stdout",
     "output_type": "stream",
     "text": [
      "\r6800 (15%)"
     ]
    },
    {
     "name": "stdout",
     "output_type": "stream",
     "text": [
      "\r6850 (15%)"
     ]
    },
    {
     "name": "stdout",
     "output_type": "stream",
     "text": [
      "\r6900 (15%)"
     ]
    },
    {
     "name": "stdout",
     "output_type": "stream",
     "text": [
      "\r6950 (15%)"
     ]
    },
    {
     "name": "stdout",
     "output_type": "stream",
     "text": [
      "\r7000 (15%)"
     ]
    },
    {
     "name": "stdout",
     "output_type": "stream",
     "text": [
      "\r7050 (15%)"
     ]
    },
    {
     "name": "stdout",
     "output_type": "stream",
     "text": [
      "\r7100 (15%)"
     ]
    },
    {
     "name": "stdout",
     "output_type": "stream",
     "text": [
      "\r7150 (15%)"
     ]
    },
    {
     "name": "stdout",
     "output_type": "stream",
     "text": [
      "\r7200 (16%)"
     ]
    },
    {
     "name": "stdout",
     "output_type": "stream",
     "text": [
      "\r7250 (16%)"
     ]
    },
    {
     "name": "stdout",
     "output_type": "stream",
     "text": [
      "\r7300 (16%)"
     ]
    },
    {
     "name": "stdout",
     "output_type": "stream",
     "text": [
      "\r7350 (16%)"
     ]
    },
    {
     "name": "stdout",
     "output_type": "stream",
     "text": [
      "\r7400 (16%)"
     ]
    },
    {
     "name": "stdout",
     "output_type": "stream",
     "text": [
      "\r7450 (16%)"
     ]
    },
    {
     "name": "stdout",
     "output_type": "stream",
     "text": [
      "\r7500 (16%)"
     ]
    },
    {
     "name": "stdout",
     "output_type": "stream",
     "text": [
      "\r7550 (16%)"
     ]
    },
    {
     "name": "stdout",
     "output_type": "stream",
     "text": [
      "\r7600 (16%)"
     ]
    },
    {
     "name": "stdout",
     "output_type": "stream",
     "text": [
      "\r7650 (17%)"
     ]
    },
    {
     "name": "stdout",
     "output_type": "stream",
     "text": [
      "\r7700 (17%)"
     ]
    },
    {
     "name": "stdout",
     "output_type": "stream",
     "text": [
      "\r7750 (17%)"
     ]
    },
    {
     "name": "stdout",
     "output_type": "stream",
     "text": [
      "\r7800 (17%)"
     ]
    },
    {
     "name": "stdout",
     "output_type": "stream",
     "text": [
      "\r7850 (17%)"
     ]
    },
    {
     "name": "stdout",
     "output_type": "stream",
     "text": [
      "\r7900 (17%)"
     ]
    },
    {
     "name": "stdout",
     "output_type": "stream",
     "text": [
      "\r7950 (17%)"
     ]
    },
    {
     "name": "stdout",
     "output_type": "stream",
     "text": [
      "\r8000 (17%)"
     ]
    },
    {
     "name": "stdout",
     "output_type": "stream",
     "text": [
      "\r8050 (17%)"
     ]
    },
    {
     "name": "stdout",
     "output_type": "stream",
     "text": [
      "\r8100 (18%)"
     ]
    },
    {
     "name": "stdout",
     "output_type": "stream",
     "text": [
      "\r8150 (18%)"
     ]
    },
    {
     "name": "stdout",
     "output_type": "stream",
     "text": [
      "\r8200 (18%)"
     ]
    },
    {
     "name": "stdout",
     "output_type": "stream",
     "text": [
      "\r8250 (18%)"
     ]
    },
    {
     "name": "stdout",
     "output_type": "stream",
     "text": [
      "\r8300 (18%)"
     ]
    },
    {
     "name": "stdout",
     "output_type": "stream",
     "text": [
      "\r8350 (18%)"
     ]
    },
    {
     "name": "stdout",
     "output_type": "stream",
     "text": [
      "\r8400 (18%)"
     ]
    },
    {
     "name": "stdout",
     "output_type": "stream",
     "text": [
      "\r8450 (18%)"
     ]
    },
    {
     "name": "stdout",
     "output_type": "stream",
     "text": [
      "\r8500 (18%)"
     ]
    },
    {
     "name": "stdout",
     "output_type": "stream",
     "text": [
      "\r8550 (19%)"
     ]
    },
    {
     "name": "stdout",
     "output_type": "stream",
     "text": [
      "\r8600 (19%)"
     ]
    },
    {
     "name": "stdout",
     "output_type": "stream",
     "text": [
      "\r8650 (19%)"
     ]
    },
    {
     "name": "stdout",
     "output_type": "stream",
     "text": [
      "\r8700 (19%)"
     ]
    },
    {
     "name": "stdout",
     "output_type": "stream",
     "text": [
      "\r8750 (19%)"
     ]
    },
    {
     "name": "stdout",
     "output_type": "stream",
     "text": [
      "\r8800 (19%)"
     ]
    },
    {
     "name": "stdout",
     "output_type": "stream",
     "text": [
      "\r8850 (19%)"
     ]
    },
    {
     "name": "stdout",
     "output_type": "stream",
     "text": [
      "\r8900 (19%)"
     ]
    },
    {
     "name": "stdout",
     "output_type": "stream",
     "text": [
      "\r8950 (19%)"
     ]
    },
    {
     "name": "stdout",
     "output_type": "stream",
     "text": [
      "\r9000 (20%)"
     ]
    },
    {
     "name": "stdout",
     "output_type": "stream",
     "text": [
      "\r9050 (20%)"
     ]
    },
    {
     "name": "stdout",
     "output_type": "stream",
     "text": [
      "\r9100 (20%)"
     ]
    },
    {
     "name": "stdout",
     "output_type": "stream",
     "text": [
      "\r9150 (20%)"
     ]
    },
    {
     "name": "stdout",
     "output_type": "stream",
     "text": [
      "\r9200 (20%)"
     ]
    },
    {
     "name": "stdout",
     "output_type": "stream",
     "text": [
      "\r9250 (20%)"
     ]
    },
    {
     "name": "stdout",
     "output_type": "stream",
     "text": [
      "\r9300 (20%)"
     ]
    },
    {
     "name": "stdout",
     "output_type": "stream",
     "text": [
      "\r9350 (20%)"
     ]
    },
    {
     "name": "stdout",
     "output_type": "stream",
     "text": [
      "\r9400 (20%)"
     ]
    },
    {
     "name": "stdout",
     "output_type": "stream",
     "text": [
      "\r9450 (21%)"
     ]
    },
    {
     "name": "stdout",
     "output_type": "stream",
     "text": [
      "\r9500 (21%)"
     ]
    },
    {
     "name": "stdout",
     "output_type": "stream",
     "text": [
      "\r9550 (21%)"
     ]
    },
    {
     "name": "stdout",
     "output_type": "stream",
     "text": [
      "\r9600 (21%)"
     ]
    },
    {
     "name": "stdout",
     "output_type": "stream",
     "text": [
      "\r9650 (21%)"
     ]
    },
    {
     "name": "stdout",
     "output_type": "stream",
     "text": [
      "\r9700 (21%)"
     ]
    },
    {
     "name": "stdout",
     "output_type": "stream",
     "text": [
      "\r9750 (21%)"
     ]
    },
    {
     "name": "stdout",
     "output_type": "stream",
     "text": [
      "\r9800 (21%)"
     ]
    },
    {
     "name": "stdout",
     "output_type": "stream",
     "text": [
      "\r9850 (21%)"
     ]
    },
    {
     "name": "stdout",
     "output_type": "stream",
     "text": [
      "\r9900 (22%)"
     ]
    },
    {
     "name": "stdout",
     "output_type": "stream",
     "text": [
      "\r9950 (22%)"
     ]
    },
    {
     "name": "stdout",
     "output_type": "stream",
     "text": [
      "\r10000 (22%)"
     ]
    },
    {
     "name": "stdout",
     "output_type": "stream",
     "text": [
      "\r10050 (22%)"
     ]
    },
    {
     "name": "stdout",
     "output_type": "stream",
     "text": [
      "\r10100 (22%)"
     ]
    },
    {
     "name": "stdout",
     "output_type": "stream",
     "text": [
      "\r10150 (22%)"
     ]
    },
    {
     "name": "stdout",
     "output_type": "stream",
     "text": [
      "\r10200 (22%)"
     ]
    },
    {
     "name": "stdout",
     "output_type": "stream",
     "text": [
      "\r10250 (22%)"
     ]
    },
    {
     "name": "stdout",
     "output_type": "stream",
     "text": [
      "\r10300 (22%)"
     ]
    },
    {
     "name": "stdout",
     "output_type": "stream",
     "text": [
      "\r10350 (23%)"
     ]
    },
    {
     "name": "stdout",
     "output_type": "stream",
     "text": [
      "\r10400 (23%)"
     ]
    },
    {
     "name": "stdout",
     "output_type": "stream",
     "text": [
      "\r10450 (23%)"
     ]
    },
    {
     "name": "stdout",
     "output_type": "stream",
     "text": [
      "\r10500 (23%)"
     ]
    },
    {
     "name": "stdout",
     "output_type": "stream",
     "text": [
      "\r10550 (23%)"
     ]
    },
    {
     "name": "stdout",
     "output_type": "stream",
     "text": [
      "\r10600 (23%)"
     ]
    },
    {
     "name": "stdout",
     "output_type": "stream",
     "text": [
      "\r10650 (23%)"
     ]
    },
    {
     "name": "stdout",
     "output_type": "stream",
     "text": [
      "\r10700 (23%)"
     ]
    },
    {
     "name": "stdout",
     "output_type": "stream",
     "text": [
      "\r10750 (23%)"
     ]
    },
    {
     "name": "stdout",
     "output_type": "stream",
     "text": [
      "\r10800 (24%)"
     ]
    },
    {
     "name": "stdout",
     "output_type": "stream",
     "text": [
      "\r10850 (24%)"
     ]
    },
    {
     "name": "stdout",
     "output_type": "stream",
     "text": [
      "\r10900 (24%)"
     ]
    },
    {
     "name": "stdout",
     "output_type": "stream",
     "text": [
      "\r10950 (24%)"
     ]
    },
    {
     "name": "stdout",
     "output_type": "stream",
     "text": [
      "\r11000 (24%)"
     ]
    },
    {
     "name": "stdout",
     "output_type": "stream",
     "text": [
      "\r11050 (24%)"
     ]
    },
    {
     "name": "stdout",
     "output_type": "stream",
     "text": [
      "\r11100 (24%)"
     ]
    },
    {
     "name": "stdout",
     "output_type": "stream",
     "text": [
      "\r11150 (24%)"
     ]
    },
    {
     "name": "stdout",
     "output_type": "stream",
     "text": [
      "\r11200 (24%)"
     ]
    },
    {
     "name": "stdout",
     "output_type": "stream",
     "text": [
      "\r11250 (25%)"
     ]
    },
    {
     "name": "stdout",
     "output_type": "stream",
     "text": [
      "\r11300 (25%)"
     ]
    },
    {
     "name": "stdout",
     "output_type": "stream",
     "text": [
      "\r11350 (25%)"
     ]
    },
    {
     "name": "stdout",
     "output_type": "stream",
     "text": [
      "\r11400 (25%)"
     ]
    },
    {
     "name": "stdout",
     "output_type": "stream",
     "text": [
      "\r11450 (25%)"
     ]
    },
    {
     "name": "stdout",
     "output_type": "stream",
     "text": [
      "\r11500 (25%)"
     ]
    },
    {
     "name": "stdout",
     "output_type": "stream",
     "text": [
      "\r11550 (25%)"
     ]
    },
    {
     "name": "stdout",
     "output_type": "stream",
     "text": [
      "\r11600 (25%)"
     ]
    },
    {
     "name": "stdout",
     "output_type": "stream",
     "text": [
      "\r11650 (25%)"
     ]
    },
    {
     "name": "stdout",
     "output_type": "stream",
     "text": [
      "\r11700 (26%)"
     ]
    },
    {
     "name": "stdout",
     "output_type": "stream",
     "text": [
      "\r11750 (26%)"
     ]
    },
    {
     "name": "stdout",
     "output_type": "stream",
     "text": [
      "\r11800 (26%)"
     ]
    },
    {
     "name": "stdout",
     "output_type": "stream",
     "text": [
      "\r11850 (26%)"
     ]
    },
    {
     "name": "stdout",
     "output_type": "stream",
     "text": [
      "\r11900 (26%)"
     ]
    },
    {
     "name": "stdout",
     "output_type": "stream",
     "text": [
      "\r11950 (26%)"
     ]
    },
    {
     "name": "stdout",
     "output_type": "stream",
     "text": [
      "\r12000 (26%)"
     ]
    },
    {
     "name": "stdout",
     "output_type": "stream",
     "text": [
      "\r12050 (26%)"
     ]
    },
    {
     "name": "stdout",
     "output_type": "stream",
     "text": [
      "\r12100 (26%)"
     ]
    },
    {
     "name": "stdout",
     "output_type": "stream",
     "text": [
      "\r12150 (27%)"
     ]
    },
    {
     "name": "stdout",
     "output_type": "stream",
     "text": [
      "\r12200 (27%)"
     ]
    },
    {
     "name": "stdout",
     "output_type": "stream",
     "text": [
      "\r12250 (27%)"
     ]
    },
    {
     "name": "stdout",
     "output_type": "stream",
     "text": [
      "\r12300 (27%)"
     ]
    },
    {
     "name": "stdout",
     "output_type": "stream",
     "text": [
      "\r12350 (27%)"
     ]
    },
    {
     "name": "stdout",
     "output_type": "stream",
     "text": [
      "\r12400 (27%)"
     ]
    },
    {
     "name": "stdout",
     "output_type": "stream",
     "text": [
      "\r12450 (27%)"
     ]
    },
    {
     "name": "stdout",
     "output_type": "stream",
     "text": [
      "\r12500 (27%)"
     ]
    },
    {
     "name": "stdout",
     "output_type": "stream",
     "text": [
      "\r12550 (27%)"
     ]
    },
    {
     "name": "stdout",
     "output_type": "stream",
     "text": [
      "\r12600 (28%)"
     ]
    },
    {
     "name": "stdout",
     "output_type": "stream",
     "text": [
      "\r12650 (28%)"
     ]
    },
    {
     "name": "stdout",
     "output_type": "stream",
     "text": [
      "\r12700 (28%)"
     ]
    },
    {
     "name": "stdout",
     "output_type": "stream",
     "text": [
      "\r12750 (28%)"
     ]
    },
    {
     "name": "stdout",
     "output_type": "stream",
     "text": [
      "\r12800 (28%)"
     ]
    },
    {
     "name": "stdout",
     "output_type": "stream",
     "text": [
      "\r12850 (28%)"
     ]
    },
    {
     "name": "stdout",
     "output_type": "stream",
     "text": [
      "\r12900 (28%)"
     ]
    },
    {
     "name": "stdout",
     "output_type": "stream",
     "text": [
      "\r12950 (28%)"
     ]
    },
    {
     "name": "stdout",
     "output_type": "stream",
     "text": [
      "\r13000 (28%)"
     ]
    },
    {
     "name": "stdout",
     "output_type": "stream",
     "text": [
      "\r13050 (29%)"
     ]
    },
    {
     "name": "stdout",
     "output_type": "stream",
     "text": [
      "\r13100 (29%)"
     ]
    },
    {
     "name": "stdout",
     "output_type": "stream",
     "text": [
      "\r13150 (29%)"
     ]
    },
    {
     "name": "stdout",
     "output_type": "stream",
     "text": [
      "\r13200 (29%)"
     ]
    },
    {
     "name": "stdout",
     "output_type": "stream",
     "text": [
      "\r13250 (29%)"
     ]
    },
    {
     "name": "stdout",
     "output_type": "stream",
     "text": [
      "\r13300 (29%)"
     ]
    },
    {
     "name": "stdout",
     "output_type": "stream",
     "text": [
      "\r13350 (29%)"
     ]
    },
    {
     "name": "stdout",
     "output_type": "stream",
     "text": [
      "\r13400 (29%)"
     ]
    },
    {
     "name": "stdout",
     "output_type": "stream",
     "text": [
      "\r13450 (29%)"
     ]
    },
    {
     "name": "stdout",
     "output_type": "stream",
     "text": [
      "\r13500 (30%)"
     ]
    },
    {
     "name": "stdout",
     "output_type": "stream",
     "text": [
      "\r13550 (30%)"
     ]
    },
    {
     "name": "stdout",
     "output_type": "stream",
     "text": [
      "\r13600 (30%)"
     ]
    },
    {
     "name": "stdout",
     "output_type": "stream",
     "text": [
      "\r13650 (30%)"
     ]
    },
    {
     "name": "stdout",
     "output_type": "stream",
     "text": [
      "\r13700 (30%)"
     ]
    },
    {
     "name": "stdout",
     "output_type": "stream",
     "text": [
      "\r13750 (30%)"
     ]
    },
    {
     "name": "stdout",
     "output_type": "stream",
     "text": [
      "\r13800 (30%)"
     ]
    },
    {
     "name": "stdout",
     "output_type": "stream",
     "text": [
      "\r13850 (30%)"
     ]
    },
    {
     "name": "stdout",
     "output_type": "stream",
     "text": [
      "\r13900 (30%)"
     ]
    },
    {
     "name": "stdout",
     "output_type": "stream",
     "text": [
      "\r13950 (31%)"
     ]
    },
    {
     "name": "stdout",
     "output_type": "stream",
     "text": [
      "\r14000 (31%)"
     ]
    },
    {
     "name": "stdout",
     "output_type": "stream",
     "text": [
      "\r14050 (31%)"
     ]
    },
    {
     "name": "stdout",
     "output_type": "stream",
     "text": [
      "\r14100 (31%)"
     ]
    },
    {
     "name": "stdout",
     "output_type": "stream",
     "text": [
      "\r14150 (31%)"
     ]
    },
    {
     "name": "stdout",
     "output_type": "stream",
     "text": [
      "\r14200 (31%)"
     ]
    },
    {
     "name": "stdout",
     "output_type": "stream",
     "text": [
      "\r14250 (31%)"
     ]
    },
    {
     "name": "stdout",
     "output_type": "stream",
     "text": [
      "\r14300 (31%)"
     ]
    },
    {
     "name": "stdout",
     "output_type": "stream",
     "text": [
      "\r14350 (31%)"
     ]
    },
    {
     "name": "stdout",
     "output_type": "stream",
     "text": [
      "\r14400 (32%)"
     ]
    },
    {
     "name": "stdout",
     "output_type": "stream",
     "text": [
      "\r14450 (32%)"
     ]
    },
    {
     "name": "stdout",
     "output_type": "stream",
     "text": [
      "\r14500 (32%)"
     ]
    },
    {
     "name": "stdout",
     "output_type": "stream",
     "text": [
      "\r14550 (32%)"
     ]
    },
    {
     "name": "stdout",
     "output_type": "stream",
     "text": [
      "\r14600 (32%)"
     ]
    },
    {
     "name": "stdout",
     "output_type": "stream",
     "text": [
      "\r14650 (32%)"
     ]
    },
    {
     "name": "stdout",
     "output_type": "stream",
     "text": [
      "\r14700 (32%)"
     ]
    },
    {
     "name": "stdout",
     "output_type": "stream",
     "text": [
      "\r14750 (32%)"
     ]
    },
    {
     "name": "stdout",
     "output_type": "stream",
     "text": [
      "\r14800 (32%)"
     ]
    },
    {
     "name": "stdout",
     "output_type": "stream",
     "text": [
      "\r14850 (33%)"
     ]
    },
    {
     "name": "stdout",
     "output_type": "stream",
     "text": [
      "\r14900 (33%)"
     ]
    },
    {
     "name": "stdout",
     "output_type": "stream",
     "text": [
      "\r14950 (33%)"
     ]
    },
    {
     "name": "stdout",
     "output_type": "stream",
     "text": [
      "\r15000 (33%)"
     ]
    },
    {
     "name": "stdout",
     "output_type": "stream",
     "text": [
      "\r15050 (33%)"
     ]
    },
    {
     "name": "stdout",
     "output_type": "stream",
     "text": [
      "\r15100 (33%)"
     ]
    },
    {
     "name": "stdout",
     "output_type": "stream",
     "text": [
      "\r15150 (33%)"
     ]
    },
    {
     "name": "stdout",
     "output_type": "stream",
     "text": [
      "\r15200 (33%)"
     ]
    },
    {
     "name": "stdout",
     "output_type": "stream",
     "text": [
      "\r15250 (33%)"
     ]
    },
    {
     "name": "stdout",
     "output_type": "stream",
     "text": [
      "\r15300 (34%)"
     ]
    },
    {
     "name": "stdout",
     "output_type": "stream",
     "text": [
      "\r15350 (34%)"
     ]
    },
    {
     "name": "stdout",
     "output_type": "stream",
     "text": [
      "\r15400 (34%)"
     ]
    },
    {
     "name": "stdout",
     "output_type": "stream",
     "text": [
      "\r15450 (34%)"
     ]
    },
    {
     "name": "stdout",
     "output_type": "stream",
     "text": [
      "\r15500 (34%)"
     ]
    },
    {
     "name": "stdout",
     "output_type": "stream",
     "text": [
      "\r15550 (34%)"
     ]
    },
    {
     "name": "stdout",
     "output_type": "stream",
     "text": [
      "\r15600 (34%)"
     ]
    },
    {
     "name": "stdout",
     "output_type": "stream",
     "text": [
      "\r15650 (34%)"
     ]
    },
    {
     "name": "stdout",
     "output_type": "stream",
     "text": [
      "\r15700 (34%)"
     ]
    },
    {
     "name": "stdout",
     "output_type": "stream",
     "text": [
      "\r15750 (35%)"
     ]
    },
    {
     "name": "stdout",
     "output_type": "stream",
     "text": [
      "\r15800 (35%)"
     ]
    },
    {
     "name": "stdout",
     "output_type": "stream",
     "text": [
      "\r15850 (35%)"
     ]
    },
    {
     "name": "stdout",
     "output_type": "stream",
     "text": [
      "\r15900 (35%)"
     ]
    },
    {
     "name": "stdout",
     "output_type": "stream",
     "text": [
      "\r15950 (35%)"
     ]
    },
    {
     "name": "stdout",
     "output_type": "stream",
     "text": [
      "\r16000 (35%)"
     ]
    },
    {
     "name": "stdout",
     "output_type": "stream",
     "text": [
      "\r16050 (35%)"
     ]
    },
    {
     "name": "stdout",
     "output_type": "stream",
     "text": [
      "\r16100 (35%)"
     ]
    },
    {
     "name": "stdout",
     "output_type": "stream",
     "text": [
      "\r16150 (35%)"
     ]
    },
    {
     "name": "stdout",
     "output_type": "stream",
     "text": [
      "\r16200 (36%)"
     ]
    },
    {
     "name": "stdout",
     "output_type": "stream",
     "text": [
      "\r16250 (36%)"
     ]
    },
    {
     "name": "stdout",
     "output_type": "stream",
     "text": [
      "\r16300 (36%)"
     ]
    },
    {
     "name": "stdout",
     "output_type": "stream",
     "text": [
      "\r16350 (36%)"
     ]
    },
    {
     "name": "stdout",
     "output_type": "stream",
     "text": [
      "\r16400 (36%)"
     ]
    },
    {
     "name": "stdout",
     "output_type": "stream",
     "text": [
      "\r16450 (36%)"
     ]
    },
    {
     "name": "stdout",
     "output_type": "stream",
     "text": [
      "\r16500 (36%)"
     ]
    },
    {
     "name": "stdout",
     "output_type": "stream",
     "text": [
      "\r16550 (36%)"
     ]
    },
    {
     "name": "stdout",
     "output_type": "stream",
     "text": [
      "\r16600 (36%)"
     ]
    },
    {
     "name": "stdout",
     "output_type": "stream",
     "text": [
      "\r16650 (37%)"
     ]
    },
    {
     "name": "stdout",
     "output_type": "stream",
     "text": [
      "\r16700 (37%)"
     ]
    },
    {
     "name": "stdout",
     "output_type": "stream",
     "text": [
      "\r16750 (37%)"
     ]
    },
    {
     "name": "stdout",
     "output_type": "stream",
     "text": [
      "\r16800 (37%)"
     ]
    },
    {
     "name": "stdout",
     "output_type": "stream",
     "text": [
      "\r16850 (37%)"
     ]
    },
    {
     "name": "stdout",
     "output_type": "stream",
     "text": [
      "\r16900 (37%)"
     ]
    },
    {
     "name": "stdout",
     "output_type": "stream",
     "text": [
      "\r16950 (37%)"
     ]
    },
    {
     "name": "stdout",
     "output_type": "stream",
     "text": [
      "\r17000 (37%)"
     ]
    },
    {
     "name": "stdout",
     "output_type": "stream",
     "text": [
      "\r17050 (37%)"
     ]
    },
    {
     "name": "stdout",
     "output_type": "stream",
     "text": [
      "\r17100 (38%)"
     ]
    },
    {
     "name": "stdout",
     "output_type": "stream",
     "text": [
      "\r17150 (38%)"
     ]
    },
    {
     "name": "stdout",
     "output_type": "stream",
     "text": [
      "\r17200 (38%)"
     ]
    },
    {
     "name": "stdout",
     "output_type": "stream",
     "text": [
      "\r17250 (38%)"
     ]
    },
    {
     "name": "stdout",
     "output_type": "stream",
     "text": [
      "\r17300 (38%)"
     ]
    },
    {
     "name": "stdout",
     "output_type": "stream",
     "text": [
      "\r17350 (38%)"
     ]
    },
    {
     "name": "stdout",
     "output_type": "stream",
     "text": [
      "\r17400 (38%)"
     ]
    },
    {
     "name": "stdout",
     "output_type": "stream",
     "text": [
      "\r17450 (38%)"
     ]
    },
    {
     "name": "stdout",
     "output_type": "stream",
     "text": [
      "\r17500 (38%)"
     ]
    },
    {
     "name": "stdout",
     "output_type": "stream",
     "text": [
      "\r17550 (39%)"
     ]
    },
    {
     "name": "stdout",
     "output_type": "stream",
     "text": [
      "\r17600 (39%)"
     ]
    },
    {
     "name": "stdout",
     "output_type": "stream",
     "text": [
      "\r17650 (39%)"
     ]
    },
    {
     "name": "stdout",
     "output_type": "stream",
     "text": [
      "\r17700 (39%)"
     ]
    },
    {
     "name": "stdout",
     "output_type": "stream",
     "text": [
      "\r17750 (39%)"
     ]
    },
    {
     "name": "stdout",
     "output_type": "stream",
     "text": [
      "\r17800 (39%)"
     ]
    },
    {
     "name": "stdout",
     "output_type": "stream",
     "text": [
      "\r17850 (39%)"
     ]
    },
    {
     "name": "stdout",
     "output_type": "stream",
     "text": [
      "\r17900 (39%)"
     ]
    },
    {
     "name": "stdout",
     "output_type": "stream",
     "text": [
      "\r17950 (39%)"
     ]
    },
    {
     "name": "stdout",
     "output_type": "stream",
     "text": [
      "\r18000 (40%)"
     ]
    },
    {
     "name": "stdout",
     "output_type": "stream",
     "text": [
      "\r18050 (40%)"
     ]
    },
    {
     "name": "stdout",
     "output_type": "stream",
     "text": [
      "\r18100 (40%)"
     ]
    },
    {
     "name": "stdout",
     "output_type": "stream",
     "text": [
      "\r18150 (40%)"
     ]
    },
    {
     "name": "stdout",
     "output_type": "stream",
     "text": [
      "\r18200 (40%)"
     ]
    },
    {
     "name": "stdout",
     "output_type": "stream",
     "text": [
      "\r18250 (40%)"
     ]
    },
    {
     "name": "stdout",
     "output_type": "stream",
     "text": [
      "\r18300 (40%)"
     ]
    },
    {
     "name": "stdout",
     "output_type": "stream",
     "text": [
      "\r18350 (40%)"
     ]
    },
    {
     "name": "stdout",
     "output_type": "stream",
     "text": [
      "\r18400 (40%)"
     ]
    },
    {
     "name": "stdout",
     "output_type": "stream",
     "text": [
      "\r18450 (41%)"
     ]
    },
    {
     "name": "stdout",
     "output_type": "stream",
     "text": [
      "\r18500 (41%)"
     ]
    },
    {
     "name": "stdout",
     "output_type": "stream",
     "text": [
      "\r18550 (41%)"
     ]
    },
    {
     "name": "stdout",
     "output_type": "stream",
     "text": [
      "\r18600 (41%)"
     ]
    },
    {
     "name": "stdout",
     "output_type": "stream",
     "text": [
      "\r18650 (41%)"
     ]
    },
    {
     "name": "stdout",
     "output_type": "stream",
     "text": [
      "\r18700 (41%)"
     ]
    },
    {
     "name": "stdout",
     "output_type": "stream",
     "text": [
      "\r18750 (41%)"
     ]
    },
    {
     "name": "stdout",
     "output_type": "stream",
     "text": [
      "\r18800 (41%)"
     ]
    },
    {
     "name": "stdout",
     "output_type": "stream",
     "text": [
      "\r18850 (41%)"
     ]
    },
    {
     "name": "stdout",
     "output_type": "stream",
     "text": [
      "\r18900 (42%)"
     ]
    },
    {
     "name": "stdout",
     "output_type": "stream",
     "text": [
      "\r18950 (42%)"
     ]
    },
    {
     "name": "stdout",
     "output_type": "stream",
     "text": [
      "\r19000 (42%)"
     ]
    },
    {
     "name": "stdout",
     "output_type": "stream",
     "text": [
      "\r19050 (42%)"
     ]
    },
    {
     "name": "stdout",
     "output_type": "stream",
     "text": [
      "\r19100 (42%)"
     ]
    },
    {
     "name": "stdout",
     "output_type": "stream",
     "text": [
      "\r19150 (42%)"
     ]
    },
    {
     "name": "stdout",
     "output_type": "stream",
     "text": [
      "\r19200 (42%)"
     ]
    },
    {
     "name": "stdout",
     "output_type": "stream",
     "text": [
      "\r19250 (42%)"
     ]
    },
    {
     "name": "stdout",
     "output_type": "stream",
     "text": [
      "\r19300 (42%)"
     ]
    },
    {
     "name": "stdout",
     "output_type": "stream",
     "text": [
      "\r19350 (43%)"
     ]
    },
    {
     "name": "stdout",
     "output_type": "stream",
     "text": [
      "\r19400 (43%)"
     ]
    },
    {
     "name": "stdout",
     "output_type": "stream",
     "text": [
      "\r19450 (43%)"
     ]
    },
    {
     "name": "stdout",
     "output_type": "stream",
     "text": [
      "\r19500 (43%)"
     ]
    },
    {
     "name": "stdout",
     "output_type": "stream",
     "text": [
      "\r19550 (43%)"
     ]
    },
    {
     "name": "stdout",
     "output_type": "stream",
     "text": [
      "\r19600 (43%)"
     ]
    },
    {
     "name": "stdout",
     "output_type": "stream",
     "text": [
      "\r19650 (43%)"
     ]
    },
    {
     "name": "stdout",
     "output_type": "stream",
     "text": [
      "\r19700 (43%)"
     ]
    },
    {
     "name": "stdout",
     "output_type": "stream",
     "text": [
      "\r19750 (43%)"
     ]
    },
    {
     "name": "stdout",
     "output_type": "stream",
     "text": [
      "\r19800 (44%)"
     ]
    },
    {
     "name": "stdout",
     "output_type": "stream",
     "text": [
      "\r19850 (44%)"
     ]
    },
    {
     "name": "stdout",
     "output_type": "stream",
     "text": [
      "\r19900 (44%)"
     ]
    },
    {
     "name": "stdout",
     "output_type": "stream",
     "text": [
      "\r19950 (44%)"
     ]
    },
    {
     "name": "stdout",
     "output_type": "stream",
     "text": [
      "\r20000 (44%)"
     ]
    },
    {
     "name": "stdout",
     "output_type": "stream",
     "text": [
      "\r20050 (44%)"
     ]
    },
    {
     "name": "stdout",
     "output_type": "stream",
     "text": [
      "\r20100 (44%)"
     ]
    },
    {
     "name": "stdout",
     "output_type": "stream",
     "text": [
      "\r20150 (44%)"
     ]
    },
    {
     "name": "stdout",
     "output_type": "stream",
     "text": [
      "\r20200 (44%)"
     ]
    },
    {
     "name": "stdout",
     "output_type": "stream",
     "text": [
      "\r20250 (45%)"
     ]
    },
    {
     "name": "stdout",
     "output_type": "stream",
     "text": [
      "\r20300 (45%)"
     ]
    },
    {
     "name": "stdout",
     "output_type": "stream",
     "text": [
      "\r20350 (45%)"
     ]
    },
    {
     "name": "stdout",
     "output_type": "stream",
     "text": [
      "\r20400 (45%)"
     ]
    },
    {
     "name": "stdout",
     "output_type": "stream",
     "text": [
      "\r20450 (45%)"
     ]
    },
    {
     "name": "stdout",
     "output_type": "stream",
     "text": [
      "\r20500 (45%)"
     ]
    },
    {
     "name": "stdout",
     "output_type": "stream",
     "text": [
      "\r20550 (45%)"
     ]
    },
    {
     "name": "stdout",
     "output_type": "stream",
     "text": [
      "\r20600 (45%)"
     ]
    },
    {
     "name": "stdout",
     "output_type": "stream",
     "text": [
      "\r20650 (45%)"
     ]
    },
    {
     "name": "stdout",
     "output_type": "stream",
     "text": [
      "\r20700 (46%)"
     ]
    },
    {
     "name": "stdout",
     "output_type": "stream",
     "text": [
      "\r20750 (46%)"
     ]
    },
    {
     "name": "stdout",
     "output_type": "stream",
     "text": [
      "\r20800 (46%)"
     ]
    },
    {
     "name": "stdout",
     "output_type": "stream",
     "text": [
      "\r20850 (46%)"
     ]
    },
    {
     "name": "stdout",
     "output_type": "stream",
     "text": [
      "\r20900 (46%)"
     ]
    },
    {
     "name": "stdout",
     "output_type": "stream",
     "text": [
      "\r20950 (46%)"
     ]
    },
    {
     "name": "stdout",
     "output_type": "stream",
     "text": [
      "\r21000 (46%)"
     ]
    },
    {
     "name": "stdout",
     "output_type": "stream",
     "text": [
      "\r21050 (46%)"
     ]
    },
    {
     "name": "stdout",
     "output_type": "stream",
     "text": [
      "\r21100 (46%)"
     ]
    },
    {
     "name": "stdout",
     "output_type": "stream",
     "text": [
      "\r21150 (47%)"
     ]
    },
    {
     "name": "stdout",
     "output_type": "stream",
     "text": [
      "\r21200 (47%)"
     ]
    },
    {
     "name": "stdout",
     "output_type": "stream",
     "text": [
      "\r21250 (47%)"
     ]
    },
    {
     "name": "stdout",
     "output_type": "stream",
     "text": [
      "\r21300 (47%)"
     ]
    },
    {
     "name": "stdout",
     "output_type": "stream",
     "text": [
      "\r21350 (47%)"
     ]
    },
    {
     "name": "stdout",
     "output_type": "stream",
     "text": [
      "\r21400 (47%)"
     ]
    },
    {
     "name": "stdout",
     "output_type": "stream",
     "text": [
      "\r21450 (47%)"
     ]
    },
    {
     "name": "stdout",
     "output_type": "stream",
     "text": [
      "\r21500 (47%)"
     ]
    },
    {
     "name": "stdout",
     "output_type": "stream",
     "text": [
      "\r21550 (47%)"
     ]
    },
    {
     "name": "stdout",
     "output_type": "stream",
     "text": [
      "\r21600 (48%)"
     ]
    },
    {
     "name": "stdout",
     "output_type": "stream",
     "text": [
      "\r21650 (48%)"
     ]
    },
    {
     "name": "stdout",
     "output_type": "stream",
     "text": [
      "\r21700 (48%)"
     ]
    },
    {
     "name": "stdout",
     "output_type": "stream",
     "text": [
      "\r21750 (48%)"
     ]
    },
    {
     "name": "stdout",
     "output_type": "stream",
     "text": [
      "\r21800 (48%)"
     ]
    },
    {
     "name": "stdout",
     "output_type": "stream",
     "text": [
      "\r21850 (48%)"
     ]
    },
    {
     "name": "stdout",
     "output_type": "stream",
     "text": [
      "\r21900 (48%)"
     ]
    },
    {
     "name": "stdout",
     "output_type": "stream",
     "text": [
      "\r21950 (48%)"
     ]
    },
    {
     "name": "stdout",
     "output_type": "stream",
     "text": [
      "\r22000 (48%)"
     ]
    },
    {
     "name": "stdout",
     "output_type": "stream",
     "text": [
      "\r22050 (49%)"
     ]
    },
    {
     "name": "stdout",
     "output_type": "stream",
     "text": [
      "\r22100 (49%)"
     ]
    },
    {
     "name": "stdout",
     "output_type": "stream",
     "text": [
      "\r22150 (49%)"
     ]
    },
    {
     "name": "stdout",
     "output_type": "stream",
     "text": [
      "\r22200 (49%)"
     ]
    },
    {
     "name": "stdout",
     "output_type": "stream",
     "text": [
      "\r22250 (49%)"
     ]
    },
    {
     "name": "stdout",
     "output_type": "stream",
     "text": [
      "\r22300 (49%)"
     ]
    },
    {
     "name": "stdout",
     "output_type": "stream",
     "text": [
      "\r22350 (49%)"
     ]
    },
    {
     "name": "stdout",
     "output_type": "stream",
     "text": [
      "\r22400 (49%)"
     ]
    },
    {
     "name": "stdout",
     "output_type": "stream",
     "text": [
      "\r22450 (49%)"
     ]
    },
    {
     "name": "stdout",
     "output_type": "stream",
     "text": [
      "\r22500 (50%)"
     ]
    },
    {
     "name": "stdout",
     "output_type": "stream",
     "text": [
      "\r22550 (50%)"
     ]
    },
    {
     "name": "stdout",
     "output_type": "stream",
     "text": [
      "\r22600 (50%)"
     ]
    },
    {
     "name": "stdout",
     "output_type": "stream",
     "text": [
      "\r22650 (50%)"
     ]
    },
    {
     "name": "stdout",
     "output_type": "stream",
     "text": [
      "\r22700 (50%)"
     ]
    },
    {
     "name": "stdout",
     "output_type": "stream",
     "text": [
      "\r22750 (50%)"
     ]
    },
    {
     "name": "stdout",
     "output_type": "stream",
     "text": [
      "\r22800 (50%)"
     ]
    },
    {
     "name": "stdout",
     "output_type": "stream",
     "text": [
      "\r22850 (50%)"
     ]
    },
    {
     "name": "stdout",
     "output_type": "stream",
     "text": [
      "\r22900 (50%)"
     ]
    },
    {
     "name": "stdout",
     "output_type": "stream",
     "text": [
      "\r22950 (51%)"
     ]
    },
    {
     "name": "stdout",
     "output_type": "stream",
     "text": [
      "\r23000 (51%)"
     ]
    },
    {
     "name": "stdout",
     "output_type": "stream",
     "text": [
      "\r23050 (51%)"
     ]
    },
    {
     "name": "stdout",
     "output_type": "stream",
     "text": [
      "\r23100 (51%)"
     ]
    },
    {
     "name": "stdout",
     "output_type": "stream",
     "text": [
      "\r23150 (51%)"
     ]
    },
    {
     "name": "stdout",
     "output_type": "stream",
     "text": [
      "\r23200 (51%)"
     ]
    },
    {
     "name": "stdout",
     "output_type": "stream",
     "text": [
      "\r23250 (51%)"
     ]
    },
    {
     "name": "stdout",
     "output_type": "stream",
     "text": [
      "\r23300 (51%)"
     ]
    },
    {
     "name": "stdout",
     "output_type": "stream",
     "text": [
      "\r23350 (51%)"
     ]
    },
    {
     "name": "stdout",
     "output_type": "stream",
     "text": [
      "\r23400 (52%)"
     ]
    },
    {
     "name": "stdout",
     "output_type": "stream",
     "text": [
      "\r23450 (52%)"
     ]
    },
    {
     "name": "stdout",
     "output_type": "stream",
     "text": [
      "\r23500 (52%)"
     ]
    },
    {
     "name": "stdout",
     "output_type": "stream",
     "text": [
      "\r23550 (52%)"
     ]
    },
    {
     "name": "stdout",
     "output_type": "stream",
     "text": [
      "\r23600 (52%)"
     ]
    },
    {
     "name": "stdout",
     "output_type": "stream",
     "text": [
      "\r23650 (52%)"
     ]
    },
    {
     "name": "stdout",
     "output_type": "stream",
     "text": [
      "\r23700 (52%)"
     ]
    },
    {
     "name": "stdout",
     "output_type": "stream",
     "text": [
      "\r23750 (52%)"
     ]
    },
    {
     "name": "stdout",
     "output_type": "stream",
     "text": [
      "\r23800 (52%)"
     ]
    },
    {
     "name": "stdout",
     "output_type": "stream",
     "text": [
      "\r23850 (53%)"
     ]
    },
    {
     "name": "stdout",
     "output_type": "stream",
     "text": [
      "\r23900 (53%)"
     ]
    },
    {
     "name": "stdout",
     "output_type": "stream",
     "text": [
      "\r23950 (53%)"
     ]
    },
    {
     "name": "stdout",
     "output_type": "stream",
     "text": [
      "\r24000 (53%)"
     ]
    },
    {
     "name": "stdout",
     "output_type": "stream",
     "text": [
      "\r24050 (53%)"
     ]
    },
    {
     "name": "stdout",
     "output_type": "stream",
     "text": [
      "\r24100 (53%)"
     ]
    },
    {
     "name": "stdout",
     "output_type": "stream",
     "text": [
      "\r24150 (53%)"
     ]
    },
    {
     "name": "stdout",
     "output_type": "stream",
     "text": [
      "\r24200 (53%)"
     ]
    },
    {
     "name": "stdout",
     "output_type": "stream",
     "text": [
      "\r24250 (53%)"
     ]
    },
    {
     "name": "stdout",
     "output_type": "stream",
     "text": [
      "\r24300 (54%)"
     ]
    },
    {
     "name": "stdout",
     "output_type": "stream",
     "text": [
      "\r24350 (54%)"
     ]
    },
    {
     "name": "stdout",
     "output_type": "stream",
     "text": [
      "\r24400 (54%)"
     ]
    },
    {
     "name": "stdout",
     "output_type": "stream",
     "text": [
      "\r24450 (54%)"
     ]
    },
    {
     "name": "stdout",
     "output_type": "stream",
     "text": [
      "\r24500 (54%)"
     ]
    },
    {
     "name": "stdout",
     "output_type": "stream",
     "text": [
      "\r24550 (54%)"
     ]
    },
    {
     "name": "stdout",
     "output_type": "stream",
     "text": [
      "\r24600 (54%)"
     ]
    },
    {
     "name": "stdout",
     "output_type": "stream",
     "text": [
      "\r24650 (54%)"
     ]
    },
    {
     "name": "stdout",
     "output_type": "stream",
     "text": [
      "\r24700 (54%)"
     ]
    },
    {
     "name": "stdout",
     "output_type": "stream",
     "text": [
      "\r24750 (55%)"
     ]
    },
    {
     "name": "stdout",
     "output_type": "stream",
     "text": [
      "\r24800 (55%)"
     ]
    },
    {
     "name": "stdout",
     "output_type": "stream",
     "text": [
      "\r24850 (55%)"
     ]
    },
    {
     "name": "stdout",
     "output_type": "stream",
     "text": [
      "\r24900 (55%)"
     ]
    },
    {
     "name": "stdout",
     "output_type": "stream",
     "text": [
      "\r24950 (55%)"
     ]
    },
    {
     "name": "stdout",
     "output_type": "stream",
     "text": [
      "\r25000 (55%)"
     ]
    },
    {
     "name": "stdout",
     "output_type": "stream",
     "text": [
      "\r25050 (55%)"
     ]
    },
    {
     "name": "stdout",
     "output_type": "stream",
     "text": [
      "\r25100 (55%)"
     ]
    },
    {
     "name": "stdout",
     "output_type": "stream",
     "text": [
      "\r25150 (55%)"
     ]
    },
    {
     "name": "stdout",
     "output_type": "stream",
     "text": [
      "\r25200 (56%)"
     ]
    },
    {
     "name": "stdout",
     "output_type": "stream",
     "text": [
      "\r25250 (56%)"
     ]
    },
    {
     "name": "stdout",
     "output_type": "stream",
     "text": [
      "\r25300 (56%)"
     ]
    },
    {
     "name": "stdout",
     "output_type": "stream",
     "text": [
      "\r25350 (56%)"
     ]
    },
    {
     "name": "stdout",
     "output_type": "stream",
     "text": [
      "\r25400 (56%)"
     ]
    },
    {
     "name": "stdout",
     "output_type": "stream",
     "text": [
      "\r25450 (56%)"
     ]
    },
    {
     "name": "stdout",
     "output_type": "stream",
     "text": [
      "\r25500 (56%)"
     ]
    },
    {
     "name": "stdout",
     "output_type": "stream",
     "text": [
      "\r25550 (56%)"
     ]
    },
    {
     "name": "stdout",
     "output_type": "stream",
     "text": [
      "\r25600 (56%)"
     ]
    },
    {
     "name": "stdout",
     "output_type": "stream",
     "text": [
      "\r25650 (57%)"
     ]
    },
    {
     "name": "stdout",
     "output_type": "stream",
     "text": [
      "\r25700 (57%)"
     ]
    },
    {
     "name": "stdout",
     "output_type": "stream",
     "text": [
      "\r25750 (57%)"
     ]
    },
    {
     "name": "stdout",
     "output_type": "stream",
     "text": [
      "\r25800 (57%)"
     ]
    },
    {
     "name": "stdout",
     "output_type": "stream",
     "text": [
      "\r25850 (57%)"
     ]
    },
    {
     "name": "stdout",
     "output_type": "stream",
     "text": [
      "\r25900 (57%)"
     ]
    },
    {
     "name": "stdout",
     "output_type": "stream",
     "text": [
      "\r25950 (57%)"
     ]
    },
    {
     "name": "stdout",
     "output_type": "stream",
     "text": [
      "\r26000 (57%)"
     ]
    },
    {
     "name": "stdout",
     "output_type": "stream",
     "text": [
      "\r26050 (57%)"
     ]
    },
    {
     "name": "stdout",
     "output_type": "stream",
     "text": [
      "\r26100 (58%)"
     ]
    },
    {
     "name": "stdout",
     "output_type": "stream",
     "text": [
      "\r26150 (58%)"
     ]
    },
    {
     "name": "stdout",
     "output_type": "stream",
     "text": [
      "\r26200 (58%)"
     ]
    },
    {
     "name": "stdout",
     "output_type": "stream",
     "text": [
      "\r26250 (58%)"
     ]
    },
    {
     "name": "stdout",
     "output_type": "stream",
     "text": [
      "\r26300 (58%)"
     ]
    },
    {
     "name": "stdout",
     "output_type": "stream",
     "text": [
      "\r26350 (58%)"
     ]
    },
    {
     "name": "stdout",
     "output_type": "stream",
     "text": [
      "\r26400 (58%)"
     ]
    },
    {
     "name": "stdout",
     "output_type": "stream",
     "text": [
      "\r26450 (58%)"
     ]
    },
    {
     "name": "stdout",
     "output_type": "stream",
     "text": [
      "\r26500 (58%)"
     ]
    },
    {
     "name": "stdout",
     "output_type": "stream",
     "text": [
      "\r26550 (59%)"
     ]
    },
    {
     "name": "stdout",
     "output_type": "stream",
     "text": [
      "\r26600 (59%)"
     ]
    },
    {
     "name": "stdout",
     "output_type": "stream",
     "text": [
      "\r26650 (59%)"
     ]
    },
    {
     "name": "stdout",
     "output_type": "stream",
     "text": [
      "\r26700 (59%)"
     ]
    },
    {
     "name": "stdout",
     "output_type": "stream",
     "text": [
      "\r26750 (59%)"
     ]
    },
    {
     "name": "stdout",
     "output_type": "stream",
     "text": [
      "\r26800 (59%)"
     ]
    },
    {
     "name": "stdout",
     "output_type": "stream",
     "text": [
      "\r26850 (59%)"
     ]
    },
    {
     "name": "stdout",
     "output_type": "stream",
     "text": [
      "\r26900 (59%)"
     ]
    },
    {
     "name": "stdout",
     "output_type": "stream",
     "text": [
      "\r26950 (59%)"
     ]
    },
    {
     "name": "stdout",
     "output_type": "stream",
     "text": [
      "\r27000 (60%)"
     ]
    },
    {
     "name": "stdout",
     "output_type": "stream",
     "text": [
      "\r27050 (60%)"
     ]
    },
    {
     "name": "stdout",
     "output_type": "stream",
     "text": [
      "\r27100 (60%)"
     ]
    },
    {
     "name": "stdout",
     "output_type": "stream",
     "text": [
      "\r27150 (60%)"
     ]
    },
    {
     "name": "stdout",
     "output_type": "stream",
     "text": [
      "\r27200 (60%)"
     ]
    },
    {
     "name": "stdout",
     "output_type": "stream",
     "text": [
      "\r27250 (60%)"
     ]
    },
    {
     "name": "stdout",
     "output_type": "stream",
     "text": [
      "\r27300 (60%)"
     ]
    },
    {
     "name": "stdout",
     "output_type": "stream",
     "text": [
      "\r27350 (60%)"
     ]
    },
    {
     "name": "stdout",
     "output_type": "stream",
     "text": [
      "\r27400 (60%)"
     ]
    },
    {
     "name": "stdout",
     "output_type": "stream",
     "text": [
      "\r27450 (61%)"
     ]
    },
    {
     "name": "stdout",
     "output_type": "stream",
     "text": [
      "\r27500 (61%)"
     ]
    },
    {
     "name": "stdout",
     "output_type": "stream",
     "text": [
      "\r27550 (61%)"
     ]
    },
    {
     "name": "stdout",
     "output_type": "stream",
     "text": [
      "\r27600 (61%)"
     ]
    },
    {
     "name": "stdout",
     "output_type": "stream",
     "text": [
      "\r27650 (61%)"
     ]
    },
    {
     "name": "stdout",
     "output_type": "stream",
     "text": [
      "\r27700 (61%)"
     ]
    },
    {
     "name": "stdout",
     "output_type": "stream",
     "text": [
      "\r27750 (61%)"
     ]
    },
    {
     "name": "stdout",
     "output_type": "stream",
     "text": [
      "\r27800 (61%)"
     ]
    },
    {
     "name": "stdout",
     "output_type": "stream",
     "text": [
      "\r27850 (61%)"
     ]
    },
    {
     "name": "stdout",
     "output_type": "stream",
     "text": [
      "\r27900 (62%)"
     ]
    },
    {
     "name": "stdout",
     "output_type": "stream",
     "text": [
      "\r27950 (62%)"
     ]
    },
    {
     "name": "stdout",
     "output_type": "stream",
     "text": [
      "\r28000 (62%)"
     ]
    },
    {
     "name": "stdout",
     "output_type": "stream",
     "text": [
      "\r28050 (62%)"
     ]
    },
    {
     "name": "stdout",
     "output_type": "stream",
     "text": [
      "\r28100 (62%)"
     ]
    },
    {
     "name": "stdout",
     "output_type": "stream",
     "text": [
      "\r28150 (62%)"
     ]
    },
    {
     "name": "stdout",
     "output_type": "stream",
     "text": [
      "\r28200 (62%)"
     ]
    },
    {
     "name": "stdout",
     "output_type": "stream",
     "text": [
      "\r28250 (62%)"
     ]
    },
    {
     "name": "stdout",
     "output_type": "stream",
     "text": [
      "\r28300 (62%)"
     ]
    },
    {
     "name": "stdout",
     "output_type": "stream",
     "text": [
      "\r28350 (63%)"
     ]
    },
    {
     "name": "stdout",
     "output_type": "stream",
     "text": [
      "\r28400 (63%)"
     ]
    },
    {
     "name": "stdout",
     "output_type": "stream",
     "text": [
      "\r28450 (63%)"
     ]
    },
    {
     "name": "stdout",
     "output_type": "stream",
     "text": [
      "\r28500 (63%)"
     ]
    },
    {
     "name": "stdout",
     "output_type": "stream",
     "text": [
      "\r28550 (63%)"
     ]
    },
    {
     "name": "stdout",
     "output_type": "stream",
     "text": [
      "\r28600 (63%)"
     ]
    },
    {
     "name": "stdout",
     "output_type": "stream",
     "text": [
      "\r28650 (63%)"
     ]
    },
    {
     "name": "stdout",
     "output_type": "stream",
     "text": [
      "\r28700 (63%)"
     ]
    },
    {
     "name": "stdout",
     "output_type": "stream",
     "text": [
      "\r28750 (63%)"
     ]
    },
    {
     "name": "stdout",
     "output_type": "stream",
     "text": [
      "\r28800 (64%)"
     ]
    },
    {
     "name": "stdout",
     "output_type": "stream",
     "text": [
      "\r28850 (64%)"
     ]
    },
    {
     "name": "stdout",
     "output_type": "stream",
     "text": [
      "\r28900 (64%)"
     ]
    },
    {
     "name": "stdout",
     "output_type": "stream",
     "text": [
      "\r28950 (64%)"
     ]
    },
    {
     "name": "stdout",
     "output_type": "stream",
     "text": [
      "\r29000 (64%)"
     ]
    },
    {
     "name": "stdout",
     "output_type": "stream",
     "text": [
      "\r29050 (64%)"
     ]
    },
    {
     "name": "stdout",
     "output_type": "stream",
     "text": [
      "\r29100 (64%)"
     ]
    },
    {
     "name": "stdout",
     "output_type": "stream",
     "text": [
      "\r29150 (64%)"
     ]
    },
    {
     "name": "stdout",
     "output_type": "stream",
     "text": [
      "\r29200 (64%)"
     ]
    },
    {
     "name": "stdout",
     "output_type": "stream",
     "text": [
      "\r29250 (65%)"
     ]
    },
    {
     "name": "stdout",
     "output_type": "stream",
     "text": [
      "\r29300 (65%)"
     ]
    },
    {
     "name": "stdout",
     "output_type": "stream",
     "text": [
      "\r29350 (65%)"
     ]
    },
    {
     "name": "stdout",
     "output_type": "stream",
     "text": [
      "\r29400 (65%)"
     ]
    },
    {
     "name": "stdout",
     "output_type": "stream",
     "text": [
      "\r29450 (65%)"
     ]
    },
    {
     "name": "stdout",
     "output_type": "stream",
     "text": [
      "\r29500 (65%)"
     ]
    },
    {
     "name": "stdout",
     "output_type": "stream",
     "text": [
      "\r29550 (65%)"
     ]
    },
    {
     "name": "stdout",
     "output_type": "stream",
     "text": [
      "\r29600 (65%)"
     ]
    },
    {
     "name": "stdout",
     "output_type": "stream",
     "text": [
      "\r29650 (65%)"
     ]
    },
    {
     "name": "stdout",
     "output_type": "stream",
     "text": [
      "\r29700 (66%)"
     ]
    },
    {
     "name": "stdout",
     "output_type": "stream",
     "text": [
      "\r29750 (66%)"
     ]
    },
    {
     "name": "stdout",
     "output_type": "stream",
     "text": [
      "\r29800 (66%)"
     ]
    },
    {
     "name": "stdout",
     "output_type": "stream",
     "text": [
      "\r29850 (66%)"
     ]
    },
    {
     "name": "stdout",
     "output_type": "stream",
     "text": [
      "\r29900 (66%)"
     ]
    },
    {
     "name": "stdout",
     "output_type": "stream",
     "text": [
      "\r29950 (66%)"
     ]
    },
    {
     "name": "stdout",
     "output_type": "stream",
     "text": [
      "\r30000 (66%)"
     ]
    },
    {
     "name": "stdout",
     "output_type": "stream",
     "text": [
      "\r30050 (66%)"
     ]
    },
    {
     "name": "stdout",
     "output_type": "stream",
     "text": [
      "\r30100 (66%)"
     ]
    },
    {
     "name": "stdout",
     "output_type": "stream",
     "text": [
      "\r30150 (67%)"
     ]
    },
    {
     "name": "stdout",
     "output_type": "stream",
     "text": [
      "\r30200 (67%)"
     ]
    },
    {
     "name": "stdout",
     "output_type": "stream",
     "text": [
      "\r30250 (67%)"
     ]
    },
    {
     "name": "stdout",
     "output_type": "stream",
     "text": [
      "\r30300 (67%)"
     ]
    },
    {
     "name": "stdout",
     "output_type": "stream",
     "text": [
      "\r30350 (67%)"
     ]
    },
    {
     "name": "stdout",
     "output_type": "stream",
     "text": [
      "\r30400 (67%)"
     ]
    },
    {
     "name": "stdout",
     "output_type": "stream",
     "text": [
      "\r30450 (67%)"
     ]
    },
    {
     "name": "stdout",
     "output_type": "stream",
     "text": [
      "\r30500 (67%)"
     ]
    },
    {
     "name": "stdout",
     "output_type": "stream",
     "text": [
      "\r30550 (67%)"
     ]
    },
    {
     "name": "stdout",
     "output_type": "stream",
     "text": [
      "\r30600 (68%)"
     ]
    },
    {
     "name": "stdout",
     "output_type": "stream",
     "text": [
      "\r30650 (68%)"
     ]
    },
    {
     "name": "stdout",
     "output_type": "stream",
     "text": [
      "\r30700 (68%)"
     ]
    },
    {
     "name": "stdout",
     "output_type": "stream",
     "text": [
      "\r30750 (68%)"
     ]
    },
    {
     "name": "stdout",
     "output_type": "stream",
     "text": [
      "\r30800 (68%)"
     ]
    },
    {
     "name": "stdout",
     "output_type": "stream",
     "text": [
      "\r30850 (68%)"
     ]
    },
    {
     "name": "stdout",
     "output_type": "stream",
     "text": [
      "\r30900 (68%)"
     ]
    },
    {
     "name": "stdout",
     "output_type": "stream",
     "text": [
      "\r30950 (68%)"
     ]
    },
    {
     "name": "stdout",
     "output_type": "stream",
     "text": [
      "\r31000 (68%)"
     ]
    },
    {
     "name": "stdout",
     "output_type": "stream",
     "text": [
      "\r31050 (69%)"
     ]
    },
    {
     "name": "stdout",
     "output_type": "stream",
     "text": [
      "\r31100 (69%)"
     ]
    },
    {
     "name": "stdout",
     "output_type": "stream",
     "text": [
      "\r31150 (69%)"
     ]
    },
    {
     "name": "stdout",
     "output_type": "stream",
     "text": [
      "\r31200 (69%)"
     ]
    },
    {
     "name": "stdout",
     "output_type": "stream",
     "text": [
      "\r31250 (69%)"
     ]
    },
    {
     "name": "stdout",
     "output_type": "stream",
     "text": [
      "\r31300 (69%)"
     ]
    },
    {
     "name": "stdout",
     "output_type": "stream",
     "text": [
      "\r31350 (69%)"
     ]
    },
    {
     "name": "stdout",
     "output_type": "stream",
     "text": [
      "\r31400 (69%)"
     ]
    },
    {
     "name": "stdout",
     "output_type": "stream",
     "text": [
      "\r31450 (69%)"
     ]
    },
    {
     "name": "stdout",
     "output_type": "stream",
     "text": [
      "\r31500 (70%)"
     ]
    },
    {
     "name": "stdout",
     "output_type": "stream",
     "text": [
      "\r31550 (70%)"
     ]
    },
    {
     "name": "stdout",
     "output_type": "stream",
     "text": [
      "\r31600 (70%)"
     ]
    },
    {
     "name": "stdout",
     "output_type": "stream",
     "text": [
      "\r31650 (70%)"
     ]
    },
    {
     "name": "stdout",
     "output_type": "stream",
     "text": [
      "\r31700 (70%)"
     ]
    },
    {
     "name": "stdout",
     "output_type": "stream",
     "text": [
      "\r31750 (70%)"
     ]
    },
    {
     "name": "stdout",
     "output_type": "stream",
     "text": [
      "\r31800 (70%)"
     ]
    },
    {
     "name": "stdout",
     "output_type": "stream",
     "text": [
      "\r31850 (70%)"
     ]
    },
    {
     "name": "stdout",
     "output_type": "stream",
     "text": [
      "\r31900 (70%)"
     ]
    },
    {
     "name": "stdout",
     "output_type": "stream",
     "text": [
      "\r31950 (71%)"
     ]
    },
    {
     "name": "stdout",
     "output_type": "stream",
     "text": [
      "\r32000 (71%)"
     ]
    },
    {
     "name": "stdout",
     "output_type": "stream",
     "text": [
      "\r32050 (71%)"
     ]
    },
    {
     "name": "stdout",
     "output_type": "stream",
     "text": [
      "\r32100 (71%)"
     ]
    },
    {
     "name": "stdout",
     "output_type": "stream",
     "text": [
      "\r32150 (71%)"
     ]
    },
    {
     "name": "stdout",
     "output_type": "stream",
     "text": [
      "\r32200 (71%)"
     ]
    },
    {
     "name": "stdout",
     "output_type": "stream",
     "text": [
      "\r32250 (71%)"
     ]
    },
    {
     "name": "stdout",
     "output_type": "stream",
     "text": [
      "\r32300 (71%)"
     ]
    },
    {
     "name": "stdout",
     "output_type": "stream",
     "text": [
      "\r32350 (71%)"
     ]
    },
    {
     "name": "stdout",
     "output_type": "stream",
     "text": [
      "\r32400 (72%)"
     ]
    },
    {
     "name": "stdout",
     "output_type": "stream",
     "text": [
      "\r32450 (72%)"
     ]
    },
    {
     "name": "stdout",
     "output_type": "stream",
     "text": [
      "\r32500 (72%)"
     ]
    },
    {
     "name": "stdout",
     "output_type": "stream",
     "text": [
      "\r32550 (72%)"
     ]
    },
    {
     "name": "stdout",
     "output_type": "stream",
     "text": [
      "\r32600 (72%)"
     ]
    },
    {
     "name": "stdout",
     "output_type": "stream",
     "text": [
      "\r32650 (72%)"
     ]
    },
    {
     "name": "stdout",
     "output_type": "stream",
     "text": [
      "\r32700 (72%)"
     ]
    },
    {
     "name": "stdout",
     "output_type": "stream",
     "text": [
      "\r32750 (72%)"
     ]
    },
    {
     "name": "stdout",
     "output_type": "stream",
     "text": [
      "\r32800 (72%)"
     ]
    },
    {
     "name": "stdout",
     "output_type": "stream",
     "text": [
      "\r32850 (73%)"
     ]
    },
    {
     "name": "stdout",
     "output_type": "stream",
     "text": [
      "\r32900 (73%)"
     ]
    },
    {
     "name": "stdout",
     "output_type": "stream",
     "text": [
      "\r32950 (73%)"
     ]
    },
    {
     "name": "stdout",
     "output_type": "stream",
     "text": [
      "\r33000 (73%)"
     ]
    },
    {
     "name": "stdout",
     "output_type": "stream",
     "text": [
      "\r33050 (73%)"
     ]
    },
    {
     "name": "stdout",
     "output_type": "stream",
     "text": [
      "\r33100 (73%)"
     ]
    },
    {
     "name": "stdout",
     "output_type": "stream",
     "text": [
      "\r33150 (73%)"
     ]
    },
    {
     "name": "stdout",
     "output_type": "stream",
     "text": [
      "\r33200 (73%)"
     ]
    },
    {
     "name": "stdout",
     "output_type": "stream",
     "text": [
      "\r33250 (73%)"
     ]
    },
    {
     "name": "stdout",
     "output_type": "stream",
     "text": [
      "\r33300 (74%)"
     ]
    },
    {
     "name": "stdout",
     "output_type": "stream",
     "text": [
      "\r33350 (74%)"
     ]
    },
    {
     "name": "stdout",
     "output_type": "stream",
     "text": [
      "\r33400 (74%)"
     ]
    },
    {
     "name": "stdout",
     "output_type": "stream",
     "text": [
      "\r33450 (74%)"
     ]
    },
    {
     "name": "stdout",
     "output_type": "stream",
     "text": [
      "\r33500 (74%)"
     ]
    },
    {
     "name": "stdout",
     "output_type": "stream",
     "text": [
      "\r33550 (74%)"
     ]
    },
    {
     "name": "stdout",
     "output_type": "stream",
     "text": [
      "\r33600 (74%)"
     ]
    },
    {
     "name": "stdout",
     "output_type": "stream",
     "text": [
      "\r33650 (74%)"
     ]
    },
    {
     "name": "stdout",
     "output_type": "stream",
     "text": [
      "\r33700 (74%)"
     ]
    },
    {
     "name": "stdout",
     "output_type": "stream",
     "text": [
      "\r33750 (75%)"
     ]
    },
    {
     "name": "stdout",
     "output_type": "stream",
     "text": [
      "\r33800 (75%)"
     ]
    },
    {
     "name": "stdout",
     "output_type": "stream",
     "text": [
      "\r33850 (75%)"
     ]
    },
    {
     "name": "stdout",
     "output_type": "stream",
     "text": [
      "\r33900 (75%)"
     ]
    },
    {
     "name": "stdout",
     "output_type": "stream",
     "text": [
      "\r33950 (75%)"
     ]
    },
    {
     "name": "stdout",
     "output_type": "stream",
     "text": [
      "\r34000 (75%)"
     ]
    },
    {
     "name": "stdout",
     "output_type": "stream",
     "text": [
      "\r34050 (75%)"
     ]
    },
    {
     "name": "stdout",
     "output_type": "stream",
     "text": [
      "\r34100 (75%)"
     ]
    },
    {
     "name": "stdout",
     "output_type": "stream",
     "text": [
      "\r34150 (75%)"
     ]
    },
    {
     "name": "stdout",
     "output_type": "stream",
     "text": [
      "\r34200 (76%)"
     ]
    },
    {
     "name": "stdout",
     "output_type": "stream",
     "text": [
      "\r34250 (76%)"
     ]
    },
    {
     "name": "stdout",
     "output_type": "stream",
     "text": [
      "\r34300 (76%)"
     ]
    },
    {
     "name": "stdout",
     "output_type": "stream",
     "text": [
      "\r34350 (76%)"
     ]
    },
    {
     "name": "stdout",
     "output_type": "stream",
     "text": [
      "\r34400 (76%)"
     ]
    },
    {
     "name": "stdout",
     "output_type": "stream",
     "text": [
      "\r34450 (76%)"
     ]
    },
    {
     "name": "stdout",
     "output_type": "stream",
     "text": [
      "\r34500 (76%)"
     ]
    },
    {
     "name": "stdout",
     "output_type": "stream",
     "text": [
      "\r34550 (76%)"
     ]
    },
    {
     "name": "stdout",
     "output_type": "stream",
     "text": [
      "\r34600 (76%)"
     ]
    },
    {
     "name": "stdout",
     "output_type": "stream",
     "text": [
      "\r34650 (77%)"
     ]
    },
    {
     "name": "stdout",
     "output_type": "stream",
     "text": [
      "\r34700 (77%)"
     ]
    },
    {
     "name": "stdout",
     "output_type": "stream",
     "text": [
      "\r34750 (77%)"
     ]
    },
    {
     "name": "stdout",
     "output_type": "stream",
     "text": [
      "\r34800 (77%)"
     ]
    },
    {
     "name": "stdout",
     "output_type": "stream",
     "text": [
      "\r34850 (77%)"
     ]
    },
    {
     "name": "stdout",
     "output_type": "stream",
     "text": [
      "\r34900 (77%)"
     ]
    },
    {
     "name": "stdout",
     "output_type": "stream",
     "text": [
      "\r34950 (77%)"
     ]
    },
    {
     "name": "stdout",
     "output_type": "stream",
     "text": [
      "\r35000 (77%)"
     ]
    },
    {
     "name": "stdout",
     "output_type": "stream",
     "text": [
      "\r35050 (77%)"
     ]
    },
    {
     "name": "stdout",
     "output_type": "stream",
     "text": [
      "\r35100 (78%)"
     ]
    },
    {
     "name": "stdout",
     "output_type": "stream",
     "text": [
      "\r35150 (78%)"
     ]
    },
    {
     "name": "stdout",
     "output_type": "stream",
     "text": [
      "\r35200 (78%)"
     ]
    },
    {
     "name": "stdout",
     "output_type": "stream",
     "text": [
      "\r35250 (78%)"
     ]
    },
    {
     "name": "stdout",
     "output_type": "stream",
     "text": [
      "\r35300 (78%)"
     ]
    },
    {
     "name": "stdout",
     "output_type": "stream",
     "text": [
      "\r35350 (78%)"
     ]
    },
    {
     "name": "stdout",
     "output_type": "stream",
     "text": [
      "\r35400 (78%)"
     ]
    },
    {
     "name": "stdout",
     "output_type": "stream",
     "text": [
      "\r35450 (78%)"
     ]
    },
    {
     "name": "stdout",
     "output_type": "stream",
     "text": [
      "\r35500 (78%)"
     ]
    },
    {
     "name": "stdout",
     "output_type": "stream",
     "text": [
      "\r35550 (79%)"
     ]
    },
    {
     "name": "stdout",
     "output_type": "stream",
     "text": [
      "\r35600 (79%)"
     ]
    },
    {
     "name": "stdout",
     "output_type": "stream",
     "text": [
      "\r35650 (79%)"
     ]
    },
    {
     "name": "stdout",
     "output_type": "stream",
     "text": [
      "\r35700 (79%)"
     ]
    },
    {
     "name": "stdout",
     "output_type": "stream",
     "text": [
      "\r35750 (79%)"
     ]
    },
    {
     "name": "stdout",
     "output_type": "stream",
     "text": [
      "\r35800 (79%)"
     ]
    },
    {
     "name": "stdout",
     "output_type": "stream",
     "text": [
      "\r35850 (79%)"
     ]
    },
    {
     "name": "stdout",
     "output_type": "stream",
     "text": [
      "\r35900 (79%)"
     ]
    },
    {
     "name": "stdout",
     "output_type": "stream",
     "text": [
      "\r35950 (79%)"
     ]
    },
    {
     "name": "stdout",
     "output_type": "stream",
     "text": [
      "\r36000 (80%)"
     ]
    },
    {
     "name": "stdout",
     "output_type": "stream",
     "text": [
      "\r36050 (80%)"
     ]
    },
    {
     "name": "stdout",
     "output_type": "stream",
     "text": [
      "\r36100 (80%)"
     ]
    },
    {
     "name": "stdout",
     "output_type": "stream",
     "text": [
      "\r36150 (80%)"
     ]
    },
    {
     "name": "stdout",
     "output_type": "stream",
     "text": [
      "\r36200 (80%)"
     ]
    },
    {
     "name": "stdout",
     "output_type": "stream",
     "text": [
      "\r36250 (80%)"
     ]
    },
    {
     "name": "stdout",
     "output_type": "stream",
     "text": [
      "\r36300 (80%)"
     ]
    },
    {
     "name": "stdout",
     "output_type": "stream",
     "text": [
      "\r36350 (80%)"
     ]
    },
    {
     "name": "stdout",
     "output_type": "stream",
     "text": [
      "\r36400 (80%)"
     ]
    },
    {
     "name": "stdout",
     "output_type": "stream",
     "text": [
      "\r36450 (81%)"
     ]
    },
    {
     "name": "stdout",
     "output_type": "stream",
     "text": [
      "\r36500 (81%)"
     ]
    },
    {
     "name": "stdout",
     "output_type": "stream",
     "text": [
      "\r36550 (81%)"
     ]
    },
    {
     "name": "stdout",
     "output_type": "stream",
     "text": [
      "\r36600 (81%)"
     ]
    },
    {
     "name": "stdout",
     "output_type": "stream",
     "text": [
      "\r36650 (81%)"
     ]
    },
    {
     "name": "stdout",
     "output_type": "stream",
     "text": [
      "\r36700 (81%)"
     ]
    },
    {
     "name": "stdout",
     "output_type": "stream",
     "text": [
      "\r36750 (81%)"
     ]
    },
    {
     "name": "stdout",
     "output_type": "stream",
     "text": [
      "\r36800 (81%)"
     ]
    },
    {
     "name": "stdout",
     "output_type": "stream",
     "text": [
      "\r36850 (81%)"
     ]
    },
    {
     "name": "stdout",
     "output_type": "stream",
     "text": [
      "\r36900 (82%)"
     ]
    },
    {
     "name": "stdout",
     "output_type": "stream",
     "text": [
      "\r36950 (82%)"
     ]
    },
    {
     "name": "stdout",
     "output_type": "stream",
     "text": [
      "\r37000 (82%)"
     ]
    },
    {
     "name": "stdout",
     "output_type": "stream",
     "text": [
      "\r37050 (82%)"
     ]
    },
    {
     "name": "stdout",
     "output_type": "stream",
     "text": [
      "\r37100 (82%)"
     ]
    },
    {
     "name": "stdout",
     "output_type": "stream",
     "text": [
      "\r37150 (82%)"
     ]
    },
    {
     "name": "stdout",
     "output_type": "stream",
     "text": [
      "\r37200 (82%)"
     ]
    },
    {
     "name": "stdout",
     "output_type": "stream",
     "text": [
      "\r37250 (82%)"
     ]
    },
    {
     "name": "stdout",
     "output_type": "stream",
     "text": [
      "\r37300 (82%)"
     ]
    },
    {
     "name": "stdout",
     "output_type": "stream",
     "text": [
      "\r37350 (83%)"
     ]
    },
    {
     "name": "stdout",
     "output_type": "stream",
     "text": [
      "\r37400 (83%)"
     ]
    },
    {
     "name": "stdout",
     "output_type": "stream",
     "text": [
      "\r37450 (83%)"
     ]
    },
    {
     "name": "stdout",
     "output_type": "stream",
     "text": [
      "\r37500 (83%)"
     ]
    },
    {
     "name": "stdout",
     "output_type": "stream",
     "text": [
      "\r37550 (83%)"
     ]
    },
    {
     "name": "stdout",
     "output_type": "stream",
     "text": [
      "\r37600 (83%)"
     ]
    },
    {
     "name": "stdout",
     "output_type": "stream",
     "text": [
      "\r37650 (83%)"
     ]
    },
    {
     "name": "stdout",
     "output_type": "stream",
     "text": [
      "\r37700 (83%)"
     ]
    },
    {
     "name": "stdout",
     "output_type": "stream",
     "text": [
      "\r37750 (83%)"
     ]
    },
    {
     "name": "stdout",
     "output_type": "stream",
     "text": [
      "\r37800 (84%)"
     ]
    },
    {
     "name": "stdout",
     "output_type": "stream",
     "text": [
      "\r37850 (84%)"
     ]
    },
    {
     "name": "stdout",
     "output_type": "stream",
     "text": [
      "\r37900 (84%)"
     ]
    },
    {
     "name": "stdout",
     "output_type": "stream",
     "text": [
      "\r37950 (84%)"
     ]
    },
    {
     "name": "stdout",
     "output_type": "stream",
     "text": [
      "\r38000 (84%)"
     ]
    },
    {
     "name": "stdout",
     "output_type": "stream",
     "text": [
      "\r38050 (84%)"
     ]
    },
    {
     "name": "stdout",
     "output_type": "stream",
     "text": [
      "\r38100 (84%)"
     ]
    },
    {
     "name": "stdout",
     "output_type": "stream",
     "text": [
      "\r38150 (84%)"
     ]
    },
    {
     "name": "stdout",
     "output_type": "stream",
     "text": [
      "\r38200 (84%)"
     ]
    },
    {
     "name": "stdout",
     "output_type": "stream",
     "text": [
      "\r38250 (85%)"
     ]
    },
    {
     "name": "stdout",
     "output_type": "stream",
     "text": [
      "\r38300 (85%)"
     ]
    },
    {
     "name": "stdout",
     "output_type": "stream",
     "text": [
      "\r38350 (85%)"
     ]
    },
    {
     "name": "stdout",
     "output_type": "stream",
     "text": [
      "\r38400 (85%)"
     ]
    },
    {
     "name": "stdout",
     "output_type": "stream",
     "text": [
      "\r38450 (85%)"
     ]
    },
    {
     "name": "stdout",
     "output_type": "stream",
     "text": [
      "\r38500 (85%)"
     ]
    },
    {
     "name": "stdout",
     "output_type": "stream",
     "text": [
      "\r38550 (85%)"
     ]
    },
    {
     "name": "stdout",
     "output_type": "stream",
     "text": [
      "\r38600 (85%)"
     ]
    },
    {
     "name": "stdout",
     "output_type": "stream",
     "text": [
      "\r38650 (85%)"
     ]
    },
    {
     "name": "stdout",
     "output_type": "stream",
     "text": [
      "\r38700 (86%)"
     ]
    },
    {
     "name": "stdout",
     "output_type": "stream",
     "text": [
      "\r38750 (86%)"
     ]
    },
    {
     "name": "stdout",
     "output_type": "stream",
     "text": [
      "\r38800 (86%)"
     ]
    },
    {
     "name": "stdout",
     "output_type": "stream",
     "text": [
      "\r38850 (86%)"
     ]
    },
    {
     "name": "stdout",
     "output_type": "stream",
     "text": [
      "\r38900 (86%)"
     ]
    },
    {
     "name": "stdout",
     "output_type": "stream",
     "text": [
      "\r38950 (86%)"
     ]
    },
    {
     "name": "stdout",
     "output_type": "stream",
     "text": [
      "\r39000 (86%)"
     ]
    },
    {
     "name": "stdout",
     "output_type": "stream",
     "text": [
      "\r39050 (86%)"
     ]
    },
    {
     "name": "stdout",
     "output_type": "stream",
     "text": [
      "\r39100 (86%)"
     ]
    },
    {
     "name": "stdout",
     "output_type": "stream",
     "text": [
      "\r39150 (87%)"
     ]
    },
    {
     "name": "stdout",
     "output_type": "stream",
     "text": [
      "\r39200 (87%)"
     ]
    },
    {
     "name": "stdout",
     "output_type": "stream",
     "text": [
      "\r39250 (87%)"
     ]
    },
    {
     "name": "stdout",
     "output_type": "stream",
     "text": [
      "\r39300 (87%)"
     ]
    },
    {
     "name": "stdout",
     "output_type": "stream",
     "text": [
      "\r39350 (87%)"
     ]
    },
    {
     "name": "stdout",
     "output_type": "stream",
     "text": [
      "\r39400 (87%)"
     ]
    },
    {
     "name": "stdout",
     "output_type": "stream",
     "text": [
      "\r39450 (87%)"
     ]
    },
    {
     "name": "stdout",
     "output_type": "stream",
     "text": [
      "\r39500 (87%)"
     ]
    },
    {
     "name": "stdout",
     "output_type": "stream",
     "text": [
      "\r39550 (87%)"
     ]
    },
    {
     "name": "stdout",
     "output_type": "stream",
     "text": [
      "\r39600 (88%)"
     ]
    },
    {
     "name": "stdout",
     "output_type": "stream",
     "text": [
      "\r39650 (88%)"
     ]
    },
    {
     "name": "stdout",
     "output_type": "stream",
     "text": [
      "\r39700 (88%)"
     ]
    },
    {
     "name": "stdout",
     "output_type": "stream",
     "text": [
      "\r39750 (88%)"
     ]
    },
    {
     "name": "stdout",
     "output_type": "stream",
     "text": [
      "\r39800 (88%)"
     ]
    },
    {
     "name": "stdout",
     "output_type": "stream",
     "text": [
      "\r39850 (88%)"
     ]
    },
    {
     "name": "stdout",
     "output_type": "stream",
     "text": [
      "\r39900 (88%)"
     ]
    },
    {
     "name": "stdout",
     "output_type": "stream",
     "text": [
      "\r39950 (88%)"
     ]
    },
    {
     "name": "stdout",
     "output_type": "stream",
     "text": [
      "\r40000 (88%)"
     ]
    },
    {
     "name": "stdout",
     "output_type": "stream",
     "text": [
      "\r40050 (89%)"
     ]
    },
    {
     "name": "stdout",
     "output_type": "stream",
     "text": [
      "\r40100 (89%)"
     ]
    },
    {
     "name": "stdout",
     "output_type": "stream",
     "text": [
      "\r40150 (89%)"
     ]
    },
    {
     "name": "stdout",
     "output_type": "stream",
     "text": [
      "\r40200 (89%)"
     ]
    },
    {
     "name": "stdout",
     "output_type": "stream",
     "text": [
      "\r40250 (89%)"
     ]
    },
    {
     "name": "stdout",
     "output_type": "stream",
     "text": [
      "\r40300 (89%)"
     ]
    },
    {
     "name": "stdout",
     "output_type": "stream",
     "text": [
      "\r40350 (89%)"
     ]
    },
    {
     "name": "stdout",
     "output_type": "stream",
     "text": [
      "\r40400 (89%)"
     ]
    },
    {
     "name": "stdout",
     "output_type": "stream",
     "text": [
      "\r40450 (89%)"
     ]
    },
    {
     "name": "stdout",
     "output_type": "stream",
     "text": [
      "\r40500 (90%)"
     ]
    },
    {
     "name": "stdout",
     "output_type": "stream",
     "text": [
      "\r40550 (90%)"
     ]
    },
    {
     "name": "stdout",
     "output_type": "stream",
     "text": [
      "\r40600 (90%)"
     ]
    },
    {
     "name": "stdout",
     "output_type": "stream",
     "text": [
      "\r40650 (90%)"
     ]
    },
    {
     "name": "stdout",
     "output_type": "stream",
     "text": [
      "\r40700 (90%)"
     ]
    },
    {
     "name": "stdout",
     "output_type": "stream",
     "text": [
      "\r40750 (90%)"
     ]
    },
    {
     "name": "stdout",
     "output_type": "stream",
     "text": [
      "\r40800 (90%)"
     ]
    },
    {
     "name": "stdout",
     "output_type": "stream",
     "text": [
      "\r40850 (90%)"
     ]
    },
    {
     "name": "stdout",
     "output_type": "stream",
     "text": [
      "\r40900 (90%)"
     ]
    },
    {
     "name": "stdout",
     "output_type": "stream",
     "text": [
      "\r40950 (91%)"
     ]
    },
    {
     "name": "stdout",
     "output_type": "stream",
     "text": [
      "\r41000 (91%)"
     ]
    },
    {
     "name": "stdout",
     "output_type": "stream",
     "text": [
      "\r41050 (91%)"
     ]
    },
    {
     "name": "stdout",
     "output_type": "stream",
     "text": [
      "\r41100 (91%)"
     ]
    },
    {
     "name": "stdout",
     "output_type": "stream",
     "text": [
      "\r41150 (91%)"
     ]
    },
    {
     "name": "stdout",
     "output_type": "stream",
     "text": [
      "\r41200 (91%)"
     ]
    },
    {
     "name": "stdout",
     "output_type": "stream",
     "text": [
      "\r41250 (91%)"
     ]
    },
    {
     "name": "stdout",
     "output_type": "stream",
     "text": [
      "\r41300 (91%)"
     ]
    },
    {
     "name": "stdout",
     "output_type": "stream",
     "text": [
      "\r41350 (91%)"
     ]
    },
    {
     "name": "stdout",
     "output_type": "stream",
     "text": [
      "\r41400 (92%)"
     ]
    },
    {
     "name": "stdout",
     "output_type": "stream",
     "text": [
      "\r41450 (92%)"
     ]
    },
    {
     "name": "stdout",
     "output_type": "stream",
     "text": [
      "\r41500 (92%)"
     ]
    },
    {
     "name": "stdout",
     "output_type": "stream",
     "text": [
      "\r41550 (92%)"
     ]
    },
    {
     "name": "stdout",
     "output_type": "stream",
     "text": [
      "\r41600 (92%)"
     ]
    },
    {
     "name": "stdout",
     "output_type": "stream",
     "text": [
      "\r41650 (92%)"
     ]
    },
    {
     "name": "stdout",
     "output_type": "stream",
     "text": [
      "\r41700 (92%)"
     ]
    },
    {
     "name": "stdout",
     "output_type": "stream",
     "text": [
      "\r41750 (92%)"
     ]
    },
    {
     "name": "stdout",
     "output_type": "stream",
     "text": [
      "\r41800 (92%)"
     ]
    },
    {
     "name": "stdout",
     "output_type": "stream",
     "text": [
      "\r41850 (93%)"
     ]
    },
    {
     "name": "stdout",
     "output_type": "stream",
     "text": [
      "\r41900 (93%)"
     ]
    },
    {
     "name": "stdout",
     "output_type": "stream",
     "text": [
      "\r41950 (93%)"
     ]
    },
    {
     "name": "stdout",
     "output_type": "stream",
     "text": [
      "\r42000 (93%)"
     ]
    },
    {
     "name": "stdout",
     "output_type": "stream",
     "text": [
      "\r42050 (93%)"
     ]
    },
    {
     "name": "stdout",
     "output_type": "stream",
     "text": [
      "\r42100 (93%)"
     ]
    },
    {
     "name": "stdout",
     "output_type": "stream",
     "text": [
      "\r42150 (93%)"
     ]
    },
    {
     "name": "stdout",
     "output_type": "stream",
     "text": [
      "\r42200 (93%)"
     ]
    },
    {
     "name": "stdout",
     "output_type": "stream",
     "text": [
      "\r42250 (93%)"
     ]
    },
    {
     "name": "stdout",
     "output_type": "stream",
     "text": [
      "\r42300 (94%)"
     ]
    },
    {
     "name": "stdout",
     "output_type": "stream",
     "text": [
      "\r42350 (94%)"
     ]
    },
    {
     "name": "stdout",
     "output_type": "stream",
     "text": [
      "\r42400 (94%)"
     ]
    },
    {
     "name": "stdout",
     "output_type": "stream",
     "text": [
      "\r42450 (94%)"
     ]
    },
    {
     "name": "stdout",
     "output_type": "stream",
     "text": [
      "\r42500 (94%)"
     ]
    },
    {
     "name": "stdout",
     "output_type": "stream",
     "text": [
      "\r42550 (94%)"
     ]
    },
    {
     "name": "stdout",
     "output_type": "stream",
     "text": [
      "\r42600 (94%)"
     ]
    },
    {
     "name": "stdout",
     "output_type": "stream",
     "text": [
      "\r42650 (94%)"
     ]
    },
    {
     "name": "stdout",
     "output_type": "stream",
     "text": [
      "\r42700 (94%)"
     ]
    },
    {
     "name": "stdout",
     "output_type": "stream",
     "text": [
      "\r42750 (95%)"
     ]
    },
    {
     "name": "stdout",
     "output_type": "stream",
     "text": [
      "\r42800 (95%)"
     ]
    },
    {
     "name": "stdout",
     "output_type": "stream",
     "text": [
      "\r42850 (95%)"
     ]
    },
    {
     "name": "stdout",
     "output_type": "stream",
     "text": [
      "\r42900 (95%)"
     ]
    },
    {
     "name": "stdout",
     "output_type": "stream",
     "text": [
      "\r42950 (95%)"
     ]
    },
    {
     "name": "stdout",
     "output_type": "stream",
     "text": [
      "\r43000 (95%)"
     ]
    },
    {
     "name": "stdout",
     "output_type": "stream",
     "text": [
      "\r43050 (95%)"
     ]
    },
    {
     "name": "stdout",
     "output_type": "stream",
     "text": [
      "\r43100 (95%)"
     ]
    },
    {
     "name": "stdout",
     "output_type": "stream",
     "text": [
      "\r43150 (95%)"
     ]
    },
    {
     "name": "stdout",
     "output_type": "stream",
     "text": [
      "\r43200 (96%)"
     ]
    },
    {
     "name": "stdout",
     "output_type": "stream",
     "text": [
      "\r43250 (96%)"
     ]
    },
    {
     "name": "stdout",
     "output_type": "stream",
     "text": [
      "\r43300 (96%)"
     ]
    },
    {
     "name": "stdout",
     "output_type": "stream",
     "text": [
      "\r43350 (96%)"
     ]
    },
    {
     "name": "stdout",
     "output_type": "stream",
     "text": [
      "\r43400 (96%)"
     ]
    },
    {
     "name": "stdout",
     "output_type": "stream",
     "text": [
      "\r43450 (96%)"
     ]
    },
    {
     "name": "stdout",
     "output_type": "stream",
     "text": [
      "\r43500 (96%)"
     ]
    },
    {
     "name": "stdout",
     "output_type": "stream",
     "text": [
      "\r43550 (96%)"
     ]
    },
    {
     "name": "stdout",
     "output_type": "stream",
     "text": [
      "\r43600 (96%)"
     ]
    },
    {
     "name": "stdout",
     "output_type": "stream",
     "text": [
      "\r43650 (97%)"
     ]
    },
    {
     "name": "stdout",
     "output_type": "stream",
     "text": [
      "\r43700 (97%)"
     ]
    },
    {
     "name": "stdout",
     "output_type": "stream",
     "text": [
      "\r43750 (97%)"
     ]
    },
    {
     "name": "stdout",
     "output_type": "stream",
     "text": [
      "\r43800 (97%)"
     ]
    },
    {
     "name": "stdout",
     "output_type": "stream",
     "text": [
      "\r43850 (97%)"
     ]
    },
    {
     "name": "stdout",
     "output_type": "stream",
     "text": [
      "\r43900 (97%)"
     ]
    },
    {
     "name": "stdout",
     "output_type": "stream",
     "text": [
      "\r43950 (97%)"
     ]
    },
    {
     "name": "stdout",
     "output_type": "stream",
     "text": [
      "\r44000 (97%)"
     ]
    },
    {
     "name": "stdout",
     "output_type": "stream",
     "text": [
      "\r44050 (97%)"
     ]
    },
    {
     "name": "stdout",
     "output_type": "stream",
     "text": [
      "\r44100 (98%)"
     ]
    },
    {
     "name": "stdout",
     "output_type": "stream",
     "text": [
      "\r44150 (98%)"
     ]
    },
    {
     "name": "stdout",
     "output_type": "stream",
     "text": [
      "\r44200 (98%)"
     ]
    },
    {
     "name": "stdout",
     "output_type": "stream",
     "text": [
      "\r44250 (98%)"
     ]
    },
    {
     "name": "stdout",
     "output_type": "stream",
     "text": [
      "\r44300 (98%)"
     ]
    },
    {
     "name": "stdout",
     "output_type": "stream",
     "text": [
      "\r44350 (98%)"
     ]
    },
    {
     "name": "stdout",
     "output_type": "stream",
     "text": [
      "\r44400 (98%)"
     ]
    },
    {
     "name": "stdout",
     "output_type": "stream",
     "text": [
      "\r44450 (98%)"
     ]
    },
    {
     "name": "stdout",
     "output_type": "stream",
     "text": [
      "\r44500 (98%)"
     ]
    },
    {
     "name": "stdout",
     "output_type": "stream",
     "text": [
      "\r44550 (99%)"
     ]
    },
    {
     "name": "stdout",
     "output_type": "stream",
     "text": [
      "\r44600 (99%)"
     ]
    },
    {
     "name": "stdout",
     "output_type": "stream",
     "text": [
      "\r44650 (99%)"
     ]
    },
    {
     "name": "stdout",
     "output_type": "stream",
     "text": [
      "\r44700 (99%)"
     ]
    },
    {
     "name": "stdout",
     "output_type": "stream",
     "text": [
      "\r44750 (99%)"
     ]
    },
    {
     "name": "stdout",
     "output_type": "stream",
     "text": [
      "\r44800 (99%)"
     ]
    },
    {
     "name": "stdout",
     "output_type": "stream",
     "text": [
      "\r44850 (99%)"
     ]
    },
    {
     "name": "stdout",
     "output_type": "stream",
     "text": [
      "\r44900 (99%)"
     ]
    },
    {
     "name": "stdout",
     "output_type": "stream",
     "text": [
      "\r44950 (99%)"
     ]
    },
    {
     "name": "stdout",
     "output_type": "stream",
     "text": [
      "\r45000 (100%)"
     ]
    }
   ],
   "source": [
    "printProgress(0, training_size)\n",
    "for i, (bellCoeffs, evendim) in enumerate(training_data):\n",
    "    sess.run(train_step, feed_dict={x: [bellCoeffs], y_: [evendim]})\n",
    "    \n",
    "    #if sess.run(tf.reduce_sum(tf.cast(tf.is_nan(W), tf.float32))) > 0:\n",
    "        #print \n",
    "        #print \"became nan at data[\", i, \"]\"\n",
    "        #break\n",
    "        \n",
    "    if (i + 1) % 50 == 0:\n",
    "        printProgress(i + 1, training_size)"
   ]
  },
  {
   "cell_type": "code",
   "execution_count": 22,
   "metadata": {
    "collapsed": false
   },
   "outputs": [
    {
     "name": "stdout",
     "output_type": "stream",
     "text": [
      "0.2584\n"
     ]
    }
   ],
   "source": [
    "testing_data_input = map(lambda (bellCoeffs, evendim): bellCoeffs, testing_data)\n",
    "testing_data_output = map(lambda (bellCoeffs, evendim): evendim, testing_data)\n",
    "\n",
    "correct_prediction = tf.equal(tf.argmax(y, 1), tf.argmax(y_, 1))\n",
    "accuracy = tf.reduce_mean(tf.cast(correct_prediction, tf.float32))\n",
    "print sess.run(accuracy, feed_dict={x: testing_data_input, y_: testing_data_output})"
   ]
  },
  {
   "cell_type": "code",
   "execution_count": 28,
   "metadata": {
    "collapsed": true
   },
   "outputs": [
   ],
   "source": [
   ]
  },
  {
   "cell_type": "code",
   "execution_count": 23,
   "metadata": {
    "collapsed": false
   },
   "outputs": [
   ],
   "source": [
    "sess.close()"
   ]
  },
  {
   "cell_type": "code",
   "execution_count": 24,
   "metadata": {
    "collapsed": false
   },
   "outputs": [
    {
     "ename": "RuntimeError",
     "evalue": "Attempted to use a closed Session.",
     "output_type": "error",
     "traceback": [
      "\u001b[0;31m---------------------------------------------------------------------------\u001b[0m",
      "\u001b[0;31mRuntimeError\u001b[0m                              Traceback (most recent call last)",
      "\u001b[0;32m<ipython-input-24-0bf92f70b217>\u001b[0m in \u001b[0;36m<module>\u001b[0;34m()\u001b[0m\n\u001b[0;32m----> 1\u001b[0;31m \u001b[0msess\u001b[0m\u001b[0;34m.\u001b[0m\u001b[0mrun\u001b[0m\u001b[0;34m(\u001b[0m\u001b[0my\u001b[0m\u001b[0;34m,\u001b[0m \u001b[0mfeed_dict\u001b[0m\u001b[0;34m=\u001b[0m\u001b[0;34m{\u001b[0m\u001b[0mx\u001b[0m\u001b[0;34m:\u001b[0m \u001b[0;34m[\u001b[0m\u001b[0mmap\u001b[0m\u001b[0;34m(\u001b[0m\u001b[0;32mlambda\u001b[0m \u001b[0mn\u001b[0m\u001b[0;34m:\u001b[0m \u001b[0mn\u001b[0m\u001b[0;34m,\u001b[0m \u001b[0mrange\u001b[0m\u001b[0;34m(\u001b[0m\u001b[0mInteger\u001b[0m\u001b[0;34m(\u001b[0m\u001b[0;36m20\u001b[0m\u001b[0;34m)\u001b[0m\u001b[0;34m)\u001b[0m\u001b[0;34m)\u001b[0m\u001b[0;34m]\u001b[0m\u001b[0;34m}\u001b[0m\u001b[0;34m)\u001b[0m\u001b[0;34m\u001b[0m\u001b[0m\n\u001b[0m",
      "\u001b[0;32m/projects/71b660f6-5efe-4bfa-a5ef-87e6637306dc/.local/lib/python2.7/site-packages/tensorflow/python/client/session.pyc\u001b[0m in \u001b[0;36mrun\u001b[0;34m(self, fetches, feed_dict, options, run_metadata)\u001b[0m\n\u001b[1;32m    764\u001b[0m     \u001b[0;32mtry\u001b[0m\u001b[0;34m:\u001b[0m\u001b[0;34m\u001b[0m\u001b[0m\n\u001b[1;32m    765\u001b[0m       result = self._run(None, fetches, feed_dict, options_ptr,\n\u001b[0;32m--> 766\u001b[0;31m                          run_metadata_ptr)\n\u001b[0m\u001b[1;32m    767\u001b[0m       \u001b[0;32mif\u001b[0m \u001b[0mrun_metadata\u001b[0m\u001b[0;34m:\u001b[0m\u001b[0;34m\u001b[0m\u001b[0m\n\u001b[1;32m    768\u001b[0m         \u001b[0mproto_data\u001b[0m \u001b[0;34m=\u001b[0m \u001b[0mtf_session\u001b[0m\u001b[0;34m.\u001b[0m\u001b[0mTF_GetBuffer\u001b[0m\u001b[0;34m(\u001b[0m\u001b[0mrun_metadata_ptr\u001b[0m\u001b[0;34m)\u001b[0m\u001b[0;34m\u001b[0m\u001b[0m\n",
      "\u001b[0;32m/projects/71b660f6-5efe-4bfa-a5ef-87e6637306dc/.local/lib/python2.7/site-packages/tensorflow/python/client/session.pyc\u001b[0m in \u001b[0;36m_run\u001b[0;34m(self, handle, fetches, feed_dict, options, run_metadata)\u001b[0m\n\u001b[1;32m    900\u001b[0m     \u001b[0;31m# Check session.\u001b[0m\u001b[0;34m\u001b[0m\u001b[0;34m\u001b[0m\u001b[0m\n\u001b[1;32m    901\u001b[0m     \u001b[0;32mif\u001b[0m \u001b[0mself\u001b[0m\u001b[0;34m.\u001b[0m\u001b[0m_closed\u001b[0m\u001b[0;34m:\u001b[0m\u001b[0;34m\u001b[0m\u001b[0m\n\u001b[0;32m--> 902\u001b[0;31m       \u001b[0;32mraise\u001b[0m \u001b[0mRuntimeError\u001b[0m\u001b[0;34m(\u001b[0m\u001b[0;34m'Attempted to use a closed Session.'\u001b[0m\u001b[0;34m)\u001b[0m\u001b[0;34m\u001b[0m\u001b[0m\n\u001b[0m\u001b[1;32m    903\u001b[0m     \u001b[0;32mif\u001b[0m \u001b[0mself\u001b[0m\u001b[0;34m.\u001b[0m\u001b[0mgraph\u001b[0m\u001b[0;34m.\u001b[0m\u001b[0mversion\u001b[0m \u001b[0;34m==\u001b[0m \u001b[0;36m0\u001b[0m\u001b[0;34m:\u001b[0m\u001b[0;34m\u001b[0m\u001b[0m\n\u001b[1;32m    904\u001b[0m       raise RuntimeError('The Session graph is empty.  Add operations to the '\n",
      "\u001b[0;31mRuntimeError\u001b[0m: Attempted to use a closed Session."
     ]
    }
   ],
   "source": [
    "sess.run(y, feed_dict={x: [map(lambda n: n, range(20))]})"
   ]
  },
  {
   "cell_type": "code",
   "execution_count": 25,
   "metadata": {
    "collapsed": false
   },
   "outputs": [
    {
     "data": {
      "text/plain": [
       "[1.0,\n",
       " 1.0,\n",
       " 9.0,\n",
       " 45.0,\n",
       " 225.0,\n",
       " 1125.0,\n",
       " 5625.0,\n",
       " 28125.0,\n",
       " 140625.0,\n",
       " 703125.0,\n",
       " 3515625.0,\n",
       " 17578125.0,\n",
       " 87890625.0,\n",
       " 439453125.0,\n",
       " 2197265625.0,\n",
       " 10986328125.0,\n",
       " 54931640625.0,\n",
       " 274658203125.0,\n",
       " 1373291015625.0,\n",
       " 6866455078125.0]"
      ]
     },
     "execution_count": 25,
     "metadata": {
     },
     "output_type": "execute_result"
    }
   ],
   "source": [
    "training_data[16][0]"
   ]
  },
  {
   "cell_type": "code",
   "execution_count": 39,
   "metadata": {
    "collapsed": false
   },
   "outputs": [
    {
     "output_type": "execute_result"
    }
   ],
   "source": [
    "sess.run(W)"
   ]
  },
  {
   "cell_type": "code",
   "execution_count": 0,
   "metadata": {
    "collapsed": true
   },
   "outputs": [
   ],
   "source": [
   ]
  },
  {
   "cell_type": "code",
   "execution_count": 0,
   "metadata": {
    "collapsed": false
   },
   "outputs": [
   ],
   "source": [
   ]
  },
  {
   "cell_type": "code",
   "execution_count": 0,
   "metadata": {
    "collapsed": false
   },
   "outputs": [
   ],
   "source": [
   ]
  },
  {
   "cell_type": "code",
   "execution_count": 0,
   "metadata": {
    "collapsed": false
   },
   "outputs": [
   ],
   "source": [
   ]
  },
  {
   "cell_type": "code",
   "execution_count": 0,
   "metadata": {
    "collapsed": false
   },
   "outputs": [
   ],
   "source": [
   ]
  },
  {
   "cell_type": "code",
   "execution_count": 0,
   "metadata": {
    "collapsed": false
   },
   "outputs": [
   ],
   "source": [
   ]
  }
 ],
 "metadata": {
  "kernelspec": {
   "display_name": "SageMath (stable)",
   "name": "sagemath"
  },
  "language_info": {
   "codemirror_mode": {
    "name": "ipython",
    "version": 2
   },
   "file_extension": ".py",
   "mimetype": "text/x-python",
   "name": "python",
   "nbconvert_exporter": "python",
   "pygments_lexer": "ipython2",
   "version": "2.7.13"
  }
 },
 "nbformat": 4,
 "nbformat_minor": 0
}