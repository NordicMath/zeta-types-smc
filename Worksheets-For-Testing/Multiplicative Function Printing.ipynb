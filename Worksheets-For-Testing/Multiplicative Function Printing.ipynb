{
 "cells": [
  {
   "cell_type": "code",
   "execution_count": 20,
   "metadata": {
    "collapsed": false
   },
   "outputs": [],
   "source": [
    "%runfile ../General-Tools/LazyList.sage\n",
    "%runfile ../TS-Methods/MonoidTS.sage\n",
    "%runfile ../TS-Methods/RingTS.sage\n",
    "%runfile ../Sequence-Methods/Berlekamp.sage\n",
    "%runfile ../TS-Methods/ComplexTS.sage"
   ]
  },
  {
   "cell_type": "code",
   "execution_count": 52,
   "metadata": {
    "collapsed": false
   },
   "outputs": [],
   "source": [
    "%runfile ../Classical-Multiplicative-Functions/Multiplicative-Function.sage\n",
    "%runfile ../Classical-Multiplicative-Functions/Multiplicative-Function-Library.sage"
   ]
  },
  {
   "cell_type": "code",
   "execution_count": 53,
   "metadata": {
    "collapsed": true
   },
   "outputs": [],
   "source": [
    "defineTS()\n",
    "loadMultiplicativeLibrary()\n",
    "defineMF()"
   ]
  },
  {
   "cell_type": "code",
   "execution_count": null,
   "metadata": {
    "collapsed": false
   },
   "outputs": [],
   "source": []
  },
  {
   "cell_type": "code",
   "execution_count": 170,
   "metadata": {
    "collapsed": false
   },
   "outputs": [
    {
     "name": "stdout",
     "output_type": "stream",
     "text": [
      "\\begin{table}\n",
      "\\centering\n",
      "\\begin{tabular}{| l | | c | c | c | c | c | c |}\n",
      "\\hline\n",
      "& $e = 1$ & $e = 2$ & $e = 3$ & $e = 4$ & $e = 5$ & $e = 6$\\\\\n",
      "\\hline\n",
      "\\hline\n",
      "$p = 2$ & $1$ & $2$ & $4$ & $8$ & $16$ & $32$ \\\\\n",
      "\\hline\n",
      "$p = 3$ & $2$ & $6$ & $18$ & $54$ & $162$ & $486$ \\\\\n",
      "\\hline\n",
      "$p = 5$ & $4$ & $20$ & $100$ & $500$ & $2500$ & $12500$ \\\\\n",
      "\\hline\n",
      "$p = 7$ & $6$ & $42$ & $294$ & $2058$ & $14406$ & $100842$ \\\\\n",
      "\\hline\n",
      "$p = 11$ & $10$ & $110$ & $1210$ & $13310$ & $146410$ & $1610510$ \\\\\n",
      "\\hline\n",
      "\\end{tabular}\n",
      "\\end{table}\n"
     ]
    }
   ],
   "source": [
    "mf('euler_phi').printBellTable(latex=True, width=6, height=5, BellDegree=0, latexCaption=\"\", latexLabel=\"\", includeOnes=False, latexIncludePE=True, latexBorder=True)"
   ]
  },
  {
   "cell_type": "code",
   "execution_count": null,
   "metadata": {
    "collapsed": false
   },
   "outputs": [],
   "source": []
  },
  {
   "cell_type": "code",
   "execution_count": 24,
   "metadata": {
    "collapsed": false
   },
   "outputs": [
    {
     "name": "stdout",
     "output_type": "stream",
     "text": [
      "\\begin{table}\n",
      "\\centering\n",
      "\\begin{tabular}{| l | | c | c | c | c | c |}\n",
      "\\hline\n",
      "& $e = 1$ & $e = 2$ & $e = 3$ & $e = 4$ & $e = 5$\\\\\n",
      "\\hline\n",
      "\\hline\n",
      "$p = 2$ & 7 & 35 & 155 & 651 & 2667 \\\\\n",
      "\\hline\n",
      "$p = 3$ & 13 & 130 & 1210 & 11011 & 99463 \\\\\n",
      "\\hline\n",
      "$p = 5$ & 31 & 806 & 20306 & 508431 & 12714681 \\\\\n",
      "\\hline\n",
      "$p = 7$ & 57 & 2850 & 140050 & 6865251 & 336416907 \\\\\n",
      "\\hline\n",
      "$p = 11$ & 133 & 16226 & 1964810 & 237758115 & 28768909071 \\\\\n",
      "\\hline\n",
      "\\end{tabular}\n",
      "\\end{table}\n"
     ]
    }
   ],
   "source": [
    "MultiplicativeFunction(name = \"test1\", symbol = \"{1, p, p^2}/{}\").define()\n",
    "test1.printBellTable(latex=True, width=5, height=5, BellDegree=0, latexCaption=\"\", latexLabel=\"\", includeOnes=False, latexIncludePE=True, latexBorder=True)"
   ]
  },
  {
   "cell_type": "code",
   "execution_count": 57,
   "metadata": {
    "collapsed": false
   },
   "outputs": [],
   "source": [
    "onethird = 1/3\n",
    "onehalf = 1/2"
   ]
  },
  {
   "cell_type": "code",
   "execution_count": 58,
   "metadata": {
    "collapsed": false
   },
   "outputs": [
    {
     "name": "stdout",
     "output_type": "stream",
     "text": [
      "\\begin{table}\n",
      "\\centering\n",
      "\\begin{tabular}{| l | | c | c | c | c | c |}\n",
      "\\hline\n",
      "& $e = 1$ & $e = 2$ & $e = 3$ & $e = 4$ & $e = 5$\\\\\n",
      "\\hline\n",
      "\\hline\n",
      "$p = 2$ & $3$ & $19$ & $43$ & $203$ & $427$ \\\\\n",
      "\\hline\n",
      "$p = 3$ & $4$ & $49$ & $157$ & $1534$ & $4693$ \\\\\n",
      "\\hline\n",
      "$p = 5$ & $6$ & $181$ & $931$ & $24056$ & $120931$ \\\\\n",
      "\\hline\n",
      "$p = 7$ & $8$ & $449$ & $3193$ & $159258$ & $1117257$ \\\\\n",
      "\\hline\n",
      "$p = 11$ & $12$ & $1585$ & $17557$ & $2140502$ & $23560285$ \\\\\n",
      "\\hline\n",
      "\\end{tabular}\n",
      "\\end{table}\n"
     ]
    }
   ],
   "source": [
    "MultiplicativeFunction(name = \"test2\", symbol = \"{1, p^(3*onehalf), -p^(3*onehalf), p, -p}/{exp(2*pi*i*onethird) * p, exp(2*pi*i*2*onethird) * p}\").define()\n",
    "test2.printBellTable(latex=True, width=5, height=5, BellDegree=0, latexCaption=\"\", latexLabel=\"\", includeOnes=False, latexIncludePE=True, latexBorder=True)"
   ]
  },
  {
   "cell_type": "code",
   "execution_count": 59,
   "metadata": {
    "collapsed": false
   },
   "outputs": [
    {
     "data": {
      "text/plain": [
       "{1, p^(3/2), -p, p, -p^(3/2)}/{-1/2*p*(I*sqrt(3) + 1), -1/2*p*(-I*sqrt(3) + 1)}"
      ]
     },
     "execution_count": 59,
     "metadata": {},
     "output_type": "execute_result"
    }
   ],
   "source": [
    "test2.symbol"
   ]
  },
  {
   "cell_type": "code",
   "execution_count": null,
   "metadata": {
    "collapsed": true
   },
   "outputs": [],
   "source": []
  },
  {
   "cell_type": "code",
   "execution_count": 29,
   "metadata": {
    "collapsed": false
   },
   "outputs": [
    {
     "name": "stdout",
     "output_type": "stream",
     "text": [
      "p = 2 : [1, 3, 7, 15, 31, 63, 127, 255, 511, 1023]\n",
      "p = 3 : [2, 8, 26, 80, 242, 728, 2186, 6560, 19682, 59048]\n",
      "p = 5 : [4, 24, 124, 624, 3124, 15624, 78124, 390624, 1953124, 9765624]\n",
      "p = 7 : [6, 48, 342, 2400, 16806, 117648, 823542, 5764800, 40353606, 282475248]\n",
      "p = 11 : [10, 120, 1330, 14640, 161050, 1771560, 19487170, 214358880, 2357947690, 25937424600]\n"
     ]
    }
   ],
   "source": [
    "mf('euler_phi').printBellTable(BellDegree = 1, includeOnes=False)"
   ]
  },
  {
   "cell_type": "code",
   "execution_count": null,
   "metadata": {
    "collapsed": true
   },
   "outputs": [],
   "source": []
  },
  {
   "cell_type": "code",
   "execution_count": null,
   "metadata": {
    "collapsed": true
   },
   "outputs": [],
   "source": []
  },
  {
   "cell_type": "code",
   "execution_count": null,
   "metadata": {
    "collapsed": true
   },
   "outputs": [],
   "source": []
  },
  {
   "cell_type": "code",
   "execution_count": null,
   "metadata": {
    "collapsed": true
   },
   "outputs": [],
   "source": []
  },
  {
   "cell_type": "code",
   "execution_count": 80,
   "metadata": {
    "collapsed": false
   },
   "outputs": [
    {
     "data": {
      "text/plain": [
       "{1.00000000000000, 7.00000000000000}/{1.00000000000000 + 2.44948974278318*I, 1.00000000000000 - 2.44948974278318*I}"
      ]
     },
     "execution_count": 80,
     "metadata": {},
     "output_type": "execute_result"
    }
   ],
   "source": [
    "ComplexTannakianSymbols().getTSFromBellCoeffs(mf('euler_phi').symbol.getPointCounts().fmap(lambda x: 1 if x == 1 else x(p=7)))"
   ]
  },
  {
   "cell_type": "code",
   "execution_count": 79,
   "metadata": {
    "collapsed": false
   },
   "outputs": [
    {
     "ename": "TypeError",
     "evalue": "unsupported operand type(s) for /: 'set' and 'set'",
     "output_type": "error",
     "traceback": [
      "\u001b[0;31m---------------------------------------------------------------------------\u001b[0m",
      "\u001b[0;31mTypeError\u001b[0m                                 Traceback (most recent call last)",
      "\u001b[0;32m<ipython-input-79-85b4380d5604>\u001b[0m in \u001b[0;36m<module>\u001b[0;34m()\u001b[0m\n\u001b[0;32m----> 1\u001b[0;31m \u001b[0;34m{\u001b[0m\u001b[0mInteger\u001b[0m\u001b[0;34m(\u001b[0m\u001b[0;36m1\u001b[0m\u001b[0;34m)\u001b[0m\u001b[0;34m,\u001b[0m \u001b[0mInteger\u001b[0m\u001b[0;34m(\u001b[0m\u001b[0;36m2\u001b[0m\u001b[0;34m)\u001b[0m\u001b[0;34m}\u001b[0m\u001b[0;34m/\u001b[0m\u001b[0;34m{\u001b[0m\u001b[0mInteger\u001b[0m\u001b[0;34m(\u001b[0m\u001b[0;36m1\u001b[0m\u001b[0;34m)\u001b[0m \u001b[0;34m-\u001b[0m \u001b[0mInteger\u001b[0m\u001b[0;34m(\u001b[0m\u001b[0;36m1\u001b[0m\u001b[0;34m)\u001b[0m\u001b[0;34m*\u001b[0m\u001b[0mI\u001b[0m\u001b[0;34m,\u001b[0m \u001b[0mInteger\u001b[0m\u001b[0;34m(\u001b[0m\u001b[0;36m1\u001b[0m\u001b[0;34m)\u001b[0m \u001b[0;34m+\u001b[0m \u001b[0mInteger\u001b[0m\u001b[0;34m(\u001b[0m\u001b[0;36m1\u001b[0m\u001b[0;34m)\u001b[0m\u001b[0;34m*\u001b[0m\u001b[0mI\u001b[0m\u001b[0;34m}\u001b[0m\u001b[0;34m\u001b[0m\u001b[0m\n\u001b[0m\u001b[1;32m      2\u001b[0m \u001b[0;34m{\u001b[0m\u001b[0mInteger\u001b[0m\u001b[0;34m(\u001b[0m\u001b[0;36m1\u001b[0m\u001b[0;34m)\u001b[0m\u001b[0;34m,\u001b[0m \u001b[0mInteger\u001b[0m\u001b[0;34m(\u001b[0m\u001b[0;36m3\u001b[0m\u001b[0;34m)\u001b[0m\u001b[0;34m}\u001b[0m\u001b[0;34m/\u001b[0m\u001b[0;34m{\u001b[0m\u001b[0mInteger\u001b[0m\u001b[0;34m(\u001b[0m\u001b[0;36m1\u001b[0m\u001b[0;34m)\u001b[0m \u001b[0;34m+\u001b[0m \u001b[0mRealNumber\u001b[0m\u001b[0;34m(\u001b[0m\u001b[0;34m'1.41421356237310'\u001b[0m\u001b[0;34m)\u001b[0m\u001b[0;34m*\u001b[0m\u001b[0mI\u001b[0m\u001b[0;34m,\u001b[0m \u001b[0mInteger\u001b[0m\u001b[0;34m(\u001b[0m\u001b[0;36m1\u001b[0m\u001b[0;34m)\u001b[0m \u001b[0;34m-\u001b[0m \u001b[0mRealNumber\u001b[0m\u001b[0;34m(\u001b[0m\u001b[0;34m'1.41421356237310'\u001b[0m\u001b[0;34m)\u001b[0m\u001b[0;34m*\u001b[0m\u001b[0mI\u001b[0m\u001b[0;34m}\u001b[0m\u001b[0;34m\u001b[0m\u001b[0m\n\u001b[1;32m      3\u001b[0m \u001b[0;34m{\u001b[0m\u001b[0mInteger\u001b[0m\u001b[0;34m(\u001b[0m\u001b[0;36m1\u001b[0m\u001b[0;34m)\u001b[0m\u001b[0;34m,\u001b[0m \u001b[0mInteger\u001b[0m\u001b[0;34m(\u001b[0m\u001b[0;36m5\u001b[0m\u001b[0;34m)\u001b[0m\u001b[0;34m}\u001b[0m\u001b[0;34m/\u001b[0m\u001b[0;34m{\u001b[0m\u001b[0mInteger\u001b[0m\u001b[0;34m(\u001b[0m\u001b[0;36m1\u001b[0m\u001b[0;34m)\u001b[0m \u001b[0;34m-\u001b[0m \u001b[0mInteger\u001b[0m\u001b[0;34m(\u001b[0m\u001b[0;36m2\u001b[0m\u001b[0;34m)\u001b[0m\u001b[0;34m*\u001b[0m\u001b[0mI\u001b[0m\u001b[0;34m,\u001b[0m \u001b[0mInteger\u001b[0m\u001b[0;34m(\u001b[0m\u001b[0;36m1\u001b[0m\u001b[0;34m)\u001b[0m \u001b[0;34m+\u001b[0m \u001b[0mInteger\u001b[0m\u001b[0;34m(\u001b[0m\u001b[0;36m2\u001b[0m\u001b[0;34m)\u001b[0m\u001b[0;34m*\u001b[0m\u001b[0mI\u001b[0m\u001b[0;34m}\u001b[0m\u001b[0;34m\u001b[0m\u001b[0m\n",
      "\u001b[0;31mTypeError\u001b[0m: unsupported operand type(s) for /: 'set' and 'set'"
     ]
    }
   ],
   "source": [
    "{1, 2}/{1 - 1*I, 1 + 1*I} sqrt(1)\n",
    "{1, 3}/{1 + 1.41421356237310*I, 1 - 1.41421356237310*I} sqrt(2)\n",
    "{1, 5}/{1 - 2*I, 1 + 2*I} sqrt(4)\n",
    "{1, 7}/{1 + 2.44948974278318*I, 1 - 2.44948974278318*I} sqrt(6)"
   ]
  },
  {
   "cell_type": "code",
   "execution_count": null,
   "metadata": {
    "collapsed": true
   },
   "outputs": [],
   "source": []
  },
  {
   "cell_type": "code",
   "execution_count": null,
   "metadata": {
    "collapsed": true
   },
   "outputs": [],
   "source": []
  },
  {
   "cell_type": "code",
   "execution_count": 89,
   "metadata": {
    "collapsed": false
   },
   "outputs": [
    {
     "data": {
      "text/plain": [
       "1, p - 1, p^2 - 1, p^3 - 1, p^4 - 1, p^5 - 1, p^6 - 1, p^7 - 1, p^8 - 1, p^9 - 1, p^10 - 1, p^11 - 1, p^12 - 1, p^13 - 1, p^14 - 1, p^15 - 1, p^16 - 1, p^17 - 1, p^18 - 1, p^19 - 1, ..."
      ]
     },
     "execution_count": 89,
     "metadata": {},
     "output_type": "execute_result"
    }
   ],
   "source": [
    "mf('euler_phi').symbol.getPointCounts()"
   ]
  },
  {
   "cell_type": "code",
   "execution_count": 88,
   "metadata": {
    "collapsed": false
   },
   "outputs": [
    {
     "data": {
      "text/plain": [
       "1, p - 1, p^2 - 1, p^3 - 1, p^4 - 1, p^5 - 1, p^6 - 1, p^7 - 1, p^8 - 1, p^9 - 1, p^10 - 1, p^11 - 1, p^12 - 1, p^13 - 1, p^14 - 1, p^15 - 1, p^16 - 1, p^17 - 1, p^18 - 1, p^19 - 1, ..."
      ]
     },
     "execution_count": 88,
     "metadata": {},
     "output_type": "execute_result"
    }
   ],
   "source": [
    "ts(\"{1, p}/{1-sqrt(p-1)*I, 1+sqrt(p-1)*I}\").getBellCoefficients()"
   ]
  },
  {
   "cell_type": "code",
   "execution_count": null,
   "metadata": {
    "collapsed": true
   },
   "outputs": [],
   "source": []
  },
  {
   "cell_type": "code",
   "execution_count": null,
   "metadata": {
    "collapsed": true
   },
   "outputs": [],
   "source": []
  },
  {
   "cell_type": "code",
   "execution_count": 100,
   "metadata": {
    "collapsed": false
   },
   "outputs": [
    {
     "data": {
      "text/plain": [
       "{1.00000000000000, 7.00000000000000}/{-5.00000000000000}"
      ]
     },
     "execution_count": 100,
     "metadata": {},
     "output_type": "execute_result"
    }
   ],
   "source": [
    "pval = 7\n",
    "\n",
    "ComplexTannakianSymbols().boxsum(ts(\"{1, pval}/{1-sqrt(pval-1)*I, 1+sqrt(pval-1)*I}\"), ts(\"{pval}/Ø\"))"
   ]
  },
  {
   "cell_type": "code",
   "execution_count": 102,
   "metadata": {
    "collapsed": false
   },
   "outputs": [
    {
     "data": {
      "text/plain": [
       "1, 2*p - 1, 2*p^2 - 1, 2*p^3 - 1, 2*p^4 - 1, 2*p^5 - 1, 2*p^6 - 1, 2*p^7 - 1, 2*p^8 - 1, 2*p^9 - 1, 2*p^10 - 1, 2*p^11 - 1, 2*p^12 - 1, 2*p^13 - 1, 2*p^14 - 1, 2*p^15 - 1, 2*p^16 - 1, 2*p^17 - 1, 2*p^18 - 1, 2*p^19 - 1, ..."
      ]
     },
     "execution_count": 102,
     "metadata": {},
     "output_type": "execute_result"
    }
   ],
   "source": [
    "ts(\"{1, p}/{2 - p}\").getBellCoefficients()"
   ]
  },
  {
   "cell_type": "code",
   "execution_count": null,
   "metadata": {
    "collapsed": true
   },
   "outputs": [],
   "source": []
  },
  {
   "cell_type": "code",
   "execution_count": 103,
   "metadata": {
    "collapsed": false
   },
   "outputs": [
    {
     "data": {
      "text/plain": [
       "1, 2*p - 1, 2*p^2 - 1, 2*p^3 - 1, 2*p^4 - 1, 2*p^5 - 1, 2*p^6 - 1, 2*p^7 - 1, 2*p^8 - 1, 2*p^9 - 1, 2*p^10 - 1, 2*p^11 - 1, 2*p^12 - 1, 2*p^13 - 1, 2*p^14 - 1, 2*p^15 - 1, 2*p^16 - 1, 2*p^17 - 1, 2*p^18 - 1, 2*p^19 - 1, ..."
      ]
     },
     "execution_count": 103,
     "metadata": {},
     "output_type": "execute_result"
    }
   ],
   "source": [
    "ts(\"{p, p}/{1}\").getPointCounts()"
   ]
  },
  {
   "cell_type": "code",
   "execution_count": null,
   "metadata": {
    "collapsed": true
   },
   "outputs": [],
   "source": []
  },
  {
   "cell_type": "code",
   "execution_count": 104,
   "metadata": {
    "collapsed": false
   },
   "outputs": [
    {
     "data": {
      "text/plain": [
       "{1.00000000000000, 49.0000000000000}/{-47.0000000000000}"
      ]
     },
     "execution_count": 104,
     "metadata": {},
     "output_type": "execute_result"
    }
   ],
   "source": [
    "ComplexTannakianSymbols().getTSFromBellCoeffs(ts(\"{p^2, p^2}/{1}\").getPointCounts().fmap(lambda x: 1 if x == 1 else x(p=7)))"
   ]
  },
  {
   "cell_type": "code",
   "execution_count": null,
   "metadata": {
    "collapsed": true
   },
   "outputs": [],
   "source": []
  },
  {
   "cell_type": "code",
   "execution_count": 106,
   "metadata": {
    "collapsed": false
   },
   "outputs": [],
   "source": [
    "k = var('k')"
   ]
  },
  {
   "cell_type": "code",
   "execution_count": null,
   "metadata": {
    "collapsed": true
   },
   "outputs": [],
   "source": []
  },
  {
   "cell_type": "code",
   "execution_count": 108,
   "metadata": {
    "collapsed": false
   },
   "outputs": [
    {
     "data": {
      "text/plain": [
       "1, 2*p^k - 1, 2*p^(2*k) - 1, 2*p^(3*k) - 1, 2*p^(4*k) - 1, 2*p^(5*k) - 1, 2*p^(6*k) - 1, 2*p^(7*k) - 1, 2*p^(8*k) - 1, 2*p^(9*k) - 1, 2*p^(10*k) - 1, 2*p^(11*k) - 1, 2*p^(12*k) - 1, 2*p^(13*k) - 1, 2*p^(14*k) - 1, 2*p^(15*k) - 1, 2*p^(16*k) - 1, 2*p^(17*k) - 1, 2*p^(18*k) - 1, 2*p^(19*k) - 1, ..."
      ]
     },
     "execution_count": 108,
     "metadata": {},
     "output_type": "execute_result"
    }
   ],
   "source": [
    "ts(\"{1, p^k}/{2 - p^k}\").getBellCoefficients()"
   ]
  },
  {
   "cell_type": "code",
   "execution_count": 109,
   "metadata": {
    "collapsed": false
   },
   "outputs": [
    {
     "data": {
      "text/plain": [
       "1, 2*p^k - 1, 2*p^(2*k) - 1, 2*p^(3*k) - 1, 2*p^(4*k) - 1, 2*p^(5*k) - 1, 2*p^(6*k) - 1, 2*p^(7*k) - 1, 2*p^(8*k) - 1, 2*p^(9*k) - 1, 2*p^(10*k) - 1, 2*p^(11*k) - 1, 2*p^(12*k) - 1, 2*p^(13*k) - 1, 2*p^(14*k) - 1, 2*p^(15*k) - 1, 2*p^(16*k) - 1, 2*p^(17*k) - 1, 2*p^(18*k) - 1, 2*p^(19*k) - 1, ..."
      ]
     },
     "execution_count": 109,
     "metadata": {},
     "output_type": "execute_result"
    }
   ],
   "source": [
    "ts(\"{p^k, p^k}/{1}\").getPointCounts()"
   ]
  },
  {
   "cell_type": "code",
   "execution_count": null,
   "metadata": {
    "collapsed": true
   },
   "outputs": [],
   "source": []
  },
  {
   "cell_type": "code",
   "execution_count": 112,
   "metadata": {
    "collapsed": false
   },
   "outputs": [
    {
     "data": {
      "text/plain": [
       "{1.00000000000000}/{-1.00000000000000}"
      ]
     },
     "execution_count": 112,
     "metadata": {},
     "output_type": "execute_result"
    }
   ],
   "source": [
    "ComplexTannakianSymbols().getTSFromBellCoeffs(ts(\"{1, 1}/Ø\").getPointCounts())"
   ]
  },
  {
   "cell_type": "code",
   "execution_count": null,
   "metadata": {
    "collapsed": true
   },
   "outputs": [],
   "source": []
  },
  {
   "cell_type": "code",
   "execution_count": 113,
   "metadata": {
    "collapsed": false
   },
   "outputs": [
    {
     "data": {
      "text/plain": [
       "1, p^k + 1, p^(2*k) + 1, p^(3*k) + 1, p^(4*k) + 1, p^(5*k) + 1, p^(6*k) + 1, p^(7*k) + 1, p^(8*k) + 1, p^(9*k) + 1, p^(10*k) + 1, p^(11*k) + 1, p^(12*k) + 1, p^(13*k) + 1, p^(14*k) + 1, p^(15*k) + 1, p^(16*k) + 1, p^(17*k) + 1, p^(18*k) + 1, p^(19*k) + 1, ..."
      ]
     },
     "execution_count": 113,
     "metadata": {},
     "output_type": "execute_result"
    }
   ],
   "source": [
    "ts(\"{p^k, 1}/Ø\").getPointCounts()"
   ]
  },
  {
   "cell_type": "code",
   "execution_count": null,
   "metadata": {
    "collapsed": true
   },
   "outputs": [],
   "source": []
  },
  {
   "cell_type": "code",
   "execution_count": 127,
   "metadata": {
    "collapsed": false
   },
   "outputs": [
    {
     "data": {
      "text/plain": [
       "{1.00000000000000, 3125.00000000000}/{1.00000000000000 + 55.8927544499285*I, 1.00000000000000 - 55.8927544499285*I}"
      ]
     },
     "execution_count": 127,
     "metadata": {},
     "output_type": "execute_result"
    }
   ],
   "source": [
    "pval = 5\n",
    "kval = 5\n",
    "\n",
    "\n",
    "ComplexTannakianSymbols().boxsum(ts(\"{1}/{2}\"), ts(\"{pval^kval}/Ø\"))"
   ]
  },
  {
   "cell_type": "code",
   "execution_count": null,
   "metadata": {
    "collapsed": true
   },
   "outputs": [],
   "source": []
  },
  {
   "cell_type": "code",
   "execution_count": null,
   "metadata": {
    "collapsed": true
   },
   "outputs": [],
   "source": []
  },
  {
   "cell_type": "code",
   "execution_count": null,
   "metadata": {
    "collapsed": true
   },
   "outputs": [],
   "source": []
  },
  {
   "cell_type": "code",
   "execution_count": 132,
   "metadata": {
    "collapsed": false
   },
   "outputs": [
    {
     "ename": "SyntaxError",
     "evalue": "invalid syntax (<ipython-input-132-dc22145ea9b7>, line 1)",
     "output_type": "error",
     "traceback": [
      "\u001b[0;36m  File \u001b[0;32m\"<ipython-input-132-dc22145ea9b7>\"\u001b[0;36m, line \u001b[0;32m1\u001b[0m\n\u001b[0;31m    p=p, k=Integer(1) -> sqrt(p-Integer(1))\u001b[0m\n\u001b[0m                       ^\u001b[0m\n\u001b[0;31mSyntaxError\u001b[0m\u001b[0;31m:\u001b[0m invalid syntax\n"
     ]
    }
   ],
   "source": [
    "p=p, k=1 -> sqrt(p-1)\n",
    "p=7, k=2 -> sqrt(6) = 4*sqrt(3)\n",
    "p=7, k=3 -> 3*sqrt(2*19=38)\n",
    "p=7, k=4 -> 20*sqrt(6)\n",
    "p=7, k=5 -> sqrt(16806)\n",
    "\n",
    "p=5, k=1 -> sqrt(4)\n",
    "p=5, k=2 -> 2*sqrt(6)\n",
    "p=5, k=3 -> 2*sqrt(31)\n",
    "p=5, k=4 -> 4*sqrt(39)\n",
    "p=5, k=5 -> "
   ]
  },
  {
   "cell_type": "code",
   "execution_count": null,
   "metadata": {
    "collapsed": true
   },
   "outputs": [],
   "source": []
  },
  {
   "cell_type": "code",
   "execution_count": null,
   "metadata": {
    "collapsed": true
   },
   "outputs": [],
   "source": []
  },
  {
   "cell_type": "code",
   "execution_count": null,
   "metadata": {
    "collapsed": true
   },
   "outputs": [],
   "source": []
  },
  {
   "cell_type": "code",
   "execution_count": null,
   "metadata": {
    "collapsed": true
   },
   "outputs": [],
   "source": []
  },
  {
   "cell_type": "code",
   "execution_count": null,
   "metadata": {
    "collapsed": true
   },
   "outputs": [],
   "source": []
  },
  {
   "cell_type": "code",
   "execution_count": null,
   "metadata": {
    "collapsed": true
   },
   "outputs": [],
   "source": []
  },
  {
   "cell_type": "code",
   "execution_count": null,
   "metadata": {
    "collapsed": true
   },
   "outputs": [],
   "source": [
    "ts(\"\")"
   ]
  },
  {
   "cell_type": "code",
   "execution_count": 128,
   "metadata": {
    "collapsed": false
   },
   "outputs": [
    {
     "data": {
      "text/plain": [
       "1, p^k - 1, p^(2*k) - 1, p^(3*k) - 1, p^(4*k) - 1, p^(5*k) - 1, p^(6*k) - 1, p^(7*k) - 1, p^(8*k) - 1, p^(9*k) - 1, p^(10*k) - 1, p^(11*k) - 1, p^(12*k) - 1, p^(13*k) - 1, p^(14*k) - 1, p^(15*k) - 1, p^(16*k) - 1, p^(17*k) - 1, p^(18*k) - 1, p^(19*k) - 1, ..."
      ]
     },
     "execution_count": 128,
     "metadata": {},
     "output_type": "execute_result"
    }
   ],
   "source": [
    "ts(\"{1, p^k}/{1 - sqrt(1 - p^k), 1 + sqrt(1 - p^k)}\").getBellCoefficients()"
   ]
  },
  {
   "cell_type": "code",
   "execution_count": null,
   "metadata": {
    "collapsed": true
   },
   "outputs": [],
   "source": []
  },
  {
   "cell_type": "code",
   "execution_count": null,
   "metadata": {
    "collapsed": true
   },
   "outputs": [],
   "source": []
  },
  {
   "cell_type": "code",
   "execution_count": 143,
   "metadata": {
    "collapsed": false
   },
   "outputs": [
    {
     "name": "stdout",
     "output_type": "stream",
     "text": [
      "\\begin{table}\n",
      "\\centering\n",
      "\\begin{tabular}{| l | | c | c | c | c | c |}\n",
      "\\hline\n",
      "& $e = 1$ & $e = 2$ & $e = 3$ & $e = 4$ & $e = 5$\\\\\n",
      "\\hline\n",
      "\\hline\n",
      "$p = 2$ & $1.00000000000000i$ & $-0.500000000000000 + 0.500000000000000i$ & $-0.500000000000000 + 0.166666666666667i$ & $-0.416666666666667$ & $-0.333333333333333 - 0.0833333333333334i$ \\\\\n",
      "\\hline\n",
      "$p = 3$ & $1.00000000000000i$ & $-0.500000000000000 + 0.500000000000000i$ & $-0.500000000000000 + 0.166666666666667i$ & $-0.416666666666667$ & $-0.333333333333333 - 0.0833333333333334i$ \\\\\n",
      "\\hline\n",
      "$p = 5$ & $1.00000000000000i$ & $-0.500000000000000 + 0.500000000000000i$ & $-0.500000000000000 + 0.166666666666667i$ & $-0.416666666666667$ & $-0.333333333333333 - 0.0833333333333334i$ \\\\\n",
      "\\hline\n",
      "$p = 7$ & $1.00000000000000i$ & $-0.500000000000000 + 0.500000000000000i$ & $-0.500000000000000 + 0.166666666666667i$ & $-0.416666666666667$ & $-0.333333333333333 - 0.0833333333333334i$ \\\\\n",
      "\\hline\n",
      "\\end{tabular}\n",
      "\\end{table}\n"
     ]
    }
   ],
   "source": [
    "z = CC(I)\n",
    "\n",
    "MultiplicativeFunction(name = \"test2\", symbol = \"{1}/{1-z}\").define()\n",
    "test2.printBellTable(latex=True, width=5, height=4, BellDegree=-1, latexCaption=\"\", latexLabel=\"\", includeOnes=False, latexIncludePE=True, latexBorder=True)"
   ]
  },
  {
   "cell_type": "code",
   "execution_count": null,
   "metadata": {
    "collapsed": false
   },
   "outputs": [],
   "source": []
  },
  {
   "cell_type": "code",
   "execution_count": 152,
   "metadata": {
    "collapsed": false
   },
   "outputs": [
    {
     "ename": "NotImplementedError",
     "evalue": "Berlekamp currently can't do this. The following is the coeff's input: [1, 1, 3/2, 5/2, 35/8, 63/8, 231/16, 429/16, 6435/128, 12155/128, 46189/256, 88179/256, 676039/1024, 1300075/1024, 5014575/2048, 9694845/2048, 300540195/32768, 583401555/32768, 2268783825/65536, 4418157975/65536]",
     "output_type": "error",
     "traceback": [
      "\u001b[0;31m---------------------------------------------------------------------------\u001b[0m",
      "\u001b[0;31mNotImplementedError\u001b[0m                       Traceback (most recent call last)",
      "\u001b[0;32m<ipython-input-152-893e8b4605fb>\u001b[0m in \u001b[0;36m<module>\u001b[0;34m()\u001b[0m\n\u001b[0;32m----> 1\u001b[0;31m \u001b[0mComplexTannakianSymbols\u001b[0m\u001b[0;34m(\u001b[0m\u001b[0;34m)\u001b[0m\u001b[0;34m.\u001b[0m\u001b[0mgetTSFromBellCoeffs\u001b[0m\u001b[0;34m(\u001b[0m\u001b[0mBellAntiderivative\u001b[0m\u001b[0;34m(\u001b[0m\u001b[0mmf\u001b[0m\u001b[0;34m(\u001b[0m\u001b[0;34m'euler_phi'\u001b[0m\u001b[0;34m)\u001b[0m\u001b[0;34m.\u001b[0m\u001b[0msymbol\u001b[0m\u001b[0;34m.\u001b[0m\u001b[0mgetBellCoefficients\u001b[0m\u001b[0;34m(\u001b[0m\u001b[0;34m)\u001b[0m\u001b[0;34m)\u001b[0m\u001b[0;34m.\u001b[0m\u001b[0mfmap\u001b[0m\u001b[0;34m(\u001b[0m\u001b[0;32mlambda\u001b[0m \u001b[0mx\u001b[0m\u001b[0;34m:\u001b[0m \u001b[0mInteger\u001b[0m\u001b[0;34m(\u001b[0m\u001b[0;36m1\u001b[0m\u001b[0;34m)\u001b[0m \u001b[0;32mif\u001b[0m \u001b[0mx\u001b[0m \u001b[0;34m==\u001b[0m \u001b[0mInteger\u001b[0m\u001b[0;34m(\u001b[0m\u001b[0;36m1\u001b[0m\u001b[0;34m)\u001b[0m \u001b[0;32melse\u001b[0m \u001b[0mx\u001b[0m\u001b[0;34m(\u001b[0m\u001b[0mp\u001b[0m\u001b[0;34m=\u001b[0m\u001b[0mInteger\u001b[0m\u001b[0;34m(\u001b[0m\u001b[0;36m2\u001b[0m\u001b[0;34m)\u001b[0m\u001b[0;34m)\u001b[0m\u001b[0;34m)\u001b[0m\u001b[0;34m)\u001b[0m\u001b[0;34m\u001b[0m\u001b[0m\n\u001b[0m",
      "\u001b[0;32m<string>\u001b[0m in \u001b[0;36mgetTSFromBellCoeffs\u001b[0;34m(self, *args, **kwargs)\u001b[0m\n",
      "\u001b[0;32m<string>\u001b[0m in \u001b[0;36mgetLZFromBellCoeffs\u001b[0;34m(bellCoeffs, bell_length)\u001b[0m\n",
      "\u001b[0;31mNotImplementedError\u001b[0m: Berlekamp currently can't do this. The following is the coeff's input: [1, 1, 3/2, 5/2, 35/8, 63/8, 231/16, 429/16, 6435/128, 12155/128, 46189/256, 88179/256, 676039/1024, 1300075/1024, 5014575/2048, 9694845/2048, 300540195/32768, 583401555/32768, 2268783825/65536, 4418157975/65536]"
     ]
    }
   ],
   "source": [
    "ComplexTannakianSymbols().getTSFromBellCoeffs(BellAntiderivative(mf('euler_phi').symbol.getBellCoefficients()).fmap(lambda x: 1 if x == 1 else x(p=2)))"
   ]
  },
  {
   "cell_type": "code",
   "execution_count": 164,
   "metadata": {
    "collapsed": false
   },
   "outputs": [
    {
     "name": "stdout",
     "output_type": "stream",
     "text": [
      "\\begin{table}\n",
      "\\centering\n",
      "\\latexCaption{Values of the Euler $\u000b",
      "arphi$ function}\n",
      "\\latexLabel{Euler1}\n",
      "\\begin{tabular}{| l | | c | c | c | c | c | c | c |}\n",
      "\\hline\n",
      "& $e = 1$ & $e = 2$ & $e = 3$ & $e = 4$ & $e = 5$ & $e = 6$ & $e = 7$\\\\\n",
      "\\hline\n",
      "\\hline\n",
      "$p = 2$ & $-1$ & $0$ & $0$ & $0$ & $0$ & $0$ & $0$ \\\\\n",
      "\\hline\n",
      "$p = 3$ & $-1$ & $0$ & $0$ & $0$ & $0$ & $0$ & $0$ \\\\\n",
      "\\hline\n",
      "$p = 5$ & $-1$ & $0$ & $0$ & $0$ & $0$ & $0$ & $0$ \\\\\n",
      "\\hline\n",
      "$p = 7$ & $-1$ & $0$ & $0$ & $0$ & $0$ & $0$ & $0$ \\\\\n",
      "\\hline\n",
      "$p = 11$ & $-1$ & $0$ & $0$ & $0$ & $0$ & $0$ & $0$ \\\\\n",
      "\\hline\n",
      "$p = 13$ & $-1$ & $0$ & $0$ & $0$ & $0$ & $0$ & $0$ \\\\\n",
      "\\hline\n",
      "\\end{tabular}\n",
      "\\end{table}\n"
     ]
    }
   ],
   "source": [
    "mf('mu').printBellTable(latex=True, width=7, height=6, BellDegree=0, latexCaption=\"Values of the Euler $\\varphi$ function\", latexLabel=\"Euler1\", includeOnes=False, latexIncludePE=True, latexBorder=True)"
   ]
  },
  {
   "cell_type": "code",
   "execution_count": null,
   "metadata": {
    "collapsed": true
   },
   "outputs": [],
   "source": []
  },
  {
   "cell_type": "code",
   "execution_count": 157,
   "metadata": {
    "collapsed": false
   },
   "outputs": [
    {
     "data": {
      "text/plain": [
       "1, 6, 39, 260, 1755, 11934, 81549, 3914352/7, 26911170/7, 185388060/7, 1279177614/7, 8837954424/7, 61129184766/7, 423202048380/7, 20525299346430/49, 142308742135248/49, 987266898563283/49, 6852793766498082/49, 47588845600681125/49, 330617243120521500/49, ..."
      ]
     },
     "execution_count": 157,
     "metadata": {},
     "output_type": "execute_result"
    }
   ],
   "source": [
    "BellAntiderivative(ts(\"{7}/{1}\").getBellCoefficients())"
   ]
  },
  {
   "cell_type": "code",
   "execution_count": null,
   "metadata": {
    "collapsed": true
   },
   "outputs": [],
   "source": []
  },
  {
   "cell_type": "code",
   "execution_count": null,
   "metadata": {
    "collapsed": true
   },
   "outputs": [],
   "source": []
  },
  {
   "cell_type": "code",
   "execution_count": null,
   "metadata": {
    "collapsed": true
   },
   "outputs": [],
   "source": []
  },
  {
   "cell_type": "code",
   "execution_count": null,
   "metadata": {
    "collapsed": true
   },
   "outputs": [],
   "source": []
  },
  {
   "cell_type": "code",
   "execution_count": null,
   "metadata": {
    "collapsed": true
   },
   "outputs": [],
   "source": []
  },
  {
   "cell_type": "code",
   "execution_count": null,
   "metadata": {
    "collapsed": true
   },
   "outputs": [],
   "source": []
  },
  {
   "cell_type": "code",
   "execution_count": null,
   "metadata": {
    "collapsed": true
   },
   "outputs": [],
   "source": []
  },
  {
   "cell_type": "code",
   "execution_count": null,
   "metadata": {
    "collapsed": true
   },
   "outputs": [],
   "source": []
  },
  {
   "cell_type": "code",
   "execution_count": null,
   "metadata": {
    "collapsed": true
   },
   "outputs": [],
   "source": []
  },
  {
   "cell_type": "code",
   "execution_count": 166,
   "metadata": {
    "collapsed": false
   },
   "outputs": [
    {
     "name": "stdout",
     "output_type": "stream",
     "text": [
      "\\begin{table}\n",
      "\\centering\n",
      "\\begin{tabular}{| l | | c | c | c | c | c |}\n",
      "\\hline\n",
      "& $e = 1$ & $e = 2$ & $e = 3$ & $e = 4$ & $e = 5$\\\\\n",
      "\\hline\n",
      "\\hline\n",
      "$p = 2$ & 7 & 35 & 155 & 651 & 2667 \\\\\n",
      "\\hline\n",
      "$p = 3$ & 13 & 130 & 1210 & 11011 & 99463 \\\\\n",
      "\\hline\n",
      "$p = 5$ & 31 & 806 & 20306 & 508431 & 12714681 \\\\\n",
      "\\hline\n",
      "$p = 7$ & 57 & 2850 & 140050 & 6865251 & 336416907 \\\\\n",
      "\\hline\n",
      "$p = 11$ & 133 & 16226 & 1964810 & 237758115 & 28768909071 \\\\\n",
      "\\hline\n",
      "\\end{tabular}\n",
      "\\end{table}\n"
     ]
    }
   ],
   "source": [
    "MultiplicativeFunction(name = \"pillai\", symbol = \"{p, p}/{1}\").define()\n",
    "test1.printBellTable(latex=True, width=5, height=5, BellDegree=0, latexCaption=\"\", latexLabel=\"\", includeOnes=False, latexIncludePE=True, latexBorder=True)"
   ]
  },
  {
   "cell_type": "code",
   "execution_count": 167,
   "metadata": {
    "collapsed": false
   },
   "outputs": [
    {
     "name": "stdout",
     "output_type": "stream",
     "text": [
      "\\begin{table}\n",
      "\\centering\n",
      "\\begin{tabular}{| l | | c | c | c | c | c |}\n",
      "\\hline\n",
      "& $e = 1$ & $e = 2$ & $e = 3$ & $e = 4$ & $e = 5$\\\\\n",
      "\\hline\n",
      "\\hline\n",
      "$p = 2$ & 7 & 21 & 73 & 273 & 1057 \\\\\n",
      "\\hline\n",
      "$p = 3$ & 13 & 91 & 757 & 6643 & 59293 \\\\\n",
      "\\hline\n",
      "$p = 5$ & 31 & 651 & 15751 & 391251 & 9768751 \\\\\n",
      "\\hline\n",
      "$p = 7$ & 57 & 2451 & 117993 & 5767203 & 282492057 \\\\\n",
      "\\hline\n",
      "$p = 11$ & 133 & 14763 & 1772893 & 214373523 & 25937585653 \\\\\n",
      "\\hline\n",
      "\\end{tabular}\n",
      "\\end{table}\n"
     ]
    }
   ],
   "source": [
    "test1.printBellTable(latex=True, width=5, height=5, BellDegree=1, latexCaption=\"\", latexLabel=\"\", includeOnes=False, latexIncludePE=True, latexBorder=True)"
   ]
  },
  {
   "cell_type": "code",
   "execution_count": null,
   "metadata": {
    "collapsed": true
   },
   "outputs": [],
   "source": []
  },
  {
   "cell_type": "code",
   "execution_count": null,
   "metadata": {
    "collapsed": true
   },
   "outputs": [],
   "source": []
  }
 ],
 "metadata": {
  "kernelspec": {
   "display_name": "SageMath (latest)",
   "language": "",
   "name": "sagemath"
  },
  "language_info": {
   "codemirror_mode": {
    "name": "ipython",
    "version": 2
   },
   "file_extension": ".py",
   "mimetype": "text/x-python",
   "name": "python",
   "nbconvert_exporter": "python",
   "pygments_lexer": "ipython2",
   "version": "2.7.13"
  }
 },
 "nbformat": 4,
 "nbformat_minor": 0
}
