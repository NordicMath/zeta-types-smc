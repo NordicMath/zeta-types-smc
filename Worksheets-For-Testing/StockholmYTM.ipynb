{
 "cells": [
  {
   "cell_type": "markdown",
   "metadata": {
    "collapsed": false
   },
   "source": [
    "# Stockholm"
   ]
  },
  {
   "cell_type": "markdown",
   "metadata": {
    "collapsed": false
   },
   "source": [
    "##### Loading code"
   ]
  },
  {
   "cell_type": "code",
   "execution_count": 1,
   "metadata": {
    "collapsed": false
   },
   "outputs": [
   ],
   "source": [
    "%runfile ../General-Tools/LazyList.sage\n",
    "%runfile ../TS-Methods/MonoidTS.sage\n",
    "%runfile ../TS-Methods/RingTS.sage\n",
    "%runfile ../Sequence-Methods/Berlekamp.sage\n",
    "%runfile ../TS-Methods/ComplexTS.sage"
   ]
  },
  {
   "cell_type": "code",
   "execution_count": 0,
   "metadata": {
    "collapsed": false
   },
   "outputs": [
   ],
   "source": [
   ]
  },
  {
   "cell_type": "markdown",
   "metadata": {
    "collapsed": false
   },
   "source": [
    "##### Defining TS and ts"
   ]
  },
  {
   "cell_type": "code",
   "execution_count": 2,
   "metadata": {
    "collapsed": false
   },
   "outputs": [
   ],
   "source": [
    "TS = ComplexTannakianSymbols()\n",
    "ts = TS.parseSymbol"
   ]
  },
  {
   "cell_type": "code",
   "execution_count": 0,
   "metadata": {
    "collapsed": false
   },
   "outputs": [
   ],
   "source": [
   ]
  },
  {
   "cell_type": "code",
   "execution_count": 3,
   "metadata": {
    "collapsed": false
   },
   "outputs": [
   ],
   "source": [
    "p = var('p')\n",
    "atprime = lambda X, p: X.fmap(lambda x: x.subs(p = p))"
   ]
  },
  {
   "cell_type": "code",
   "execution_count": 46,
   "metadata": {
    "collapsed": false
   },
   "outputs": [
    {
     "name": "stdout",
     "output_type": "stream",
     "text": [
      "{p}/Ø and {2}/{p}\n"
     ]
    }
   ],
   "source": [
    "X = ts(\"{p}/Ø\");\n",
    "Y = ts(\"{2}/{p}\");\n",
    "\n",
    "print X, \"and\", Y"
   ]
  },
  {
   "cell_type": "code",
   "execution_count": 47,
   "metadata": {
    "collapsed": false
   },
   "outputs": [
    {
     "data": {
      "text/plain": [
       "{2}/Ø"
      ]
     },
     "execution_count": 47,
     "metadata": {
     },
     "output_type": "execute_result"
    }
   ],
   "source": [
    "X + Y"
   ]
  },
  {
   "cell_type": "code",
   "execution_count": 6,
   "metadata": {
    "collapsed": false
   },
   "outputs": [
   ],
   "source": [
    "X - Y"
   ]
  },
  {
   "cell_type": "code",
   "execution_count": 7,
   "metadata": {
    "collapsed": false
   },
   "outputs": [
   ],
   "source": [
    "X * Y"
   ]
  },
  {
   "cell_type": "code",
   "execution_count": 8,
   "metadata": {
    "collapsed": false
   },
   "outputs": [
   ],
   "source": [
    "atprime(X * Y, 2)"
   ]
  },
  {
   "cell_type": "code",
   "execution_count": 9,
   "metadata": {
    "collapsed": false
   },
   "outputs": [
   ],
   "source": [
    "atprime(X * Y, 3)"
   ]
  },
  {
   "cell_type": "code",
   "execution_count": 10,
   "metadata": {
    "collapsed": false
   },
   "outputs": [
   ],
   "source": [
    "Z = ts(\"{2 + I}/{I, p}\").lambdaoperation(4); Z"
   ]
  },
  {
   "cell_type": "code",
   "execution_count": 11,
   "metadata": {
    "collapsed": false
   },
   "outputs": [
   ],
   "source": [
    "print X, \"and\", Y"
   ]
  },
  {
   "cell_type": "code",
   "execution_count": 12,
   "metadata": {
    "collapsed": false
   },
   "outputs": [
   ],
   "source": [
    "X.getBellCoefficients()"
   ]
  },
  {
   "cell_type": "code",
   "execution_count": 13,
   "metadata": {
    "collapsed": false
   },
   "outputs": [
   ],
   "source": [
    "X.getBellCoefficients()[100]"
   ]
  },
  {
   "cell_type": "code",
   "execution_count": 14,
   "metadata": {
    "collapsed": false
   },
   "outputs": [
   ],
   "source": [
    "atprime(X.getBellCoefficients(), 2)"
   ]
  },
  {
   "cell_type": "code",
   "execution_count": 15,
   "metadata": {
    "collapsed": false
   },
   "outputs": [
   ],
   "source": [
    "Y.getBellCoefficients()"
   ]
  },
  {
   "cell_type": "code",
   "execution_count": 16,
   "metadata": {
    "collapsed": false
   },
   "outputs": [
   ],
   "source": [
    "ts(\"{p}/{p - 1}\").getBellCoefficients()"
   ]
  },
  {
   "cell_type": "code",
   "execution_count": 17,
   "metadata": {
    "collapsed": false
   },
   "outputs": [
   ],
   "source": [
    "X - Y"
   ]
  },
  {
   "cell_type": "code",
   "execution_count": 18,
   "metadata": {
    "collapsed": false
   },
   "outputs": [
   ],
   "source": [
    "atprime(X - Y, 3).bellderivative()"
   ]
  },
  {
   "cell_type": "code",
   "execution_count": 19,
   "metadata": {
    "collapsed": false
   },
   "outputs": [
   ],
   "source": [
    "A = atprime(X, 3); B = atprime(Y, 3);\n",
    "print A, \"and\", B"
   ]
  },
  {
   "cell_type": "code",
   "execution_count": 20,
   "metadata": {
    "collapsed": false
   },
   "outputs": [
   ],
   "source": [
    "A.getBellCoefficients()"
   ]
  },
  {
   "cell_type": "code",
   "execution_count": 21,
   "metadata": {
    "collapsed": false
   },
   "outputs": [
   ],
   "source": [
    "B.getBellCoefficients()"
   ]
  },
  {
   "cell_type": "code",
   "execution_count": 22,
   "metadata": {
    "collapsed": false
   },
   "outputs": [
   ],
   "source": [
    "TS.boxproduct(A, B)"
   ]
  },
  {
   "cell_type": "code",
   "execution_count": 23,
   "metadata": {
    "collapsed": false
   },
   "outputs": [
   ],
   "source": [
    "ts(\"{6}/{9}\").getBellCoefficients()"
   ]
  },
  {
   "cell_type": "code",
   "execution_count": 24,
   "metadata": {
    "collapsed": false
   },
   "outputs": [
   ],
   "source": [
    "PointwiseProduct(A.getBellCoefficients(), B.getBellCoefficients())"
   ]
  },
  {
   "cell_type": "code",
   "execution_count": 25,
   "metadata": {
    "collapsed": false
   },
   "outputs": [
   ],
   "source": [
    "ts(\"{6}/{9}\").getBellCoefficients() == PointwiseProduct(A.getBellCoefficients(), B.getBellCoefficients())"
   ]
  },
  {
   "cell_type": "code",
   "execution_count": 26,
   "metadata": {
    "collapsed": false
   },
   "outputs": [
   ],
   "source": [
    "ts(\"{6}/{9}\").getBellCoefficients().toList(100) == PointwiseProduct(A.getBellCoefficients(), B.getBellCoefficients()).toList(100)"
   ]
  },
  {
   "cell_type": "code",
   "execution_count": 27,
   "metadata": {
    "collapsed": false
   },
   "outputs": [
   ],
   "source": [
    "print A, \"and\", B"
   ]
  },
  {
   "cell_type": "code",
   "execution_count": 28,
   "metadata": {
    "collapsed": false
   },
   "outputs": [
   ],
   "source": [
    "TS.boxsum(A, B)"
   ]
  },
  {
   "cell_type": "code",
   "execution_count": 29,
   "metadata": {
    "collapsed": false
   },
   "outputs": [
   ],
   "source": [
    "A.boxaction(1/3)"
   ]
  },
  {
   "cell_type": "code",
   "execution_count": 30,
   "metadata": {
    "collapsed": false
   },
   "outputs": [
   ],
   "source": [
    "ts(\"|6*[1] + 12*[2]|\")"
   ]
  },
  {
   "cell_type": "code",
   "execution_count": 31,
   "metadata": {
    "collapsed": false
   },
   "outputs": [
   ],
   "source": [
    "ts(\"|6*[1] + 12*[2]|\").circleaction(1/3).fmap(real).fmap(int)"
   ]
  },
  {
   "cell_type": "code",
   "execution_count": 32,
   "metadata": {
    "collapsed": false
   },
   "outputs": [
   ],
   "source": [
    "ts(\"{2, -2}/Ø\").adamshatoperation(2)"
   ]
  },
  {
   "cell_type": "code",
   "execution_count": 33,
   "metadata": {
    "collapsed": false
   },
   "outputs": [
   ],
   "source": [
    "ts(\"{2, -2}/Ø\").adamshatoperation(2).showplot()"
   ]
  },
  {
   "cell_type": "code",
   "execution_count": 34,
   "metadata": {
    "collapsed": false
   },
   "outputs": [
   ],
   "source": [
    "ts(\"{1, 2}/Ø\").boxadamshatoperation(2)"
   ]
  },
  {
   "cell_type": "code",
   "execution_count": 35,
   "metadata": {
    "collapsed": false
   },
   "outputs": [
   ],
   "source": [
    "ts(\"{sqrt(2), -sqrt(2), 1, -1}/Ø\").boxadamsoperation(2)"
   ]
  },
  {
   "cell_type": "code",
   "execution_count": 5,
   "metadata": {
    "collapsed": false
   },
   "outputs": [
    {
     "data": {
      "text/plain": [
       "{1, 3, 18954*I + 13122, 9, 5376*I - 8432, 56862*I + 39366, 27, 7368*I - 5976, 16128*I - 25296, 288*I + 84, 936*I - 352, 81, 2844*I - 108, 22104*I - 17928, 81*I + 243, 23328*I + 6804, 2187, 48384*I - 75888, 702*I + 486, 864*I + 252, 19683*I + 59049, 7696*I - 30672, 2808*I - 1056, 59049, 96*I + 28, -7584*I - 99712, 948*I - 36, 27*I + 81, 729, 19683, 39366*I + 52488, 243, 8532*I - 324, 18*I + 24, 25596*I - 972, 66312*I - 53784, 2187*I + 6561, 243*I + 729, 54*I + 72, 76788*I - 2916, I + 3, 486*I + 648, 6318*I + 4374, 69984*I + 20412, 2456*I - 1992, 7776*I + 2268, 234*I + 162, 6561*I + 19683, 316*I - 12, 9*I + 27, 6561, 13122*I + 17496, 26*I + 18, 6*I + 8, 75816*I - 28512, 729*I + 2187, 162*I + 216, 2106*I + 1458, 2592*I + 756, 78*I + 54, 3*I + 9, 23088*I - 92016, 4374*I + 5832, 25272*I - 9504, 1458*I + 1944, 8424*I - 3168}/{243*p, 19683*p, 729*p, 6561*p, (27*I + 81)*p, (948*I - 36)*p, (96*I + 28)*p, (2808*I - 1056)*p, (7696*I - 30672)*p, (864*I + 252)*p, (702*I + 486)*p, 2187*p, (23328*I + 6804)*p, (81*I + 243)*p, (22104*I - 17928)*p, (2844*I - 108)*p, 81*p, (936*I - 352)*p, (288*I + 84)*p, (16128*I - 25296)*p, (7368*I - 5976)*p, 27*p, (5376*I - 8432)*p, 9*p, (18954*I + 13122)*p, 3*p, (8424*I - 3168)*p, (1458*I + 1944)*p, (25272*I - 9504)*p, (4374*I + 5832)*p, (3*I + 9)*p, (78*I + 54)*p, (2592*I + 756)*p, (2106*I + 1458)*p, (162*I + 216)*p, (729*I + 2187)*p, (6*I + 8)*p, (13122*I + 17496)*p, (316*I - 12)*p, (9*I + 27)*p, (234*I + 162)*p, (6561*I + 19683)*p, (7776*I + 2268)*p, p, (2456*I - 1992)*p, (6318*I + 4374)*p, (486*I + 648)*p, (26*I + 18)*p, (I + 3)*p, (54*I + 72)*p, (243*I + 729)*p, (2187*I + 6561)*p, (25596*I - 972)*p, (18*I + 24)*p, (8532*I - 324)*p}"
      ]
     },
     "execution_count": 5,
     "metadata": {
     },
     "output_type": "execute_result"
    }
   ],
   "source": [
    "W = ts(\"{1, 3 + I, 3}/{p}\");\n",
    "Ws = W.symmetricpoweroperation(10);\n",
    "Ws"
   ]
  },
  {
   "cell_type": "code",
   "execution_count": 6,
   "metadata": {
    "collapsed": false
   },
   "outputs": [
    {
     "data": {
      "image/png": "[encoded data removed]"
     },
     "execution_count": 6,
     "metadata": {
     },
     "output_type": "execute_result"
    },
    {
     "data": {
      "image/png": "[encoded data removed]"
     },
     "execution_count": 6,
     "metadata": {
     },
     "output_type": "execute_result"
    }
   ],
   "source": [
    "atprime(W, 2).showplot()\n",
    "atprime(Ws, 2).showplot()"
   ]
  },
  {
   "cell_type": "code",
   "execution_count": 7,
   "metadata": {
    "collapsed": false
   },
   "outputs": [
    {
     "data": {
      "image/png": "[encoded data removed]"
     },
     "execution_count": 7,
     "metadata": {
     },
     "output_type": "execute_result"
    },
    {
     "data": {
      "image/png": "[encoded data removed]"
     },
     "execution_count": 7,
     "metadata": {
     },
     "output_type": "execute_result"
    }
   ],
   "source": [
    "atprime(W, 3).showplot()\n",
    "atprime(Ws, 3).showplot()"
   ]
  },
  {
   "cell_type": "code",
   "execution_count": 8,
   "metadata": {
    "collapsed": false
   },
   "outputs": [
    {
     "data": {
      "image/png": "[encoded data removed]"
     },
     "execution_count": 8,
     "metadata": {
     },
     "output_type": "execute_result"
    },
    {
     "data": {
      "image/png": "[encoded data removed]"
     },
     "execution_count": 8,
     "metadata": {
     },
     "output_type": "execute_result"
    }
   ],
   "source": [
    "atprime(W, 11).showplot()\n",
    "atprime(Ws, 11).showplot()"
   ]
  },
  {
   "cell_type": "code",
   "execution_count": 40,
   "metadata": {
    "collapsed": false
   },
   "outputs": [
   ],
   "source": [
    "a = var('a');b = var('b');c = var('c');d = var('d')"
   ]
  },
  {
   "cell_type": "code",
   "execution_count": 41,
   "metadata": {
    "collapsed": false
   },
   "outputs": [
   ],
   "source": [
    "X = ts(\"{a,b,c}/{d}\")"
   ]
  },
  {
   "cell_type": "code",
   "execution_count": 42,
   "metadata": {
    "collapsed": false
   },
   "outputs": [
   ],
   "source": [
    "for i in range(1, 10):\n",
    "    print X.symmetricpoweroperation(i)"
   ]
  },
  {
   "cell_type": "code",
   "execution_count": 0,
   "metadata": {
    "collapsed": false
   },
   "outputs": [
   ],
   "source": [
   ]
  },
  {
   "cell_type": "code",
   "execution_count": 43,
   "metadata": {
    "collapsed": false
   },
   "outputs": [
   ],
   "source": [
    "Y = ts(\"{1, 3 + I, 3}/{2}\")\n",
    "for i in range(1, 10):\n",
    "    Y.symmetricpoweroperation(i).showplot()"
   ]
  },
  {
   "cell_type": "code",
   "execution_count": 0,
   "metadata": {
    "collapsed": false
   },
   "outputs": [
   ],
   "source": [
   ]
  },
  {
   "cell_type": "code",
   "execution_count": 0,
   "metadata": {
    "collapsed": false
   },
   "outputs": [
   ],
   "source": [
   ]
  },
  {
   "cell_type": "code",
   "execution_count": 0,
   "metadata": {
    "collapsed": false
   },
   "outputs": [
   ],
   "source": [
   ]
  },
  {
   "cell_type": "code",
   "execution_count": 0,
   "metadata": {
    "collapsed": false
   },
   "outputs": [
   ],
   "source": [
   ]
  }
 ],
 "metadata": {
  "kernelspec": {
   "display_name": "SageMath (stable)",
   "name": "sagemath"
  },
  "language_info": {
   "codemirror_mode": {
    "name": "ipython",
    "version": 2
   },
   "file_extension": ".py",
   "mimetype": "text/x-python",
   "name": "python",
   "nbconvert_exporter": "python",
   "pygments_lexer": "ipython2",
   "version": "2.7.14"
  }
 },
 "nbformat": 4,
 "nbformat_minor": 0
}