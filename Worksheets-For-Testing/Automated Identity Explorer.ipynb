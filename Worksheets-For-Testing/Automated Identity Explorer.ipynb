{
 "cells": [
  {
   "cell_type": "markdown",
   "metadata": {
    "collapsed": false
   },
   "source": [
    "## Loading everything"
   ]
  },
  {
   "cell_type": "code",
   "execution_count": 1,
   "metadata": {
    "collapsed": false
   },
   "outputs": [
   ],
   "source": [
    "%runfile ../General-Tools/LazyList.sage\n",
    "%runfile ../TS-Methods/MonoidTS.sage\n",
    "%runfile ../TS-Methods/RingTS.sage\n",
    "%runfile ../Sequence-Methods/Berlekamp.sage\n",
    "%runfile ../TS-Methods/ComplexTS.sage"
   ]
  },
  {
   "cell_type": "code",
   "execution_count": 2,
   "metadata": {
    "collapsed": false
   },
   "outputs": [
   ],
   "source": [
    "%runfile ../Classical-Multiplicative-Functions/Multiplicative-Function.sage\n",
    "%runfile ../Classical-Multiplicative-Functions/Multiplicative-Function-Library.sage"
   ]
  },
  {
   "cell_type": "code",
   "execution_count": 3,
   "metadata": {
    "collapsed": false
   },
   "outputs": [
   ],
   "source": [
    "loadMultiplicativeLibrary()\n",
    "defineTS()\n",
    "defineMF()"
   ]
  },
  {
   "cell_type": "code",
   "execution_count": 4,
   "metadata": {
    "collapsed": false
   },
   "outputs": [
    {
     "name": "stdout",
     "output_type": "stream",
     "text": [
      "defined!\n"
     ]
    }
   ],
   "source": [
    "mfd('euler_phi', name='phi')\n",
    "mfd('sigma_1')\n",
    "mfd('tau')\n",
    "mfd('one')\n",
    "mfd('id')\n",
    "mfd('id_2')\n",
    "mfd('id_3')\n",
    "mfd('zero')\n",
    "mfd('liouville')\n",
    "mfd('sigma')\n",
    "mfd('mu')\n",
    "print \"defined!\""
   ]
  },
  {
   "cell_type": "markdown",
   "metadata": {
    "collapsed": false
   },
   "source": [
    "# Automated Identity explorer\n",
    "\n",
    "The purpose of this program is to find all identities of or under a specific cost.\n",
    "\n",
    "## What is an Identity?\n",
    "\n",
    "In this program, an identity is an equality between two objects of type 'MultiplicativeFunction', meaning a tree-structure based on specified atomic functions, negation, circleplus, circleproduct, and adamsoperations for any n.\n",
    "\n",
    "## The Cost of an Identity\n",
    "\n",
    "Let $c(z)$ be the cost of $z$. Since all identities essentially are a tree structure of various operations and 'atomic' functions, we specify the cost based on the tree structure:\n",
    "\n",
    "$c(f) = \\text{evendimension}(f) + \\text{odddimension}(f)$ when $f$ is an atomic multiplicative function\n",
    "\n",
    "$c(f + g) = c(f) + c(g) + 1$\n",
    "\n",
    "$c(f * g) = c(f) + c(g) + 2$\n",
    "\n",
    "$c(\\psi^n(f)) = n - 1 + c(f) \\text{ for } n > 1$\n",
    "\n",
    "$c(-f) = c(f) + 1$\n",
    "\n",
    "\n",
    "Finally,\n",
    "\n",
    "$c(f = g) = c(f) + c(g)$\n",
    "\n",
    "It is easy to verify that for any $n$, there is a finite number of identities of cost $n$"
   ]
  },
  {
   "cell_type": "code",
   "execution_count": 0,
   "metadata": {
    "collapsed": false
   },
   "outputs": [
   ],
   "source": [
   ]
  },
  {
   "cell_type": "markdown",
   "metadata": {
    "collapsed": false
   },
   "source": [
    "### The pool class partitions items into classes"
   ]
  },
  {
   "cell_type": "code",
   "execution_count": 5,
   "metadata": {
    "collapsed": false
   },
   "outputs": [
   ],
   "source": [
    "class Pool():\n",
    "    def __init__(self, indexer):\n",
    "        self.pool = {}\n",
    "        self.indexer = indexer\n",
    "\n",
    "    def __iadd__(self, f):\n",
    "        index = self.indexer(f)\n",
    "        if index in self.pool:\n",
    "            self.pool[index].append(f)\n",
    "        else:\n",
    "            self.pool[index] = [f]\n",
    "\n",
    "    def __lshift__(self, by):\n",
    "        for x in by:\n",
    "            self < x\n",
    "\n",
    "    def __lt__(self, by):\n",
    "        self += by\n",
    "\n",
    "    def __getitem__(self, index):\n",
    "        return self.pool[index]\n",
    "\n",
    "    def __iter__(self):\n",
    "        for v in self.pool:\n",
    "            for f in self.pool[v]:\n",
    "                yield f\n",
    "\n",
    "    def __contains__(self, index):\n",
    "        return index in self.pool\n",
    "\n",
    "    def __str__(self):\n",
    "        return str(self.pool)"
   ]
  },
  {
   "cell_type": "code",
   "execution_count": 0,
   "metadata": {
    "collapsed": false
   },
   "outputs": [
   ],
   "source": [
   ]
  },
  {
   "cell_type": "markdown",
   "metadata": {
    "collapsed": false
   },
   "source": [
    "### The following cell contains everything related to cost-based functions\n",
    "\n",
    "With a few assumptions (for optimization):\n",
    "\n",
    "* The cost of an atom is determined by itself\n",
    "* Given a cost, one can form a list of cost-combinations such that all direct sums of cost n are represented by combining expressions of cost given by said cost-combinations\n",
    "* The same but for tensor product, adamsoperations, and negation"
   ]
  },
  {
   "cell_type": "code",
   "execution_count": 6,
   "metadata": {
    "collapsed": false
   },
   "outputs": [
   ],
   "source": [
    "def atomCost(f):\n",
    "    return operator.add(*f.symbol.superdimension())\n",
    "\n",
    "def negateCombinations(cost):\n",
    "    if cost < 1:\n",
    "        return []\n",
    "    else:\n",
    "        return [((True, cost - 1),)]\n",
    "\n",
    "def adamsCombinations(cost):\n",
    "    if cost < 1:\n",
    "        return []\n",
    "    else:\n",
    "        return [((False, k + 2), (True, (cost - 1) - k)) for k in range(0, cost)]\n",
    "\n",
    "def sumCombinations(cost):\n",
    "    if cost < 1:\n",
    "        return []\n",
    "    else:\n",
    "        return [((True, k), (True, (cost - 1) - k)) for k in range(0, cost)]\n",
    "\n",
    "def productCombinations(cost):\n",
    "    if cost < 2:\n",
    "        return []\n",
    "    else:\n",
    "        return [((True, k), (True, (cost - 2) - k)) for k in range(0, cost - 1)]"
   ]
  },
  {
   "cell_type": "code",
   "execution_count": 0,
   "metadata": {
    "collapsed": false
   },
   "outputs": [
   ],
   "source": [
   ]
  },
  {
   "cell_type": "code",
   "execution_count": 0,
   "metadata": {
    "collapsed": false
   },
   "outputs": [
   ],
   "source": [
   ]
  },
  {
   "cell_type": "code",
   "execution_count": 0,
   "metadata": {
    "collapsed": false
   },
   "outputs": [
   ],
   "source": [
   ]
  },
  {
   "cell_type": "code",
   "execution_count": 7,
   "metadata": {
    "collapsed": false
   },
   "outputs": [
    {
     "name": "stdout",
     "output_type": "stream",
     "text": [
      "{1: [id, one, liouville, mu], 2: [euler_phi, tau, euler_phi, sigma]}\n"
     ]
    }
   ],
   "source": [
    "funcs = [id, one, phi, liouville, mu, tau, phi, sigma]\n",
    "\n",
    "# Sorting by cost\n",
    "funcsByCost = Pool(atomCost)\n",
    "funcsByCost << funcs\n",
    "\n",
    "print funcsByCost"
   ]
  },
  {
   "cell_type": "code",
   "execution_count": 0,
   "metadata": {
    "collapsed": false
   },
   "outputs": [
   ],
   "source": [
   ]
  },
  {
   "cell_type": "code",
   "execution_count": 8,
   "metadata": {
    "collapsed": false
   },
   "outputs": [
   ],
   "source": [
    "combinators = [\n",
    "   #(negateCombinations,  lambda x   : -x),\n",
    "    (adamsCombinations,   lambda n, x: x.adamsoperation(n)),\n",
    "    (sumCombinations,     lambda x, y: x + y),\n",
    "    (productCombinations, lambda x, y: x * y),\n",
    "]"
   ]
  },
  {
   "cell_type": "code",
   "execution_count": 0,
   "metadata": {
    "collapsed": false
   },
   "outputs": [
   ],
   "source": [
   ]
  },
  {
   "cell_type": "code",
   "execution_count": 0,
   "metadata": {
    "collapsed": false
   },
   "outputs": [
   ],
   "source": [
   ]
  },
  {
   "cell_type": "code",
   "execution_count": 9,
   "metadata": {
    "collapsed": false
   },
   "outputs": [
   ],
   "source": [
    "### TESTING ###\n",
    "# Must preserve cost\n",
    "\n",
    "algebraic_manipulations = [\n",
    "    ((('OSUM',), 'T', 'T'), lambda x, y: y + x),\n",
    "    ((('OPROD',), 'T', 'T'), lambda x, y: y * x)\n",
    "]"
   ]
  },
  {
   "cell_type": "code",
   "execution_count": 0,
   "metadata": {
    "collapsed": false
   },
   "outputs": [
   ],
   "source": [
   ]
  },
  {
   "cell_type": "code",
   "execution_count": 10,
   "metadata": {
    "collapsed": false
   },
   "outputs": [
   ],
   "source": [
    "### TESTING ###\n",
    "def match(element, structure, f):\n",
    "    params = []\n",
    "    def traverse(element, structure):\n",
    "        if structure == 'T':\n",
    "            params.append(element)\n",
    "        else:\n",
    "            operation, parts = head(structure)\n",
    "            if element.history.operation == operation:\n",
    "                list(itertools.starmap(traverse, zip(element.history.values, parts)))\n",
    "    traverse(element, structure)\n",
    "    if f.func_code.co_argcount == len(params):\n",
    "        return f(*params)\n",
    "\n",
    "def generateManipulations(element):\n",
    "    return filter(lambda x: x, [match(element, *man) for man in algebraic_manipulations])"
   ]
  },
  {
   "cell_type": "code",
   "execution_count": 0,
   "metadata": {
    "collapsed": false
   },
   "outputs": [
   ],
   "source": [
   ]
  },
  {
   "cell_type": "code",
   "execution_count": 0,
   "metadata": {
    "collapsed": false
   },
   "outputs": [
   ],
   "source": [
   ]
  },
  {
   "cell_type": "code",
   "execution_count": 11,
   "metadata": {
    "collapsed": false
   },
   "outputs": [
    {
     "data": {
      "text/plain": [
       "[mu * id]"
      ]
     },
     "execution_count": 11,
     "metadata": {
     },
     "output_type": "execute_result"
    }
   ],
   "source": [
    "generateManipulations(id * mu)"
   ]
  },
  {
   "cell_type": "code",
   "execution_count": 0,
   "metadata": {
    "collapsed": false
   },
   "outputs": [
   ],
   "source": [
   ]
  },
  {
   "cell_type": "code",
   "execution_count": 12,
   "metadata": {
    "collapsed": false
   },
   "outputs": [
   ],
   "source": [
    "# Upperbound on the cost-loop\n",
    "boundcost = 9\n",
    "\n",
    "# Create all pools for each cost, with a symbol-based indexer\n",
    "pools = [Pool(lambda x: x.symbol) for i in range(boundcost)]\n",
    "\n",
    "\n",
    "\n",
    "for cost in range(boundcost):\n",
    "    if cost in funcsByCost:\n",
    "        pools[cost] << funcsByCost[cost]\n",
    "\n",
    "    for costFunction, combinator in combinators:\n",
    "        for costresult in costFunction(cost):\n",
    "            inputPools = [pools[value] if isCost else [value] for (isCost, value) in costresult]\n",
    "            for inputs in itertools.product(*inputPools):\n",
    "                pools[cost] < combinator(*inputs)\n"
   ]
  },
  {
   "cell_type": "code",
   "execution_count": 0,
   "metadata": {
    "collapsed": false,
    "scrolled": true
   },
   "outputs": [
   ],
   "source": [
   ]
  },
  {
   "cell_type": "code",
   "execution_count": 0,
   "metadata": {
    "collapsed": false
   },
   "outputs": [
   ],
   "source": [
   ]
  },
  {
   "cell_type": "code",
   "execution_count": 0,
   "metadata": {
    "collapsed": false,
    "scrolled": true
   },
   "outputs": [
   ],
   "source": [
   ]
  },
  {
   "cell_type": "code",
   "execution_count": 0,
   "metadata": {
    "collapsed": false
   },
   "outputs": [
   ],
   "source": [
   ]
  },
  {
   "cell_type": "code",
   "execution_count": 0,
   "metadata": {
    "collapsed": false
   },
   "outputs": [
   ],
   "source": [
   ]
  },
  {
   "cell_type": "code",
   "execution_count": 0,
   "metadata": {
    "collapsed": false,
    "scrolled": true
   },
   "outputs": [
   ],
   "source": [
   ]
  },
  {
   "cell_type": "code",
   "execution_count": 13,
   "metadata": {
    "collapsed": false
   },
   "outputs": [
   ],
   "source": [
    "identities = []\n",
    "\n",
    "for lhsCost in range(boundcost):\n",
    "    for rhsCost in range(0, boundcost - lhsCost):\n",
    "        for symb in pools[lhsCost].pool:\n",
    "            if symb in pools[rhsCost].pool:\n",
    "                if lhsCost == rhsCost:\n",
    "                    it = itertools.combinations(pools[lhsCost][symb], r=2)\n",
    "                else:\n",
    "                    it = itertools.product(pools[lhsCost][symb], pools[rhsCost][symb])\n",
    "\n",
    "                for lhs, rhs in it:\n",
    "                    identities.append(lhs & rhs)"
   ]
  },
  {
   "cell_type": "code",
   "execution_count": 0,
   "metadata": {
    "collapsed": false
   },
   "outputs": [
   ],
   "source": [
   ]
  },
  {
   "cell_type": "code",
   "execution_count": 14,
   "metadata": {
    "collapsed": false
   },
   "outputs": [
    {
     "data": {
      "text/plain": [
       "7132"
      ]
     },
     "execution_count": 14,
     "metadata": {
     },
     "output_type": "execute_result"
    }
   ],
   "source": [
    "len(identities)"
   ]
  },
  {
   "cell_type": "code",
   "execution_count": 21,
   "metadata": {
    "collapsed": false
   },
   "outputs": [
   ],
   "source": [
    "start = 500 #3284 #1435 #2478"
   ]
  },
  {
   "cell_type": "code",
   "execution_count": 22,
   "metadata": {
    "collapsed": false
   },
   "outputs": [
    {
     "data": {
      "text/plain": [
       "[liouville = one * Psi^3 liouville,\n",
       " liouville = liouville * Psi^2 Psi^2 one,\n",
       " liouville = liouville * Psi^2 Psi^2 liouville,\n",
       " liouville = liouville * Psi^3 one,\n",
       " liouville = Psi^2 Psi^2 one * liouville,\n",
       " liouville = Psi^2 Psi^2 liouville * liouville,\n",
       " liouville = Psi^3 one * liouville,\n",
       " liouville = Psi^3 liouville * one,\n",
       " id = id + Psi^2 Psi^2 (mu + liouville),\n",
       " id = id + Psi^2 Psi^2 (liouville + mu)]"
      ]
     },
     "execution_count": 22,
     "metadata": {
     },
     "output_type": "execute_result"
    }
   ],
   "source": [
    "identities[start:start + 10]"
   ]
  },
  {
   "cell_type": "code",
   "execution_count": 23,
   "metadata": {
    "collapsed": false,
    "scrolled": true
   },
   "outputs": [
    {
     "data": {
      "text/html": [
       "[<script type=\"math/tex; mode=display\"> \\lambda\\left(n\\right) = 1 \\cdot \\left(\\psi^{3} \\lambda\\right)\\left(n\\right) </script>, <script type=\"math/tex; mode=display\"> \\lambda\\left(n\\right) = \\lambda\\left(n\\right) \\cdot \\sum_{d \\mid n^2} \\sum_{d_{0} \\mid \\left(\\frac{n^2}{d}\\right)^2} 1 \\cdot \\lambda\\left(d_{0}\\right) \\cdot 1 \\cdot \\lambda\\left(d\\right) \\cdot \\sum_{d_{1} \\mid d^2} 1 \\cdot \\lambda\\left(d_{1}\\right) \\cdot 1 </script>, <script type=\"math/tex; mode=display\"> \\lambda\\left(n\\right) = \\lambda\\left(n\\right) \\cdot \\sum_{d \\mid n^2} \\sum_{d_{0} \\mid \\left(\\frac{n^2}{d}\\right)^2} \\lambda\\left(\\frac{\\left(\\frac{n^2}{d}\\right)^2}{d_{0}}\\right) \\cdot \\lambda\\left(d_{0}\\right) \\cdot \\lambda\\left(d_{0}\\right) \\cdot \\lambda\\left(d\\right) \\cdot \\sum_{d_{1} \\mid d^2} \\lambda\\left(\\frac{d^2}{d_{1}}\\right) \\cdot \\lambda\\left(d_{1}\\right) \\cdot \\lambda\\left(d_{1}\\right) </script>, <script type=\"math/tex; mode=display\"> \\lambda\\left(n\\right) = \\lambda\\left(n\\right) \\cdot \\left(\\psi^{3} 1\\right)\\left(n\\right) </script>, <script type=\"math/tex; mode=display\"> \\lambda\\left(n\\right) = \\sum_{d \\mid n^2} \\sum_{d_{0} \\mid \\left(\\frac{n^2}{d}\\right)^2} 1 \\cdot \\lambda\\left(d_{0}\\right) \\cdot 1 \\cdot \\lambda\\left(d\\right) \\cdot \\sum_{d_{1} \\mid d^2} 1 \\cdot \\lambda\\left(d_{1}\\right) \\cdot 1 \\cdot \\lambda\\left(n\\right) </script>, <script type=\"math/tex; mode=display\"> \\lambda\\left(n\\right) = \\sum_{d \\mid n^2} \\sum_{d_{0} \\mid \\left(\\frac{n^2}{d}\\right)^2} \\lambda\\left(\\frac{\\left(\\frac{n^2}{d}\\right)^2}{d_{0}}\\right) \\cdot \\lambda\\left(d_{0}\\right) \\cdot \\lambda\\left(d_{0}\\right) \\cdot \\lambda\\left(d\\right) \\cdot \\sum_{d_{1} \\mid d^2} \\lambda\\left(\\frac{d^2}{d_{1}}\\right) \\cdot \\lambda\\left(d_{1}\\right) \\cdot \\lambda\\left(d_{1}\\right) \\cdot \\lambda\\left(n\\right) </script>, <script type=\"math/tex; mode=display\"> \\lambda\\left(n\\right) = \\left(\\psi^{3} 1\\right)\\left(n\\right) \\cdot \\lambda\\left(n\\right) </script>, <script type=\"math/tex; mode=display\"> \\lambda\\left(n\\right) = \\left(\\psi^{3} \\lambda\\right)\\left(n\\right) \\cdot 1 </script>, <script type=\"math/tex; mode=display\"> {n} = \\sum_{d \\mid n} {d} \\cdot \\sum_{d_{0} \\mid \\left(\\frac{n}{d}\\right)^2} \\sum_{d_{1} \\mid \\left(\\frac{\\left(\\frac{n}{d}\\right)^2}{d_{0}}\\right)^2} \\left(\\sum_{d_{2} \\mid \\left(\\frac{\\left(\\frac{\\left(\\frac{n}{d}\\right)^2}{d_{0}}\\right)^2}{d_{1}}\\right)} \\mu\\left(d_{2}\\right) \\cdot \\lambda\\left(\\frac{\\left(\\frac{\\left(\\frac{\\left(\\frac{n}{d}\\right)^2}{d_{0}}\\right)^2}{d_{1}}\\right)}{d_{2}}\\right)\\right) \\cdot \\lambda\\left(d_{1}\\right) \\cdot \\left(\\sum_{d_{3} \\mid \\left(d_{1}\\right)} \\mu\\left(d_{3}\\right) \\cdot \\lambda\\left(\\frac{\\left(d_{1}\\right)}{d_{3}}\\right)\\right) \\cdot \\lambda\\left(d_{0}\\right) \\cdot \\sum_{d_{4} \\mid \\left(d_{0}\\right)^2} \\left(\\sum_{d_{5} \\mid \\left(\\frac{\\left(d_{0}\\right)^2}{d_{4}}\\right)} \\mu\\left(d_{5}\\right) \\cdot \\lambda\\left(\\frac{\\left(\\frac{\\left(d_{0}\\right)^2}{d_{4}}\\right)}{d_{5}}\\right)\\right) \\cdot \\lambda\\left(d_{4}\\right) \\cdot \\left(\\sum_{d_{6} \\mid \\left(d_{4}\\right)} \\mu\\left(d_{6}\\right) \\cdot \\lambda\\left(\\frac{\\left(d_{4}\\right)}{d_{6}}\\right)\\right) </script>, <script type=\"math/tex; mode=display\"> {n} = \\sum_{d \\mid n} {d} \\cdot \\sum_{d_{0} \\mid \\left(\\frac{n}{d}\\right)^2} \\sum_{d_{1} \\mid \\left(\\frac{\\left(\\frac{n}{d}\\right)^2}{d_{0}}\\right)^2} \\left(\\sum_{d_{2} \\mid \\left(\\frac{\\left(\\frac{\\left(\\frac{n}{d}\\right)^2}{d_{0}}\\right)^2}{d_{1}}\\right)} \\lambda\\left(d_{2}\\right) \\cdot \\mu\\left(\\frac{\\left(\\frac{\\left(\\frac{\\left(\\frac{n}{d}\\right)^2}{d_{0}}\\right)^2}{d_{1}}\\right)}{d_{2}}\\right)\\right) \\cdot \\lambda\\left(d_{1}\\right) \\cdot \\left(\\sum_{d_{3} \\mid \\left(d_{1}\\right)} \\lambda\\left(d_{3}\\right) \\cdot \\mu\\left(\\frac{\\left(d_{1}\\right)}{d_{3}}\\right)\\right) \\cdot \\lambda\\left(d_{0}\\right) \\cdot \\sum_{d_{4} \\mid \\left(d_{0}\\right)^2} \\left(\\sum_{d_{5} \\mid \\left(\\frac{\\left(d_{0}\\right)^2}{d_{4}}\\right)} \\lambda\\left(d_{5}\\right) \\cdot \\mu\\left(\\frac{\\left(\\frac{\\left(d_{0}\\right)^2}{d_{4}}\\right)}{d_{5}}\\right)\\right) \\cdot \\lambda\\left(d_{4}\\right) \\cdot \\left(\\sum_{d_{6} \\mid \\left(d_{4}\\right)} \\lambda\\left(d_{6}\\right) \\cdot \\mu\\left(\\frac{\\left(d_{4}\\right)}{d_{6}}\\right)\\right) </script>]"
      ]
     },
     "execution_count": 23,
     "metadata": {
     },
     "output_type": "execute_result"
    },
    {
     "data": {
      "text/plain": [
      ]
     },
     "execution_count": 23,
     "metadata": {
     },
     "output_type": "execute_result"
    }
   ],
   "source": [
    "html(map(lambda x: '$$' + latex(x) + '$$', identities[start:start + 10]))"
   ]
  },
  {
   "cell_type": "code",
   "execution_count": 0,
   "metadata": {
    "collapsed": false
   },
   "outputs": [
   ],
   "source": [
   ]
  },
  {
   "cell_type": "code",
   "execution_count": 0,
   "metadata": {
    "collapsed": false
   },
   "outputs": [
   ],
   "source": [
   ]
  },
  {
   "cell_type": "code",
   "execution_count": 0,
   "metadata": {
    "collapsed": false
   },
   "outputs": [
   ],
   "source": [
   ]
  }
 ],
 "metadata": {
  "kernelspec": {
   "display_name": "SageMath (stable)",
   "name": "sagemath"
  },
  "language_info": {
   "codemirror_mode": {
    "name": "ipython",
    "version": 2
   },
   "file_extension": ".py",
   "mimetype": "text/x-python",
   "name": "python",
   "nbconvert_exporter": "python",
   "pygments_lexer": "ipython2",
   "version": "2.7.13"
  }
 },
 "nbformat": 4,
 "nbformat_minor": 0
}