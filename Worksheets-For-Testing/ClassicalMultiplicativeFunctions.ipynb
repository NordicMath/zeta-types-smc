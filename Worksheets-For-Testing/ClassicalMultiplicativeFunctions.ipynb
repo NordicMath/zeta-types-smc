{
 "cells": [
  {
   "cell_type": "markdown",
   "metadata": {},
   "source": [
    "Load the usual stuff"
   ]
  },
  {
   "cell_type": "code",
   "execution_count": 1,
   "metadata": {
    "collapsed": false
   },
   "outputs": [],
   "source": [
    "%runfile ../General-Tools/LazyList.sage\n",
    "%runfile ../TS-Methods/MonoidTS.sage\n",
    "%runfile ../TS-Methods/RingTS.sage\n",
    "%runfile ../Sequence-Methods/Berlekamp.sage\n",
    "%runfile ../TS-Methods/ComplexTS.sage"
   ]
  },
  {
   "cell_type": "markdown",
   "metadata": {},
   "source": [
    "Load multiplicative functions"
   ]
  },
  {
   "cell_type": "code",
   "execution_count": 2,
   "metadata": {
    "collapsed": false
   },
   "outputs": [],
   "source": [
    "%runfile ../Classical-Multiplicative-Functions/Multiplicative-Function.sage\n",
    "%runfile ../Classical-Multiplicative-Functions/Multiplicative-Function-Library.sage"
   ]
  },
  {
   "cell_type": "markdown",
   "metadata": {},
   "source": [
    "Load in the library from classical-functions.json and define mf as a function taking a name to a multiplicative function"
   ]
  },
  {
   "cell_type": "code",
   "execution_count": 3,
   "metadata": {
    "collapsed": false
   },
   "outputs": [],
   "source": [
    "loadMultiplicativeLibrary()\n",
    "defineMF()"
   ]
  },
  {
   "cell_type": "code",
   "execution_count": 4,
   "metadata": {
    "collapsed": false
   },
   "outputs": [
    {
     "data": {
      "text/plain": [
       "True"
      ]
     },
     "execution_count": 4,
     "metadata": {},
     "output_type": "execute_result"
    }
   ],
   "source": [
    "\"liouville\" in multiplicativeFunctionLibrary"
   ]
  },
  {
   "cell_type": "code",
   "execution_count": 5,
   "metadata": {
    "collapsed": false
   },
   "outputs": [
    {
     "data": {
      "text/plain": [
       "True"
      ]
     },
     "execution_count": 5,
     "metadata": {},
     "output_type": "execute_result"
    }
   ],
   "source": [
    "\"sigma_46262\" in multiplicativeFunctionLibrary"
   ]
  },
  {
   "cell_type": "code",
   "execution_count": null,
   "metadata": {
    "collapsed": true
   },
   "outputs": [],
   "source": []
  },
  {
   "cell_type": "code",
   "execution_count": 6,
   "metadata": {
    "collapsed": false
   },
   "outputs": [
    {
     "name": "stdout",
     "output_type": "stream",
     "text": [
      "liouville\n",
      "\\sigma_{10}\n"
     ]
    }
   ],
   "source": [
    "print mf('liouville')\n",
    "print latex(mf('sigma_10'))"
   ]
  },
  {
   "cell_type": "markdown",
   "metadata": {
    "collapsed": true
   },
   "source": [
    ".define() adds the function to the global scope. mfd instead of mf both loads and defines it. Both have the optional parameter 'name' which specifies what the variable should be called"
   ]
  },
  {
   "cell_type": "code",
   "execution_count": 7,
   "metadata": {
    "collapsed": false
   },
   "outputs": [
    {
     "data": {
      "text/plain": [
       "liouville"
      ]
     },
     "execution_count": 7,
     "metadata": {},
     "output_type": "execute_result"
    }
   ],
   "source": [
    "mf('liouville').define()"
   ]
  },
  {
   "cell_type": "code",
   "execution_count": 8,
   "metadata": {
    "collapsed": false
   },
   "outputs": [
    {
     "data": {
      "text/plain": [
       "-2"
      ]
     },
     "execution_count": 8,
     "metadata": {},
     "output_type": "execute_result"
    }
   ],
   "source": [
    "(liouville + liouville)(2)"
   ]
  },
  {
   "cell_type": "code",
   "execution_count": 82,
   "metadata": {
    "collapsed": false
   },
   "outputs": [
    {
     "data": {
      "text/plain": [
       "liouville"
      ]
     },
     "execution_count": 82,
     "metadata": {},
     "output_type": "execute_result"
    }
   ],
   "source": [
    "mf('liouville').define(name='liouville2')"
   ]
  },
  {
   "cell_type": "code",
   "execution_count": 83,
   "metadata": {
    "collapsed": false
   },
   "outputs": [
    {
     "data": {
      "text/plain": [
       "liouville"
      ]
     },
     "execution_count": 83,
     "metadata": {},
     "output_type": "execute_result"
    }
   ],
   "source": [
    "liouville2 "
   ]
  },
  {
   "cell_type": "code",
   "execution_count": null,
   "metadata": {
    "collapsed": true
   },
   "outputs": [],
   "source": []
  },
  {
   "cell_type": "code",
   "execution_count": 84,
   "metadata": {
    "collapsed": false
   },
   "outputs": [
    {
     "data": {
      "text/plain": [
       "{1, 1, 1, 1, 1, 1, 1, 1, 1, 1, 1, 1, 1, 1, 1, 1, 1, 1, 1, 1}/Ø"
      ]
     },
     "execution_count": 84,
     "metadata": {},
     "output_type": "execute_result"
    }
   ],
   "source": [
    "mf('tau_20').symbol"
   ]
  },
  {
   "cell_type": "code",
   "execution_count": null,
   "metadata": {
    "collapsed": true
   },
   "outputs": [],
   "source": []
  },
  {
   "cell_type": "code",
   "execution_count": 85,
   "metadata": {
    "collapsed": false
   },
   "outputs": [
    {
     "data": {
      "text/plain": [
       "liouville"
      ]
     },
     "execution_count": 85,
     "metadata": {},
     "output_type": "execute_result"
    }
   ],
   "source": [
    "mf('liouville').define(name='I')"
   ]
  },
  {
   "cell_type": "code",
   "execution_count": 86,
   "metadata": {
    "collapsed": false
   },
   "outputs": [
    {
     "ename": "ValueError",
     "evalue": "Name, for is a python keyword!",
     "output_type": "error",
     "traceback": [
      "\u001b[0;31m---------------------------------------------------------------------------\u001b[0m",
      "\u001b[0;31mValueError\u001b[0m                                Traceback (most recent call last)",
      "\u001b[0;32m<ipython-input-86-06e8393d53e9>\u001b[0m in \u001b[0;36m<module>\u001b[0;34m()\u001b[0m\n\u001b[0;32m----> 1\u001b[0;31m \u001b[0mmf\u001b[0m\u001b[0;34m(\u001b[0m\u001b[0;34m'liouville'\u001b[0m\u001b[0;34m)\u001b[0m\u001b[0;34m.\u001b[0m\u001b[0mdefine\u001b[0m\u001b[0;34m(\u001b[0m\u001b[0mname\u001b[0m\u001b[0;34m=\u001b[0m\u001b[0;34m'for'\u001b[0m\u001b[0;34m)\u001b[0m\u001b[0;34m\u001b[0m\u001b[0m\n\u001b[0m",
      "\u001b[0;32m<string>\u001b[0m in \u001b[0;36mdefine\u001b[0;34m(self, name)\u001b[0m\n",
      "\u001b[0;31mValueError\u001b[0m: Name, for is a python keyword!"
     ]
    }
   ],
   "source": [
    "mf('liouville').define(name='for')"
   ]
  },
  {
   "cell_type": "code",
   "execution_count": 9,
   "metadata": {
    "collapsed": false
   },
   "outputs": [
    {
     "ename": "ValueError",
     "evalue": "Name, ??/1 is not a valid python identifier!",
     "output_type": "error",
     "traceback": [
      "\u001b[0;31m---------------------------------------------------------------------------\u001b[0m",
      "\u001b[0;31mValueError\u001b[0m                                Traceback (most recent call last)",
      "\u001b[0;32m<ipython-input-9-d4de37ade66b>\u001b[0m in \u001b[0;36m<module>\u001b[0;34m()\u001b[0m\n\u001b[0;32m----> 1\u001b[0;31m \u001b[0mmf\u001b[0m\u001b[0;34m(\u001b[0m\u001b[0;34m'liouville'\u001b[0m\u001b[0;34m)\u001b[0m\u001b[0;34m.\u001b[0m\u001b[0mdefine\u001b[0m\u001b[0;34m(\u001b[0m\u001b[0mname\u001b[0m\u001b[0;34m=\u001b[0m\u001b[0;34m'??/1'\u001b[0m\u001b[0;34m)\u001b[0m\u001b[0;34m\u001b[0m\u001b[0m\n\u001b[0m",
      "\u001b[0;32m<string>\u001b[0m in \u001b[0;36mdefine\u001b[0;34m(self, name)\u001b[0m\n",
      "\u001b[0;31mValueError\u001b[0m: Name, ??/1 is not a valid python identifier!"
     ]
    }
   ],
   "source": [
    "mf('liouville').define(name='??/1')"
   ]
  },
  {
   "cell_type": "code",
   "execution_count": 87,
   "metadata": {
    "collapsed": false
   },
   "outputs": [
    {
     "data": {
      "text/plain": [
       "sigma_1"
      ]
     },
     "execution_count": 87,
     "metadata": {},
     "output_type": "execute_result"
    }
   ],
   "source": [
    "mfd('sigma_1')"
   ]
  },
  {
   "cell_type": "code",
   "execution_count": 88,
   "metadata": {
    "collapsed": false
   },
   "outputs": [
    {
     "data": {
      "text/plain": [
       "sigma_1 + sigma_1"
      ]
     },
     "execution_count": 88,
     "metadata": {},
     "output_type": "execute_result"
    }
   ],
   "source": [
    "sigma_1 + sigma_1"
   ]
  },
  {
   "cell_type": "code",
   "execution_count": 89,
   "metadata": {
    "collapsed": false
   },
   "outputs": [
    {
     "data": {
      "text/plain": [
       "sigma_2"
      ]
     },
     "execution_count": 89,
     "metadata": {},
     "output_type": "execute_result"
    }
   ],
   "source": [
    "mfd('sigma_2', name='sigma2')"
   ]
  },
  {
   "cell_type": "code",
   "execution_count": 90,
   "metadata": {
    "collapsed": false
   },
   "outputs": [
    {
     "data": {
      "text/plain": [
       "sigma_2 * sigma_2"
      ]
     },
     "execution_count": 90,
     "metadata": {},
     "output_type": "execute_result"
    }
   ],
   "source": [
    "sigma2 * sigma2"
   ]
  },
  {
   "cell_type": "code",
   "execution_count": null,
   "metadata": {
    "collapsed": true
   },
   "outputs": [],
   "source": []
  },
  {
   "cell_type": "code",
   "execution_count": 12,
   "metadata": {
    "collapsed": false
   },
   "outputs": [
    {
     "data": {
      "text/plain": [
       "1, p + 1, p^2 + 1, p^3 + 1, p^4 + 1, p^5 + 1, p^6 + 1, p^7 + 1, p^8 + 1, p^9 + 1, p^10 + 1, p^11 + 1, p^12 + 1, p^13 + 1, p^14 + 1, p^15 + 1, p^16 + 1, p^17 + 1, p^18 + 1, p^19 + 1, ..."
      ]
     },
     "execution_count": 12,
     "metadata": {},
     "output_type": "execute_result"
    }
   ],
   "source": [
    "BellDerivative(mf('sigma_1').symbol.getBellCoefficients())"
   ]
  },
  {
   "cell_type": "code",
   "execution_count": null,
   "metadata": {
    "collapsed": true
   },
   "outputs": [],
   "source": []
  },
  {
   "cell_type": "code",
   "execution_count": null,
   "metadata": {
    "collapsed": true
   },
   "outputs": [],
   "source": []
  },
  {
   "cell_type": "markdown",
   "metadata": {},
   "source": [
    "How should equality be tested? By symbol value?? I have no idea..."
   ]
  },
  {
   "cell_type": "code",
   "execution_count": 91,
   "metadata": {
    "collapsed": false
   },
   "outputs": [
    {
     "data": {
      "text/plain": [
       "True"
      ]
     },
     "execution_count": 91,
     "metadata": {},
     "output_type": "execute_result"
    }
   ],
   "source": [
    "mf('zero') == mf('euler_phi') - mf('euler_phi')"
   ]
  },
  {
   "cell_type": "code",
   "execution_count": 92,
   "metadata": {
    "collapsed": false
   },
   "outputs": [
    {
     "data": {
      "text/plain": [
       "4"
      ]
     },
     "execution_count": 92,
     "metadata": {},
     "output_type": "execute_result"
    }
   ],
   "source": [
    "(-mf('euler_phi'))(20)"
   ]
  },
  {
   "cell_type": "code",
   "execution_count": 93,
   "metadata": {
    "collapsed": false
   },
   "outputs": [
    {
     "data": {
      "text/plain": [
       "8"
      ]
     },
     "execution_count": 93,
     "metadata": {},
     "output_type": "execute_result"
    }
   ],
   "source": [
    "mf('euler_phi')(20)"
   ]
  },
  {
   "cell_type": "code",
   "execution_count": 94,
   "metadata": {
    "collapsed": false
   },
   "outputs": [
    {
     "data": {
      "text/plain": [
       "Ø/Ø"
      ]
     },
     "execution_count": 94,
     "metadata": {},
     "output_type": "execute_result"
    }
   ],
   "source": [
    "mf('zero').symbol"
   ]
  },
  {
   "cell_type": "code",
   "execution_count": 95,
   "metadata": {
    "collapsed": false
   },
   "outputs": [
    {
     "data": {
      "text/plain": [
       "11868"
      ]
     },
     "execution_count": 95,
     "metadata": {},
     "output_type": "execute_result"
    }
   ],
   "source": [
    "(mf('euler_phi') * mf('euler_phi') * mf('euler_phi') * mf('euler_phi') + mf('tau'))(20)"
   ]
  },
  {
   "cell_type": "code",
   "execution_count": 96,
   "metadata": {
    "collapsed": false
   },
   "outputs": [
    {
     "name": "stdout",
     "output_type": "stream",
     "text": [
      "euler_phi * euler_phi * euler_phi * euler_phi + tau\n"
     ]
    }
   ],
   "source": [
    "print mf('euler_phi') * mf('euler_phi') * mf('euler_phi') * mf('euler_phi') + mf('tau')"
   ]
  },
  {
   "cell_type": "markdown",
   "metadata": {},
   "source": [
    "Order of operations:"
   ]
  },
  {
   "cell_type": "code",
   "execution_count": 97,
   "metadata": {
    "collapsed": false
   },
   "outputs": [
    {
     "name": "stdout",
     "output_type": "stream",
     "text": [
      "{1}/Ø\n",
      "Ø/Ø\n"
     ]
    }
   ],
   "source": [
    "print (mf('one') + mf('euler_phi') * mf('zero')).symbol\n",
    "print ((mf('one') + mf('euler_phi')) * mf('zero')).symbol"
   ]
  },
  {
   "cell_type": "markdown",
   "metadata": {},
   "source": [
    "Printing precedence:"
   ]
  },
  {
   "cell_type": "code",
   "execution_count": 98,
   "metadata": {
    "collapsed": false
   },
   "outputs": [
    {
     "name": "stdout",
     "output_type": "stream",
     "text": [
      "one + euler_phi * zero\n",
      "(one + euler_phi) * zero\n"
     ]
    }
   ],
   "source": [
    "print (mf('one') + mf('euler_phi') * mf('zero')).name\n",
    "print ((mf('one') + mf('euler_phi')) * mf('zero')).name"
   ]
  },
  {
   "cell_type": "code",
   "execution_count": 99,
   "metadata": {
    "collapsed": false
   },
   "outputs": [
    {
     "name": "stdout",
     "output_type": "stream",
     "text": [
      "Psi^2 one\n",
      "Psi^2 (one + one * (-sigma_4))\n",
      "Psi^2 (one + one * (-Psi^3 sigma_4))\n",
      "Psi^2 (one + one * Psi^3 (-sigma_4))\n",
      "-one * one\n",
      "-(one + one)\n"
     ]
    }
   ],
   "source": [
    "print (mf('one').adamsoperation(2)).name\n",
    "print ((mf('one') + mf('one') * -mf('sigma_4')).adamsoperation(2)).name\n",
    "print ((mf('one') + mf('one') * -mf('sigma_4').adamsoperation(3)).adamsoperation(2)).name\n",
    "print ((mf('one') + mf('one') * (-mf('sigma_4')).adamsoperation(3)).adamsoperation(2)).name\n",
    "print (-(mf('one') * mf('one'))).name\n",
    "print (-(mf('one') + mf('one'))).name"
   ]
  },
  {
   "cell_type": "markdown",
   "metadata": {},
   "source": [
    "For latex:"
   ]
  },
  {
   "cell_type": "code",
   "execution_count": 100,
   "metadata": {
    "collapsed": false
   },
   "outputs": [
    {
     "name": "stdout",
     "output_type": "stream",
     "text": [
      "1 \\oplus \\varphi \\otimes \\epsilon\n",
      "\\left(1 \\oplus \\varphi\\right) \\otimes \\epsilon\n"
     ]
    }
   ],
   "source": [
    "print (mf('one') + mf('euler_phi') * mf('zero')).latex\n",
    "print ((mf('one') + mf('euler_phi')) * mf('zero')).latex"
   ]
  },
  {
   "cell_type": "code",
   "execution_count": 101,
   "metadata": {
    "collapsed": false
   },
   "outputs": [
    {
     "name": "stdout",
     "output_type": "stream",
     "text": [
      "\\psi^{2} 1\n",
      "\\psi^{2} \\left(1 \\oplus 1 \\otimes \\left(\\circleddash \\sigma_{4}\\right)\\right)\n",
      "\\psi^{2} \\left(1 \\oplus 1 \\otimes \\left(\\circleddash \\psi^{3} \\sigma_{4}\\right)\\right)\n",
      "\\psi^{2} \\left(1 \\oplus 1 \\otimes \\psi^{3} \\left(\\circleddash \\sigma_{4}\\right)\\right)\n",
      "\\circleddash 1 \\otimes 1\n",
      "\\circleddash \\left(1 \\oplus 1\\right)\n"
     ]
    }
   ],
   "source": [
    "print (mf('one').adamsoperation(2)).latex\n",
    "print ((mf('one') + mf('one') * -mf('sigma_4')).adamsoperation(2)).latex\n",
    "print ((mf('one') + mf('one') * -mf('sigma_4').adamsoperation(3)).adamsoperation(2)).latex\n",
    "print ((mf('one') + mf('one') * (-mf('sigma_4')).adamsoperation(3)).adamsoperation(2)).latex\n",
    "print (-(mf('one') * mf('one'))).latex\n",
    "print (-(mf('one') + mf('one'))).latex"
   ]
  },
  {
   "cell_type": "markdown",
   "metadata": {},
   "source": [
    "Latex eval:"
   ]
  },
  {
   "cell_type": "code",
   "execution_count": 102,
   "metadata": {
    "collapsed": false
   },
   "outputs": [
    {
     "name": "stdout",
     "output_type": "stream",
     "text": [
      "\\sum_{d \\mid n^2} 1 \\cdot \\lambda\\left(d\\right) \\cdot 1\n",
      "\n",
      "\\sum_{d \\mid n^2} \\left(\\sum_{d_0 \\mid \\left(\\frac{n^2}{d}\\right)} 1 \\cdot 1 \\cdot \\left(\\left(\\circleddash \\sigma_{4}\\right)\\left(\\frac{\\left(\\frac{n^2}{d}\\right)}{d_0}\\right)\\right)\\right) \\cdot \\lambda\\left(d\\right) \\cdot \\left(\\sum_{d_1 \\mid d} 1 \\cdot 1 \\cdot \\left(\\left(\\circleddash \\sigma_{4}\\right)\\left(\\frac{d}{d_1}\\right)\\right)\\right)\n",
      "\n",
      "\\sum_{d \\mid n^2} \\left(\\sum_{d_0 \\mid \\left(\\frac{n^2}{d}\\right)} 1 \\cdot 1 \\cdot \\left(\\left(\\circleddash \\psi^{3} \\sigma_{4}\\right)\\left(\\frac{\\left(\\frac{n^2}{d}\\right)}{d_0}\\right)\\right)\\right) \\cdot \\lambda\\left(d\\right) \\cdot \\left(\\sum_{d_1 \\mid d} 1 \\cdot 1 \\cdot \\left(\\left(\\circleddash \\psi^{3} \\sigma_{4}\\right)\\left(\\frac{d}{d_1}\\right)\\right)\\right)\n",
      "\n",
      "\\sum_{d \\mid n^2} \\left(\\sum_{d_0 \\mid \\left(\\frac{n^2}{d}\\right)} 1 \\cdot 1 \\cdot \\left(\\psi^{3} \\left(\\circleddash \\sigma_{4}\\right)\\right)\\left(\\frac{\\left(\\frac{n^2}{d}\\right)}{d_0}\\right)\\right) \\cdot \\lambda\\left(d\\right) \\cdot \\left(\\sum_{d_1 \\mid d} 1 \\cdot 1 \\cdot \\left(\\psi^{3} \\left(\\circleddash \\sigma_{4}\\right)\\right)\\left(\\frac{d}{d_1}\\right)\\right)\n",
      "\n",
      "\\left(\\circleddash 1 \\otimes 1\\right)\\left(n\\right)\n",
      "\n",
      "\\left(\\circleddash \\left(1 \\oplus 1\\right)\\right)\\left(n\\right)\n"
     ]
    }
   ],
   "source": [
    "print (mf('one').adamsoperation(2)).latex_eval('n')\n",
    "print \"\"\n",
    "print ((mf('one') + mf('one') * -mf('sigma_4')).adamsoperation(2)).latex_eval('n')\n",
    "print \"\"\n",
    "print ((mf('one') + mf('one') * -mf('sigma_4').adamsoperation(3)).adamsoperation(2)).latex_eval('n')\n",
    "print \"\"\n",
    "print ((mf('one') + mf('one') * (-mf('sigma_4')).adamsoperation(3)).adamsoperation(2)).latex_eval('n')\n",
    "print \"\"\n",
    "print (-(mf('one') * mf('one'))).latex_eval('n')\n",
    "print \"\"\n",
    "print (-(mf('one') + mf('one'))).latex_eval('n')"
   ]
  },
  {
   "cell_type": "code",
   "execution_count": null,
   "metadata": {
    "collapsed": false
   },
   "outputs": [],
   "source": []
  },
  {
   "cell_type": "code",
   "execution_count": null,
   "metadata": {
    "collapsed": true
   },
   "outputs": [],
   "source": []
  },
  {
   "cell_type": "code",
   "execution_count": null,
   "metadata": {
    "collapsed": true
   },
   "outputs": [],
   "source": []
  },
  {
   "cell_type": "code",
   "execution_count": null,
   "metadata": {
    "collapsed": true
   },
   "outputs": [],
   "source": []
  },
  {
   "cell_type": "markdown",
   "metadata": {},
   "source": [
    "Printing some more latex_eval. You can see rendered version here (ignore the irrelevant stuff):\n",
    "https://www.overleaf.com/read/tshzsyyryrhz"
   ]
  },
  {
   "cell_type": "code",
   "execution_count": 103,
   "metadata": {
    "collapsed": false
   },
   "outputs": [
    {
     "name": "stdout",
     "output_type": "stream",
     "text": [
      "\\sigma_{3}\\left(n\\right)\n"
     ]
    }
   ],
   "source": [
    "print mf('sigma_3').latex_eval('n')"
   ]
  },
  {
   "cell_type": "code",
   "execution_count": 104,
   "metadata": {
    "collapsed": false
   },
   "outputs": [
    {
     "name": "stdout",
     "output_type": "stream",
     "text": [
      "\\sum_{d \\mid n} \\sigma_{2}\\left(d\\right) \\cdot \\sigma_{3}\\left(\\frac{n}{d}\\right)\n"
     ]
    }
   ],
   "source": [
    "print (mf('sigma_2') + mf('sigma_3')).latex_eval('n')"
   ]
  },
  {
   "cell_type": "code",
   "execution_count": 105,
   "metadata": {
    "collapsed": false
   },
   "outputs": [
    {
     "name": "stdout",
     "output_type": "stream",
     "text": [
      "\\sum_{d \\mid n} \\sigma_{67}\\left(d\\right) \\cdot 1 \\cdot \\sigma_{23}\\left(\\frac{n}{d}\\right) \\cdot 1\n"
     ]
    }
   ],
   "source": [
    "print (mf('sigma_67') * mf('one') + mf('sigma_23') * mf('one')).latex_eval('n')"
   ]
  },
  {
   "cell_type": "code",
   "execution_count": 106,
   "metadata": {
    "collapsed": false
   },
   "outputs": [
    {
     "name": "stdout",
     "output_type": "stream",
     "text": [
      "\\left(\\sum_{d \\mid n} \\sigma_{67}\\left(d\\right) \\cdot \\sigma_{23}\\left(\\frac{n}{d}\\right)\\right) \\cdot 1\n"
     ]
    }
   ],
   "source": [
    "print ((mf('sigma_67') + mf('sigma_23')) * mf('one')).latex_eval('n')"
   ]
  },
  {
   "cell_type": "code",
   "execution_count": 107,
   "metadata": {
    "collapsed": false
   },
   "outputs": [
    {
     "name": "stdout",
     "output_type": "stream",
     "text": [
      "\\left(\\sigma_{5} \\otimes \\tau\\right)\\left(n\\right)\n"
     ]
    }
   ],
   "source": [
    "print (mf('sigma_5') * mf('tau')).latex_eval('n')"
   ]
  },
  {
   "cell_type": "code",
   "execution_count": 108,
   "metadata": {
    "collapsed": false
   },
   "outputs": [
    {
     "name": "stdout",
     "output_type": "stream",
     "text": [
      "\\sum_{d \\mid n} \\sum_{d_0 \\mid d} 1 \\cdot 1 \\cdot 1\n"
     ]
    }
   ],
   "source": [
    "print (mf('one') + mf('one') + mf('one')).latex_eval('n')"
   ]
  },
  {
   "cell_type": "code",
   "execution_count": 109,
   "metadata": {
    "collapsed": false
   },
   "outputs": [
    {
     "name": "stdout",
     "output_type": "stream",
     "text": [
      "\\sum_{d \\mid n} 1 \\cdot \\sum_{d_0 \\mid \\left(\\frac{n}{d}\\right)} 1 \\cdot 1\n"
     ]
    }
   ],
   "source": [
    "print (mf('one') + (mf('one') + mf('one'))).latex_eval('n')"
   ]
  },
  {
   "cell_type": "code",
   "execution_count": 110,
   "metadata": {
    "collapsed": false
   },
   "outputs": [
    {
     "name": "stdout",
     "output_type": "stream",
     "text": [
      "\\sum_{d \\mid n} 1 \\cdot \\left(\\circleddash \\left(1 \\oplus 1\\right)\\right)\\left(\\frac{n}{d}\\right)\n"
     ]
    }
   ],
   "source": [
    "print (mf('one') - (mf('one') + mf('one'))).latex_eval('n')"
   ]
  },
  {
   "cell_type": "code",
   "execution_count": 111,
   "metadata": {
    "collapsed": false
   },
   "outputs": [
    {
     "name": "stdout",
     "output_type": "stream",
     "text": [
      "\\left(\\psi^{5} \\tau\\right)\\left(n\\right)\n"
     ]
    }
   ],
   "source": [
    "print (mf('tau').adamsoperation(5)).latex_eval('n')"
   ]
  },
  {
   "cell_type": "code",
   "execution_count": 112,
   "metadata": {
    "collapsed": false
   },
   "outputs": [
    {
     "name": "stdout",
     "output_type": "stream",
     "text": [
      "\\sum_{d \\mid n^2} \\tau\\left(\\frac{n^2}{d}\\right) \\cdot \\lambda\\left(d\\right) \\cdot \\tau\\left(d\\right)\n"
     ]
    }
   ],
   "source": [
    "print (mf('tau').adamsoperation(2)).latex_eval('n')"
   ]
  },
  {
   "cell_type": "code",
   "execution_count": 113,
   "metadata": {
    "collapsed": false
   },
   "outputs": [
    {
     "name": "stdout",
     "output_type": "stream",
     "text": [
      "\\sum_{d \\mid n} \\sum_{d_0 \\mid d^2} \\tau\\left(\\frac{d^2}{d_0}\\right) \\cdot \\lambda\\left(d_0\\right) \\cdot \\tau\\left(d_0\\right) \\cdot 1\n"
     ]
    }
   ],
   "source": [
    "print (mf('tau').adamsoperation(2) + mf('one')).latex_eval('n')"
   ]
  },
  {
   "cell_type": "code",
   "execution_count": 114,
   "metadata": {
    "collapsed": false
   },
   "outputs": [
    {
     "name": "stdout",
     "output_type": "stream",
     "text": [
      "\\sum_{d \\mid n} 1 \\cdot \\sum_{d_0 \\mid \\left(\\frac{n}{d}\\right)^2} \\tau\\left(\\frac{\\left(\\frac{n}{d}\\right)^2}{d_0}\\right) \\cdot \\lambda\\left(d_0\\right) \\cdot \\tau\\left(d_0\\right)\n"
     ]
    }
   ],
   "source": [
    "print (mf('one') + mf('tau').adamsoperation(2)).latex_eval('n')"
   ]
  },
  {
   "cell_type": "code",
   "execution_count": 115,
   "metadata": {
    "collapsed": false
   },
   "outputs": [
    {
     "name": "stdout",
     "output_type": "stream",
     "text": [
      "\\sum_{d \\mid n^2} \\sum_{d_0 \\mid \\left(\\frac{n^2}{d}\\right)^2} \\tau\\left(\\frac{\\left(\\frac{n^2}{d}\\right)^2}{d_0}\\right) \\cdot \\lambda\\left(d_0\\right) \\cdot \\tau\\left(d_0\\right) \\cdot \\lambda\\left(d\\right) \\cdot \\sum_{d_1 \\mid d^2} \\tau\\left(\\frac{d^2}{d_1}\\right) \\cdot \\lambda\\left(d_1\\right) \\cdot \\tau\\left(d_1\\right)\n"
     ]
    }
   ],
   "source": [
    "print (mf('tau').adamsoperation(2).adamsoperation(2)).latex_eval('n')"
   ]
  },
  {
   "cell_type": "code",
   "execution_count": 116,
   "metadata": {
    "collapsed": false
   },
   "outputs": [
    {
     "name": "stdout",
     "output_type": "stream",
     "text": [
      "\\sum_{d \\mid n^2} \\sum_{d_0 \\mid \\left(\\frac{n^2}{d}\\right)^2} \\sum_{d_1 \\mid \\left(\\frac{\\left(\\frac{n^2}{d}\\right)^2}{d_0}\\right)^2} \\sum_{d_2 \\mid \\left(\\frac{\\left(\\frac{\\left(\\frac{n^2}{d}\\right)^2}{d_0}\\right)^2}{d_1}\\right)^2} \\sum_{d_3 \\mid \\left(\\frac{\\left(\\frac{\\left(\\frac{\\left(\\frac{n^2}{d}\\right)^2}{d_0}\\right)^2}{d_1}\\right)^2}{d_2}\\right)^2} \\tau\\left(\\frac{\\left(\\frac{\\left(\\frac{\\left(\\frac{\\left(\\frac{n^2}{d}\\right)^2}{d_0}\\right)^2}{d_1}\\right)^2}{d_2}\\right)^2}{d_3}\\right) \\cdot \\lambda\\left(d_3\\right) \\cdot \\tau\\left(d_3\\right) \\cdot \\lambda\\left(d_2\\right) \\cdot \\sum_{d_4 \\mid d_2^2} \\tau\\left(\\frac{d_2^2}{d_4}\\right) \\cdot \\lambda\\left(d_4\\right) \\cdot \\tau\\left(d_4\\right) \\cdot \\lambda\\left(d_1\\right) \\cdot \\sum_{d_5 \\mid d_1^2} \\sum_{d_6 \\mid \\left(\\frac{d_1^2}{d_5}\\right)^2} \\tau\\left(\\frac{\\left(\\frac{d_1^2}{d_5}\\right)^2}{d_6}\\right) \\cdot \\lambda\\left(d_6\\right) \\cdot \\tau\\left(d_6\\right) \\cdot \\lambda\\left(d_5\\right) \\cdot \\sum_{d_7 \\mid d_5^2} \\tau\\left(\\frac{d_5^2}{d_7}\\right) \\cdot \\lambda\\left(d_7\\right) \\cdot \\tau\\left(d_7\\right) \\cdot \\lambda\\left(d_0\\right) \\cdot \\sum_{d_8 \\mid d_0^2} \\sum_{d_9 \\mid \\left(\\frac{d_0^2}{d_8}\\right)^2} \\sum_{d_10 \\mid \\left(\\frac{\\left(\\frac{d_0^2}{d_8}\\right)^2}{d_9}\\right)^2} \\tau\\left(\\frac{\\left(\\frac{\\left(\\frac{d_0^2}{d_8}\\right)^2}{d_9}\\right)^2}{d_10}\\right) \\cdot \\lambda\\left(d_10\\right) \\cdot \\tau\\left(d_10\\right) \\cdot \\lambda\\left(d_9\\right) \\cdot \\sum_{d_11 \\mid d_9^2} \\tau\\left(\\frac{d_9^2}{d_11}\\right) \\cdot \\lambda\\left(d_11\\right) \\cdot \\tau\\left(d_11\\right) \\cdot \\lambda\\left(d_8\\right) \\cdot \\sum_{d_12 \\mid d_8^2} \\sum_{d_13 \\mid \\left(\\frac{d_8^2}{d_12}\\right)^2} \\tau\\left(\\frac{\\left(\\frac{d_8^2}{d_12}\\right)^2}{d_13}\\right) \\cdot \\lambda\\left(d_13\\right) \\cdot \\tau\\left(d_13\\right) \\cdot \\lambda\\left(d_12\\right) \\cdot \\sum_{d_14 \\mid d_12^2} \\tau\\left(\\frac{d_12^2}{d_14}\\right) \\cdot \\lambda\\left(d_14\\right) \\cdot \\tau\\left(d_14\\right) \\cdot \\lambda\\left(d\\right) \\cdot \\sum_{d_15 \\mid d^2} \\sum_{d_16 \\mid \\left(\\frac{d^2}{d_15}\\right)^2} \\sum_{d_17 \\mid \\left(\\frac{\\left(\\frac{d^2}{d_15}\\right)^2}{d_16}\\right)^2} \\sum_{d_18 \\mid \\left(\\frac{\\left(\\frac{\\left(\\frac{d^2}{d_15}\\right)^2}{d_16}\\right)^2}{d_17}\\right)^2} \\tau\\left(\\frac{\\left(\\frac{\\left(\\frac{\\left(\\frac{d^2}{d_15}\\right)^2}{d_16}\\right)^2}{d_17}\\right)^2}{d_18}\\right) \\cdot \\lambda\\left(d_18\\right) \\cdot \\tau\\left(d_18\\right) \\cdot \\lambda\\left(d_17\\right) \\cdot \\sum_{d_19 \\mid d_17^2} \\tau\\left(\\frac{d_17^2}{d_19}\\right) \\cdot \\lambda\\left(d_19\\right) \\cdot \\tau\\left(d_19\\right) \\cdot \\lambda\\left(d_16\\right) \\cdot \\sum_{d_20 \\mid d_16^2} \\sum_{d_21 \\mid \\left(\\frac{d_16^2}{d_20}\\right)^2} \\tau\\left(\\frac{\\left(\\frac{d_16^2}{d_20}\\right)^2}{d_21}\\right) \\cdot \\lambda\\left(d_21\\right) \\cdot \\tau\\left(d_21\\right) \\cdot \\lambda\\left(d_20\\right) \\cdot \\sum_{d_22 \\mid d_20^2} \\tau\\left(\\frac{d_20^2}{d_22}\\right) \\cdot \\lambda\\left(d_22\\right) \\cdot \\tau\\left(d_22\\right) \\cdot \\lambda\\left(d_15\\right) \\cdot \\sum_{d_23 \\mid d_15^2} \\sum_{d_24 \\mid \\left(\\frac{d_15^2}{d_23}\\right)^2} \\sum_{d_25 \\mid \\left(\\frac{\\left(\\frac{d_15^2}{d_23}\\right)^2}{d_24}\\right)^2} \\tau\\left(\\frac{\\left(\\frac{\\left(\\frac{d_15^2}{d_23}\\right)^2}{d_24}\\right)^2}{d_25}\\right) \\cdot \\lambda\\left(d_25\\right) \\cdot \\tau\\left(d_25\\right) \\cdot \\lambda\\left(d_24\\right) \\cdot \\sum_{d_26 \\mid d_24^2} \\tau\\left(\\frac{d_24^2}{d_26}\\right) \\cdot \\lambda\\left(d_26\\right) \\cdot \\tau\\left(d_26\\right) \\cdot \\lambda\\left(d_23\\right) \\cdot \\sum_{d_27 \\mid d_23^2} \\sum_{d_28 \\mid \\left(\\frac{d_23^2}{d_27}\\right)^2} \\tau\\left(\\frac{\\left(\\frac{d_23^2}{d_27}\\right)^2}{d_28}\\right) \\cdot \\lambda\\left(d_28\\right) \\cdot \\tau\\left(d_28\\right) \\cdot \\lambda\\left(d_27\\right) \\cdot \\sum_{d_29 \\mid d_27^2} \\tau\\left(\\frac{d_27^2}{d_29}\\right) \\cdot \\lambda\\left(d_29\\right) \\cdot \\tau\\left(d_29\\right)\n"
     ]
    }
   ],
   "source": [
    "print (mf('tau').adamsoperation(2).adamsoperation(2).adamsoperation(2).adamsoperation(2).adamsoperation(2)).latex_eval('n')"
   ]
  },
  {
   "cell_type": "code",
   "execution_count": null,
   "metadata": {
    "collapsed": true
   },
   "outputs": [],
   "source": []
  },
  {
   "cell_type": "code",
   "execution_count": null,
   "metadata": {
    "collapsed": true
   },
   "outputs": [],
   "source": []
  },
  {
   "cell_type": "code",
   "execution_count": null,
   "metadata": {
    "collapsed": false
   },
   "outputs": [],
   "source": []
  },
  {
   "cell_type": "code",
   "execution_count": null,
   "metadata": {
    "collapsed": true
   },
   "outputs": [],
   "source": []
  },
  {
   "cell_type": "code",
   "execution_count": null,
   "metadata": {
    "collapsed": true
   },
   "outputs": [],
   "source": []
  },
  {
   "cell_type": "code",
   "execution_count": null,
   "metadata": {
    "collapsed": true
   },
   "outputs": [],
   "source": []
  },
  {
   "cell_type": "markdown",
   "metadata": {},
   "source": [
    "multiplicativeFunctionLibrary[...] is the same as mf(...) but works even if you haven't called defineMF()"
   ]
  },
  {
   "cell_type": "code",
   "execution_count": 117,
   "metadata": {
    "collapsed": false
   },
   "outputs": [
    {
     "data": {
      "text/plain": [
       "256"
      ]
     },
     "execution_count": 117,
     "metadata": {},
     "output_type": "execute_result"
    }
   ],
   "source": [
    "multiplicativeFunctionLibrary['id_8'].evaluate(2)"
   ]
  },
  {
   "cell_type": "code",
   "execution_count": 118,
   "metadata": {
    "collapsed": false
   },
   "outputs": [
    {
     "data": {
      "text/plain": [
       "2"
      ]
     },
     "execution_count": 118,
     "metadata": {},
     "output_type": "execute_result"
    }
   ],
   "source": [
    "multiplicativeFunctionLibrary['theta'].evaluate(3)"
   ]
  },
  {
   "cell_type": "code",
   "execution_count": 119,
   "metadata": {
    "collapsed": false
   },
   "outputs": [
    {
     "data": {
      "text/plain": [
       "294822352044965923059134342784068092510631382326988672449708070766314504354323781674817173686069449755492844736004348602241443329799913514699906914082551319972827112748"
      ]
     },
     "execution_count": 119,
     "metadata": {},
     "output_type": "execute_result"
    }
   ],
   "source": [
    "multiplicativeFunctionLibrary['sigma_351'].evaluate(3)"
   ]
  },
  {
   "cell_type": "code",
   "execution_count": 120,
   "metadata": {
    "collapsed": false
   },
   "outputs": [
    {
     "data": {
      "text/plain": [
       "7.76412318180293e+16"
      ]
     },
     "execution_count": 120,
     "metadata": {},
     "output_type": "execute_result"
    }
   ],
   "source": [
    "multiplicativeFunctionLibrary['sigma_35.4'].evaluate(3) # fractional also works"
   ]
  },
  {
   "cell_type": "code",
   "execution_count": 121,
   "metadata": {
    "collapsed": false
   },
   "outputs": [
    {
     "data": {
      "text/plain": [
       "21/10"
      ]
     },
     "execution_count": 121,
     "metadata": {},
     "output_type": "execute_result"
    }
   ],
   "source": [
    "mf('sigma_-1')(20) # and negative"
   ]
  },
  {
   "cell_type": "code",
   "execution_count": 122,
   "metadata": {
    "collapsed": false
   },
   "outputs": [
    {
     "data": {
      "text/plain": [
       "50031545098999708"
      ]
     },
     "execution_count": 122,
     "metadata": {},
     "output_type": "execute_result"
    }
   ],
   "source": [
    "multiplicativeFunctionLibrary['sigma_35'].evaluate(3)"
   ]
  },
  {
   "cell_type": "code",
   "execution_count": 123,
   "metadata": {
    "collapsed": false
   },
   "outputs": [
    {
     "data": {
      "text/plain": [
       "u'\\\\sigma_{35}'"
      ]
     },
     "execution_count": 123,
     "metadata": {},
     "output_type": "execute_result"
    }
   ],
   "source": [
    "multiplicativeFunctionLibrary['sigma_35'].latex"
   ]
  },
  {
   "cell_type": "code",
   "execution_count": 124,
   "metadata": {
    "collapsed": false
   },
   "outputs": [
    {
     "data": {
      "text/plain": [
       "u'\\\\sigma_{35}\\\\left(sum n\\\\right)'"
      ]
     },
     "execution_count": 124,
     "metadata": {},
     "output_type": "execute_result"
    }
   ],
   "source": [
    "multiplicativeFunctionLibrary['sigma_35'].latex_eval('sum n')"
   ]
  },
  {
   "cell_type": "code",
   "execution_count": 125,
   "metadata": {
    "collapsed": false
   },
   "outputs": [
    {
     "data": {
      "text/plain": [
       "{1, 4}/Ø, {1, 9}/Ø, {1, 25}/Ø, {1, 49}/Ø, {1, 121}/Ø, {1, 169}/Ø, {1, 289}/Ø, {1, 361}/Ø, {1, 529}/Ø, {1, 841}/Ø, {1, 961}/Ø, {1, 1369}/Ø, {1, 1681}/Ø, {1, 1849}/Ø, {1, 2209}/Ø, {1, 2809}/Ø, {1, 3481}/Ø, {1, 3721}/Ø, {1, 4489}/Ø, {1, 5041}/Ø, ..."
      ]
     },
     "execution_count": 125,
     "metadata": {},
     "output_type": "execute_result"
    }
   ],
   "source": [
    "multiplicativeFunctionLibrary['sigma_2'].symbol_list"
   ]
  },
  {
   "cell_type": "code",
   "execution_count": 126,
   "metadata": {
    "collapsed": false
   },
   "outputs": [
    {
     "data": {
      "text/plain": [
       "{1, p^2}/Ø"
      ]
     },
     "execution_count": 126,
     "metadata": {},
     "output_type": "execute_result"
    }
   ],
   "source": [
    "multiplicativeFunctionLibrary['sigma_2'].symbol"
   ]
  },
  {
   "cell_type": "code",
   "execution_count": 127,
   "metadata": {
    "collapsed": false
   },
   "outputs": [
    {
     "data": {
      "text/plain": [
       "u'sigma_2'"
      ]
     },
     "execution_count": 127,
     "metadata": {},
     "output_type": "execute_result"
    }
   ],
   "source": [
    "multiplicativeFunctionLibrary['sigma_2'].name"
   ]
  },
  {
   "cell_type": "code",
   "execution_count": 128,
   "metadata": {
    "collapsed": false
   },
   "outputs": [
    {
     "data": {
      "text/plain": [
       "2503155504993241651347117085085557"
      ]
     },
     "execution_count": 128,
     "metadata": {},
     "output_type": "execute_result"
    }
   ],
   "source": [
    "multiplicativeFunctionLibrary['sigma_35'](9)"
   ]
  },
  {
   "cell_type": "code",
   "execution_count": 129,
   "metadata": {
    "collapsed": false
   },
   "outputs": [
    {
     "data": {
      "text/plain": [
       "2503155504993241651347117085085557"
      ]
     },
     "execution_count": 129,
     "metadata": {},
     "output_type": "execute_result"
    }
   ],
   "source": [
    "multiplicativeFunctionLibrary['sigma_35'](3, 2)"
   ]
  },
  {
   "cell_type": "code",
   "execution_count": 130,
   "metadata": {
    "collapsed": false
   },
   "outputs": [
    {
     "data": {
      "text/plain": [
       "1"
      ]
     },
     "execution_count": 130,
     "metadata": {},
     "output_type": "execute_result"
    }
   ],
   "source": [
    "multiplicativeFunctionLibrary['sigma_35'](3, 0)"
   ]
  },
  {
   "cell_type": "code",
   "execution_count": 131,
   "metadata": {
    "collapsed": false
   },
   "outputs": [
    {
     "data": {
      "text/plain": [
       "125236737537878755945015559526287570582184113932092"
      ]
     },
     "execution_count": 131,
     "metadata": {},
     "output_type": "execute_result"
    }
   ],
   "source": [
    "multiplicativeFunctionLibrary['psi_35'](3,3)"
   ]
  },
  {
   "cell_type": "code",
   "execution_count": 132,
   "metadata": {
    "collapsed": false
   },
   "outputs": [
    {
     "data": {
      "text/plain": [
       "125236737537878755945015559526287570582184113932092"
      ]
     },
     "execution_count": 132,
     "metadata": {},
     "output_type": "execute_result"
    }
   ],
   "source": [
    "multiplicativeFunctionLibrary['psi_35'].master(3,3)"
   ]
  },
  {
   "cell_type": "code",
   "execution_count": 133,
   "metadata": {
    "collapsed": false
   },
   "outputs": [
    {
     "name": "stdout",
     "output_type": "stream",
     "text": [
      "\\begin{table}\n",
      "\\centering\n",
      "\\begin{tabular}{| l | | c | c | c | c | c | c | c | c | c | c |}\n",
      "\\hline\n",
      "& $e = 0$ & $e = 1$ & $e = 2$ & $e = 3$ & $e = 4$ & $e = 5$ & $e = 6$ & $e = 7$ & $e = 8$ & $e = 9$\\\\\n",
      "\\hline\n",
      "\\hline\n",
      "$p = 2$ & 1 & 1 & 2 & 4 & 8 & 16 & 32 & 64 & 128 & 256 \\\\\n",
      "\\hline\n",
      "$p = 3$ & 1 & 2 & 6 & 18 & 54 & 162 & 486 & 1458 & 4374 & 13122 \\\\\n",
      "\\hline\n",
      "$p = 5$ & 1 & 4 & 20 & 100 & 500 & 2500 & 12500 & 62500 & 312500 & 1562500 \\\\\n",
      "\\hline\n",
      "$p = 7$ & 1 & 6 & 42 & 294 & 2058 & 14406 & 100842 & 705894 & 4941258 & 34588806 \\\\\n",
      "\\hline\n",
      "$p = 11$ & 1 & 10 & 110 & 1210 & 13310 & 146410 & 1610510 & 17715610 & 194871710 & 2143588810 \\\\\n",
      "\\hline\n",
      "\\end{tabular}\n",
      "\\end{table}\n"
     ]
    }
   ],
   "source": [
    "multiplicativeFunctionLibrary['euler_phi'].printBellTable(latex=True, height=5)"
   ]
  },
  {
   "cell_type": "code",
   "execution_count": 134,
   "metadata": {
    "collapsed": false
   },
   "outputs": [
    {
     "data": {
      "text/plain": [
       "18"
      ]
     },
     "execution_count": 134,
     "metadata": {},
     "output_type": "execute_result"
    }
   ],
   "source": [
    "multiplicativeFunctionLibrary['euler_phi'].master(3, 3)"
   ]
  },
  {
   "cell_type": "code",
   "execution_count": null,
   "metadata": {
    "collapsed": true
   },
   "outputs": [],
   "source": []
  },
  {
   "cell_type": "code",
   "execution_count": null,
   "metadata": {
    "collapsed": true
   },
   "outputs": [],
   "source": []
  },
  {
   "cell_type": "code",
   "execution_count": 135,
   "metadata": {
    "collapsed": false
   },
   "outputs": [
    {
     "ename": "KeyError",
     "evalue": "'Multiplicative Function not found.'",
     "output_type": "error",
     "traceback": [
      "\u001b[0;31m---------------------------------------------------------------------------\u001b[0m",
      "\u001b[0;31mKeyError\u001b[0m                                  Traceback (most recent call last)",
      "\u001b[0;32m<ipython-input-135-c9cbbef92c5c>\u001b[0m in \u001b[0;36m<module>\u001b[0;34m()\u001b[0m\n\u001b[0;32m----> 1\u001b[0;31m \u001b[0mmf\u001b[0m\u001b[0;34m(\u001b[0m\u001b[0;34m'I am dumb'\u001b[0m\u001b[0;34m)\u001b[0m\u001b[0;34m\u001b[0m\u001b[0m\n\u001b[0m",
      "\u001b[0;32m<string>\u001b[0m in \u001b[0;36m__getitem__\u001b[0;34m(self, name)\u001b[0m\n",
      "\u001b[0;31mKeyError\u001b[0m: 'Multiplicative Function not found.'"
     ]
    }
   ],
   "source": [
    "mf('I am dumb')"
   ]
  },
  {
   "cell_type": "markdown",
   "metadata": {},
   "source": [
    "This won't do yield any two-dimensional function-families, but still..."
   ]
  },
  {
   "cell_type": "code",
   "execution_count": 17,
   "metadata": {
    "collapsed": false
   },
   "outputs": [
    {
     "name": "stdout",
     "output_type": "stream",
     "text": [
      "liouville\n",
      "zero\n",
      "dedekind_psi\n",
      "char_fn_squarefree\n",
      "id_2\n",
      "one\n",
      "id_3\n",
      "core\n",
      "tau_3\n",
      "gamma\n",
      "beta\n",
      "tau_4\n",
      "tau\n",
      "sigma\n",
      "mu\n",
      "id\n",
      "char_fn_squares\n",
      "euler_phi\n",
      "theta\n",
      "psi_0\n",
      "tau_0\n",
      "sigma_0\n",
      "id_0\n",
      "jordan_0\n",
      "psi_1\n",
      "tau_1\n",
      "sigma_1\n",
      "id_1\n",
      "jordan_1\n",
      "psi_2\n",
      "tau_2\n",
      "sigma_2\n",
      "id_2\n",
      "jordan_2\n",
      "psi_3\n",
      "tau_3\n",
      "sigma_3\n",
      "id_3\n",
      "jordan_3\n",
      "psi_4\n",
      "tau_4\n",
      "sigma_4\n",
      "id_4\n",
      "jordan_4\n",
      "psi_5\n",
      "tau_5\n",
      "sigma_5\n",
      "id_5\n",
      "jordan_5\n",
      "psi_6\n",
      "tau_6\n",
      "sigma_6\n",
      "id_6\n",
      "jordan_6\n",
      "psi_7\n",
      "tau_7\n",
      "sigma_7\n",
      "id_7\n",
      "jordan_7\n",
      "psi_8\n",
      "tau_8\n",
      "sigma_8\n",
      "id_8\n",
      "jordan_8\n",
      "psi_9\n",
      "tau_9\n",
      "sigma_9\n",
      "id_9\n",
      "jordan_9\n",
      "psi_10\n",
      "tau_10\n",
      "sigma_10\n",
      "id_10\n",
      "jordan_10\n",
      "psi_11\n",
      "tau_11\n",
      "sigma_11\n",
      "id_11\n",
      "jordan_11\n",
      "psi_12\n",
      "tau_12\n",
      "sigma_12\n",
      "id_12\n",
      "jordan_12\n",
      "psi_13\n",
      "tau_13\n",
      "sigma_13\n",
      "id_13\n",
      "jordan_13\n",
      "psi_14\n",
      "tau_14\n",
      "sigma_14\n",
      "id_14\n",
      "jordan_14\n",
      "psi_15\n",
      "tau_15\n",
      "sigma_15\n",
      "id_15\n",
      "jordan_15\n",
      "psi_16\n",
      "tau_16\n",
      "sigma_16\n",
      "id_16\n",
      "jordan_16\n",
      "psi_17\n",
      "tau_17\n",
      "sigma_17\n",
      "id_17\n",
      "jordan_17\n",
      "psi_18\n",
      "tau_18\n",
      "sigma_18\n",
      "id_18\n",
      "jordan_18\n",
      "psi_19\n",
      "tau_19\n",
      "sigma_19\n",
      "id_19\n",
      "jordan_19\n",
      "psi_20\n",
      "tau_20\n",
      "sigma_20\n",
      "id_20\n",
      "jordan_20\n",
      "psi_21\n",
      "tau_21\n",
      "sigma_21\n",
      "id_21\n",
      "jordan_21\n",
      "psi_22\n",
      "tau_22\n",
      "sigma_22\n",
      "id_22\n",
      "jordan_22\n",
      "psi_23\n",
      "tau_23\n",
      "sigma_23\n",
      "id_23\n",
      "jordan_23\n",
      "psi_24\n",
      "tau_24\n",
      "sigma_24\n",
      "id_24\n",
      "jordan_24\n",
      "psi_25\n",
      "tau_25\n",
      "sigma_25\n",
      "id_25\n",
      "jordan_25\n",
      "psi_26\n",
      "tau_26\n",
      "sigma_26\n",
      "id_26\n",
      "jordan_26\n",
      "psi_27\n",
      "tau_27\n",
      "sigma_27\n",
      "id_27\n",
      "jordan_27\n",
      "psi_28\n",
      "tau_28\n",
      "sigma_28\n",
      "id_28\n",
      "jordan_28\n",
      "psi_29\n",
      "tau_29\n",
      "sigma_29\n",
      "id_29\n",
      "jordan_29\n",
      "psi_30\n",
      "tau_30\n",
      "sigma_30\n",
      "id_30\n",
      "jordan_30\n",
      "psi_31\n",
      "tau_31\n",
      "sigma_31\n",
      "id_31\n",
      "jordan_31\n",
      "psi_32\n",
      "tau_32\n",
      "sigma_32\n",
      "id_32\n",
      "jordan_32\n",
      "psi_33\n",
      "tau_33\n",
      "sigma_33\n",
      "id_33\n",
      "jordan_33\n",
      "psi_34\n",
      "tau_34\n",
      "sigma_34\n",
      "id_34\n",
      "jordan_34\n",
      "psi_35\n",
      "tau_35\n",
      "sigma_35\n",
      "id_35\n",
      "jordan_35\n",
      "psi_36\n",
      "tau_36\n",
      "sigma_36\n",
      "id_36\n",
      "jordan_36\n",
      "psi_37\n",
      "tau_37\n",
      "sigma_37\n",
      "id_37\n",
      "jordan_37\n",
      "psi_38\n",
      "tau_38\n",
      "sigma_38\n",
      "id_38\n",
      "jordan_38\n",
      "psi_39\n",
      "tau_39\n",
      "sigma_39\n",
      "id_39\n",
      "jordan_39\n",
      "psi_40\n",
      "tau_40\n",
      "sigma_40\n",
      "id_40\n",
      "jordan_40\n",
      "psi_41\n",
      "tau_41\n",
      "sigma_41\n",
      "id_41\n",
      "jordan_41\n",
      "psi_42\n",
      "tau_42\n",
      "sigma_42\n",
      "id_42\n",
      "jordan_42\n",
      "psi_43\n",
      "tau_43\n",
      "sigma_43\n",
      "id_43\n",
      "jordan_43\n",
      "psi_44\n",
      "tau_44\n",
      "sigma_44\n",
      "id_44\n",
      "jordan_44\n",
      "psi_45\n",
      "tau_45\n",
      "sigma_45\n",
      "id_45\n",
      "jordan_45\n",
      "psi_46\n",
      "tau_46\n",
      "sigma_46\n",
      "id_46\n",
      "jordan_46\n",
      "psi_47\n",
      "tau_47\n",
      "sigma_47\n",
      "id_47\n",
      "jordan_47\n",
      "psi_48\n",
      "tau_48\n",
      "sigma_48\n",
      "id_48\n",
      "jordan_48\n",
      "psi_49\n",
      "tau_49\n",
      "sigma_49\n",
      "id_49\n",
      "jordan_49\n",
      "psi_50\n",
      "tau_50\n",
      "sigma_50\n",
      "id_50\n",
      "jordan_50\n",
      "psi_51\n",
      "tau_51\n",
      "sigma_51\n",
      "id_51\n",
      "jordan_51\n",
      "psi_52\n",
      "tau_52\n",
      "sigma_52\n",
      "id_52\n",
      "jordan_52\n",
      "psi_53\n",
      "tau_53\n",
      "sigma_53\n",
      "id_53\n",
      "jordan_53\n",
      "psi_54\n",
      "tau_54\n",
      "sigma_54\n",
      "id_54\n",
      "jordan_54\n",
      "psi_55\n",
      "tau_55\n",
      "sigma_55\n",
      "id_55\n",
      "jordan_55\n",
      "psi_56\n",
      "tau_56\n",
      "sigma_56\n",
      "id_56\n",
      "jordan_56\n",
      "psi_57\n",
      "tau_57\n",
      "sigma_57\n",
      "id_57\n",
      "jordan_57\n",
      "psi_58\n",
      "tau_58\n",
      "sigma_58\n",
      "id_58\n",
      "jordan_58\n",
      "psi_59\n",
      "tau_59\n",
      "sigma_59\n",
      "id_59\n",
      "jordan_59\n",
      "psi_60\n",
      "tau_60\n",
      "sigma_60\n",
      "id_60\n",
      "jordan_60\n",
      "psi_61\n",
      "tau_61\n",
      "sigma_61\n",
      "id_61\n",
      "jordan_61\n",
      "psi_62\n",
      "tau_62\n",
      "sigma_62\n",
      "id_62\n",
      "jordan_62\n",
      "psi_63\n",
      "tau_63\n",
      "sigma_63\n",
      "id_63\n",
      "jordan_63\n",
      "psi_64\n",
      "tau_64\n",
      "sigma_64\n",
      "id_64\n",
      "jordan_64\n",
      "psi_65\n",
      "tau_65\n",
      "sigma_65\n",
      "id_65\n",
      "jordan_65\n",
      "psi_66\n",
      "tau_66\n",
      "sigma_66\n",
      "id_66\n",
      "jordan_66\n",
      "psi_67\n",
      "tau_67\n",
      "sigma_67\n",
      "id_67\n",
      "jordan_67\n",
      "psi_68\n",
      "tau_68\n",
      "sigma_68\n",
      "id_68\n",
      "jordan_68\n",
      "psi_69\n",
      "tau_69\n",
      "sigma_69\n",
      "id_69\n",
      "jordan_69\n",
      "psi_70\n",
      "tau_70\n",
      "sigma_70\n",
      "id_70\n",
      "jordan_70\n",
      "psi_71\n",
      "tau_71\n",
      "sigma_71\n",
      "id_71\n",
      "jordan_71\n",
      "psi_72\n",
      "tau_72\n",
      "sigma_72\n",
      "id_72\n",
      "jordan_72\n",
      "psi_73\n",
      "tau_73\n",
      "sigma_73\n",
      "id_73\n",
      "jordan_73\n",
      "psi_74\n",
      "tau_74\n",
      "sigma_74\n",
      "id_74\n",
      "jordan_74\n",
      "psi_75\n",
      "tau_75\n",
      "sigma_75\n",
      "id_75\n",
      "jordan_75\n",
      "psi_76\n",
      "tau_76\n",
      "sigma_76\n",
      "id_76\n",
      "jordan_76\n",
      "psi_77\n",
      "tau_77\n",
      "sigma_77\n",
      "id_77\n",
      "jordan_77\n",
      "psi_78\n",
      "tau_78\n",
      "sigma_78\n",
      "id_78\n",
      "jordan_78\n",
      "psi_79\n"
     ]
    },
    {
     "ename": "KeyboardInterrupt",
     "evalue": "",
     "output_type": "error",
     "traceback": [
      "\u001b[0;31m---------------------------------------------------------------------------\u001b[0m",
      "\u001b[0;31mKeyboardInterrupt\u001b[0m                         Traceback (most recent call last)",
      "\u001b[0;32m<ipython-input-17-31a2d008e7b8>\u001b[0m in \u001b[0;36m<module>\u001b[0;34m()\u001b[0m\n\u001b[1;32m      1\u001b[0m \u001b[0;32mfor\u001b[0m \u001b[0mi\u001b[0m \u001b[0;32min\u001b[0m \u001b[0mmultiplicativeFunctionLibrary\u001b[0m\u001b[0;34m:\u001b[0m\u001b[0;34m\u001b[0m\u001b[0m\n\u001b[1;32m      2\u001b[0m     \u001b[0;32mprint\u001b[0m \u001b[0mi\u001b[0m\u001b[0;34m\u001b[0m\u001b[0m\n\u001b[0;32m----> 3\u001b[0;31m     \u001b[0msleep\u001b[0m\u001b[0;34m(\u001b[0m\u001b[0mRealNumber\u001b[0m\u001b[0;34m(\u001b[0m\u001b[0;34m'.1'\u001b[0m\u001b[0;34m)\u001b[0m\u001b[0;34m)\u001b[0m\u001b[0;34m\u001b[0m\u001b[0m\n\u001b[0m",
      "\u001b[0;32msrc/cysignals/signals.pyx\u001b[0m in \u001b[0;36mcysignals.signals.python_check_interrupt (build/src/cysignals/signals.c:2854)\u001b[0;34m()\u001b[0m\n",
      "\u001b[0;32msrc/cysignals/signals.pyx\u001b[0m in \u001b[0;36mcysignals.signals.sig_raise_exception (build/src/cysignals/signals.c:1303)\u001b[0;34m()\u001b[0m\n",
      "\u001b[0;31mKeyboardInterrupt\u001b[0m: "
     ]
    }
   ],
   "source": [
    "for i in multiplicativeFunctionLibrary:\n",
    "    print i\n",
    "    sleep(.1)"
   ]
  },
  {
   "cell_type": "code",
   "execution_count": null,
   "metadata": {
    "collapsed": false
   },
   "outputs": [],
   "source": []
  },
  {
   "cell_type": "markdown",
   "metadata": {
    "collapsed": true
   },
   "source": [
    "Finally, here is a very simple automatic identity explorer (a lot less code than the previous!)"
   ]
  },
  {
   "cell_type": "code",
   "execution_count": 24,
   "metadata": {
    "collapsed": false
   },
   "outputs": [
    {
     "data": {
      "text/plain": [
       "mu"
      ]
     },
     "execution_count": 24,
     "metadata": {},
     "output_type": "execute_result"
    }
   ],
   "source": [
    "mfd('euler_phi', name='phi')\n",
    "mfd('id')\n",
    "mfd('id_2')\n",
    "mfd('tau')\n",
    "mfd('sigma')\n",
    "mfd('liouville')\n",
    "mfd('mu')"
   ]
  },
  {
   "cell_type": "code",
   "execution_count": 26,
   "metadata": {
    "collapsed": false
   },
   "outputs": [
    {
     "data": {
      "text/html": [
       "<script type=\"math/tex\">\\sum_{d_0 \\mid n} \\varphi\\left(d_0\\right) \\cdot \\tau\\left(\\frac{n}{d_0}\\right) = \\sigma\\left(n\\right)</script>"
      ],
      "text/plain": [
       "<script type=\"math/tex\">\\sum_{d_0 \\mid n} \\varphi\\left(d_0\\right) \\cdot \\tau\\left(\\frac{n}{d_0}\\right) = \\sigma\\left(n\\right)</script>"
      ]
     },
     "metadata": {},
     "output_type": "display_data"
    },
    {
     "name": "stdout",
     "output_type": "stream",
     "text": [
      "\n"
     ]
    },
    {
     "data": {
      "text/html": [
       "<script type=\"math/tex\">\\sum_{d_0 \\mid n} {d_0} \\cdot \\mu\\left(\\frac{n}{d_0}\\right) = \\varphi\\left(n\\right)</script>"
      ],
      "text/plain": [
       "<script type=\"math/tex\">\\sum_{d_0 \\mid n} {d_0} \\cdot \\mu\\left(\\frac{n}{d_0}\\right) = \\varphi\\left(n\\right)</script>"
      ]
     },
     "metadata": {},
     "output_type": "display_data"
    },
    {
     "name": "stdout",
     "output_type": "stream",
     "text": [
      "\n"
     ]
    },
    {
     "data": {
      "text/html": [
       "<script type=\"math/tex\">\\sum_{d_0 \\mid n} \\sigma\\left(d_0\\right) \\cdot \\mu\\left(\\frac{n}{d_0}\\right) = {n}</script>"
      ],
      "text/plain": [
       "<script type=\"math/tex\">\\sum_{d_0 \\mid n} \\sigma\\left(d_0\\right) \\cdot \\mu\\left(\\frac{n}{d_0}\\right) = {n}</script>"
      ]
     },
     "metadata": {},
     "output_type": "display_data"
    },
    {
     "name": "stdout",
     "output_type": "stream",
     "text": [
      "\n"
     ]
    }
   ],
   "source": [
    "funcs = [phi, id, id_2, tau, sigma, liouville, mu]\n",
    "\n",
    "sums = [l + r for l, r in itertools.combinations_with_replacement(funcs, 2)]\n",
    "\n",
    "for lhs in sums:\n",
    "    for rhs in funcs:\n",
    "        if lhs == rhs:\n",
    "            print html(lhs & rhs)"
   ]
  },
  {
   "cell_type": "code",
   "execution_count": 20,
   "metadata": {
    "collapsed": false
   },
   "outputs": [
    {
     "data": {
      "text/plain": [
       "dedekind_psi"
      ]
     },
     "execution_count": 20,
     "metadata": {},
     "output_type": "execute_result"
    }
   ],
   "source": [
    "mfd(\"dedekind_psi\")"
   ]
  },
  {
   "cell_type": "code",
   "execution_count": 21,
   "metadata": {
    "collapsed": false
   },
   "outputs": [
    {
     "data": {
      "text/plain": [
       "{p}/{-1}"
      ]
     },
     "execution_count": 21,
     "metadata": {},
     "output_type": "execute_result"
    }
   ],
   "source": [
    "dedekind_psi.symbol"
   ]
  },
  {
   "cell_type": "code",
   "execution_count": null,
   "metadata": {
    "collapsed": true
   },
   "outputs": [],
   "source": []
  },
  {
   "cell_type": "code",
   "execution_count": 19,
   "metadata": {
    "collapsed": false
   },
   "outputs": [
    {
     "data": {
      "text/plain": [
       "sigma_234636"
      ]
     },
     "execution_count": 19,
     "metadata": {},
     "output_type": "execute_result"
    }
   ],
   "source": [
    "mf('sigma_234636')"
   ]
  },
  {
   "cell_type": "code",
   "execution_count": null,
   "metadata": {
    "collapsed": true
   },
   "outputs": [],
   "source": []
  },
  {
   "cell_type": "code",
   "execution_count": 16,
   "metadata": {
    "collapsed": false
   },
   "outputs": [
    {
     "data": {
      "text/html": [
       "<script type=\"math/tex\">\\sum_{d_0 \\mid n} {\\left(d_0\\right)}^2 \\cdot {\\frac{n}{d_0}} = {\\left(n\\right)}^2</script>"
      ],
      "text/plain": [
       "<script type=\"math/tex\">\\sum_{d_0 \\mid n} {\\left(d_0\\right)}^2 \\cdot {\\frac{n}{d_0}} = {\\left(n\\right)}^2</script>"
      ]
     },
     "metadata": {},
     "output_type": "display_data"
    },
    {
     "data": {
      "text/plain": []
     },
     "execution_count": 16,
     "metadata": {},
     "output_type": "execute_result"
    }
   ],
   "source": [
    "html(mf('id_2') + mf('id') & mf('id_2'))"
   ]
  },
  {
   "cell_type": "code",
   "execution_count": 36,
   "metadata": {
    "collapsed": false
   },
   "outputs": [
    {
     "name": "stdout",
     "output_type": "stream",
     "text": [
      "{\\frac}\n"
     ]
    }
   ],
   "source": [
    "print mf('id').latex_eval('\\\\\\\\frac')"
   ]
  },
  {
   "cell_type": "code",
   "execution_count": null,
   "metadata": {
    "collapsed": true
   },
   "outputs": [],
   "source": []
  },
  {
   "cell_type": "code",
   "execution_count": 42,
   "metadata": {
    "collapsed": false
   },
   "outputs": [
    {
     "name": "stdout",
     "output_type": "stream",
     "text": [
      "Okay \\\\hey\\n\n"
     ]
    }
   ],
   "source": [
    "print dashes.sub(lambda _: '\\\\\\\\hey\\\\n', 'Okay -')"
   ]
  },
  {
   "cell_type": "code",
   "execution_count": null,
   "metadata": {
    "collapsed": true
   },
   "outputs": [],
   "source": []
  }
 ],
 "metadata": {
  "kernelspec": {
   "display_name": "SageMath (latest)",
   "language": "",
   "name": "sagemath"
  },
  "language_info": {
   "codemirror_mode": {
    "name": "ipython",
    "version": 2
   },
   "file_extension": ".py",
   "mimetype": "text/x-python",
   "name": "python",
   "nbconvert_exporter": "python",
   "pygments_lexer": "ipython2",
   "version": "2.7.13"
  }
 },
 "nbformat": 4,
 "nbformat_minor": 0
}
