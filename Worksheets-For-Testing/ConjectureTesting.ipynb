{
 "cells": [
  {
   "cell_type": "code",
   "execution_count": 9,
   "metadata": {
    "collapsed": false
   },
   "outputs": [
   ],
   "source": [
    "%runfile ../General-Tools/LazyList.sage\n",
    "%runfile ../TS-Methods/MonoidTS.sage\n",
    "%runfile ../TS-Methods/RingTS.sage\n",
    "%runfile ../Sequence-Methods/Berlekamp.sage\n",
    "%runfile ../TS-Methods/ComplexTS.sage"
   ]
  },
  {
   "cell_type": "code",
   "execution_count": 0,
   "metadata": {
    "collapsed": false
   },
   "outputs": [
   ],
   "source": [
   ]
  },
  {
   "cell_type": "code",
   "execution_count": 10,
   "metadata": {
    "collapsed": false
   },
   "outputs": [
   ],
   "source": [
    "TS = ComplexTannakianSymbols()\n",
    "ts = TS.parseSymbol"
   ]
  },
  {
   "cell_type": "code",
   "execution_count": 0,
   "metadata": {
    "collapsed": false
   },
   "outputs": [
   ],
   "source": [
   ]
  },
  {
   "cell_type": "code",
   "execution_count": 11,
   "metadata": {
    "collapsed": false
   },
   "outputs": [
   ],
   "source": [
    "import operator"
   ]
  },
  {
   "cell_type": "code",
   "execution_count": 0,
   "metadata": {
    "collapsed": false
   },
   "outputs": [
   ],
   "source": [
   ]
  },
  {
   "cell_type": "code",
   "execution_count": 16,
   "metadata": {
    "collapsed": false
   },
   "outputs": [
   ],
   "source": [
    "PointwiseSum = liftBinaryOpToLazyList(operator.add, exclude=0)\n",
    "PointwiseSub = liftBinaryOpToLazyList(operator.sub, exclude=0)"
   ]
  },
  {
   "cell_type": "code",
   "execution_count": 32,
   "metadata": {
    "collapsed": false,
    "scrolled": true
   },
   "outputs": [
   ],
   "source": [
    "a = var('a')\n",
    "b = var('b')\n",
    "\n",
    "c = var('c')\n",
    "d = var('d')\n",
    "\n",
    "XS = ts(\"{a}/{b}\")\n",
    "YS = ts(\"{c}/{d}\")\n",
    "\n",
    "X = XS.getBellCoefficients()\n",
    "Y = YS.getBellCoefficients()\n",
    "XY = (XS * YS).getBellCoefficients()\n",
    "\n",
    "#print X\n",
    "#print Y\n",
    "#print XY\n",
    "\n",
    "data = PointwiseSub(XY, PointwiseProduct(X, Y))"
   ]
  },
  {
   "cell_type": "code",
   "execution_count": 33,
   "metadata": {
    "collapsed": false,
    "scrolled": true
   },
   "outputs": [
    {
     "name": "stdout",
     "output_type": "stream",
     "text": [
      "1\n",
      "\n",
      "\n",
      "0\n",
      "\n",
      "\n",
      "(a*b - b^2)*c*d - (a*b - b^2)*d^2\n",
      "\n"
     ]
    },
    {
     "name": "stdout",
     "output_type": "stream",
     "text": [
      "\n",
      "(a^2*b - a*b^2)*c^2*d - (a^2*b - 2*a*b^2 + b^3)*c*d^2 - (a*b^2 - b^3)*d^3\n",
      "\n",
      "\n",
      "(a^3*b - a^2*b^2)*c^3*d - (a^3*b - 2*a^2*b^2 + a*b^3)*c^2*d^2 - (a^2*b^2 - 2*a*b^3 + b^4)*c*d^3 - (a*b^3 - b^4)*d^4\n",
      "\n"
     ]
    },
    {
     "name": "stdout",
     "output_type": "stream",
     "text": [
      "\n",
      "(a^4*b - a^3*b^2)*c^4*d - (a^4*b - 2*a^3*b^2 + a^2*b^3)*c^3*d^2 - (a^3*b^2 - 2*a^2*b^3 + a*b^4)*c^2*d^3 - (a^2*b^3 - 2*a*b^4 + b^5)*c*d^4 - (a*b^4 - b^5)*d^5\n",
      "\n",
      "\n",
      "(a^5*b - a^4*b^2)*c^5*d - (a^5*b - 2*a^4*b^2 + a^3*b^3)*c^4*d^2 - (a^4*b^2 - 2*a^3*b^3 + a^2*b^4)*c^3*d^3 - (a^3*b^3 - 2*a^2*b^4 + a*b^5)*c^2*d^4 - (a^2*b^4 - 2*a*b^5 + b^6)*c*d^5 - (a*b^5 - b^6)*d^6\n",
      "\n",
      "\n",
      "(a^6*b - a^5*b^2)*c^6*d - (a^6*b - 2*a^5*b^2 + a^4*b^3)*c^5*d^2 - (a^5*b^2 - 2*a^4*b^3 + a^3*b^4)*c^4*d^3 - (a^4*b^3 - 2*a^3*b^4 + a^2*b^5)*c^3*d^4 - (a^3*b^4 - 2*a^2*b^5 + a*b^6)*c^2*d^5 - (a^2*b^5 - 2*a*b^6 + b^7)*c*d^6 - (a*b^6 - b^7)*d^7\n"
     ]
    },
    {
     "name": "stdout",
     "output_type": "stream",
     "text": [
      "\n",
      "\n",
      "(a^7*b - a^6*b^2)*c^7*d - (a^7*b - 2*a^6*b^2 + a^5*b^3)*c^6*d^2 - (a^6*b^2 - 2*a^5*b^3 + a^4*b^4)*c^5*d^3 - (a^5*b^3 - 2*a^4*b^4 + a^3*b^5)*c^4*d^4 - (a^4*b^4 - 2*a^3*b^5 + a^2*b^6)*c^3*d^5 - (a^3*b^5 - 2*a^2*b^6 + a*b^7)*c^2*d^6 - (a^2*b^6 - 2*a*b^7 + b^8)*c*d^7 - (a*b^7 - b^8)*d^8\n",
      "\n",
      "\n",
      "(a^8*b - a^7*b^2)*c^8*d - (a^8*b - 2*a^7*b^2 + a^6*b^3)*c^7*d^2 - (a^7*b^2 - 2*a^6*b^3 + a^5*b^4)*c^6*d^3 - (a^6*b^3 - 2*a^5*b^4 + a^4*b^5)*c^5*d^4 - (a^5*b^4 - 2*a^4*b^5 + a^3*b^6)*c^4*d^5 - (a^4*b^5 - 2*a^3*b^6 + a^2*b^7)*c^3*d^6 - (a^3*b^6 - 2*a^2*b^7 + a*b^8)*c^2*d^7 - (a^2*b^7 - 2*a*b^8 + b^9)*c*d^8 - (a*b^8 - b^9)*d^9\n",
      "\n",
      "\n",
      "(a^9*b - a^8*b^2)*c^9*d - (a^9*b - 2*a^8*b^2 + a^7*b^3)*c^8*d^2 - (a^8*b^2 - 2*a^7*b^3 + a^6*b^4)*c^7*d^3 - (a^7*b^3 - 2*a^6*b^4 + a^5*b^5)*c^6*d^4 - (a^6*b^4 - 2*a^5*b^5 + a^4*b^6)*c^5*d^5 - (a^5*b^5 - 2*a^4*b^6 + a^3*b^7)*c^4*d^6 - (a^4*b^6 - 2*a^3*b^7 + a^2*b^8)*c^3*d^7 - (a^3*b^7 - 2*a^2*b^8 + a*b^9)*c^2*d^8 - (a^2*b^8 - 2*a*b^9 + b^10)*c*d^9 - (a*b^9 - b^10)*d^10\n",
      "\n"
     ]
    },
    {
     "name": "stdout",
     "output_type": "stream",
     "text": [
      "\n",
      "(a^10*b - a^9*b^2)*c^10*d - (a^10*b - 2*a^9*b^2 + a^8*b^3)*c^9*d^2 - (a^9*b^2 - 2*a^8*b^3 + a^7*b^4)*c^8*d^3 - (a^8*b^3 - 2*a^7*b^4 + a^6*b^5)*c^7*d^4 - (a^7*b^4 - 2*a^6*b^5 + a^5*b^6)*c^6*d^5 - (a^6*b^5 - 2*a^5*b^6 + a^4*b^7)*c^5*d^6 - (a^5*b^6 - 2*a^4*b^7 + a^3*b^8)*c^4*d^7 - (a^4*b^7 - 2*a^3*b^8 + a^2*b^9)*c^3*d^8 - (a^3*b^8 - 2*a^2*b^9 + a*b^10)*c^2*d^9 - (a^2*b^9 - 2*a*b^10 + b^11)*c*d^10 - (a*b^10 - b^11)*d^11\n",
      "\n",
      "\n",
      "(a^11*b - a^10*b^2)*c^11*d - (a^11*b - 2*a^10*b^2 + a^9*b^3)*c^10*d^2 - (a^10*b^2 - 2*a^9*b^3 + a^8*b^4)*c^9*d^3 - (a^9*b^3 - 2*a^8*b^4 + a^7*b^5)*c^8*d^4 - (a^8*b^4 - 2*a^7*b^5 + a^6*b^6)*c^7*d^5 - (a^7*b^5 - 2*a^6*b^6 + a^5*b^7)*c^6*d^6 - (a^6*b^6 - 2*a^5*b^7 + a^4*b^8)*c^5*d^7 - (a^5*b^7 - 2*a^4*b^8 + a^3*b^9)*c^4*d^8 - (a^4*b^8 - 2*a^3*b^9 + a^2*b^10)*c^3*d^9 - (a^3*b^9 - 2*a^2*b^10 + a*b^11)*c^2*d^10 - (a^2*b^10 - 2*a*b^11 + b^12)*c*d^11 - (a*b^11 - b^12)*d^12\n",
      "\n",
      "\n",
      "(a^12*b - a^11*b^2)*c^12*d - (a^12*b - 2*a^11*b^2 + a^10*b^3)*c^11*d^2 - (a^11*b^2 - 2*a^10*b^3 + a^9*b^4)*c^10*d^3 - (a^10*b^3 - 2*a^9*b^4 + a^8*b^5)*c^9*d^4 - (a^9*b^4 - 2*a^8*b^5 + a^7*b^6)*c^8*d^5 - (a^8*b^5 - 2*a^7*b^6 + a^6*b^7)*c^7*d^6 - (a^7*b^6 - 2*a^6*b^7 + a^5*b^8)*c^6*d^7 - (a^6*b^7 - 2*a^5*b^8 + a^4*b^9)*c^5*d^8 - (a^5*b^8 - 2*a^4*b^9 + a^3*b^10)*c^4*d^9 - (a^4*b^9 - 2*a^3*b^10 + a^2*b^11)*c^3*d^10 - (a^3*b^10 - 2*a^2*b^11 + a*b^12)*c^2*d^11 - (a^2*b^11 - 2*a*b^12 + b^13)*c*d^12 - (a*b^12 - b^13)*d^13\n",
      "\n",
      "\n"
     ]
    },
    {
     "name": "stdout",
     "output_type": "stream",
     "text": [
      "(a^13*b - a^12*b^2)*c^13*d - (a^13*b - 2*a^12*b^2 + a^11*b^3)*c^12*d^2 - (a^12*b^2 - 2*a^11*b^3 + a^10*b^4)*c^11*d^3 - (a^11*b^3 - 2*a^10*b^4 + a^9*b^5)*c^10*d^4 - (a^10*b^4 - 2*a^9*b^5 + a^8*b^6)*c^9*d^5 - (a^9*b^5 - 2*a^8*b^6 + a^7*b^7)*c^8*d^6 - (a^8*b^6 - 2*a^7*b^7 + a^6*b^8)*c^7*d^7 - (a^7*b^7 - 2*a^6*b^8 + a^5*b^9)*c^6*d^8 - (a^6*b^8 - 2*a^5*b^9 + a^4*b^10)*c^5*d^9 - (a^5*b^9 - 2*a^4*b^10 + a^3*b^11)*c^4*d^10 - (a^4*b^10 - 2*a^3*b^11 + a^2*b^12)*c^3*d^11 - (a^3*b^11 - 2*a^2*b^12 + a*b^13)*c^2*d^12 - (a^2*b^12 - 2*a*b^13 + b^14)*c*d^13 - (a*b^13 - b^14)*d^14\n",
      "\n",
      "\n",
      "(a^14*b - a^13*b^2)*c^14*d - (a^14*b - 2*a^13*b^2 + a^12*b^3)*c^13*d^2 - (a^13*b^2 - 2*a^12*b^3 + a^11*b^4)*c^12*d^3 - (a^12*b^3 - 2*a^11*b^4 + a^10*b^5)*c^11*d^4 - (a^11*b^4 - 2*a^10*b^5 + a^9*b^6)*c^10*d^5 - (a^10*b^5 - 2*a^9*b^6 + a^8*b^7)*c^9*d^6 - (a^9*b^6 - 2*a^8*b^7 + a^7*b^8)*c^8*d^7 - (a^8*b^7 - 2*a^7*b^8 + a^6*b^9)*c^7*d^8 - (a^7*b^8 - 2*a^6*b^9 + a^5*b^10)*c^6*d^9 - (a^6*b^9 - 2*a^5*b^10 + a^4*b^11)*c^5*d^10 - (a^5*b^10 - 2*a^4*b^11 + a^3*b^12)*c^4*d^11 - (a^4*b^11 - 2*a^3*b^12 + a^2*b^13)*c^3*d^12 - (a^3*b^12 - 2*a^2*b^13 + a*b^14)*c^2*d^13 - (a^2*b^13 - 2*a*b^14 + b^15)*c*d^14 - (a*b^14 - b^15)*d^15\n",
      "\n",
      "\n",
      "(a^15*b - a^14*b^2)*c^15*d - (a^15*b - 2*a^14*b^2 + a^13*b^3)*c^14*d^2 - (a^14*b^2 - 2*a^13*b^3 + a^12*b^4)*c^13*d^3 - (a^13*b^3 - 2*a^12*b^4 + a^11*b^5)*c^12*d^4 - (a^12*b^4 - 2*a^11*b^5 + a^10*b^6)*c^11*d^5 - (a^11*b^5 - 2*a^10*b^6 + a^9*b^7)*c^10*d^6 - (a^10*b^6 - 2*a^9*b^7 + a^8*b^8)*c^9*d^7 - (a^9*b^7 - 2*a^8*b^8 + a^7*b^9)*c^8*d^8 - (a^8*b^8 - 2*a^7*b^9 + a^6*b^10)*c^7*d^9 - (a^7*b^9 - 2*a^6*b^10 + a^5*b^11)*c^6*d^10 - (a^6*b^10 - 2*a^5*b^11 + a^4*b^12)*c^5*d^11 - (a^5*b^11 - 2*a^4*b^12 + a^3*b^13)*c^4*d^12 - (a^4*b^12 - 2*a^3*b^13 + a^2*b^14)*c^3*d^13 - (a^3*b^13 - 2*a^2*b^14 + a*b^15)*c^2*d^14 - (a^2*b^14 - 2*a*b^15 + b^16)*c*d^15 - (a*b^15 - b^16)*d^16\n",
      "\n",
      "\n",
      "(a^16*b - a^15*b^2)*c^16*d - (a^16*b - 2*a^15*b^2 + a^14*b^3)*c^15*d^2 - (a^15*b^2 - 2*a^14*b^3 + a^13*b^4)*c^14*d^3 - (a^14*b^3 - 2*a^13*b^4 + a^12*b^5)*c^13*d^4 - (a^13*b^4 - 2*a^12*b^5 + a^11*b^6)*c^12*d^5 - (a^12*b^5 - 2*a^11*b^6 + a^10*b^7)*c^11*d^6 - (a^11*b^6 - 2*a^10*b^7 + a^9*b^8)*c^10*d^7 - (a^10*b^7 - 2*a^9*b^8 + a^8*b^9)*c^9*d^8 - (a^9*b^8 - 2*a^8*b^9 + a^7*b^10)*c^8*d^9 - (a^8*b^9 - 2*a^7*b^10 + a^6*b^11)*c^7*d^10 - (a^7*b^10 - 2*a^6*b^11 + a^5*b^12)*c^6*d^11 - (a^6*b^11 - 2*a^5*b^12 + a^4*b^13)*c^5*d^12 - (a^5*b^12 - 2*a^4*b^13 + a^3*b^14)*c^4*d^13 - (a^4*b^13 - 2*a^3*b^14 + a^2*b^15)*c^3*d^14 - (a^3*b^14 - 2*a^2*b^15 + a*b^16)*c^2*d^15 - (a^2*b^15 - 2*a*b^16 + b^17)*c*d^16 - (a*b^16 - b^17)*d^17"
     ]
    },
    {
     "name": "stdout",
     "output_type": "stream",
     "text": [
      "\n",
      "\n",
      "\n",
      "(a^17*b - a^16*b^2)*c^17*d - (a^17*b - 2*a^16*b^2 + a^15*b^3)*c^16*d^2 - (a^16*b^2 - 2*a^15*b^3 + a^14*b^4)*c^15*d^3 - (a^15*b^3 - 2*a^14*b^4 + a^13*b^5)*c^14*d^4 - (a^14*b^4 - 2*a^13*b^5 + a^12*b^6)*c^13*d^5 - (a^13*b^5 - 2*a^12*b^6 + a^11*b^7)*c^12*d^6 - (a^12*b^6 - 2*a^11*b^7 + a^10*b^8)*c^11*d^7 - (a^11*b^7 - 2*a^10*b^8 + a^9*b^9)*c^10*d^8 - (a^10*b^8 - 2*a^9*b^9 + a^8*b^10)*c^9*d^9 - (a^9*b^9 - 2*a^8*b^10 + a^7*b^11)*c^8*d^10 - (a^8*b^10 - 2*a^7*b^11 + a^6*b^12)*c^7*d^11 - (a^7*b^11 - 2*a^6*b^12 + a^5*b^13)*c^6*d^12 - (a^6*b^12 - 2*a^5*b^13 + a^4*b^14)*c^5*d^13 - (a^5*b^13 - 2*a^4*b^14 + a^3*b^15)*c^4*d^14 - (a^4*b^14 - 2*a^3*b^15 + a^2*b^16)*c^3*d^15 - (a^3*b^15 - 2*a^2*b^16 + a*b^17)*c^2*d^16 - (a^2*b^16 - 2*a*b^17 + b^18)*c*d^17 - (a*b^17 - b^18)*d^18\n",
      "\n"
     ]
    },
    {
     "name": "stdout",
     "output_type": "stream",
     "text": [
      "\n",
      "(a^18*b - a^17*b^2)*c^18*d - (a^18*b - 2*a^17*b^2 + a^16*b^3)*c^17*d^2 - (a^17*b^2 - 2*a^16*b^3 + a^15*b^4)*c^16*d^3 - (a^16*b^3 - 2*a^15*b^4 + a^14*b^5)*c^15*d^4 - (a^15*b^4 - 2*a^14*b^5 + a^13*b^6)*c^14*d^5 - (a^14*b^5 - 2*a^13*b^6 + a^12*b^7)*c^13*d^6 - (a^13*b^6 - 2*a^12*b^7 + a^11*b^8)*c^12*d^7 - (a^12*b^7 - 2*a^11*b^8 + a^10*b^9)*c^11*d^8 - (a^11*b^8 - 2*a^10*b^9 + a^9*b^10)*c^10*d^9 - (a^10*b^9 - 2*a^9*b^10 + a^8*b^11)*c^9*d^10 - (a^9*b^10 - 2*a^8*b^11 + a^7*b^12)*c^8*d^11 - (a^8*b^11 - 2*a^7*b^12 + a^6*b^13)*c^7*d^12 - (a^7*b^12 - 2*a^6*b^13 + a^5*b^14)*c^6*d^13 - (a^6*b^13 - 2*a^5*b^14 + a^4*b^15)*c^5*d^14 - (a^5*b^14 - 2*a^4*b^15 + a^3*b^16)*c^4*d^15 - (a^4*b^15 - 2*a^3*b^16 + a^2*b^17)*c^3*d^16 - (a^3*b^16 - 2*a^2*b^17 + a*b^18)*c^2*d^17 - (a^2*b^17 - 2*a*b^18 + b^19)*c*d^18 - (a*b^18 - b^19)*d^19\n",
      "\n",
      "\n"
     ]
    }
   ],
   "source": [
    "for i in range(20):\n",
    "    print data[i]\n",
    "    print\n",
    "    print"
   ]
  },
  {
   "cell_type": "code",
   "execution_count": 0,
   "metadata": {
    "collapsed": false
   },
   "outputs": [
   ],
   "source": [
   ]
  },
  {
   "cell_type": "code",
   "execution_count": 0,
   "metadata": {
    "collapsed": false
   },
   "outputs": [
   ],
   "source": [
   ]
  },
  {
   "cell_type": "code",
   "execution_count": 3,
   "metadata": {
    "collapsed": false
   },
   "outputs": [
    {
     "data": {
      "text/plain": [
       "1.00000000000000, -1, -1, -1, -1, -1, -1, -1, -1, -1, -1, -1, -1, -1, -1, -1, -1, -1, -1, -1, ..."
      ]
     },
     "execution_count": 3,
     "metadata": {
     },
     "output_type": "execute_result"
    }
   ],
   "source": [
    "ts(\"Ø/{1}\").getPointCounts()"
   ]
  },
  {
   "cell_type": "code",
   "execution_count": 0,
   "metadata": {
    "collapsed": false
   },
   "outputs": [
   ],
   "source": [
   ]
  },
  {
   "cell_type": "code",
   "execution_count": 0,
   "metadata": {
    "collapsed": true
   },
   "outputs": [
   ],
   "source": [
   ]
  },
  {
   "cell_type": "code",
   "execution_count": 824,
   "metadata": {
    "collapsed": false
   },
   "outputs": [
   ],
   "source": [
    "def H(m):\n",
    "    r = 2*m/(2*m + 1)\n",
    "    k = 2*m + 1\n",
    "    w = e^(2*pi/k)\n",
    "    p = var('p')\n",
    "    ps = sum(TS.createElement([(p^i, 1)]) for i in range(2*m))\n",
    "    ws = sum(TS.createElement([(p^r * w^i, 1)]) for i in range(k))\n",
    "    return ps + ws"
   ]
  },
  {
   "cell_type": "code",
   "execution_count": 836,
   "metadata": {
    "collapsed": false
   },
   "outputs": [
    {
     "data": {
      "text/plain": [
       "<repr(<instance at 0x7f987f5a7200>) failed: RuntimeError: ECL says: THROW: The catch MACSYMA-QUIT is undefined.>"
      ]
     },
     "execution_count": 836,
     "metadata": {
     },
     "output_type": "execute_result"
    }
   ],
   "source": [
    "H(2).getBellCoefficients()"
   ]
  },
  {
   "cell_type": "code",
   "execution_count": 0,
   "metadata": {
    "collapsed": false
   },
   "outputs": [
   ],
   "source": [
   ]
  },
  {
   "cell_type": "code",
   "execution_count": 801,
   "metadata": {
    "collapsed": false
   },
   "outputs": [
    {
     "data": {
      "text/plain": [
       "1, 1/2, 1/3, 1/4, 1/5, 1/6, 1/7, 1/8, 1/9, 1/10, 1/11, 1/12, 1/13, 1/14, 1/15, 1/16, 1/17, 1/18, 1/19, 1/20, ..."
      ]
     },
     "execution_count": 801,
     "metadata": {
     },
     "output_type": "execute_result"
    }
   ],
   "source": [
    "t = LazyList(lambda n: 1 if n == 0 else 1 / (n + 1))\n",
    "t"
   ]
  },
  {
   "cell_type": "code",
   "execution_count": 808,
   "metadata": {
    "collapsed": false
   },
   "outputs": [
    {
     "data": {
      "text/plain": [
       "1, 1/2, 5/12, 3/8, 251/720, 95/288, 19087/60480, 5257/17280, 1070017/3628800, 25713/89600, 26842253/95800320, 4777223/17418240, 703604254357/2615348736000, 106364763817/402361344000, 1166309819657/4483454976000, 25221445/98402304, 8092989203533249/32011868528640000, 85455477715379/342372925440000, 12600467236042756559/51090942171709440000, 1311546499957236437/5377993912811520000, ..."
      ]
     },
     "execution_count": 808,
     "metadata": {
     },
     "output_type": "execute_result"
    }
   ],
   "source": [
    "BellDerivative(t)"
   ]
  },
  {
   "cell_type": "code",
   "execution_count": 0,
   "metadata": {
    "collapsed": true
   },
   "outputs": [
   ],
   "source": [
   ]
  },
  {
   "cell_type": "code",
   "execution_count": 0,
   "metadata": {
    "collapsed": true
   },
   "outputs": [
   ],
   "source": [
   ]
  },
  {
   "cell_type": "code",
   "execution_count": 793,
   "metadata": {
    "collapsed": true
   },
   "outputs": [
   ],
   "source": [
    "dat = [1,1,1,2,2,4,2,6,2,6,4,10,2,12,6,4,4,16,6,18,4,6,10,\n",
    " 22,2,20,12,18,6,28,4,30,8,10,16,12,6,36,18,12,4,\n",
    " 40,6,42,10,12,22]"
   ]
  },
  {
   "cell_type": "code",
   "execution_count": 794,
   "metadata": {
    "collapsed": false
   },
   "outputs": [
    {
     "data": {
      "text/plain": [
       "[1,\n",
       " 1,\n",
       " 1,\n",
       " 4,\n",
       " 1,\n",
       " 11,\n",
       " -14,\n",
       " 29,\n",
       " -47,\n",
       " 58,\n",
       " -79,\n",
       " 177,\n",
       " -290,\n",
       " 469,\n",
       " -699,\n",
       " 944,\n",
       " -1631,\n",
       " 2823,\n",
       " -4370,\n",
       " 7221,\n",
       " -11399,\n",
       " 17336,\n",
       " -27719,\n",
       " 44621,\n",
       " -71858,\n",
       " 115511,\n",
       " -182311,\n",
       " 288850,\n",
       " -460207,\n",
       " 732947,\n",
       " -1172734,\n",
       " 1872153,\n",
       " -2977791,\n",
       " 4739772,\n",
       " -7542287,\n",
       " 12015189,\n",
       " -19171730,\n",
       " 30561705,\n",
       " -48681875,\n",
       " 77541676,\n",
       " -123492927,\n",
       " 196758755,\n",
       " -313575318,\n",
       " 499684597,\n",
       " -796193815,\n",
       " 1268445608,\n",
       " -2020713115]"
      ]
     },
     "execution_count": 794,
     "metadata": {
     },
     "output_type": "execute_result"
    }
   ],
   "source": [
    " BellDerivative(dat)"
   ]
  },
  {
   "cell_type": "code",
   "execution_count": 798,
   "metadata": {
    "collapsed": false
   },
   "outputs": [
    {
     "ename": "ArithmeticError",
     "evalue": "Berlekamp produced an empty list",
     "output_type": "error",
     "traceback": [
      "\u001b[0;31m---------------------------------------------------------------------------\u001b[0m",
      "\u001b[0;31mArithmeticError\u001b[0m                           Traceback (most recent call last)",
      "\u001b[0;32m<ipython-input-798-b883b0424116>\u001b[0m in \u001b[0;36m<module>\u001b[0;34m()\u001b[0m\n\u001b[0;32m----> 1\u001b[0;31m \u001b[0mTS\u001b[0m\u001b[0;34m.\u001b[0m\u001b[0mgetTSFromBellCoeffs\u001b[0m\u001b[0;34m(\u001b[0m\u001b[0mBellDerivative\u001b[0m\u001b[0;34m(\u001b[0m\u001b[0mBellDerivative\u001b[0m\u001b[0;34m(\u001b[0m\u001b[0mdat\u001b[0m\u001b[0;34m)\u001b[0m\u001b[0;34m)\u001b[0m\u001b[0;34m,\u001b[0m \u001b[0mbell_length\u001b[0m \u001b[0;34m=\u001b[0m \u001b[0mInteger\u001b[0m\u001b[0;34m(\u001b[0m\u001b[0;36m20\u001b[0m\u001b[0;34m)\u001b[0m\u001b[0;34m)\u001b[0m\u001b[0;34m\u001b[0m\u001b[0m\n\u001b[0m",
      "\u001b[0;32m<string>\u001b[0m in \u001b[0;36mgetTSFromBellCoeffs\u001b[0;34m(self, *args, **kwargs)\u001b[0m\n",
      "\u001b[0;32m<string>\u001b[0m in \u001b[0;36mgetLZFromBellCoeffs\u001b[0;34m(bellCoeffs, bell_length)\u001b[0m\n",
      "\u001b[0;31mArithmeticError\u001b[0m: Berlekamp produced an empty list"
     ]
    }
   ],
   "source": [
    "TS.getTSFromBellCoeffs(BellDerivative(BellDerivative(dat)), bell_length = 20)"
   ]
  },
  {
   "cell_type": "code",
   "execution_count": 0,
   "metadata": {
    "collapsed": true
   },
   "outputs": [
   ],
   "source": [
   ]
  },
  {
   "cell_type": "code",
   "execution_count": 782,
   "metadata": {
    "collapsed": false
   },
   "outputs": [
    {
     "name": "stdout",
     "output_type": "stream",
     "text": [
      "1, 2, 3, 4, 5, 6, 7, 8, 9, 10, 11, 12, 13, 14, 15, 16, 17, 18, 19, 20, ...\n",
      "1, 2, 2, 2, 2, 2, 2, 2, 2, 2, 2, 2, 2, 2, 2, 2, 2, 2, 2, 2, ...\n",
      "1, 2, 0, 2, 0, 2, 0, 2, 0, 2, 0, 2, 0, 2, 0, 2, 0, 2, 0, 2, ...\n",
      "1, 2, -4, 14, -32, 82, -196, 478, -1152, 2786, -6724, 16238, -39200, 94642, -228484, 551614, -1331712, 3215042, -7761796, 18738638, ...\n",
      "1, 2, -12, 74, -352, 1642, -7452, 33490, -149632, 666578, -2964652, 13174042, -58513888, 259828922, -1153600572, 5121421474, -22735665664, 100928797090, -448040452428, 1988916169450, ...\n",
      "1, 2, -28, 302, -2496, 19602, -149356, 1120254, -8330496, 61641410, -454790908, 3349669358, -24645870528, 181224683538, -1332074589132, 9789083897982, -71927770518528, 528464167565826, -3882513612811996, 28523146818257198, ...\n",
      "1, 2, -60, 1082, -14432, 180282, -2176524, 25776690, -302018688, 3516226994, -40778671580, 471785914602, -5450086021856, 62899896257642, -725497428011052, 8364816719636322, -96421045618383360, 1111271887194585186, -12806374651861221756, 147572327392345250970, ...\n",
      "1, 2, -124, 3614, -74560, 1430402, -26454028, 478708190, -8557533952, 151858552802, -2682499743964, 47247590444606, -830637092432704, 14585455863941666, -255910716150785260, 4487813328592015934, -78674805557192068096, 1378926853884410673986, -24164855473723327333948, 423434336856589203095774, ...\n",
      "1, 2, -252, 11594, -359904, 10369322, -287641548, 7790547410, -208226002560, 5521144995794, -145652471744412, 3829934181917978, -100494964139285088, 2633250806153817722, -68935024770440324076, 1803523412763275843234, -47165721847035726328320, 1233141489363279572250530, -32234449404991872799064124, 842509261154444085422869994, ...\n",
      "1, 2, -508, 36302, -1663424, 70931122, -2911349644, 116425045438, -4591496729856, 179559584820482, -6983950471640668, 270687355086304334, -10467295896064072640, 404144377722156142450, -15588143528780329951084, 600833245718415974567422, -23147947329933000031122432, 891528481484643157273663106, -34329389958278635586402629564, 1321705580882784907561902735182, ...\n"
     ]
    }
   ],
   "source": [
    "X = LazyList(lambda n: n + 1 )#if n == 0 or n > 1 else 0)\n",
    "for _ in range(10):\n",
    "    print X\n",
    "    X = BellDerivative(X)"
   ]
  },
  {
   "cell_type": "code",
   "execution_count": 776,
   "metadata": {
    "collapsed": false
   },
   "outputs": [
    {
     "name": "stdout",
     "output_type": "stream",
     "text": [
      "1, 0, 0, 0, 0, 0, 1, 1, 1, 1, 1, 1, 1, 1, 1, 1, 1, 1, 1, 1, ...\n",
      "1, 0, 0, 0, 0, 0, 6, 7, 8, 9, 10, 11, 6, 0, -7, -15, -24, -34, -39, -38, ...\n"
     ]
    }
   ],
   "source": [
    "S = LazyList(lambda n: 1 if n == 0 or n > 5 else 0)\n",
    "print S\n",
    "print BellDerivative(S)"
   ]
  },
  {
   "cell_type": "code",
   "execution_count": 764,
   "metadata": {
    "collapsed": false
   },
   "outputs": [
   ],
   "source": [
    "#ts(\"{1}/{CC(w1), CC(w2)}\").getBellCoefficients()"
   ]
  },
  {
   "cell_type": "code",
   "execution_count": 759,
   "metadata": {
    "collapsed": false
   },
   "outputs": [
    {
     "data": {
      "text/plain": [
       "-(-1)^(1/3)"
      ]
     },
     "execution_count": 759,
     "metadata": {
     },
     "output_type": "execute_result"
    }
   ],
   "source": [
   ]
  },
  {
   "cell_type": "code",
   "execution_count": 750,
   "metadata": {
    "collapsed": false
   },
   "outputs": [
   ],
   "source": [
    "dat = [1, 1, 2, 2, 3, 2, 4, 2, 4, 3, 4, 2, 6, 4, 3, 3, 5, 4, 6, 3, 4, 4, 4, 2, 6, 6, 6, 4, 6, 3, 8, 4, 4, 5, 6, 4, 9, 6, 6, 3, 8, 4, 8, 4, 6, 4, 4, 3, 8, 6, 5, 6, 6, 6, 6, 4, 6, 6, 4, 3, 12, 8, 4, 5, 6, 4, 8, 5, 4, 6, 8, 4, 12, 9, 6, 6, 8, 6, 8, 3, 8, 8, 4, 4, 5, 8, 6, 4, 8, 6, 6, 4, 8, 4, 9, 4, 12, 8, 8, 6, 9, 5, 8]"
   ]
  },
  {
   "cell_type": "code",
   "execution_count": 748,
   "metadata": {
    "collapsed": false
   },
   "outputs": [
    {
     "name": "stdout",
     "output_type": "stream",
     "text": [
      "1 1\n",
      "2 1\n",
      "3 2\n",
      "4 2\n",
      "5 3\n",
      "6 2\n",
      "7 4\n",
      "8 2\n",
      "9 4\n",
      "10 3\n",
      "11 4\n",
      "12 2\n",
      "13 6\n",
      "14 4\n",
      "15 3\n",
      "16 3\n",
      "17 5\n",
      "18 4\n",
      "19 6\n",
      "20 3\n",
      "21 4\n",
      "22 4\n",
      "23 4\n",
      "24 2\n",
      "25 6\n",
      "26 6\n",
      "27 6\n",
      "28 4\n",
      "29 6\n",
      "30 3\n",
      "31 8\n",
      "32 4\n",
      "33 4\n",
      "34 5\n",
      "35 6\n",
      "36 4\n",
      "37 9\n",
      "38 6\n",
      "39 6\n",
      "40 3\n",
      "41 8\n",
      "42 4\n",
      "43 8\n",
      "44 4\n",
      "45 6\n",
      "46 4\n",
      "47 4\n",
      "48 3\n",
      "49 8\n",
      "50 6\n",
      "51 5\n",
      "52 6\n",
      "53 6\n",
      "54 6\n",
      "55 6\n",
      "56 4\n",
      "57 6\n",
      "58 6\n",
      "59 4\n",
      "60 3\n",
      "61 12\n",
      "62 8\n",
      "63 4\n",
      "64 5\n",
      "65 6\n",
      "66 4\n",
      "67 8\n",
      "68 5\n",
      "69 4\n",
      "70 6\n",
      "71 8\n",
      "72 4\n",
      "73 12\n",
      "74 9\n",
      "75 6\n",
      "76 6\n",
      "77 8\n",
      "78 6\n",
      "79 8\n",
      "80 3\n",
      "81 8\n",
      "82 8\n",
      "83 4\n",
      "84 4\n",
      "85 5\n",
      "86 8\n",
      "87 6\n",
      "88 4\n",
      "89 8\n",
      "90 6\n",
      "91 6\n",
      "92 4\n",
      "93 8\n",
      "94 4\n",
      "95 9\n",
      "96 4\n",
      "97 12\n",
      "98 8\n",
      "99 8\n",
      "100 6\n",
      "101 9\n",
      "102 5\n",
      "103 8\n"
     ]
    }
   ],
   "source": [
    "for i, x in enumerate(dat):\n",
    "    print i + 1, x#reduce(operator.mul, map(lambda (j,m): dat[j^m - 1], (i + 1).factor()), 1) == x, i"
   ]
  },
  {
   "cell_type": "code",
   "execution_count": 0,
   "metadata": {
    "collapsed": true
   },
   "outputs": [
   ],
   "source": [
   ]
  },
  {
   "cell_type": "code",
   "execution_count": 0,
   "metadata": {
    "collapsed": true
   },
   "outputs": [
   ],
   "source": [
   ]
  },
  {
   "cell_type": "code",
   "execution_count": 729,
   "metadata": {
    "collapsed": false
   },
   "outputs": [
   ],
   "source": [
    "tau = lambda z: LazyList(lambda n: 1 if n == 0 else z)"
   ]
  },
  {
   "cell_type": "code",
   "execution_count": 733,
   "metadata": {
    "collapsed": false
   },
   "outputs": [
    {
     "data": {
      "text/plain": [
       "1, 1.00000000000000 + 1.00000000000000*I, 0.500000000000000 + 1.50000000000000*I, -5.55111512312578e-17 + 1.66666666666667*I, -0.416666666666667 + 1.66666666666667*I, -0.750000000000000 + 1.58333333333333*I, -1.01388888888889 + 1.45833333333333*I, -1.22222222222222 + 1.31349206349206*I, -1.38640873015873 + 1.16071428571429*I, -1.51537698412698 + 1.00666887125220*I, -1.61604387125220 + 0.855131172839506*I, -1.69378306878307 + 0.708218093634760*I, -1.75280124325263 + 0.567069504569504*I, -1.79642197437336 + 0.432238639703918*I, -1.82729616292364 + 0.303922784391534*I, -1.84755768188308 + 0.182103040196625*I, -1.85893912189537 + 0.0666306850789326*I, -1.86285857395883 - 0.0427186750325596*I, -1.86048531423480 - 0.146210818030273*I, -1.85279000802268 - 0.244131097726841*I, ..."
      ]
     },
     "execution_count": 733,
     "metadata": {
     },
     "output_type": "execute_result"
    }
   ],
   "source": [
    "BellAntiderivative(tau(CC(I + 1)))"
   ]
  },
  {
   "cell_type": "code",
   "execution_count": 0,
   "metadata": {
    "collapsed": true
   },
   "outputs": [
   ],
   "source": [
   ]
  },
  {
   "cell_type": "code",
   "execution_count": 0,
   "metadata": {
    "collapsed": true
   },
   "outputs": [
   ],
   "source": [
   ]
  },
  {
   "cell_type": "code",
   "execution_count": 720,
   "metadata": {
    "collapsed": false
   },
   "outputs": [
    {
     "data": {
      "text/plain": [
       "{2.00000000000000, 2.00000000000000}/{1.00000000000000}"
      ]
     },
     "execution_count": 720,
     "metadata": {
     },
     "output_type": "execute_result"
    }
   ],
   "source": [
    "ts(\"{1, 2}/Ø\").bellantiderivative()"
   ]
  },
  {
   "cell_type": "code",
   "execution_count": 721,
   "metadata": {
    "collapsed": false
   },
   "outputs": [
    {
     "data": {
      "text/plain": [
       "{1, 2.00000000000000}/Ø"
      ]
     },
     "execution_count": 721,
     "metadata": {
     },
     "output_type": "execute_result"
    }
   ],
   "source": [
    "ts(\"{2, 2}/{1}\").bellderivative()"
   ]
  },
  {
   "cell_type": "code",
   "execution_count": 0,
   "metadata": {
    "collapsed": true
   },
   "outputs": [
   ],
   "source": [
   ]
  },
  {
   "cell_type": "code",
   "execution_count": 459,
   "metadata": {
    "collapsed": false
   },
   "outputs": [
    {
     "data": {
      "text/plain": [
       "1, 2, 7/2, 17/3, 209/24, 773/60, 13327/720, 65461/2520, 1441729/40320, 1255151/25920, 234662231/3628800, 1702678841/19958400, 53334454417/479001600, 448162154317/3113510400, 16083557845279/87178291200, 13946689584823/59439744000, 126523856174033/426995712000, 66120494322107921/177843714048000, 269906478537389909/582033973248000, 34987413853951524577/60822550204416000, ..."
      ]
     },
     "execution_count": 459,
     "metadata": {
     },
     "output_type": "execute_result"
    }
   ],
   "source": [
    "BellAntiderivative((LazyList(lambda n: n + 1)))"
   ]
  },
  {
   "cell_type": "code",
   "execution_count": 0,
   "metadata": {
    "collapsed": true
   },
   "outputs": [
   ],
   "source": [
   ]
  },
  {
   "cell_type": "code",
   "execution_count": 414,
   "metadata": {
    "collapsed": true
   },
   "outputs": [
   ],
   "source": [
    "def getTSFromBellCoeffs(self, *args, **kwargs):\n",
    "    return self.getTSFromLocalZetaFunction(getLZFromBellCoeffs(*args, **kwargs))"
   ]
  },
  {
   "cell_type": "code",
   "execution_count": 415,
   "metadata": {
    "collapsed": true
   },
   "outputs": [
   ],
   "source": [
    "# Local zeta function from bell coeffs\n",
    "def getLZFromBellCoeffs(bellCoeffs, bell_length=None):\n",
    "    list = bellCoeffs\n",
    "    if isinstance(bellCoeffs, LazyList):\n",
    "        list = bellCoeffs.toList(bell_length if bell_length != None else DEFAULT_BERLEKAMP_LENGTH)\n",
    "    else:\n",
    "        list = list if bell_length == None else list[:bell_length]\n",
    "    #if any(map(lambda z: round(real(z)) - z != 0, list)):\n",
    "    #    raise NotImplementedError(\"Berlekamp currently can't do this. The following is the coeff's input: \" + str(list))\n",
    "    local_zeta_function = bmcheck(list)\n",
    "    if local_zeta_function == []:\n",
    "        raise ArithmeticError(\"Berlekamp produced an empty list\")\n",
    "    return tuple(local_zeta_function[-1])"
   ]
  },
  {
   "cell_type": "code",
   "execution_count": 0,
   "metadata": {
    "collapsed": true
   },
   "outputs": [
   ],
   "source": [
   ]
  },
  {
   "cell_type": "code",
   "execution_count": 461,
   "metadata": {
    "collapsed": false
   },
   "outputs": [
    {
     "data": {
      "text/plain": [
       "1, 2, 7/2, 17/3, 209/24, 773/60, 13327/720, 65461/2520, 1441729/40320, 1255151/25920, 234662231/3628800, 1702678841/19958400, 53334454417/479001600, 448162154317/3113510400, 16083557845279/87178291200, 13946689584823/59439744000, 126523856174033/426995712000, 66120494322107921/177843714048000, 269906478537389909/582033973248000, 34987413853951524577/60822550204416000, ..."
      ]
     },
     "execution_count": 461,
     "metadata": {
     },
     "output_type": "execute_result"
    }
   ],
   "source": [
    "b = BellAntiderivative((LazyList(lambda n: n + 1)))\n",
    "b"
   ]
  },
  {
   "cell_type": "code",
   "execution_count": 0,
   "metadata": {
    "collapsed": true
   },
   "outputs": [
   ],
   "source": [
   ]
  },
  {
   "cell_type": "code",
   "execution_count": 462,
   "metadata": {
    "collapsed": false
   },
   "outputs": [
    {
     "data": {
      "text/plain": [
       "Ø/{-0.0256140359120711 - 1.40644986053144*I, -1.14631561216408 - 0.822171799957544*I, -1.41117422852746, 0.401036881862591 + 1.34451569539562*I, -0.453326753751742 + 1.33380905660887*I, 0.783410532285670 - 1.15556963016093*I, 1.24910374082766 - 0.490548281449168*I, 0.783410532285670 + 1.15556963016093*I, -1.14631561216408 + 0.822171799957544*I, -0.0256140359120711 + 1.40644986053144*I, -0.453326753751742 - 1.33380905660887*I, -0.839600179701028 + 1.13272084666950*I, 1.08018525859328 - 0.860453551970337*I, 0.401036881862591 - 1.34451569539562*I, -1.34329271777656 - 0.432020237372248*I, 1.24910374082766 + 0.490548281449168*I, 1.08018525859328 + 0.860453551970337*I, -1.34329271777656 + 0.432020237372248*I, -0.839600179701028 - 1.13272084666950*I}"
      ]
     },
     "execution_count": 462,
     "metadata": {
     },
     "output_type": "execute_result"
    }
   ],
   "source": [
    "TS.getTSFromBellCoeffs(b)"
   ]
  },
  {
   "cell_type": "code",
   "execution_count": 456,
   "metadata": {
    "collapsed": false
   },
   "outputs": [
    {
     "data": {
      "text/plain": [
       "{1.00000000000000, 1.00000000000000}/Ø"
      ]
     },
     "execution_count": 456,
     "metadata": {
     },
     "output_type": "execute_result"
    }
   ],
   "source": [
    "TS.getTSFromBellCoeffs(b)"
   ]
  },
  {
   "cell_type": "code",
   "execution_count": 0,
   "metadata": {
    "collapsed": false
   },
   "outputs": [
   ],
   "source": [
   ]
  },
  {
   "cell_type": "code",
   "execution_count": 457,
   "metadata": {
    "collapsed": false
   },
   "outputs": [
    {
     "data": {
      "text/plain": [
       "[[[1, 2, 3, 4, 5, 6, 7, 8, 9, 10, 11, 12, 13, 14, 15, 16, 17, 18, 19, 20],\n",
       "  [1]],\n",
       " [[1], [1, -2, 1]]]"
      ]
     },
     "execution_count": 457,
     "metadata": {
     },
     "output_type": "execute_result"
    }
   ],
   "source": [
    "bmcheck(b.toList(20))"
   ]
  },
  {
   "cell_type": "code",
   "execution_count": 0,
   "metadata": {
    "collapsed": true
   },
   "outputs": [
   ],
   "source": [
   ]
  },
  {
   "cell_type": "code",
   "execution_count": 0,
   "metadata": {
    "collapsed": false
   },
   "outputs": [
   ],
   "source": [
   ]
  },
  {
   "cell_type": "code",
   "execution_count": 315,
   "metadata": {
    "collapsed": false
   },
   "outputs": [
    {
     "data": {
      "text/plain": [
       "{1.00000000000000}/{-1.00000000000000}"
      ]
     },
     "execution_count": 315,
     "metadata": {
     },
     "output_type": "execute_result"
    }
   ],
   "source": [
    "ts(\"{1, 1}/Ø\").bellderivative()"
   ]
  },
  {
   "cell_type": "code",
   "execution_count": 0,
   "metadata": {
    "collapsed": true
   },
   "outputs": [
   ],
   "source": [
   ]
  },
  {
   "cell_type": "code",
   "execution_count": 316,
   "metadata": {
    "collapsed": true
   },
   "outputs": [
   ],
   "source": [
    "l = [1,2,3,4,5]"
   ]
  },
  {
   "cell_type": "code",
   "execution_count": 324,
   "metadata": {
    "collapsed": false
   },
   "outputs": [
    {
     "data": {
      "text/plain": [
       "[2, 3, 4, 5]"
      ]
     },
     "execution_count": 324,
     "metadata": {
     },
     "output_type": "execute_result"
    }
   ],
   "source": [
   ]
  },
  {
   "cell_type": "code",
   "execution_count": 0,
   "metadata": {
    "collapsed": true
   },
   "outputs": [
   ],
   "source": [
   ]
  },
  {
   "cell_type": "code",
   "execution_count": 0,
   "metadata": {
    "collapsed": true
   },
   "outputs": [
   ],
   "source": [
   ]
  },
  {
   "cell_type": "code",
   "execution_count": 3,
   "metadata": {
    "collapsed": true
   },
   "outputs": [
   ],
   "source": [
    "t = ts(\"{1, 2}/{-3}\").getBellCoefficients()"
   ]
  },
  {
   "cell_type": "code",
   "execution_count": 4,
   "metadata": {
    "collapsed": false
   },
   "outputs": [
    {
     "data": {
      "text/plain": [
       "1, 6, 16, 36, 76, 156, 316, 636, 1276, 2556, 5116, 10236, 20476, 40956, 81916, 163836, 327676, 655356, 1310716, 2621436, ..."
      ]
     },
     "execution_count": 4,
     "metadata": {
     },
     "output_type": "execute_result"
    }
   ],
   "source": [
    "t"
   ]
  },
  {
   "cell_type": "code",
   "execution_count": 0,
   "metadata": {
    "collapsed": false
   },
   "outputs": [
   ],
   "source": [
   ]
  },
  {
   "cell_type": "code",
   "execution_count": 5,
   "metadata": {
    "collapsed": false
   },
   "outputs": [
    {
     "data": {
      "text/plain": [
       "1, 12, 48, 144, 380, 936, 2212, 5088, 11484, 25560, 56276, 122832, 266188, 573384, 1228740, 2621376, 5570492, 11796408, 24903604, 52428720, ..."
      ]
     },
     "execution_count": 5,
     "metadata": {
     },
     "output_type": "execute_result"
    }
   ],
   "source": [
    "DirichletConvolution(t, BellDerivative(t))"
   ]
  },
  {
   "cell_type": "code",
   "execution_count": 6,
   "metadata": {
    "collapsed": false
   },
   "outputs": [
    {
     "data": {
      "text/plain": [
       "1, 12, 48, 144, 380, 936, 2212, 5088, 11484, 25560, 56276, 122832, 266188, 573384, 1228740, 2621376, 5570492, 11796408, 24903604, 52428720, ..."
      ]
     },
     "execution_count": 6,
     "metadata": {
     },
     "output_type": "execute_result"
    }
   ],
   "source": [
    "PointwiseProduct(t, ts(\"{1, 1}/Ø\").getBellCoefficients())"
   ]
  },
  {
   "cell_type": "code",
   "execution_count": 0,
   "metadata": {
    "collapsed": true
   },
   "outputs": [
   ],
   "source": [
   ]
  },
  {
   "cell_type": "code",
   "execution_count": 0,
   "metadata": {
    "collapsed": false
   },
   "outputs": [
   ],
   "source": [
   ]
  },
  {
   "cell_type": "code",
   "execution_count": 7,
   "metadata": {
    "collapsed": false
   },
   "outputs": [
    {
     "data": {
      "text/plain": [
       "[1, -35, 1227/2, -13933/2, 445075/8, -2505969/8]"
      ]
     },
     "execution_count": 7,
     "metadata": {
     },
     "output_type": "execute_result"
    }
   ],
   "source": [
    "BellAntiderivative([1,-35,2,643,-12,5])"
   ]
  },
  {
   "cell_type": "code",
   "execution_count": 0,
   "metadata": {
    "collapsed": true
   },
   "outputs": [
   ],
   "source": [
   ]
  },
  {
   "cell_type": "code",
   "execution_count": 11,
   "metadata": {
    "collapsed": false
   },
   "outputs": [
    {
     "data": {
      "text/plain": [
       "1, 4, 9, 16, 25, 36, 49, 64, 81, 100, 121, 144, 169, 196, 225, 256, 289, 324, 361, 400, ..."
      ]
     },
     "execution_count": 11,
     "metadata": {
     },
     "output_type": "execute_result"
    }
   ],
   "source": [
    "t = LazyList(data = lambda n: (n + 1)^2)\n",
    "t"
   ]
  },
  {
   "cell_type": "code",
   "execution_count": 12,
   "metadata": {
    "collapsed": false
   },
   "outputs": [
    {
     "data": {
      "text/plain": [
       "{1.00000000000000, 1.00000000000000, 1.00000000000000}/{-1.00000000000000}"
      ]
     },
     "execution_count": 12,
     "metadata": {
     },
     "output_type": "execute_result"
    }
   ],
   "source": [
    "TS.getTSFromBellCoeffs(t)"
   ]
  },
  {
   "cell_type": "code",
   "execution_count": 0,
   "metadata": {
    "collapsed": false
   },
   "outputs": [
   ],
   "source": [
   ]
  },
  {
   "cell_type": "code",
   "execution_count": 27,
   "metadata": {
    "collapsed": false
   },
   "outputs": [
   ],
   "source": [
    "square = TS.liftBellUnaryOp(lambda x: sqrt(x))"
   ]
  },
  {
   "cell_type": "code",
   "execution_count": 0,
   "metadata": {
    "collapsed": false
   },
   "outputs": [
   ],
   "source": [
   ]
  },
  {
   "cell_type": "code",
   "execution_count": 31,
   "metadata": {
    "collapsed": false
   },
   "outputs": [
    {
     "data": {
      "text/plain": [
       "{1.00000000000000, 2.00000000000000}/Ø"
      ]
     },
     "execution_count": 31,
     "metadata": {
     },
     "output_type": "execute_result"
    }
   ],
   "source": [
    "square(ts(\"{1, 2, 4}/{-2}\"))"
   ]
  },
  {
   "cell_type": "code",
   "execution_count": 0,
   "metadata": {
    "collapsed": true
   },
   "outputs": [
   ],
   "source": [
   ]
  },
  {
   "cell_type": "code",
   "execution_count": 0,
   "metadata": {
    "collapsed": true
   },
   "outputs": [
   ],
   "source": [
   ]
  },
  {
   "cell_type": "code",
   "execution_count": 0,
   "metadata": {
    "collapsed": true
   },
   "outputs": [
   ],
   "source": [
   ]
  },
  {
   "cell_type": "code",
   "execution_count": 0,
   "metadata": {
    "collapsed": true
   },
   "outputs": [
   ],
   "source": [
   ]
  },
  {
   "cell_type": "code",
   "execution_count": 0,
   "metadata": {
    "collapsed": true
   },
   "outputs": [
   ],
   "source": [
   ]
  },
  {
   "cell_type": "code",
   "execution_count": 47,
   "metadata": {
    "collapsed": false
   },
   "outputs": [
   ],
   "source": [
    "PointwiseSum = liftBinaryOpToLazyList(operator.add, exclude = 0)"
   ]
  },
  {
   "cell_type": "code",
   "execution_count": 0,
   "metadata": {
    "collapsed": true
   },
   "outputs": [
   ],
   "source": [
   ]
  },
  {
   "cell_type": "code",
   "execution_count": 65,
   "metadata": {
    "collapsed": true
   },
   "outputs": [
   ],
   "source": [
   ]
  },
  {
   "cell_type": "code",
   "execution_count": 0,
   "metadata": {
    "collapsed": false
   },
   "outputs": [
   ],
   "source": [
   ]
  },
  {
   "cell_type": "code",
   "execution_count": 0,
   "metadata": {
    "collapsed": true
   },
   "outputs": [
   ],
   "source": [
   ]
  },
  {
   "cell_type": "code",
   "execution_count": 0,
   "metadata": {
    "collapsed": true
   },
   "outputs": [
   ],
   "source": [
   ]
  },
  {
   "cell_type": "code",
   "execution_count": 68,
   "metadata": {
    "collapsed": false
   },
   "outputs": [
    {
     "data": {
      "text/plain": [
       "1, 2, 2, 2, 2, 2, 2, 2, 2, 2, 2, 2, 2, 2, 2, 2, 2, 2, 2, 2, ..."
      ]
     },
     "execution_count": 68,
     "metadata": {
     },
     "output_type": "execute_result"
    }
   ],
   "source": [
    "two_box_ts = ts(\"{1}/{-1}\")\n",
    "two_box = two_box_ts.getBellCoefficients()\n",
    "two_box"
   ]
  },
  {
   "cell_type": "code",
   "execution_count": 0,
   "metadata": {
    "collapsed": true
   },
   "outputs": [
   ],
   "source": [
   ]
  },
  {
   "cell_type": "code",
   "execution_count": 0,
   "metadata": {
    "collapsed": true
   },
   "outputs": [
   ],
   "source": [
   ]
  },
  {
   "cell_type": "code",
   "execution_count": 0,
   "metadata": {
    "collapsed": true
   },
   "outputs": [
   ],
   "source": [
   ]
  },
  {
   "cell_type": "code",
   "execution_count": 202,
   "metadata": {
    "collapsed": true
   },
   "outputs": [
   ],
   "source": [
    "t1 = ts(\"{1, -1}/Ø\")"
   ]
  },
  {
   "cell_type": "code",
   "execution_count": 203,
   "metadata": {
    "collapsed": false
   },
   "outputs": [
    {
     "data": {
      "text/plain": [
       "1, 0, 1, 0, 1, 0, 1, 0, 1, 0, 1, 0, 1, 0, 1, 0, 1, 0, 1, 0, ..."
      ]
     },
     "execution_count": 203,
     "metadata": {
     },
     "output_type": "execute_result"
    }
   ],
   "source": [
    "t1b = t1.getBellCoefficients()\n",
    "t1b"
   ]
  },
  {
   "cell_type": "code",
   "execution_count": 0,
   "metadata": {
    "collapsed": true
   },
   "outputs": [
   ],
   "source": [
   ]
  },
  {
   "cell_type": "code",
   "execution_count": 204,
   "metadata": {
    "collapsed": false
   },
   "outputs": [
    {
     "data": {
      "text/plain": [
       "1, 0, 1/2, 0, 3/8, 0, 5/16, 0, 35/128, 0, 63/256, 0, 231/1024, 0, 429/2048, 0, 6435/32768, 0, 12155/65536, 0, ..."
      ]
     },
     "execution_count": 204,
     "metadata": {
     },
     "output_type": "execute_result"
    }
   ],
   "source": [
    "BellAntiderivative(t1b)"
   ]
  },
  {
   "cell_type": "code",
   "execution_count": 0,
   "metadata": {
    "collapsed": true
   },
   "outputs": [
   ],
   "source": [
   ]
  },
  {
   "cell_type": "code",
   "execution_count": 205,
   "metadata": {
    "collapsed": false
   },
   "outputs": [
    {
     "ename": "NotImplementedError",
     "evalue": "Berlekamp currently can't do this. The following is the coeff's input: [1, 0, 1/2, 0, 3/8, 0, 5/16, 0, 35/128, 0]",
     "output_type": "error",
     "traceback": [
      "\u001b[0;31m---------------------------------------------------------------------------\u001b[0m",
      "\u001b[0;31mNotImplementedError\u001b[0m                       Traceback (most recent call last)",
      "\u001b[0;32m<ipython-input-205-f428b65cb4d4>\u001b[0m in \u001b[0;36m<module>\u001b[0;34m()\u001b[0m\n\u001b[0;32m----> 1\u001b[0;31m \u001b[0mTS\u001b[0m\u001b[0;34m.\u001b[0m\u001b[0mgetTSFromBellCoeffs\u001b[0m\u001b[0;34m(\u001b[0m\u001b[0mBellAntiderivative\u001b[0m\u001b[0;34m(\u001b[0m\u001b[0mt1b\u001b[0m\u001b[0;34m)\u001b[0m\u001b[0;34m,\u001b[0m \u001b[0mbell_length\u001b[0m \u001b[0;34m=\u001b[0m \u001b[0mInteger\u001b[0m\u001b[0;34m(\u001b[0m\u001b[0;36m10\u001b[0m\u001b[0;34m)\u001b[0m\u001b[0;34m)\u001b[0m\u001b[0;34m\u001b[0m\u001b[0m\n\u001b[0m",
      "\u001b[0;32m<string>\u001b[0m in \u001b[0;36mgetTSFromBellCoeffs\u001b[0;34m(self, *args, **kwargs)\u001b[0m\n",
      "\u001b[0;32m<string>\u001b[0m in \u001b[0;36mgetLZFromBellCoeffs\u001b[0;34m(bellCoeffs, bell_length)\u001b[0m\n",
      "\u001b[0;31mNotImplementedError\u001b[0m: Berlekamp currently can't do this. The following is the coeff's input: [1, 0, 1/2, 0, 3/8, 0, 5/16, 0, 35/128, 0]"
     ]
    }
   ],
   "source": [
    "TS.getTSFromBellCoeffs(BellAntiderivative(t1b), bell_length = 10)"
   ]
  },
  {
   "cell_type": "code",
   "execution_count": 200,
   "metadata": {
    "collapsed": false
   },
   "outputs": [
    {
     "data": {
      "text/plain": [
       "1, -3.00000000000000, 5.00000000000000, -7.00000000000000, 9.00000000000000, -11.0000000000000, 13.0000000000000, -15.0000000000000, 17.0000000000000, -19.0000000000000, 21.0000000000000, -23.0000000000000, 25.0000000000000, -27.0000000000000, 29.0000000000000, -31.0000000000000, 33.0000000000000, -35.0000000000000, 37.0000000000000, -39.0000000000000, ..."
      ]
     },
     "execution_count": 200,
     "metadata": {
     },
     "output_type": "execute_result"
    }
   ],
   "source": [
    "TS.getTSFromBellCoeffs(BellAntiderivative(t1b)).getBellCoefficients()"
   ]
  },
  {
   "cell_type": "code",
   "execution_count": 201,
   "metadata": {
    "collapsed": false
   },
   "outputs": [
    {
     "data": {
      "text/plain": [
       "1, -3, 5, -7, 9, -11, 13, -15, 17, -19, 21, -23, 25, -27, 29, -31, 33, -35, 37, -39, ..."
      ]
     },
     "execution_count": 201,
     "metadata": {
     },
     "output_type": "execute_result"
    }
   ],
   "source": [
    "BellAntiderivative(t1b)"
   ]
  },
  {
   "cell_type": "code",
   "execution_count": 0,
   "metadata": {
    "collapsed": true
   },
   "outputs": [
   ],
   "source": [
   ]
  },
  {
   "cell_type": "code",
   "execution_count": 0,
   "metadata": {
    "collapsed": true
   },
   "outputs": [
   ],
   "source": [
    "{1, 2}/Ø -> {2, 2}/{1}"
   ]
  },
  {
   "cell_type": "code",
   "execution_count": 0,
   "metadata": {
    "collapsed": true
   },
   "outputs": [
   ],
   "source": [
    "{1, 2}/{3} -> {1, 1}/{2}"
   ]
  },
  {
   "cell_type": "code",
   "execution_count": 0,
   "metadata": {
    "collapsed": true
   },
   "outputs": [
   ],
   "source": [
    "{1, -1}/{3} -> {-1, -1}/{1}"
   ]
  },
  {
   "cell_type": "code",
   "execution_count": 0,
   "metadata": {
    "collapsed": true
   },
   "outputs": [
   ],
   "source": [
    "{1, -1}/Ø -> {1, 1}/{-1}"
   ]
  },
  {
   "cell_type": "code",
   "execution_count": 206,
   "metadata": {
    "collapsed": false
   },
   "outputs": [
    {
     "data": {
      "text/plain": [
       "1, 3, 5, 7, 9, 11, 13, 15, 17, 19, 21, 23, 25, 27, 29, 31, 33, 35, 37, 39, ..."
      ]
     },
     "execution_count": 206,
     "metadata": {
     },
     "output_type": "execute_result"
    }
   ],
   "source": [
    "ts(\"{1, 1}/{-1}\").getBellCoefficients()"
   ]
  },
  {
   "cell_type": "code",
   "execution_count": 0,
   "metadata": {
    "collapsed": true
   },
   "outputs": [
   ],
   "source": [
   ]
  },
  {
   "cell_type": "code",
   "execution_count": 162,
   "metadata": {
    "collapsed": false
   },
   "outputs": [
    {
     "data": {
      "text/plain": [
       "1, 0, -3, -8, -17, -34, -67, -132, -261, -518, -1031, -2056, -4105, -8202, -16395, -32780, -65549, -131086, -262159, -524304, ..."
      ]
     },
     "execution_count": 162,
     "metadata": {
     },
     "output_type": "execute_result"
    }
   ],
   "source": [
    "PointwiseSum(BellAntiderivative(t1b), t1b)"
   ]
  },
  {
   "cell_type": "code",
   "execution_count": 163,
   "metadata": {
    "collapsed": false
   },
   "outputs": [
    {
     "data": {
      "text/plain": [
       "1, 0, 0, -12, 0, -84, 72, -588, 1008, -4548, 10584, -37884, 101376, -328692, 936936, -2909100, 8530704, -25985316, 77169528, -233081436, ..."
      ]
     },
     "execution_count": 163,
     "metadata": {
     },
     "output_type": "execute_result"
    }
   ],
   "source": [
    "(t1 * two_box_ts).getBellCoefficients()"
   ]
  },
  {
   "cell_type": "code",
   "execution_count": 0,
   "metadata": {
    "collapsed": true
   },
   "outputs": [
   ],
   "source": [
   ]
  },
  {
   "cell_type": "code",
   "execution_count": 0,
   "metadata": {
    "collapsed": false
   },
   "outputs": [
   ],
   "source": [
   ]
  },
  {
   "cell_type": "code",
   "execution_count": 164,
   "metadata": {
    "collapsed": false
   },
   "outputs": [
    {
     "data": {
      "text/plain": [
       "1, 0, -1, -2, -3, -4, -5, -6, -7, -8, -9, -10, -11, -12, -13, -14, -15, -16, -17, -18, ..."
      ]
     },
     "execution_count": 164,
     "metadata": {
     },
     "output_type": "execute_result"
    }
   ],
   "source": [
    "x = BellAntiderivative(t1b)\n",
    "x"
   ]
  },
  {
   "cell_type": "code",
   "execution_count": 165,
   "metadata": {
    "collapsed": false
   },
   "outputs": [
    {
     "data": {
      "text/plain": [
       "1, 0, 0, -12, 0, -84, 72, -588, 1008, -4548, 10584, -37884, 101376, -328692, 936936, -2909100, 8530704, -25985316, 77169528, -233081436, ..."
      ]
     },
     "execution_count": 165,
     "metadata": {
     },
     "output_type": "execute_result"
    }
   ],
   "source": [
    "y = (t1 * two_box_ts).getBellCoefficients()\n",
    "y"
   ]
  },
  {
   "cell_type": "code",
   "execution_count": 0,
   "metadata": {
    "collapsed": true
   },
   "outputs": [
   ],
   "source": [
   ]
  },
  {
   "cell_type": "code",
   "execution_count": 166,
   "metadata": {
    "collapsed": false
   },
   "outputs": [
   ],
   "source": [
    "#TS.getTSFromBellCoeffs(liftBinaryOpToLazyList(operator.sub)(y,x))"
   ]
  },
  {
   "cell_type": "code",
   "execution_count": 167,
   "metadata": {
    "collapsed": false
   },
   "outputs": [
    {
     "data": {
      "text/plain": [
       "1, 1, 2, -9, 4, -79, 78, -581, 1016, -4539, 10594, -37873, 101388, -328679, 936950, -2909085, 8530720, -25985299, 77169546, -233081417, ..."
      ]
     },
     "execution_count": 167,
     "metadata": {
     },
     "output_type": "execute_result"
    }
   ],
   "source": [
    "liftBinaryOpToLazyList(lambda a,b: a - b + 1)(y,x)"
   ]
  },
  {
   "cell_type": "code",
   "execution_count": 170,
   "metadata": {
    "collapsed": false
   },
   "outputs": [
    {
     "data": {
      "text/plain": [
       "{1.00000000000000, 1.00000000000000, 2.00000000000000, -3.00000000000000}/{0.575571099101948, 10.4244289008981}"
      ]
     },
     "execution_count": 170,
     "metadata": {
     },
     "output_type": "execute_result"
    }
   ],
   "source": [
    "TS.getTSFromBellCoeffs(liftBinaryOpToLazyList(lambda a,b: a - b)(y,x))#.getBellCoefficients()"
   ]
  },
  {
   "cell_type": "code",
   "execution_count": 0,
   "metadata": {
    "collapsed": false
   },
   "outputs": [
   ],
   "source": [
   ]
  },
  {
   "cell_type": "code",
   "execution_count": 113,
   "metadata": {
    "collapsed": false
   },
   "outputs": [
    {
     "data": {
      "text/plain": [
       "-1/2*I*sqrt(7) - 1/2"
      ]
     },
     "execution_count": 113,
     "metadata": {
     },
     "output_type": "execute_result"
    }
   ],
   "source": [
    "-1/2 - sqrt(7)/2*I"
   ]
  },
  {
   "cell_type": "code",
   "execution_count": 0,
   "metadata": {
    "collapsed": true
   },
   "outputs": [
   ],
   "source": [
   ]
  },
  {
   "cell_type": "code",
   "execution_count": 93,
   "metadata": {
    "collapsed": false
   },
   "outputs": [
    {
     "data": {
      "text/plain": [
       "{1, 2}/{3}"
      ]
     },
     "execution_count": 93,
     "metadata": {
     },
     "output_type": "execute_result"
    }
   ],
   "source": [
    "(t1 + ts(\"Ø/{\" + str(t1.trace()) + \"}\"))"
   ]
  },
  {
   "cell_type": "code",
   "execution_count": 0,
   "metadata": {
    "collapsed": false
   },
   "outputs": [
   ],
   "source": [
   ]
  },
  {
   "cell_type": "code",
   "execution_count": 128,
   "metadata": {
    "collapsed": false
   },
   "outputs": [
    {
     "data": {
      "text/plain": [
       "'-0.500000000000000 - 1.32287565553230*I, -0.500000000000000 + 1.32287565553230*I'"
      ]
     },
     "execution_count": 128,
     "metadata": {
     },
     "output_type": "execute_result"
    }
   ],
   "source": [
    "R.<t> = PolynomialRing(CC)\n",
    "p = t^2 + t + 2\n",
    "p.roots()\n",
    "roots = ', '.join(sum(map(lambda (r, n): [str(r)]*n, p.roots()), []))\n",
    "roots"
   ]
  },
  {
   "cell_type": "code",
   "execution_count": 0,
   "metadata": {
    "collapsed": false
   },
   "outputs": [
   ],
   "source": [
   ]
  },
  {
   "cell_type": "code",
   "execution_count": 96,
   "metadata": {
    "collapsed": false
   },
   "outputs": [
    {
     "data": {
      "text/plain": [
       "1, 6, 18, 42, 90, 186, 378, 762, 1530, 3066, 6138, 12282, 24570, 49146, 98298, 196602, 393210, 786426, 1572858, 3145722, ..."
      ]
     },
     "execution_count": 96,
     "metadata": {
     },
     "output_type": "execute_result"
    }
   ],
   "source": [
    "(t1 * two_box_ts).getBellCoefficients()"
   ]
  },
  {
   "cell_type": "code",
   "execution_count": 127,
   "metadata": {
    "collapsed": false
   },
   "outputs": [
    {
     "data": {
      "text/plain": [
       "<repr(<instance at 0x7f98880e1e60>) failed: RuntimeError: ECL says: THROW: The catch MACSYMA-QUIT is undefined.>"
      ]
     },
     "execution_count": 127,
     "metadata": {
     },
     "output_type": "execute_result"
    }
   ],
   "source": [
    "PointwiseSum(BellAntiderivative(t1b), PointwiseSum((t1 + ts(\"Ø/{\" + roots + \"}\")).getBellCoefficients(), ts(\"{1}/Ø\").getBellCoefficients()))"
   ]
  },
  {
   "cell_type": "code",
   "execution_count": 0,
   "metadata": {
    "collapsed": false
   },
   "outputs": [
   ],
   "source": [
   ]
  },
  {
   "cell_type": "code",
   "execution_count": 100,
   "metadata": {
    "collapsed": false
   },
   "outputs": [
    {
     "data": {
      "text/plain": [
       "{1, 2}/{-0.666666666666667}"
      ]
     },
     "execution_count": 100,
     "metadata": {
     },
     "output_type": "execute_result"
    }
   ],
   "source": [
    "t1 + ts(\"Ø/{\" + str(-2.0/t1.trace()) + \"}\")"
   ]
  },
  {
   "cell_type": "code",
   "execution_count": 0,
   "metadata": {
    "collapsed": true
   },
   "outputs": [
   ],
   "source": [
   ]
  },
  {
   "cell_type": "code",
   "execution_count": 0,
   "metadata": {
    "collapsed": true
   },
   "outputs": [
   ],
   "source": [
   ]
  },
  {
   "cell_type": "code",
   "execution_count": 0,
   "metadata": {
    "collapsed": true
   },
   "outputs": [
   ],
   "source": [
   ]
  },
  {
   "cell_type": "code",
   "execution_count": 240,
   "metadata": {
    "collapsed": false
   },
   "outputs": [
    {
     "data": {
      "text/plain": [
       "{2, 3}/Ø"
      ]
     },
     "execution_count": 240,
     "metadata": {
     },
     "output_type": "execute_result"
    }
   ],
   "source": [
    "t1 = ts(\"{2, 3}/Ø\")\n",
    "t1"
   ]
  },
  {
   "cell_type": "code",
   "execution_count": 241,
   "metadata": {
    "collapsed": false
   },
   "outputs": [
    {
     "data": {
      "text/plain": [
       "1, 5, 19, 65, 211, 665, 2059, 6305, 19171, 58025, 175099, 527345, 1586131, 4766585, 14316139, 42981185, 129009091, 387158345, 1161737179, 3485735825, ..."
      ]
     },
     "execution_count": 241,
     "metadata": {
     },
     "output_type": "execute_result"
    }
   ],
   "source": [
    "tb = t1.getBellCoefficients()\n",
    "tb"
   ]
  },
  {
   "cell_type": "code",
   "execution_count": 0,
   "metadata": {
    "collapsed": true
   },
   "outputs": [
   ],
   "source": [
   ]
  },
  {
   "cell_type": "code",
   "execution_count": 242,
   "metadata": {
    "collapsed": false
   },
   "outputs": [
    {
     "data": {
      "text/plain": [
       "1, 5, 22, 90, 351, 1323, 4860, 17496, 61965, 216513, 747954, 2558790, 8680203, 29229255, 97785144, 325241892, 1076168025, 3544180029, 11622614670, 37967207922, ..."
      ]
     },
     "execution_count": 242,
     "metadata": {
     },
     "output_type": "execute_result"
    }
   ],
   "source": [
    "BellAntiderivative(tb)"
   ]
  },
  {
   "cell_type": "code",
   "execution_count": 0,
   "metadata": {
    "collapsed": true
   },
   "outputs": [
   ],
   "source": [
   ]
  },
  {
   "cell_type": "code",
   "execution_count": 243,
   "metadata": {
    "collapsed": false
   },
   "outputs": [
    {
     "data": {
      "text/plain": [
       "1, 10, 41, 155, 562, 1988, 6919, 23801, 81136, 274538, 923053, 3086135, 10266334, 33995840, 112101283, 368223077, 1205177116, 3931338374, 12784351849, 41452943747, ..."
      ]
     },
     "execution_count": 243,
     "metadata": {
     },
     "output_type": "execute_result"
    }
   ],
   "source": [
    "PointwiseSum(BellAntiderivative(tb), tb)"
   ]
  },
  {
   "cell_type": "code",
   "execution_count": 0,
   "metadata": {
    "collapsed": true
   },
   "outputs": [
   ],
   "source": [
   ]
  },
  {
   "cell_type": "code",
   "execution_count": 244,
   "metadata": {
    "collapsed": false
   },
   "outputs": [
    {
     "data": {
      "text/plain": [
       "{2.00000000000000, 3.00000000000000, 3.00000000000000, 3.00000000000000}/{2.74142455596817 + 0.357979604281028*I, 2.74142455596817 - 0.357979604281028*I, -5.71831350457133, 1.23546439263500}"
      ]
     },
     "execution_count": 244,
     "metadata": {
     },
     "output_type": "execute_result"
    }
   ],
   "source": [
    "TS.getTSFromBellCoeffs(PointwiseSum(BellAntiderivative(tb), tb))"
   ]
  },
  {
   "cell_type": "code",
   "execution_count": 245,
   "metadata": {
    "collapsed": false
   },
   "outputs": [
    {
     "data": {
      "text/plain": [
       "1, 10.0000000000000, 41.0000000000000, 155.000000000000, 562.000000000000, 1988.00000000000, 6919.00000000000, 23801.0000000000, 81136.0000000001, 274538.000000000, 923053.000000002, 3.08613500000001e6, 1.02663340000000e7, 3.39958400000002e7, 1.12101283000001e8, 3.68223077000003e8, 1.20517711600007e9, 3.93133837400028e9, 1.27843518490010e10, 4.14529437470023e10, ..."
      ]
     },
     "execution_count": 245,
     "metadata": {
     },
     "output_type": "execute_result"
    }
   ],
   "source": [
    "TS.getTSFromBellCoeffs(PointwiseSum(BellAntiderivative(tb), tb)).getBellCoefficients()"
   ]
  },
  {
   "cell_type": "code",
   "execution_count": 0,
   "metadata": {
    "collapsed": true
   },
   "outputs": [
   ],
   "source": [
   ]
  },
  {
   "cell_type": "code",
   "execution_count": 0,
   "metadata": {
    "collapsed": true
   },
   "outputs": [
   ],
   "source": [
    "{1, 2}/Ø -> {1,2,2}/(t^3 + 1t^2 - 7t + 4)"
   ]
  },
  {
   "cell_type": "code",
   "execution_count": 0,
   "metadata": {
    "collapsed": true
   },
   "outputs": [
   ],
   "source": [
    "{2, 3, 3}/Ø -> {2, 3, 3, 3}/(t^4 - 1t^3 - 24t^2 + 73t - 54)"
   ]
  },
  {
   "cell_type": "code",
   "execution_count": 0,
   "metadata": {
    "collapsed": false
   },
   "outputs": [
   ],
   "source": [
   ]
  },
  {
   "cell_type": "code",
   "execution_count": 0,
   "metadata": {
    "collapsed": false
   },
   "outputs": [
   ],
   "source": [
   ]
  },
  {
   "cell_type": "code",
   "execution_count": 0,
   "metadata": {
    "collapsed": false
   },
   "outputs": [
   ],
   "source": [
   ]
  },
  {
   "cell_type": "code",
   "execution_count": 214,
   "metadata": {
    "collapsed": true
   },
   "outputs": [
   ],
   "source": [
    "a = ts(\"{1, 1}/Ø\").getBellCoefficients()\n",
    "b = ts(\"{1, 2}/Ø\").getBellCoefficients()\n",
    "c = ts(\"{1, 3}/{2}\").getBellCoefficients()"
   ]
  },
  {
   "cell_type": "code",
   "execution_count": 215,
   "metadata": {
    "collapsed": false
   },
   "outputs": [
    {
     "name": "stdout",
     "output_type": "stream",
     "text": [
      "1, 2, 3, 4, 5, 6, 7, 8, 9, 10, 11, 12, 13, 14, 15, 16, 17, 18, 19, 20, ...\n",
      "1, 3, 7, 15, 31, 63, 127, 255, 511, 1023, 2047, 4095, 8191, 16383, 32767, 65535, 131071, 262143, 524287, 1048575, ...\n",
      "1, 2, 5, 14, 41, 122, 365, 1094, 3281, 9842, 29525, 88574, 265721, 797162, 2391485, 7174454, 21523361, 64570082, 193710245, 581130734, ...\n"
     ]
    }
   ],
   "source": [
    "print a\n",
    "print b\n",
    "print c"
   ]
  },
  {
   "cell_type": "code",
   "execution_count": 0,
   "metadata": {
    "collapsed": true
   },
   "outputs": [
   ],
   "source": [
   ]
  },
  {
   "cell_type": "code",
   "execution_count": 0,
   "metadata": {
    "collapsed": true
   },
   "outputs": [
   ],
   "source": [
   ]
  },
  {
   "cell_type": "code",
   "execution_count": 0,
   "metadata": {
    "collapsed": true
   },
   "outputs": [
   ],
   "source": [
   ]
  },
  {
   "cell_type": "code",
   "execution_count": 0,
   "metadata": {
    "collapsed": true
   },
   "outputs": [
   ],
   "source": [
   ]
  },
  {
   "cell_type": "code",
   "execution_count": 260,
   "metadata": {
    "collapsed": false
   },
   "outputs": [
    {
     "data": {
      "text/plain": [
       "1, 13, 97, 685, 4801, 33613, 235297, 1647085, 11529601, 80707213, 564950497, 3954653485, 27682574401, 193778020813, 1356446145697, 9495123019885, 66465861139201, 465261027974413, 3256827195820897, 22797790370746285, ..."
      ]
     },
     "execution_count": 260,
     "metadata": {
     },
     "output_type": "execute_result"
    }
   ],
   "source": [
    "p = 7\n",
    "LazyList(data = lambda e: 2*p^e - 1)"
   ]
  },
  {
   "cell_type": "code",
   "execution_count": 0,
   "metadata": {
    "collapsed": true
   },
   "outputs": [
   ],
   "source": [
   ]
  },
  {
   "cell_type": "code",
   "execution_count": 251,
   "metadata": {
    "collapsed": true
   },
   "outputs": [
   ],
   "source": [
    "p = var('p')"
   ]
  },
  {
   "cell_type": "code",
   "execution_count": 258,
   "metadata": {
    "collapsed": false
   },
   "outputs": [
    {
     "data": {
      "text/plain": [
       "<repr(<instance at 0x7f98803c9c20>) failed: RuntimeError: ECL says: THROW: The catch MACSYMA-QUIT is undefined.>"
      ]
     },
     "execution_count": 258,
     "metadata": {
     },
     "output_type": "execute_result"
    }
   ],
   "source": [
    "TS = RingTannakianSymbols(QQ[p])\n",
    "\n",
    "TS.parseSymbol(\"{1, p}/{2 - p}\").getBellCoefficients()"
   ]
  },
  {
   "cell_type": "code",
   "execution_count": 259,
   "metadata": {
    "collapsed": false
   },
   "outputs": [
    {
     "data": {
      "text/plain": [
       "1, 13, 97, 685, 4801, 33613, 235297, 1647085, 11529601, 80707213, 564950497, 3954653485, 27682574401, 193778020813, 1356446145697, 9495123019885, 66465861139201, 465261027974413, 3256827195820897, 22797790370746285, ..."
      ]
     },
     "execution_count": 259,
     "metadata": {
     },
     "output_type": "execute_result"
    }
   ],
   "source": [
    "TS.parseSymbol(\"{1, 7}/{ - 5}\").getBellCoefficients()"
   ]
  },
  {
   "cell_type": "code",
   "execution_count": 0,
   "metadata": {
    "collapsed": true
   },
   "outputs": [
   ],
   "source": [
   ]
  },
  {
   "cell_type": "code",
   "execution_count": 0,
   "metadata": {
    "collapsed": false
   },
   "outputs": [
   ],
   "source": [
   ]
  },
  {
   "cell_type": "code",
   "execution_count": 514,
   "metadata": {
    "collapsed": false
   },
   "outputs": [
    {
     "data": {
      "text/plain": [
       "[0, 0, 1, 0, 2, 0, 3, 0, 4, 0, 5, 0, 6, 0, 7, 0, 8, 0, 9, 0]"
      ]
     },
     "execution_count": 514,
     "metadata": {
     },
     "output_type": "execute_result"
    }
   ],
   "source": [
    "[(k*(1+(-1)^k)/4) for k in range(20)]"
   ]
  },
  {
   "cell_type": "code",
   "execution_count": 536,
   "metadata": {
    "collapsed": false
   },
   "outputs": [
    {
     "data": {
      "text/plain": [
       "[1, e^(I*pi), 1, e^(I*pi), 1, e^(I*pi), 1]"
      ]
     },
     "execution_count": 536,
     "metadata": {
     },
     "output_type": "execute_result"
    }
   ],
   "source": [
    "[(e^(I * 2 * pi * 1/k))^(k*(1+(-1)^k)/4) for k in range(1, 8)]"
   ]
  },
  {
   "cell_type": "code",
   "execution_count": 0,
   "metadata": {
    "collapsed": true
   },
   "outputs": [
   ],
   "source": [
   ]
  },
  {
   "cell_type": "code",
   "execution_count": 492,
   "metadata": {
    "collapsed": false
   },
   "outputs": [
    {
     "data": {
      "text/plain": [
       "1, 3, 7, 15, 31, 63, 127, 255, 511, 1023, 2047, 4095, 8191, 16383, 32767, 65535, 131071, 262143, 524287, 1048575, ..."
      ]
     },
     "execution_count": 492,
     "metadata": {
     },
     "output_type": "execute_result"
    }
   ],
   "source": [
    "t = ts(\"{1,2}/Ø\")\n",
    "b = t.getBellCoefficients()\n",
    "b"
   ]
  },
  {
   "cell_type": "code",
   "execution_count": 512,
   "metadata": {
    "collapsed": false
   },
   "outputs": [
    {
     "data": {
      "text/plain": [
       "1, 0, 0, 9, 0, 0, 73, 0, 0, 585, 0, 0, 4681, 0, 0, 37449, 0, 0, 299593, 0, ..."
      ]
     },
     "execution_count": 512,
     "metadata": {
     },
     "output_type": "execute_result"
    }
   ],
   "source": [
    "BellAntiderivative(BellDerivative(b).compress(3)).expand(3)"
   ]
  },
  {
   "cell_type": "code",
   "execution_count": 509,
   "metadata": {
    "collapsed": false
   },
   "outputs": [
    {
     "name": "stdout",
     "output_type": "stream",
     "text": [
      "-0.500000000000000 - 0.866025403784439*I -0.500000000000000 + 0.866025403784439*I\n"
     ]
    }
   ],
   "source": [
    "w1 = -(-1)^(1/3)\n",
    "w2 = (-1)^(2/3)\n",
    "print CC(w1), CC(w2)"
   ]
  },
  {
   "cell_type": "code",
   "execution_count": 511,
   "metadata": {
    "collapsed": false
   },
   "outputs": [
    {
     "data": {
      "text/plain": [
       "1, 2.22044604925031e-16 + 4.44089209850063e-16*I, -4.44089209850063e-16 + 1.11022302462516e-15*I, 9.00000000000000 - 2.99760216648792e-15*I, 2.88657986402541e-15 + 5.77315972805081e-15*I, -6.19504447740837e-15 + 1.80522263804050e-14*I, 73.0000000000000 - 4.92291392835871e-14*I, 3.43534724476870e-14 + 6.26165785888588e-14*I, -6.29024610176997e-14 + 2.14220308158986e-13*I, 585.000000000000 - 5.96273030950556e-13*I, 3.31563348205626e-13 + 6.31050767196939e-13*I, -5.99394523913654e-13 + 2.28841365049445e-12*I, 4681.00000000000 - 6.39405658050170e-12*I, 3.26893140151402e-12 + 6.15798010874011e-12*I, -5.73602042487395e-12 + 2.28841478594982e-11*I, 37449.0000000000 - 6.41756731090126e-11*I, 2.94963599332999e-11 + 5.76493724552689e-11*I, -5.28211494639579e-11 + 2.18337800646771e-10*I, 299593.000000000 - 6.16165758230795e-10*I, 2.66887838093967e-10 + 5.27788172140967e-10*I, ..."
      ]
     },
     "execution_count": 511,
     "metadata": {
     },
     "output_type": "execute_result"
    }
   ],
   "source": [
    "(t * ts(\"{1, CC(w1), CC(w2)}/Ø\")).getBellCoefficients()"
   ]
  },
  {
   "cell_type": "code",
   "execution_count": 0,
   "metadata": {
    "collapsed": true
   },
   "outputs": [
   ],
   "source": [
   ]
  },
  {
   "cell_type": "code",
   "execution_count": 0,
   "metadata": {
    "collapsed": true
   },
   "outputs": [
   ],
   "source": [
   ]
  },
  {
   "cell_type": "code",
   "execution_count": 0,
   "metadata": {
    "collapsed": true
   },
   "outputs": [
   ],
   "source": [
   ]
  },
  {
   "cell_type": "code",
   "execution_count": 0,
   "metadata": {
    "collapsed": true
   },
   "outputs": [
   ],
   "source": [
   ]
  },
  {
   "cell_type": "code",
   "execution_count": 0,
   "metadata": {
    "collapsed": true
   },
   "outputs": [
   ],
   "source": [
   ]
  },
  {
   "cell_type": "code",
   "execution_count": 0,
   "metadata": {
    "collapsed": false
   },
   "outputs": [
   ],
   "source": [
   ]
  },
  {
   "cell_type": "code",
   "execution_count": 563,
   "metadata": {
    "collapsed": false
   },
   "outputs": [
    {
     "data": {
      "text/plain": [
       "[{1, 1, 2}/{-1},\n",
       " {1, 1, 3}/{2},\n",
       " {5, 6, 7}/{8},\n",
       " {2, 2, -1}/{1},\n",
       " {1, 1, 1}/{-1},\n",
       " {1, -1, -1}/{2},\n",
       " {1, 3, 3}/{2}]"
      ]
     },
     "execution_count": 563,
     "metadata": {
     },
     "output_type": "execute_result"
    }
   ],
   "source": [
    "tests = [ts(x) for x in \"{1,2,1}/{-1}\", \"{1, 3,1}/{2}\", \"{5, 6, 7}/{8}\", \"{-1, 2, 2}/{1}\", \"{1, 1, 1}/{-1}\", \"{1, -1, -1}/{2}\", \"{3, 3, 1}/{2}\"]\n",
    "tests"
   ]
  },
  {
   "cell_type": "code",
   "execution_count": 0,
   "metadata": {
    "collapsed": true
   },
   "outputs": [
   ],
   "source": [
   ]
  },
  {
   "cell_type": "code",
   "execution_count": 564,
   "metadata": {
    "collapsed": false,
    "scrolled": true
   },
   "outputs": [
    {
     "name": "stdout",
     "output_type": "stream",
     "text": [
      "(6, 4)\n",
      "(8, 6)\n",
      "(9, 7)\n",
      "(8, 6)\n",
      "(7, 5)\n",
      "(8, 6)\n",
      "(8, 6)\n",
      "(6, 4)\n",
      "(9, 7)\n",
      "(8, 6)\n",
      "(7, 5)\n",
      "(8, 6)\n",
      "(7, 5)\n",
      "(6, 4)\n",
      "(9, 7)\n",
      "(9, 7)\n",
      "(9, 7)\n",
      "(9, 7)\n",
      "(6, 4)\n",
      "(7, 5)\n",
      "(8, 6)\n",
      "(8, 6)\n",
      "(5, 3)\n",
      "(7, 5)\n",
      "(7, 5)\n",
      "(5, 3)\n",
      "(8, 6)\n",
      "(6, 4)\n",
      "set([(6, 4), (7, 5), (9, 7), (5, 3), (8, 6)])\n"
     ]
    }
   ],
   "source": [
    "tot = []\n",
    "\n",
    "for t1, t2 in itertools.combinations_with_replacement(tests, 2):\n",
    "    tot.append(TS.boxproduct(t1, t2).superdimension())\n",
    "    print tot[-1]\n",
    "    \n",
    "print set(tot)"
   ]
  },
  {
   "cell_type": "code",
   "execution_count": 0,
   "metadata": {
    "collapsed": true
   },
   "outputs": [
   ],
   "source": [
   ]
  },
  {
   "cell_type": "code",
   "execution_count": 571,
   "metadata": {
    "collapsed": false
   },
   "outputs": [
    {
     "data": {
      "text/plain": [
       "[(0, 'h'), (1, 'e'), (2, 'y')]"
      ]
     },
     "execution_count": 571,
     "metadata": {
     },
     "output_type": "execute_result"
    }
   ],
   "source": [
   ]
  },
  {
   "cell_type": "code",
   "execution_count": 567,
   "metadata": {
    "collapsed": false
   },
   "outputs": [
    {
     "data": {
      "text/plain": [
       "[-1, 0]"
      ]
     },
     "execution_count": 567,
     "metadata": {
     },
     "output_type": "execute_result"
    }
   ],
   "source": [
   ]
  },
  {
   "cell_type": "code",
   "execution_count": 586,
   "metadata": {
    "collapsed": false
   },
   "outputs": [
    {
     "name": "stdout",
     "output_type": "stream",
     "text": [
      "81\n"
     ]
    }
   ],
   "source": [
    "bases = [ts(\"{\" + x + \"}/Ø\") for x in \"1\", \"2\", \"-1\", \"3\"]\n",
    "tests = set(reduce(operator.add, map(lambda (i, f): f * bases[i], enumerate(p)),ts(\"Ø/Ø\")) for p in itertools.product(range(-1, 1 + 1), repeat=len(bases)))\n",
    "print len(tests)"
   ]
  },
  {
   "cell_type": "code",
   "execution_count": 617,
   "metadata": {
    "collapsed": false
   },
   "outputs": [
    {
     "name": "stdout",
     "output_type": "stream",
     "text": [
      "(1, 2) -1 \t -> \t(2, 3) -1\n",
      "(2, 1) 1 \t -> \t(4, 2) 2\n",
      "(2, 0) 2 \t -> \t(4, 2) 2\n",
      "(1, 2) -1 \t -> \t(2, 3) -1\n",
      "(1, 1) 0 \t -> \t(2, 2) 0\n",
      "(1, 2) -1 \t -> \t(2, 3) -1\n",
      "(0, 2) -2 \t -> \t(0, 2) -2\n",
      "(1, 2) -1 \t -> \t(2, 3) -1\n",
      "(1, 3) -2 \t -> \t(2, 4) -2\n",
      "(0, 0) 0 \t -> \t(0, 0) 0\n",
      "(0, 1) -1 \t -> \t(0, 1) -1\n",
      "(2, 2) 0 \t -> \t(4, 4) 0\n",
      "(2, 0) 2 \t -> \t(4, 2) 2\n",
      "(0, 2) -2 \t -> \t(0, 2) -2\n",
      "(2, 2) 0 \t -> \t(4, 4) 0\n",
      "(1, 3) -2 \t -> \t(2, 4) -2\n",
      "(1, 2) -1 \t -> \t(2, 3) -1\n",
      "(2, 1) 1 \t -> \t(4, 2) 2\n",
      "(3, 0) 3 \t -> \t(6, 3) 3\n",
      "(1, 1) 0 \t -> \t(2, 2) 0\n",
      "(2, 1) 1 \t -> \t(4, 2) 2\n",
      "(2, 1) 1 \t -> \t(4, 2) 2\n",
      "(2, 1) 1 \t -> \t(4, 2) 2\n",
      "(0, 3) -3 \t -> \t(0, 3) -3\n",
      "(0, 1) -1 \t -> \t(0, 1) -1\n",
      "(0, 3) -3 \t -> \t(0, 3) -3\n",
      "(0, 1) -1 \t -> \t(0, 1) -1\n",
      "(1, 1) 0 \t -> \t(2, 2) 0\n",
      "(1, 2) -1 \t -> \t(2, 3) -1\n",
      "(1, 0) 1 \t -> \t(2, 0) 2\n",
      "(0, 4) -4 \t -> \t(0, 4) -4\n",
      "(1, 2) -1 \t -> \t(2, 3) -1\n",
      "(0, 1) -1 \t -> \t(0, 1) -1\n",
      "(2, 1) 1 \t -> \t(4, 2) 2\n",
      "(3, 0) 3 \t -> \t(6, 3) 3\n",
      "(2, 2) 0 \t -> \t(4, 4) 0\n",
      "(3, 1) 2 \t -> \t(6, 4) 2\n",
      "(3, 1) 2 \t -> \t(6, 4) 2\n",
      "(0, 2) -2 \t -> \t(0, 2) -2\n",
      "(1, 1) 0 \t -> \t(2, 2) 0\n",
      "(1, 3) -2 \t -> \t(2, 4) -2\n",
      "(0, 2) -2 \t -> \t(0, 2) -2\n",
      "(1, 2) -1 \t -> \t(2, 3) -1\n",
      "(2, 2) 0 \t -> \t(4, 4) 0\n",
      "(1, 2) -1 \t -> \t(2, 3) -1\n",
      "(2, 1) 1 \t -> \t(4, 2) 2\n",
      "(2, 1) 1 \t -> \t(4, 2) 2\n",
      "(3, 1) 2 \t -> \t(6, 4) 2\n",
      "(3, 0) 3 \t -> \t(6, 3) 3\n",
      "(1, 1) 0 \t -> \t(2, 2) 0\n",
      "(1, 1) 0 \t -> \t(2, 2) 0\n",
      "(1, 0) 1 \t -> \t(2, 0) 2\n",
      "(2, 0) 2 \t -> \t(4, 2) 2\n",
      "(2, 1) 1 \t -> \t(4, 2) 2\n",
      "(4, 0) 4 \t -> \t(8, 4) 4\n",
      "(2, 2) 0 \t -> \t(4, 4) 0\n",
      "(2, 1) 1 \t -> \t(4, 2) 2\n",
      "(1, 0) 1 \t -> \t(2, 0) 2\n",
      "(1, 0) 1 \t -> \t(2, 0) 2\n",
      "(2, 1) 1 \t -> \t(4, 2) 2\n",
      "(1, 3) -2 \t -> \t(2, 4) -2\n",
      "(2, 0) 2 \t -> \t(4, 2) 2\n",
      "(1, 1) 0 \t -> \t(2, 2) 0\n",
      "(2, 0) 2 \t -> \t(4, 2) 2\n",
      "(1, 1) 0 \t -> \t(2, 2) 0\n",
      "(0, 2) -2 \t -> \t(0, 2) -2\n",
      "(0, 3) -3 \t -> \t(0, 3) -3\n",
      "(0, 3) -3 \t -> \t(0, 3) -3\n",
      "(1, 2) -1 \t -> \t(2, 3) -1\n",
      "(2, 2) 0 \t -> \t(4, 4) 0\n",
      "(1, 2) -1 \t -> \t(2, 3) -1\n",
      "(1, 1) 0 \t -> \t(2, 2) 0\n",
      "(1, 1) 0 \t -> \t(2, 2) 0\n",
      "(2, 0) 2 \t -> \t(4, 2) 2\n",
      "(1, 1) 0 \t -> \t(2, 2) 0\n",
      "(1, 1) 0 \t -> \t(2, 2) 0\n",
      "(2, 1) 1 \t -> \t(4, 2) 2\n",
      "(0, 2) -2 \t -> \t(0, 2) -2\n",
      "(3, 1) 2 \t -> \t(6, 4) 2\n",
      "(1, 2) -1 \t -> \t(2, 3) -1\n",
      "(3, 0) 3 \t -> \t(6, 3) 3\n"
     ]
    }
   ],
   "source": [
    "#tot = []\n",
    "\n",
    "def conjecture(aug):\n",
    "    return 2 if aug == 1 else aug\n",
    "\n",
    "for t in tests:\n",
    "    #tot.append(TS.boxproduct(t1, t2).superdimension())\n",
    "    elem = TS.boxproduct(t, ts(\"{1,1}/Ø\"))\n",
    "    print t.superdimension(), t.augmentation(), \"\\t -> \\t\",elem.superdimension(),elem.augmentation()#tot[-1]\n",
    "    if conjecture(t.augmentation()) != elem.augmentation():\n",
    "        print \"HEY! \", t, \" -> \", elem \n",
    "    \n",
    "#print set(tot)"
   ]
  },
  {
   "cell_type": "code",
   "execution_count": 0,
   "metadata": {
    "collapsed": true
   },
   "outputs": [
   ],
   "source": [
   ]
  },
  {
   "cell_type": "code",
   "execution_count": 601,
   "metadata": {
    "collapsed": false
   },
   "outputs": [
    {
     "data": {
      "text/plain": [
       "1, 1/2, 3/8, 5/16, 35/128, 63/256, 231/1024, 429/2048, 6435/32768, 12155/65536, 46189/262144, 88179/524288, 676039/4194304, 1300075/8388608, 5014575/33554432, 9694845/67108864, 300540195/2147483648, 583401555/4294967296, 2268783825/17179869184, 4418157975/34359738368, ..."
      ]
     },
     "execution_count": 601,
     "metadata": {
     },
     "output_type": "execute_result"
    }
   ],
   "source": [
    "BellAntiderivative(LazyList(lambda n: 1 if n == 0 else 1/2))"
   ]
  },
  {
   "cell_type": "code",
   "execution_count": 602,
   "metadata": {
    "collapsed": false
   },
   "outputs": [
    {
     "data": {
      "text/plain": [
       "1, 1, 1, 1, 1, 1, 1, 1, 1, 1, 1, 1, 1, 1, 1, 1, 1, 1, 1, 1, ..."
      ]
     },
     "execution_count": 602,
     "metadata": {
     },
     "output_type": "execute_result"
    }
   ],
   "source": [
    "DirichletConvolution(BellAntiderivative(LazyList(lambda n: 1 if n == 0 else 1/2)), BellAntiderivative(LazyList(lambda n: 1 if n == 0 else 1/2)))"
   ]
  },
  {
   "cell_type": "code",
   "execution_count": 0,
   "metadata": {
    "collapsed": true
   },
   "outputs": [
   ],
   "source": [
   ]
  },
  {
   "cell_type": "code",
   "execution_count": 604,
   "metadata": {
    "collapsed": false
   },
   "outputs": [
    {
     "data": {
      "text/plain": [
       "[1, 1, -1, 1, -1, 1, -1, 1]"
      ]
     },
     "execution_count": 604,
     "metadata": {
     },
     "output_type": "execute_result"
    }
   ],
   "source": [
    "BellDerivative([1,1,0,0,0,0,0,0])"
   ]
  },
  {
   "cell_type": "code",
   "execution_count": 611,
   "metadata": {
    "collapsed": false
   },
   "outputs": [
    {
     "data": {
      "text/plain": [
       "1, 1/2, -1/8, 1/16, -5/128, 7/256, -21/1024, 33/2048, -429/32768, 715/65536, -2431/262144, 4199/524288, -29393/4194304, 52003/8388608, -185725/33554432, 334305/67108864, -9694845/2147483648, 17678835/4294967296, -64822395/17179869184, 119409675/34359738368, ..."
      ]
     },
     "execution_count": 611,
     "metadata": {
     },
     "output_type": "execute_result"
    }
   ],
   "source": [
    "t = BellAntiderivative(liftUnaryOpToLazyList(lambda n: n/2, exclude = 0)(BellDerivative(LazyList(lambda n: 1 if n <= 1 else 0))))\n",
    "t"
   ]
  },
  {
   "cell_type": "code",
   "execution_count": 612,
   "metadata": {
    "collapsed": false
   },
   "outputs": [
    {
     "data": {
      "text/plain": [
       "1, 1, 0, 0, 0, 0, 0, 0, 0, 0, 0, 0, 0, 0, 0, 0, 0, 0, 0, 0, ..."
      ]
     },
     "execution_count": 612,
     "metadata": {
     },
     "output_type": "execute_result"
    }
   ],
   "source": [
    "DirichletConvolution(t,t)"
   ]
  },
  {
   "cell_type": "code",
   "execution_count": 0,
   "metadata": {
    "collapsed": false
   },
   "outputs": [
   ],
   "source": [
   ]
  },
  {
   "cell_type": "code",
   "execution_count": 0,
   "metadata": {
    "collapsed": false,
    "scrolled": true
   },
   "outputs": [
   ],
   "source": [
   ]
  },
  {
   "cell_type": "code",
   "execution_count": 709,
   "metadata": {
    "collapsed": false
   },
   "outputs": [
   ],
   "source": [
    "test = LazyList()\n",
    "\n",
    "test.data = lambda n: ts(\"Ø/{1}\") if n == 0 else test[n - 1].bellderivative().fmap(lambda x: x)"
   ]
  },
  {
   "cell_type": "code",
   "execution_count": 712,
   "metadata": {
    "collapsed": false
   },
   "outputs": [
    {
     "data": {
      "text/plain": [
       "{1}/{2.00000000000000}"
      ]
     },
     "execution_count": 712,
     "metadata": {
     },
     "output_type": "execute_result"
    }
   ],
   "source": [
    "test[1]"
   ]
  },
  {
   "cell_type": "code",
   "execution_count": 652,
   "metadata": {
    "collapsed": false
   },
   "outputs": [
    {
     "data": {
      "text/plain": [
       "1.00000000000000, 1.00000000000000, 1.00000000000000, 1.00000000000000, 1.00000000000000, 1.00000000000000, 1.00000000000000, 1.00000000000000, 1.00000000000000, 1.00000000000000, 1.00000000000000, 1.00000000000000, 1.00000000000000, 1.00000000000000, 1.00000000000000, 1.00000000000000, 1.00000000000000, 1.00000000000000, 1.00000000000000, 1.00000000000000, ..."
      ]
     },
     "execution_count": 652,
     "metadata": {
     },
     "output_type": "execute_result"
    }
   ],
   "source": [
    "ts(\"{1}/Ø\").getPointCounts()"
   ]
  },
  {
   "cell_type": "code",
   "execution_count": 661,
   "metadata": {
    "collapsed": false
   },
   "outputs": [
    {
     "data": {
      "text/plain": [
       "<repr(<instance at 0x7f987f0ea7e8>) failed: TypeError: unsupported operand parent(s) for '*': 'Rational Field' and 'Free module generated by Complex Field with 53 bits of precision over Integer Ring'>"
      ]
     },
     "execution_count": 661,
     "metadata": {
     },
     "output_type": "execute_result"
    }
   ],
   "source": [
    "TSTS = RingTannakianSymbols(ComplexTannakianSymbols())\n",
    "\n",
    "TSTS.createElement([(ts(\"{1}/Ø\"), 1)]).getBellCoefficients()"
   ]
  },
  {
   "cell_type": "code",
   "execution_count": 659,
   "metadata": {
    "collapsed": false
   },
   "outputs": [
    {
     "data": {
      "text/plain": [
       "{3}/Ø"
      ]
     },
     "execution_count": 659,
     "metadata": {
     },
     "output_type": "execute_result"
    }
   ],
   "source": [
    "TSTS.basis()[]"
   ]
  },
  {
   "cell_type": "code",
   "execution_count": 0,
   "metadata": {
    "collapsed": true
   },
   "outputs": [
   ],
   "source": [
   ]
  }
 ],
 "metadata": {
  "kernelspec": {
   "display_name": "SageMath 7.6",
   "language": "",
   "name": "sage-7.6"
  },
  "language_info": {
   "codemirror_mode": {
    "name": "ipython",
    "version": 2
   },
   "file_extension": ".py",
   "mimetype": "text/x-python",
   "name": "python",
   "nbconvert_exporter": "python",
   "pygments_lexer": "ipython2",
   "version": "2.7.10"
  }
 },
 "nbformat": 4,
 "nbformat_minor": 0
}