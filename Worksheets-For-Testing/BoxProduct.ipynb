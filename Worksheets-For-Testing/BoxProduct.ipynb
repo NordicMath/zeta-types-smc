{
 "cells": [
  {
   "cell_type": "code",
   "execution_count": 1,
   "metadata": {
    "collapsed": false
   },
   "outputs": [
   ],
   "source": [
    "%runfile ../General-Tools/LazyList.sage\n",
    "%runfile ../TS-Methods/MonoidTS.sage\n",
    "%runfile ../TS-Methods/RingTS.sage\n",
    "%runfile ../Sequence-Methods/BerlekampGP.sage\n",
    "%runfile ../TS-Methods/ComplexTS.sage"
   ]
  },
  {
   "cell_type": "code",
   "execution_count": 0,
   "metadata": {
    "collapsed": false
   },
   "outputs": [
   ],
   "source": [
   ]
  },
  {
   "cell_type": "code",
   "execution_count": 2,
   "metadata": {
    "collapsed": false
   },
   "outputs": [
   ],
   "source": [
    "TS = ComplexTannakianSymbols()\n",
    "ts = TS.parseSymbol"
   ]
  },
  {
   "cell_type": "code",
   "execution_count": 0,
   "metadata": {
    "collapsed": false
   },
   "outputs": [
   ],
   "source": [
   ]
  },
  {
   "cell_type": "code",
   "execution_count": 3,
   "metadata": {
    "collapsed": false
   },
   "outputs": [
   ],
   "source": [
    "import random"
   ]
  },
  {
   "cell_type": "code",
   "execution_count": 0,
   "metadata": {
    "collapsed": false
   },
   "outputs": [
   ],
   "source": [
   ]
  },
  {
   "cell_type": "code",
   "execution_count": 0,
   "metadata": {
    "collapsed": false
   },
   "outputs": [
   ],
   "source": [
   ]
  },
  {
   "cell_type": "code",
   "execution_count": 82,
   "metadata": {
    "collapsed": false
   },
   "outputs": [
   ],
   "source": [
    "remDownstair = lambda X: TS.createElement([(x, n) for x, n in X if n > 0])\n",
    "\n",
    "def boxtimestest(X, Y):\n",
    "    return TS.boxproduct(X, Y) - remDownstair(X) * remDownstair(Y)"
   ]
  },
  {
   "cell_type": "code",
   "execution_count": 0,
   "metadata": {
    "collapsed": false
   },
   "outputs": [
   ],
   "source": [
   ]
  },
  {
   "cell_type": "code",
   "execution_count": 0,
   "metadata": {
    "collapsed": false
   },
   "outputs": [
   ],
   "source": [
   ]
  },
  {
   "cell_type": "code",
   "execution_count": 0,
   "metadata": {
    "collapsed": false
   },
   "outputs": [
   ],
   "source": [
   ]
  },
  {
   "cell_type": "code",
   "execution_count": 0,
   "metadata": {
    "collapsed": false
   },
   "outputs": [
   ],
   "source": [
   ]
  },
  {
   "cell_type": "code",
   "execution_count": 18,
   "metadata": {
    "collapsed": false
   },
   "outputs": [
   ],
   "source": [
    "class Pool():\n",
    "    def __init__(self, indexer):\n",
    "        self.pool = {}\n",
    "        self.indexer = indexer\n",
    "\n",
    "    def __iadd__(self, f):\n",
    "        index = self.indexer(f)\n",
    "        if index in self.pool:\n",
    "            self.pool[index].append(f)\n",
    "        else:\n",
    "            self.pool[index] = [f]\n",
    "\n",
    "    def __lshift__(self, by):\n",
    "        for x in by:\n",
    "            self < x\n",
    "\n",
    "    def __lt__(self, by):\n",
    "        self += by\n",
    "\n",
    "    def __getitem__(self, index):\n",
    "        return self.pool[index]\n",
    "\n",
    "    def __iter__(self):\n",
    "        for v in self.pool:\n",
    "            yield (v, self[v])\n",
    "\n",
    "    def __contains__(self, index):\n",
    "        return index in self.pool\n",
    "\n",
    "    def __str__(self):\n",
    "        return str(self.pool)"
   ]
  },
  {
   "cell_type": "code",
   "execution_count": 0,
   "metadata": {
    "collapsed": false
   },
   "outputs": [
   ],
   "source": [
   ]
  },
  {
   "cell_type": "code",
   "execution_count": 0,
   "metadata": {
    "collapsed": false
   },
   "outputs": [
   ],
   "source": [
   ]
  },
  {
   "cell_type": "code",
   "execution_count": 79,
   "metadata": {
    "collapsed": false
   },
   "outputs": [
   ],
   "source": [
    "symbols = Pool(lambda X: X.superdimension())\n",
    "\n",
    "minval = -10\n",
    "maxval = 10\n",
    "maxelements = 4\n",
    "minelements = 2\n",
    "maxmulti = 2\n",
    "minmulti = -2\n",
    "\n",
    "\n",
    "for i in range(10000000):\n",
    "    element = []\n",
    "    elements = random.randint(minelements, maxelements)\n",
    "    \n",
    "    for j in range(elements):\n",
    "        element.append([random.randint(minval, maxval), random.randint(minmulti, maxmulti)])\n",
    "    \n",
    "    symbols < TS.createElement(element)"
   ]
  },
  {
   "cell_type": "code",
   "execution_count": 38,
   "metadata": {
    "collapsed": false
   },
   "outputs": [
    {
     "name": "stdout",
     "output_type": "stream",
     "text": [
      "(1, 3) 2946\n",
      "(3, 0) 5727\n",
      "(8, 0) 57\n",
      "(2, 1) 6267\n",
      "(6, 2) 191\n",
      "(1, 6) 199\n",
      "(5, 1) 536\n",
      "(0, 3) 5717\n",
      "(2, 5) 552\n",
      "(4, 0) 3980\n",
      "(1, 2) 6194\n",
      "(3, 3) 1045\n",
      "(0, 6) 767\n",
      "(4, 4) 262\n",
      "(1, 5) 574\n",
      "(5, 0) 1715\n",
      "(0, 4) 4131\n",
      "(4, 1) 1918\n",
      "(1, 1) 5139\n",
      "(3, 2) 3351\n",
      "(0, 0) 2117\n",
      "(2, 2) 7670\n",
      "(6, 0) 810\n",
      "(1, 4) 1795\n",
      "(0, 5) 1670\n",
      "(0, 7) 206\n",
      "(4, 2) 2157\n",
      "(1, 0) 4139\n",
      "(0, 8) 68\n",
      "(0, 1) 4186\n",
      "(7, 0) 232\n",
      "(5, 2) 581\n",
      "(6, 1) 186\n",
      "(3, 1) 2870\n",
      "(2, 6) 197\n",
      "(2, 4) 2173\n",
      "(2, 0) 6605\n",
      "(4, 3) 568\n",
      "(2, 3) 3321\n",
      "(3, 4) 532\n",
      "(0, 2) 6649\n"
     ]
    }
   ],
   "source": [
    "for (x, y) in symbols:\n",
    "    print x, len(y)"
   ]
  },
  {
   "cell_type": "code",
   "execution_count": 0,
   "metadata": {
    "collapsed": false,
    "scrolled": true
   },
   "outputs": [
   ],
   "source": [
   ]
  },
  {
   "cell_type": "code",
   "execution_count": 0,
   "metadata": {
    "collapsed": false
   },
   "outputs": [
   ],
   "source": [
   ]
  },
  {
   "cell_type": "code",
   "execution_count": 0,
   "metadata": {
    "collapsed": false,
    "scrolled": true
   },
   "outputs": [
   ],
   "source": [
   ]
  },
  {
   "cell_type": "code",
   "execution_count": 0,
   "metadata": {
    "collapsed": false
   },
   "outputs": [
   ],
   "source": [
   ]
  },
  {
   "cell_type": "code",
   "execution_count": 70,
   "metadata": {
    "collapsed": false,
    "scrolled": true
   },
   "outputs": [
   ],
   "source": [
    "vals = []\n",
    "\n",
    "leftsd  = (3,1)\n",
    "rightsd = (2,1)\n",
    "\n",
    "for left in symbols[leftsd][0:10]:\n",
    "    for right in symbols[rightsd][0:20]:\n",
    "        sd = TS.boxproduct(left, right, 20).superdimension()\n",
    "        vals.append(sd)"
   ]
  },
  {
   "cell_type": "code",
   "execution_count": 72,
   "metadata": {
    "collapsed": false
   },
   "outputs": [
    {
     "name": "stdout",
     "output_type": "stream",
     "text": [
      "{(0, 1), (6, 4), (5, 3), (5, 2), (2, 2)} 200\n"
     ]
    }
   ],
   "source": [
    "print Set(vals), len(vals)"
   ]
  },
  {
   "cell_type": "code",
   "execution_count": 71,
   "metadata": {
    "collapsed": false
   },
   "outputs": [
    {
     "data": {
      "image/png": "[encoded data removed]"
     }
    }
   ],
   "source": [
    "reduce(lambda gr, sd: gr + point(sd), vals, Graphics()).show()"
   ]
  },
  {
   "cell_type": "code",
   "execution_count": 0,
   "metadata": {
    "collapsed": false
   },
   "outputs": [
   ],
   "source": [
   ]
  },
  {
   "cell_type": "code",
   "execution_count": 0,
   "metadata": {
    "collapsed": false
   },
   "outputs": [
   ],
   "source": [
   ]
  },
  {
   "cell_type": "code",
   "execution_count": 0,
   "metadata": {
    "collapsed": false
   },
   "outputs": [
   ],
   "source": [
   ]
  },
  {
   "cell_type": "code",
   "execution_count": 96,
   "metadata": {
    "collapsed": false
   },
   "outputs": [
   ],
   "source": [
    "vals = []\n",
    "\n",
    "leftsd  = (3,1)\n",
    "rightsd = (2,1)\n",
    "\n",
    "for i in range(100):\n",
    "    left  = symbols[leftsd][i]\n",
    "    right = symbols[leftsd][i]\n",
    "    val = boxtimestest(left, right)\n",
    "    assert(val.evendimension() == 0)\n",
    "    vals.append(val.filter(lambda x: x != 0).downstairs())"
   ]
  },
  {
   "cell_type": "code",
   "execution_count": 97,
   "metadata": {
    "collapsed": false
   },
   "outputs": [
    {
     "name": "stdout",
     "output_type": "stream",
     "text": [
      "7\n",
      "7\n",
      "7\n",
      "7\n",
      "7\n",
      "7\n",
      "7\n",
      "7\n",
      "7\n",
      "7\n",
      "7\n",
      "7\n",
      "7\n",
      "7\n",
      "7\n",
      "7\n",
      "0\n",
      "7\n",
      "1\n",
      "7\n",
      "7\n",
      "7\n",
      "7\n",
      "7\n",
      "7\n",
      "7\n",
      "7\n",
      "7\n",
      "7\n",
      "7\n",
      "7\n",
      "7\n",
      "6\n",
      "7\n",
      "7\n",
      "7\n",
      "7\n",
      "7\n",
      "7\n",
      "6\n",
      "7\n",
      "7\n",
      "7\n",
      "7\n",
      "7\n",
      "7\n",
      "7\n",
      "7\n",
      "1\n",
      "7\n",
      "7\n",
      "7\n",
      "7\n",
      "7\n",
      "7\n",
      "7\n",
      "7\n",
      "7\n",
      "7\n",
      "7\n",
      "7\n",
      "7\n",
      "7\n",
      "7\n",
      "1\n",
      "7\n",
      "7\n",
      "7\n",
      "1\n",
      "3\n",
      "7\n",
      "7\n",
      "7\n",
      "7\n",
      "7\n",
      "7\n",
      "7\n",
      "7\n",
      "7\n",
      "6\n",
      "7\n",
      "7\n",
      "1\n",
      "7\n",
      "7\n",
      "7\n",
      "7\n",
      "7\n",
      "7\n",
      "7\n",
      "7\n",
      "7\n",
      "7\n",
      "7\n",
      "7\n",
      "7\n",
      "7\n",
      "7\n",
      "7\n",
      "7\n"
     ]
    }
   ],
   "source": [
    "for val in vals:\n",
    "    print len(val)"
   ]
  },
  {
   "cell_type": "code",
   "execution_count": 99,
   "metadata": {
    "collapsed": false
   },
   "outputs": [
    {
     "data": {
      "text/plain": [
       "[-271.984331002125,\n",
       " -2.59101373849355,\n",
       " 36.0000000000000,\n",
       " 36.0000000000000,\n",
       " 36.0000000000000,\n",
       " 36.0000000000000,\n",
       " -29.4246552593814]"
      ]
     },
     "execution_count": 99,
     "metadata": {
     },
     "output_type": "execute_result"
    }
   ],
   "source": [
    "vals[99]"
   ]
  },
  {
   "cell_type": "code",
   "execution_count": 0,
   "metadata": {
    "collapsed": false
   },
   "outputs": [
   ],
   "source": [
   ]
  },
  {
   "cell_type": "code",
   "execution_count": 0,
   "metadata": {
    "collapsed": false
   },
   "outputs": [
   ],
   "source": [
   ]
  }
 ],
 "metadata": {
  "kernelspec": {
   "display_name": "SageMath (stable)",
   "name": "sagemath"
  },
  "language_info": {
   "codemirror_mode": {
    "name": "ipython",
    "version": 2
   },
   "file_extension": ".py",
   "mimetype": "text/x-python",
   "name": "python",
   "nbconvert_exporter": "python",
   "pygments_lexer": "ipython2",
   "version": "2.7.13"
  }
 },
 "nbformat": 4,
 "nbformat_minor": 0
}