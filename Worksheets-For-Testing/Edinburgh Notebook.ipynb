{
 "cells": [
  {
   "cell_type": "markdown",
   "metadata": {
    "collapsed": true
   },
   "source": [
    "# How to compute with Tannakian symbols and multiplicative functions \n"
   ]
  },
  {
   "cell_type": "markdown",
   "metadata": {
    "collapsed": false
   },
   "source": [
    "This notebook is meant to accompany the article _New perspectives on multiplicative functions_ by Espeseth, Holmstrom and Vik. \n",
    "\n",
    "We begin with some motivation, followed by an overview of what is currently implemented in Sage, divided into the following main sections:\n",
    "\n",
    "* TS of a commutative monoid\n",
    "* TS of a commutative ring\n",
    "* TS of the complex numbers\n",
    "* Methods for multiplicative functions"
   ]
  },
  {
   "cell_type": "markdown",
   "metadata": {
    "collapsed": false
   },
   "source": [
    "## Motivation"
   ]
  },
  {
   "cell_type": "markdown",
   "metadata": {
    "collapsed": false
   },
   "source": [
    "Let $Mult(\\mathbb{C})$ be the set of all multiplicative functions (from the positive integers to the complex numbers). This set contains for example the Euler phi function, the Mobius mu function, the divisor functions $\\sigma_k$, the Liouville function, and many other classical number-theoretic functions. In addition, every number-theoretic object with an L-function (such as a motive, a scheme, a Galois representation or an automorphic representation) also has an associated multiplicative function, obtained by reading off the coefficients of the Dirichlet series describing the L-function. Finally, many number-theoretic functions which are not multiplicative, can be interpreted within the framework of multiplicative functions, if we allow more general target rings than $\\mathbb{C}$. \n",
    "\n",
    "References for the first paragraph: [Wikipedia: L-function](https://en.wikipedia.org/wiki/L-function), [Terence Tao: Derived multiplicative functions](https://terrytao.wordpress.com/2014/09/24/derived-multiplicative-functions/)\n",
    "\n",
    "The set of multiplicative functions comes with many binary operations, such as Dirichlet convolution, unitary convolution, and the usual (pointwise) product of functions. It also carries many unary operations studied in the literature, such as the k'th convolute, the norm and higher norm operators of Redmond and Sivaramakrishnan, operators given by precomposition with $n \\mapsto n^k$, and many others. A natural question is this: _What kind of algebraic structure is $Mult(\\mathbb{C})$_?\n",
    "\n",
    "In a paper (which is currently in fairly readable draft form) we review all operations studied in the literature, and show that they are all part of a rich algebraic structure which is closely related to the notion of a lambda-ring, first invented by Grothendieck. This unifies and clarifies many previously unrelated phenomena in number theory.\n",
    "\n",
    "The notion of a lambda-ring appears naturally in many different parts of mathematics:\n",
    "* The representation ring of a finite group is a lambda-ring\n",
    "* More generally, the Grothendieck ring of a symmetric monoidal abelian category is a lambda-ring\n",
    "* Any binomial ring (in the sense of Hall) is a lambda-ring\n",
    "* The topological K-theory of a topological space is a lambda-ring\n",
    "* Any commutative monoid algebra is a lambda-ring\n",
    "* There are close relations between lambda-rings and the theory of Witt vectors\n",
    "\n",
    "References: [Wikipedia: Lambda-ring](https://en.wikipedia.org/wiki/%CE%9B-ring), [Yau: Lambda-rings](https://books.google.co.uk/books/about/Lambda_rings.html?id=d7vKnjxyvxQC).\n",
    "\n",
    "Lambda-rings are not currently implemented in Sage. We are not aiming for an abstract implementation of lambda-rings (although this could perhaps be interesting), but rather a practical implementation of _Tannakian symbols_, which is a tool for computations in lambda-rings, analogous to the way matrices are a tool for computations in associative algebras, and polynomials are a tool for computations in commutative rings."
   ]
  },
  {
   "cell_type": "markdown",
   "metadata": {
    "collapsed": false
   },
   "source": [
    "## Very brief review of Tannakian symbols"
   ]
  },
  {
   "cell_type": "markdown",
   "metadata": {
    "collapsed": false
   },
   "source": [
    "For a more detailed discussion of what Tannakian symbols are good for and which lambda-rings can be described in this language, we refer to the article. Here we collect the main points very briefly.\n",
    "\n",
    "* For any commutative monoid M, we can form TS(M), which is a commutative ring equipped with additional operations making in into a lambda-ring. \n",
    "* When $M$ is just a commutative monoid (with no additional structure), $TS(M)$ is just the same thing as the monoid algebra $\\mathbb{Z}[M]$.\n",
    "* The elements of $TS(M)$ are called Tannakian symbols. Such an element as an ordered pair of disjoint finite multisets with elements taken from $M$. We write an element on the form $\\frac{A}{B}$ where $A$ and $B$ are multisets. For example: \n",
    "$$ \\frac{ \\{2, 5, 5 \\} }{ \\{1, -1 \\} }  $$\n",
    "is a Tannakian symbol (with entries taken from $\\mathbb{Z}$).\n",
    "* In the Tannakian symbol $\\frac{A}{B}$, we refer to $A$ as the _upstairs_ multiset, and to $B$ as the _downstairs_ multiset.\n",
    "* Any commutative ring $R$ is in particular a multiplicative monoid, and hence we can form $TS(R)$. This is not just a lambda-ring, but carries an even richer structure, with many different algebraic operations (in the article, we introduce axioms for \"double Adams algebras\", which describe these operations). \n",
    "* If the ring $R$ happens to be the complex numbers, even more operations arise naturally, many of which are described below.\n",
    "* TS is a functor, in the simplest setting from the category of commutative monoids to the category of lambda-rings.\n",
    "* There is a correspondence between a certain class of multiplicative functions (the rational ones) and a certain class of Tannakian symbols, and from this it follows that there is a close relation between operations on Tannakian symbols and operations on multiplicative functions."
   ]
  },
  {
   "cell_type": "markdown",
   "metadata": {
    "collapsed": false
   },
   "source": [
    "## Getting started with computations"
   ]
  },
  {
   "cell_type": "markdown",
   "metadata": {
    "collapsed": false
   },
   "source": [
    "In any Jupyter notebook or Sage worksheet, start by importing the following files: "
   ]
  },
  {
   "cell_type": "code",
   "execution_count": 1,
   "metadata": {
    "collapsed": false
   },
   "outputs": [
   ],
   "source": [
    "%runfile ../General-Tools/LazyList.sage\n",
    "%runfile ../TS-Methods/MonoidTS.sage\n",
    "%runfile ../TS-Methods/RingTS.sage\n",
    "%runfile ../Sequence-Methods/Berlekamp.sage\n",
    "%runfile ../TS-Methods/ComplexTS.sage"
   ]
  },
  {
   "cell_type": "markdown",
   "metadata": {
    "collapsed": false
   },
   "source": [
    "In a Sage worksheet, use \"%attach\" instead of \"%runfile\"."
   ]
  },
  {
   "cell_type": "markdown",
   "metadata": {
    "collapsed": false
   },
   "source": [
    "## TS of a commutative monoid"
   ]
  },
  {
   "cell_type": "markdown",
   "metadata": {
    "collapsed": false
   },
   "source": [
    "Now to some examples. \n",
    "\n",
    "We create four variables, which can be multiplied in Sage."
   ]
  },
  {
   "cell_type": "code",
   "execution_count": 2,
   "metadata": {
    "collapsed": false
   },
   "outputs": [
   ],
   "source": [
    "a = var('a'); b = var('b'); c = var('c'); d = var('d');"
   ]
  },
  {
   "cell_type": "markdown",
   "metadata": {
    "collapsed": true
   },
   "source": [
    "Let $F$ be a monoid in which these variables live. We can now create the lambda-ring $TS(F)$."
   ]
  },
  {
   "cell_type": "code",
   "execution_count": 3,
   "metadata": {
    "collapsed": false
   },
   "outputs": [
   ],
   "source": [
    "\n",
    "#This code is commented out - can use it later if we find a way of improving the printing of monoid elements.\n",
    "#reset('a'); reset('b'); reset('c'); reset('d');\n",
    "#F.<a,b,c,d> = Monoids().Commutative().free(); \n",
    "#print a*b\n",
    "#To get TS of the free commutative monoid on a, b, c, d, we would do this:\n",
    "#TSF = TannakianSymbols(ZZ, F)  \n",
    "#\n",
    "#The above command works perfectly well, but because of the ugly printing issue, we use a work-around instead, \n",
    "#with the ring Z[a, b, c, d] as our monoid.\n",
    "TSF = TannakianSymbols(ZZ, ZZ)"
   ]
  },
  {
   "cell_type": "markdown",
   "metadata": {
    "collapsed": false
   },
   "source": [
    "We can multiply indivindual elements of the monoid:"
   ]
  },
  {
   "cell_type": "code",
   "execution_count": 4,
   "metadata": {
    "collapsed": false
   },
   "outputs": [
    {
     "data": {
      "text/plain": [
       "a^2*b*c^5"
      ]
     },
     "execution_count": 4,
     "metadata": {
     },
     "output_type": "execute_result"
    }
   ],
   "source": [
    "a * b * c * a * c^4"
   ]
  },
  {
   "cell_type": "markdown",
   "metadata": {
    "collapsed": false
   },
   "source": [
    "To build a Tannakian symbol from a string, we use TSF.parseSymbol, and it will be convenient to introduce an abbreviation for this command."
   ]
  },
  {
   "cell_type": "code",
   "execution_count": 5,
   "metadata": {
    "collapsed": false
   },
   "outputs": [
   ],
   "source": [
    "ts = TSF.parseSymbol"
   ]
  },
  {
   "cell_type": "markdown",
   "metadata": {
    "collapsed": false
   },
   "source": [
    "Now let's create a few Tannakian symbols in the ring $TS(F)$. We call these symbols $X, Y$ and $Z$.\n"
   ]
  },
  {
   "cell_type": "code",
   "execution_count": 6,
   "metadata": {
    "collapsed": false
   },
   "outputs": [
   ],
   "source": [
    "X = ts(\"{a, b}/{c, d }\")"
   ]
  },
  {
   "cell_type": "markdown",
   "metadata": {
    "collapsed": false
   },
   "source": [
    "For the empty multiset, we may use the Norwegian letter Ø or simply {}."
   ]
  },
  {
   "cell_type": "code",
   "execution_count": 7,
   "metadata": {
    "collapsed": false
   },
   "outputs": [
   ],
   "source": [
    "Y = ts(\"{a}/Ø\")"
   ]
  },
  {
   "cell_type": "markdown",
   "metadata": {
    "collapsed": false
   },
   "source": [
    "Since we use multisets and not just sets, we may have repeated elements:"
   ]
  },
  {
   "cell_type": "code",
   "execution_count": 8,
   "metadata": {
    "collapsed": false
   },
   "outputs": [
   ],
   "source": [
    "Z = ts(\"{a}/{c, c, c}\")"
   ]
  },
  {
   "cell_type": "markdown",
   "metadata": {
    "collapsed": false
   },
   "source": [
    "We can print Tannakian symbols."
   ]
  },
  {
   "cell_type": "code",
   "execution_count": 9,
   "metadata": {
    "collapsed": false
   },
   "outputs": [
    {
     "name": "stdout",
     "output_type": "stream",
     "text": [
      "{b, a}/{c, d}\n",
      "{a}/Ø\n",
      "{a}/{c, c, c}\n"
     ]
    }
   ],
   "source": [
    "print X; print Y; print Z"
   ]
  },
  {
   "cell_type": "markdown",
   "metadata": {
    "collapsed": false
   },
   "source": [
    "We can add and multiply Tannakian symbols. These operations are (for good mathematical reasons) referred to as the \"direct sum\" and the \"tensor product\" in our article and elsewhere."
   ]
  },
  {
   "cell_type": "code",
   "execution_count": 10,
   "metadata": {
    "collapsed": false
   },
   "outputs": [
    {
     "data": {
      "text/plain": [
       "{b, b, a, a}/{c, c, d, d}"
      ]
     },
     "execution_count": 10,
     "metadata": {
     },
     "output_type": "execute_result"
    }
   ],
   "source": [
    "X + X"
   ]
  },
  {
   "cell_type": "code",
   "execution_count": 11,
   "metadata": {
    "collapsed": false
   },
   "outputs": [
    {
     "data": {
      "text/plain": [
       "{b, a, a}/{c, d}"
      ]
     },
     "execution_count": 11,
     "metadata": {
     },
     "output_type": "execute_result"
    }
   ],
   "source": [
    "X + Y"
   ]
  },
  {
   "cell_type": "code",
   "execution_count": 12,
   "metadata": {
    "collapsed": false
   },
   "outputs": [
    {
     "data": {
      "text/plain": [
       "{a*b, a^2}/{a*c, a*d}"
      ]
     },
     "execution_count": 12,
     "metadata": {
     },
     "output_type": "execute_result"
    }
   ],
   "source": [
    "X * Y"
   ]
  },
  {
   "cell_type": "code",
   "execution_count": 13,
   "metadata": {
    "collapsed": false
   },
   "outputs": [
    {
     "data": {
      "text/plain": [
       "{a^2, c^2, c^2, c^2, c^2, c^2, c^2, c^2, c^2, c^2}/{a*c, a*c, a*c, a*c, a*c, a*c}"
      ]
     },
     "execution_count": 13,
     "metadata": {
     },
     "output_type": "execute_result"
    }
   ],
   "source": [
    "Z^2"
   ]
  },
  {
   "cell_type": "markdown",
   "metadata": {
    "collapsed": false
   },
   "source": [
    "We can subtract a symbol from another symbol. The zero element of the ring $TS(F)$ is $\\emptyset / \\emptyset$."
   ]
  },
  {
   "cell_type": "code",
   "execution_count": 14,
   "metadata": {
    "collapsed": false
   },
   "outputs": [
    {
     "data": {
      "text/plain": [
       "Ø/Ø"
      ]
     },
     "execution_count": 14,
     "metadata": {
     },
     "output_type": "execute_result"
    }
   ],
   "source": [
    "X - X"
   ]
  },
  {
   "cell_type": "markdown",
   "metadata": {
    "collapsed": false
   },
   "source": [
    "We can extract a list of the elements upstairs, or a list of the elements downstairs:"
   ]
  },
  {
   "cell_type": "code",
   "execution_count": 15,
   "metadata": {
    "collapsed": false
   },
   "outputs": [
    {
     "data": {
      "text/plain": [
       "[a]"
      ]
     },
     "execution_count": 15,
     "metadata": {
     },
     "output_type": "execute_result"
    }
   ],
   "source": [
    "Z.upstairs()"
   ]
  },
  {
   "cell_type": "code",
   "execution_count": 16,
   "metadata": {
    "collapsed": false
   },
   "outputs": [
    {
     "data": {
      "text/plain": [
       "[c, c, c]"
      ]
     },
     "execution_count": 16,
     "metadata": {
     },
     "output_type": "execute_result"
    }
   ],
   "source": [
    "Z.downstairs()"
   ]
  },
  {
   "cell_type": "markdown",
   "metadata": {
    "collapsed": false
   },
   "source": [
    "We can also compute a few invariants of a Tannakian symbol, namely _even dimension_ (number of elements upstairs), _odd dimension_ (the number of elements downstairs, and the _augmentation_ (the difference between the even and the odd dimension)."
   ]
  },
  {
   "cell_type": "code",
   "execution_count": 17,
   "metadata": {
    "collapsed": false
   },
   "outputs": [
    {
     "name": "stdout",
     "output_type": "stream",
     "text": [
      "The symbol Z is: {a}/{c, c, c}\n",
      "Even dimension: 1\n",
      "Odd dimension: 3\n",
      "Augmentation: -2\n"
     ]
    }
   ],
   "source": [
    "print \"The symbol Z is:\", Z\n",
    "print \"Even dimension:\", Z.evendimension() \n",
    "print \"Odd dimension:\", Z.odddimension() \n",
    "print \"Augmentation:\", Z.augmentation() "
   ]
  },
  {
   "cell_type": "markdown",
   "metadata": {
    "collapsed": false
   },
   "source": [
    "The ordered pair of integers defined by the even and the odd dimension can be produced directly using the \"superdimension\" command\":"
   ]
  },
  {
   "cell_type": "code",
   "execution_count": 18,
   "metadata": {
    "collapsed": false
   },
   "outputs": [
    {
     "name": "stdout",
     "output_type": "stream",
     "text": [
      "Superdimension: (1, 3)\n"
     ]
    }
   ],
   "source": [
    "print \"Superdimension:\", Z.superdimension()"
   ]
  },
  {
   "cell_type": "markdown",
   "metadata": {
    "collapsed": false
   },
   "source": [
    "We have also introduced the determinant of a symbol, which is defined whenever the elements downstairs have inverses. For example, if the monoid happens to be a group, the determinant is defined for all Tannakian symbols."
   ]
  },
  {
   "cell_type": "code",
   "execution_count": 19,
   "metadata": {
    "collapsed": false
   },
   "outputs": [
    {
     "name": "stdout",
     "output_type": "stream",
     "text": [
      "Determinant: a/c^3\n"
     ]
    }
   ],
   "source": [
    "print \"Determinant:\", Z.determinant()"
   ]
  },
  {
   "cell_type": "markdown",
   "metadata": {
    "collapsed": false
   },
   "source": [
    "We are not explaining the axioms for lambda-rings here, but any lambda-ring carries four infinite sequences of unary operations. We illustrate each of these with a few examples."
   ]
  },
  {
   "cell_type": "markdown",
   "metadata": {
    "collapsed": false
   },
   "source": [
    "First: lambda operations. In standard mathematical notation, for every non-negative integer $k$ there is a unary operation $\\lambda^k$ from $TS(M)$ to $TS(M)$. Below we print the symbol $X$, and then we compute $\\lambda^k(X)$ for a few small values of $k$."
   ]
  },
  {
   "cell_type": "code",
   "execution_count": 20,
   "metadata": {
    "collapsed": false
   },
   "outputs": [
    {
     "name": "stdout",
     "output_type": "stream",
     "text": [
      "The symbol X is: {b, a}/{c, d}\n",
      "Applying lambda-operations for $k = 1, 2, ..., we get:\n",
      "{b, a}/{c, d}\n",
      "{c*d, d^2, c^2, a*b}/{b*d, b*c, a*c, a*d}\n",
      "{b*c^2, b*c*d, a*c*d, b*d^2, a*c^2, a*d^2}/{c*d^2, a*b*c, c^2*d, d^3, a*b*d, c^3}\n",
      "{c*d^3, c^3*d, c^2*d^2, a*b*d^2, d^4, a*b*c^2, a*b*c*d, c^4}/{b*c^3, a*c*d^2, b*d^3, a*c^2*d, a*c^3, b*c^2*d, b*c*d^2, a*d^3}\n"
     ]
    }
   ],
   "source": [
    "print \"The symbol X is:\", X\n",
    "print \"Applying lambda-operations for $k = 1, 2, ..., we get:\"\n",
    "print X.lambdaoperation(1)\n",
    "print X.lambdaoperation(2)\n",
    "print X.lambdaoperation(3)\n",
    "print X.lambdaoperation(4)"
   ]
  },
  {
   "cell_type": "markdown",
   "metadata": {
    "collapsed": false
   },
   "source": [
    "Secondly: Adams operations. In standard mathematical notation, for every non-negative integer $k$, there is a unary operation $\\psi^k$ from $TS(M)$ to $TS(M)$. These operations are different from the others in that they are ring endomorphisms rather than just functions. Below we print the symbol $X$, and then we compute $\\psi^k(X)$ for a few small values of $k$."
   ]
  },
  {
   "cell_type": "code",
   "execution_count": 21,
   "metadata": {
    "collapsed": false
   },
   "outputs": [
    {
     "name": "stdout",
     "output_type": "stream",
     "text": [
      "{b, a}/{c, d}\n",
      "{b, a}/{c, d}\n",
      "{a^2, b^2}/{c^2, d^2}\n",
      "{a^3, b^3}/{c^3, d^3}\n",
      "{a^4, b^4}/{c^4, d^4}\n"
     ]
    }
   ],
   "source": [
    "print X\n",
    "\n",
    "print X.adamsoperation(1)\n",
    "print X.adamsoperation(2)\n",
    "print X.adamsoperation(3)\n",
    "print X.adamsoperation(4)"
   ]
  },
  {
   "cell_type": "markdown",
   "metadata": {
    "collapsed": false
   },
   "source": [
    "Thirdly: gamma operations. In standard mathematical notation, for every non-negative integer $k$, there is a unary operation $\\gamma^k$ from $TS(M)$ to $TS(M)$. Below we print the symbol $X$, and then we compute $\\gamma^k(X)$ for a few small values of $k$."
   ]
  },
  {
   "cell_type": "code",
   "execution_count": 22,
   "metadata": {
    "collapsed": false
   },
   "outputs": [
    {
     "name": "stdout",
     "output_type": "stream",
     "text": [
      "{b, a}/{c, d}\n",
      "{b, a}/{c, d}\n",
      "{c*d, d^2, b, c^2, a*b, a}/{b*d, b*c, a*c, d, a*d, c}\n",
      "{a*c*d, d^2, d^2, a*c^2, b*c*d, b*c^2, c*d, c*d, c^2, c^2, b*d^2, b, a*b, a*b, a*d^2, a}/{a*b*c, a*c, a*c, d, d^3, b*d, b*d, c*d^2, c^2*d, b*c, b*c, a*b*d, a*d, a*d, c, c^3}\n",
      "{a*c*d, a*c*d, a*c*d, d^2, d^2, d^2, d^4, a*b*c*d, c*d^3, c*d, c*d, c*d, c^3*d, c^2*d^2, c^2, c^2, c^2, c^4, a*c^2, a*c^2, a*c^2, a*b*c^2, b*c*d, b*c*d, b*c*d, b*c^2, b*c^2, b*c^2, a*d^2, a*d^2, a*d^2, b*d^2, b*d^2, b*d^2, b, a*b*d^2, a*b, a*b, a*b, a}/{a*c*d^2, d, a*c^2*d, d^3, d^3, d^3, c*d^2, c*d^2, c*d^2, c^2*d, c^2*d, c^2*d, a*d, a*d, a*d, c, a*d^3, c^3, c^3, c^3, a*b*c, a*b*c, a*b*c, a*c, a*c, a*c, a*c^3, b*c^2*d, b*c*d^2, b*c^3, b*d, b*d, b*d, b*d^3, b*c, b*c, b*c, a*b*d, a*b*d, a*b*d}\n"
     ]
    }
   ],
   "source": [
    "print X\n",
    "\n",
    "print X.gammaoperation(1)\n",
    "print X.gammaoperation(2)\n",
    "print X.gammaoperation(3)\n",
    "print X.gammaoperation(4)"
   ]
  },
  {
   "cell_type": "markdown",
   "metadata": {
    "collapsed": false
   },
   "source": [
    "Finally, we also have symmetric power operations. For every non-negative integer $k$, there is a unary operation $Sym^k$ from $TS(M)$ to $TS(M)$. Again, we print the symbol $X$, and then we compute $Sym^k(X)$ for a few small values of $k$."
   ]
  },
  {
   "cell_type": "code",
   "execution_count": 23,
   "metadata": {
    "collapsed": false
   },
   "outputs": [
    {
     "name": "stdout",
     "output_type": "stream",
     "text": [
      "{b, a}/{c, d}\n",
      "{b, a}/{c, d}\n",
      "{a^2, c*d, b^2, a*b}/{b*d, b*c, a*c, a*d}\n",
      "{a^3, a*c*d, b*c*d, b^3, a^2*b, a*b^2}/{a*b*c, a^2*c, b^2*d, b^2*c, a*b*d, a^2*d}\n",
      "{a^2*c*d, a^4, a*b*c*d, b^2*c*d, b^4, a^3*b, a^2*b^2, a*b^3}/{a*b^2*c, a^2*b*c, a^3*c, a^2*b*d, b^3*c, a*b^2*d, b^3*d, a^3*d}\n"
     ]
    }
   ],
   "source": [
    "print X\n",
    "\n",
    "print X.symmetricpoweroperation(1)\n",
    "print X.symmetricpoweroperation(2)\n",
    "print X.symmetricpoweroperation(3)\n",
    "print X.symmetricpoweroperation(4)"
   ]
  },
  {
   "cell_type": "markdown",
   "metadata": {
    "collapsed": false
   },
   "source": [
    "All the commands we have used so far are defined in the file MonoidTS.sage. This file contains the definition of the class TannakianSymbols, which extends the class CombinatorialFreeModule. Feel free to inspect the source code and ask Torstein Vik if anything is unclear :-)"
   ]
  },
  {
   "cell_type": "markdown",
   "metadata": {
    "collapsed": false
   },
   "source": [
    "## TS of a commutative ring"
   ]
  },
  {
   "cell_type": "markdown",
   "metadata": {
    "collapsed": false
   },
   "source": [
    "As we have already mentioned, we may consider $TS(R)$, where $R$ is not just a commutative (multiplicative) monoid, but a commutative ring. In this richer setting, we have a number of additional algebraic operations and invariants. At the moment, only three commands are implemented in the generality of general commutative rings, and everything else is done for complex numbers only (see next section)."
   ]
  },
  {
   "cell_type": "markdown",
   "metadata": {
    "collapsed": false
   },
   "source": [
    "To get access to these new commands, we must define TSR using the class \"RingTannakianSymbols\", and redefine $X, Y, Z$ as elements of TSR. We also define the convenient abbreviation \"ts\" again."
   ]
  },
  {
   "cell_type": "code",
   "execution_count": 24,
   "metadata": {
    "collapsed": false
   },
   "outputs": [
   ],
   "source": [
    "TSR = RingTannakianSymbols(ZZ[a, b, c, d])\n",
    "\n",
    "ts = TSR.parseSymbol\n",
    "\n",
    "X = ts(\"{a, b}/{c, d }\")\n",
    "Y = ts(\"{a}/Ø\")\n",
    "Z = ts(\"{a}/{c, c, c}\")"
   ]
  },
  {
   "cell_type": "markdown",
   "metadata": {
    "collapsed": false
   },
   "source": [
    "The simplest new invariant is given by the _trace_ of a Tannakian symbol. It is the sum of the elements upstairs, minus the sum of the elements downstairs."
   ]
  },
  {
   "cell_type": "code",
   "execution_count": 25,
   "metadata": {
    "collapsed": false
   },
   "outputs": [
    {
     "name": "stdout",
     "output_type": "stream",
     "text": [
      "Trace of Z: a - 3*c\n",
      "Trace of X: a + b - c - d\n"
     ]
    }
   ],
   "source": [
    "print \"Trace of Z:\", Z.trace()\n",
    "print \"Trace of X:\", X.trace()"
   ]
  },
  {
   "cell_type": "markdown",
   "metadata": {
    "collapsed": false
   },
   "source": [
    "The trace is an element in a certain infinite sequence associated to a Tannakian symbol, called _the sequence of Bell coefficients_. This is a linearly recursive sequence of elements in the ring $R$, whose zero'th element is 1, whose first element is the trace, and in general has the property that the power series corresponding to the sequence is the same as the rational power series defined by a certain rational expression which contains the elements from the Tannakian symbol. See the article for more details."
   ]
  },
  {
   "cell_type": "markdown",
   "metadata": {
    "collapsed": false
   },
   "source": [
    "Examples:"
   ]
  },
  {
   "cell_type": "code",
   "execution_count": 26,
   "metadata": {
    "collapsed": false
   },
   "outputs": [
    {
     "name": "stdout",
     "output_type": "stream",
     "text": [
      "First 3 Bell coefficients of Z: "
     ]
    },
    {
     "name": "stdout",
     "output_type": "stream",
     "text": [
      "1, a - 3*c, a^2 - 3*a*c + 3*c^2, ...\n"
     ]
    }
   ],
   "source": [
    "print \"First 3 Bell coefficients of Z:\", Z.getBellCoefficients(3)"
   ]
  },
  {
   "cell_type": "markdown",
   "metadata": {
    "collapsed": false
   },
   "source": [
    "Note that an object of the form Z.getBellCoefficients behaves like an infinite list. This feature relies on the class LazyList which was imported at the very top of this document. Printing this object currently produces a printout of the first 20 elements (this is an arbitrary convention that seemed reasonable).\n",
    "\n",
    "We use the symbol Y to illustrate this point:"
   ]
  },
  {
   "cell_type": "code",
   "execution_count": 27,
   "metadata": {
    "collapsed": false
   },
   "outputs": [
    {
     "name": "stdout",
     "output_type": "stream",
     "text": [
      "The symbol Y is {a}/Ø\n",
      "a^3\n"
     ]
    },
    {
     "name": "stdout",
     "output_type": "stream",
     "text": [
      "a^30\n",
      "1, a, a^2, a^3, a^4, a^5, a^6, a^7, a^8, a^9, a^10, a^11, a^12, a^13, a^14, a^15, a^16, a^17, a^18, a^19, ...\n"
     ]
    }
   ],
   "source": [
    "print \"The symbol Y is\", Y\n",
    "bc = Y.getBellCoefficients()\n",
    "print bc[3]\n",
    "print bc[30]\n",
    "print bc"
   ]
  },
  {
   "cell_type": "markdown",
   "metadata": {
    "collapsed": false
   },
   "source": [
    "Replacing Y by a more complicated symbol is fine, but gives (unsurprisingly) a more complicated output."
   ]
  },
  {
   "cell_type": "code",
   "execution_count": 28,
   "metadata": {
    "collapsed": false
   },
   "outputs": [
    {
     "name": "stdout",
     "output_type": "stream",
     "text": [
      "The symbol U is {a}/{b}\n",
      "a^3 - a^2*b\n"
     ]
    },
    {
     "name": "stdout",
     "output_type": "stream",
     "text": [
      "a^30 - a^29*b\n",
      "1, a - b, a^2 - a*b, a^3 - a^2*b, a^4 - a^3*b, a^5 - a^4*b, a^6 - a^5*b, a^7 - a^6*b, a^8 - a^7*b, a^9 - a^8*b, a^10 - a^9*b, a^11 - a^10*b, a^12 - a^11*b, a^13 - a^12*b, a^14 - a^13*b, a^15 - a^14*b, a^16 - a^15*b, a^17 - a^16*b, a^18 - a^17*b, a^19 - a^18*b, ...\n"
     ]
    }
   ],
   "source": [
    "U = ts(\"{a}/{b}\")\n",
    "print \"The symbol U is\", U\n",
    "bc = U.getBellCoefficients()\n",
    "print bc[3]\n",
    "print bc[30]\n",
    "print bc"
   ]
  },
  {
   "cell_type": "markdown",
   "metadata": {
    "collapsed": false
   },
   "source": [
    "There is also another similar sequence associated to a Tannakian symbol, referred to as the sequence of point counts. This sequence can be computed by the command \"getPointCounts\"."
   ]
  },
  {
   "cell_type": "code",
   "execution_count": 29,
   "metadata": {
    "collapsed": false
   },
   "outputs": [
    {
     "name": "stdout",
     "output_type": "stream",
     "text": [
      "The symbol U is {a}/{b}\n",
      "a^3 - b^3\n",
      "a^30 - b^30\n",
      "1, a - b, a^2 - b^2, a^3 - b^3, a^4 - b^4, a^5 - b^5, a^6 - b^6, a^7 - b^7, a^8 - b^8, a^9 - b^9, a^10 - b^10, a^11 - b^11, a^12 - b^12, a^13 - b^13, a^14 - b^14, a^15 - b^15, a^16 - b^16, a^17 - b^17, a^18 - b^18, a^19 - b^19, ...\n"
     ]
    }
   ],
   "source": [
    "print \"The symbol U is\", U\n",
    "bc = U.getPointCounts()\n",
    "print bc[3]\n",
    "print bc[30]\n",
    "print bc"
   ]
  },
  {
   "cell_type": "markdown",
   "metadata": {
    "collapsed": false
   },
   "source": [
    "We can of course combine these methods with some of those defined earlier. Here are a few examples:"
   ]
  },
  {
   "cell_type": "code",
   "execution_count": 30,
   "metadata": {
    "collapsed": false
   },
   "outputs": [
    {
     "data": {
      "text/plain": [
       "{a^5, a^5, a^5, a^5, a^5, a^5}/{a^4*b, a^4*b, a^4*b, a^4*b, a^4*b}"
      ]
     },
     "execution_count": 30,
     "metadata": {
     },
     "output_type": "execute_result"
    }
   ],
   "source": [
    "(U+Y).symmetricpoweroperation(5)"
   ]
  },
  {
   "cell_type": "code",
   "execution_count": 31,
   "metadata": {
    "collapsed": false
   },
   "outputs": [
    {
     "data": {
      "text/plain": [
       "{c^2, c^2, c^2, c^2, c^2, c^2, b*c, b*c, b*c, b*c, b^2, b^2, b^2*d, c^2*d, c^2*d, c^2*d, b*c*d, b*c*d, d}/{b*c^2, b*c^2, b*c^2, c*d, c*d, c*d, c*d, b*d, b*d, b^2*c, b^2*c, b, b^3, c, c, c^3, c^3, c^3, c^3}"
      ]
     },
     "execution_count": 31,
     "metadata": {
     },
     "output_type": "execute_result"
    }
   ],
   "source": [
    "(Z-X).gammaoperation(3)"
   ]
  },
  {
   "cell_type": "markdown",
   "metadata": {
    "collapsed": false
   },
   "source": [
    "We can investigate how the superdimension of $\\gamma^k \\big( \\frac{\\{a, b\\}}{\\emptyset} \\big)$ varies with $k$:"
   ]
  },
  {
   "cell_type": "code",
   "execution_count": 32,
   "metadata": {
    "collapsed": false
   },
   "outputs": [
    {
     "name": "stdout",
     "output_type": "stream",
     "text": [
      "{b, a}/Ø\n",
      "(2, 0)\n",
      "(3, 0)\n",
      "(4, 0)\n",
      "(5, 0)\n",
      "(6, 0)\n",
      "(7, 0)\n",
      "(8, 0)\n",
      "(9, 0)\n",
      "(10, 0)\n"
     ]
    }
   ],
   "source": [
    "W = ts(\"{a, b}/{}\")\n",
    "print W\n",
    "for k in range(1,10):\n",
    "    print (W.gammaoperation(k)).superdimension()"
   ]
  },
  {
   "cell_type": "markdown",
   "metadata": {
    "collapsed": false
   },
   "source": [
    "There is a close relationship between these various operations and the theory of symmetric polynomials, as illustrated in the following examples:"
   ]
  },
  {
   "cell_type": "code",
   "execution_count": 33,
   "metadata": {
    "collapsed": false
   },
   "outputs": [
    {
     "name": "stdout",
     "output_type": "stream",
     "text": [
      "We use the symbol W as input. W equals {b, c, a}/Ø\n",
      "Applying lambda-operations for $k = 1, 2, 3, 4$, in each case followed by the trace function, we get:\n",
      "k = 1 : a + b + c\n",
      "k = 2 : a*b + a*c + b*c\n",
      "k = 3 : a*b*c\n",
      "k = 4 : 0\n"
     ]
    }
   ],
   "source": [
    "W = ts(\"{a, b, c}/{}\")\n",
    "print \"We use the symbol W as input. W equals\", W\n",
    "print \"Applying lambda-operations for $k = 1, 2, 3, 4$, in each case followed by the trace function, we get:\"\n",
    "for k in range(1, 5):\n",
    "    print \"k =\", k, \":\",  (W.lambdaoperation(k)).trace()"
   ]
  },
  {
   "cell_type": "code",
   "execution_count": 34,
   "metadata": {
    "collapsed": false
   },
   "outputs": [
    {
     "name": "stdout",
     "output_type": "stream",
     "text": [
      "We use the symbol W as input. W equals {b, c, a}/Ø\n",
      "Applying Adams operations for $k = 1, 2, 3, 4$, in each case followed by the trace function, we get:\n",
      "k = 1 : a + b + c\n",
      "k = 2 : a^2 + b^2 + c^2\n",
      "k = 3 : a^3 + b^3 + c^3\n",
      "k = 4 : a^4 + b^4 + c^4\n"
     ]
    }
   ],
   "source": [
    "W = ts(\"{a, b, c}/{}\")\n",
    "print \"We use the symbol W as input. W equals\", W\n",
    "print \"Applying Adams operations for $k = 1, 2, 3, 4$, in each case followed by the trace function, we get:\"\n",
    "for k in range(1, 5):\n",
    "    print \"k =\", k, \":\",  (W.adamsoperation(k)).trace()"
   ]
  },
  {
   "cell_type": "code",
   "execution_count": 35,
   "metadata": {
    "collapsed": false
   },
   "outputs": [
    {
     "name": "stdout",
     "output_type": "stream",
     "text": [
      "We use the symbol W as input. W equals {b, c, a}/Ø\n",
      "Applying symmetric power operations for $k = 1, 2, 3, 4$, in each case followed by the trace function, we get:\n",
      "k = 1 : a + b + c\n",
      "k = 2 : a^2 + a*b + b^2 + a*c + b*c + c^2\n",
      "k = 3 : a^3 + a^2*b + a*b^2 + b^3 + a^2*c + a*b*c + b^2*c + a*c^2 + b*c^2 + c^3\n",
      "k = 4 : a^4 + a^3*b + a^2*b^2 + a*b^3 + b^4 + a^3*c + a^2*b*c + a*b^2*c + b^3*c + a^2*c^2 + a*b*c^2 + b^2*c^2 + a*c^3 + b*c^3 + c^4\n"
     ]
    }
   ],
   "source": [
    "W = ts(\"{a, b, c}/{}\")\n",
    "print \"We use the symbol W as input. W equals\", W\n",
    "print \"Applying symmetric power operations for $k = 1, 2, 3, 4$, in each case followed by the trace function, we get:\"\n",
    "for k in range(1, 5):\n",
    "    print \"k =\", k, \":\",  (W.symmetricpoweroperation(k)).trace()"
   ]
  },
  {
   "cell_type": "code",
   "execution_count": 36,
   "metadata": {
    "collapsed": false
   },
   "outputs": [
    {
     "name": "stdout",
     "output_type": "stream",
     "text": [
      "We use the symbol W as input. W equals {b, c, a}/Ø\n",
      "Applying gamma-operations for $k = 1, 2, 3, 4$, in each case followed by the trace function, we get:\n",
      "k = 1 : a + b + c\n",
      "k = 2 : a*b + a*c + b*c + a + b + c\n",
      "k = 3 : a*b*c + 2*a*b + 2*a*c + 2*b*c + a + b + c\n",
      "k = 4 : 3*a*b*c + 3*a*b + 3*a*c + 3*b*c + a + b + c\n"
     ]
    }
   ],
   "source": [
    "W = ts(\"{a, b, c}/{}\")\n",
    "print \"We use the symbol W as input. W equals\", W\n",
    "print \"Applying gamma-operations for $k = 1, 2, 3, 4$, in each case followed by the trace function, we get:\"\n",
    "for k in range(1, 5):\n",
    "    print \"k =\", k, \":\",  (W.gammaoperation(k)).trace()"
   ]
  },
  {
   "cell_type": "markdown",
   "metadata": {
    "collapsed": false
   },
   "source": [
    "The methods that have been described here for $TS(R)$ are all defined in the file RingTS.sage."
   ]
  },
  {
   "cell_type": "markdown",
   "metadata": {
    "collapsed": false
   },
   "source": [
    "## TS of the complex numbers"
   ]
  },
  {
   "cell_type": "markdown",
   "metadata": {
    "collapsed": false
   },
   "source": [
    "We begin by constructing $TS(\\mathbb{C}^{\\times})$, which is the functor $TS$ applied to the commutative monoid of non-zero complex numbers. We also redefine the command \"ts\" and introduce a few example symbols."
   ]
  },
  {
   "cell_type": "code",
   "execution_count": 37,
   "metadata": {
    "collapsed": false
   },
   "outputs": [
   ],
   "source": [
    "TSC = ComplexTannakianSymbols()\n",
    "\n",
    "ts = TSC.parseSymbol\n",
    "\n",
    "X = ts(\"{2, 3}/{-1, -1 }\")\n",
    "Y = ts(\"{1+I, 1-I}/Ø\")\n",
    "Z = ts(\"{-2}/{I, I, 4*I}\")"
   ]
  },
  {
   "cell_type": "markdown",
   "metadata": {
    "collapsed": false
   },
   "source": [
    "All the commands introduced above also work for complex Tannakian symbols. A few examples:"
   ]
  },
  {
   "cell_type": "code",
   "execution_count": 38,
   "metadata": {
    "collapsed": false
   },
   "outputs": [
    {
     "name": "stdout",
     "output_type": "stream",
     "text": [
      "{-3*I + 3, 2*I + 2, -2*I + 2, 3*I + 3}/{I - 1, I - 1, -I - 1, -I - 1}"
     ]
    },
    {
     "name": "stdout",
     "output_type": "stream",
     "text": [
      "\n"
     ]
    }
   ],
   "source": [
    "print X * Y"
   ]
  },
  {
   "cell_type": "code",
   "execution_count": 39,
   "metadata": {
    "collapsed": false
   },
   "outputs": [
    {
     "name": "stdout",
     "output_type": "stream",
     "text": [
      "{-2}/{4*I, I, I}\n",
      "-0.500000000000000*I\n",
      "-6*I - 2\n"
     ]
    }
   ],
   "source": [
    "print Z\n",
    "print Z.determinant()\n",
    "print Z.trace()"
   ]
  },
  {
   "cell_type": "code",
   "execution_count": 40,
   "metadata": {
    "collapsed": false
   },
   "outputs": [
    {
     "name": "stdout",
     "output_type": "stream",
     "text": [
      "{2, 8, 8, -8}/{-4*I, 16*I, 4*I, 4*I}\n"
     ]
    }
   ],
   "source": [
    "print Z.symmetricpoweroperation(3)"
   ]
  },
  {
   "cell_type": "code",
   "execution_count": 41,
   "metadata": {
    "collapsed": false
   },
   "outputs": [
    {
     "name": "stdout",
     "output_type": "stream",
     "text": [
      "1, -6*I - 2, 12*I - 5, -20*I + 10, 40*I - 20, -80*I + 40, 160*I - 80, -320*I + 160, 640*I - 320, -1280*I + 640, 2560*I - 1280, -5120*I + 2560, 10240*I - 5120, -20480*I + 10240, 40960*I - 20480, -81920*I + 40960, 163840*I - 81920, -327680*I + 163840, 655360*I - 327680, -1310720*I + 655360, ...\n"
     ]
    }
   ],
   "source": [
    "print Z.getBellCoefficients()"
   ]
  },
  {
   "cell_type": "markdown",
   "metadata": {
    "collapsed": false
   },
   "source": [
    "We also have a plethora of new operations. Some of these really exist in greater generality (for TS(R) when $R$ is a general commutative ring, or a commutative ring satisfying some extra properties), but have only been implemented for complex numbers. "
   ]
  },
  {
   "cell_type": "markdown",
   "metadata": {
    "collapsed": false
   },
   "source": [
    "The main difficulty when implementing these operations is that some of them rely on the Berlekamp-Massey algorithm, which takes a linearly recursive sequence as input, and returns two polynomials whose quotient is a generating series for the input sequence. The version of Berlekamp-Massey that we use was written by Magnus Hellebust Haaland and Olav Hellebust Haaland, and works well when the input is an integer sequence of fairly low recursion degree (we should specify here what this means, it seems anything under 20 is fine, must do some more testing here)."
   ]
  },
  {
   "cell_type": "markdown",
   "metadata": {
    "collapsed": false
   },
   "source": [
    "#### Box sum, box product, and showplot"
   ]
  },
  {
   "cell_type": "markdown",
   "metadata": {
    "collapsed": false
   },
   "source": [
    "To begin with, we have the \"box sum\" and the \"box product\". Both of these operations rely on Berlekamp-Massey."
   ]
  },
  {
   "cell_type": "code",
   "execution_count": 42,
   "metadata": {
    "collapsed": false
   },
   "outputs": [
    {
     "data": {
      "text/plain": [
       "{2.00000000000000, 3.00000000000000}/{0.424428900898052, -9.42442890089805}"
      ]
     },
     "execution_count": 42,
     "metadata": {
     },
     "output_type": "execute_result"
    }
   ],
   "source": [
    "TSC.boxsum(X, X)"
   ]
  },
  {
   "cell_type": "code",
   "execution_count": 43,
   "metadata": {
    "collapsed": false
   },
   "outputs": [
    {
     "data": {
      "text/plain": [
       "{2.00000000000000 + 2.00000000000000*I, 3.00000000000000 + 3.00000000000000*I, 3.00000000000000 - 3.00000000000000*I, 2.00000000000000 - 2.00000000000000*I}/{4.11890620431312, -1.19938408212681, 0.642445436872232, -7.56196755905854}"
      ]
     },
     "execution_count": 43,
     "metadata": {
     },
     "output_type": "execute_result"
    }
   ],
   "source": [
    "TSC.boxproduct(X, Y)"
   ]
  },
  {
   "cell_type": "code",
   "execution_count": 44,
   "metadata": {
    "collapsed": false
   },
   "outputs": [
    {
     "name": "stdout",
     "output_type": "stream",
     "text": [
      "{2.00000000000000, 2.00000000000000, 3.00000000000000, 3.00000000000000, 1.00000000000000 + 1.00000000000000*I, 1.00000000000000 - 1.00000000000000*I}/{1.13464943699668 + 0.845975055495813*I, 0.727443849909087 + 2.48156012921520*I, -8.35001552475946, 0.727443849909087 - 2.48156012921520*I, 1.13464943699668 - 0.845975055495813*I, 0.625828950947925}\n"
     ]
    }
   ],
   "source": [
    "W = TSC.boxsum(X+X, Y)\n",
    "print W"
   ]
  },
  {
   "cell_type": "markdown",
   "metadata": {
    "collapsed": false
   },
   "source": [
    "If you feel that this looks a bit messy, you may print the elements one at a time instead:"
   ]
  },
  {
   "cell_type": "code",
   "execution_count": 45,
   "metadata": {
    "collapsed": false
   },
   "outputs": [
    {
     "name": "stdout",
     "output_type": "stream",
     "text": [
      "Upstairs:\n",
      "2.00000000000000\n",
      "2.00000000000000\n",
      "3.00000000000000\n",
      "3.00000000000000\n",
      "1.00000000000000 + 1.00000000000000*I\n",
      "1.00000000000000 - 1.00000000000000*I\n",
      "Downstairs:\n",
      "1.13464943699668 + 0.845975055495813*I\n",
      "0.727443849909087 + 2.48156012921520*I\n",
      "-8.35001552475946\n",
      "0.727443849909087 - 2.48156012921520*I\n",
      "1.13464943699668 - 0.845975055495813*I\n",
      "0.625828950947925\n"
     ]
    }
   ],
   "source": [
    "print \"Upstairs:\"\n",
    "for x in W.upstairs(): print x\n",
    "print \"Downstairs:\"\n",
    "for x in W.downstairs(): print x"
   ]
  },
  {
   "cell_type": "markdown",
   "metadata": {
    "collapsed": false
   },
   "source": [
    "If you prefer a plot of the elements in the complex plane, use the showplot command. Here the upstairs elements are shown in blue (by default), while the downstairs element are shown in red. A larger circle indicates that the multiplicity is higher than 1."
   ]
  },
  {
   "cell_type": "code",
   "execution_count": 46,
   "metadata": {
    "collapsed": false
   },
   "outputs": [
    {
     "data": {
      "image/png": "[encoded data removed]"
     },
     "execution_count": 46,
     "metadata": {
     },
     "output_type": "execute_result"
    }
   ],
   "source": [
    "W.showplot()"
   ]
  },
  {
   "cell_type": "markdown",
   "metadata": {
    "collapsed": false
   },
   "source": [
    "#### Berlekamp-Massey manual tuning"
   ]
  },
  {
   "cell_type": "markdown",
   "metadata": {
    "collapsed": false
   },
   "source": [
    "Sometimes, computing a boxproduct or a boxsum does not work, with the error message saying that \"Berlekamp produced an empty list\". Here's an example:"
   ]
  },
  {
   "cell_type": "code",
   "execution_count": 47,
   "metadata": {
    "collapsed": false
   },
   "outputs": [
    {
     "ename": "ArithmeticError",
     "evalue": "Berlekamp produced an empty list",
     "output_type": "error",
     "traceback": [
      "\u001b[0;31m---------------------------------------------------------------------------\u001b[0m",
      "\u001b[0;31mArithmeticError\u001b[0m                           Traceback (most recent call last)",
      "\u001b[0;32m<ipython-input-47-2d4a7c0e6beb>\u001b[0m in \u001b[0;36m<module>\u001b[0;34m()\u001b[0m\n\u001b[0;32m----> 1\u001b[0;31m \u001b[0mTSC\u001b[0m\u001b[0;34m.\u001b[0m\u001b[0mboxproduct\u001b[0m\u001b[0;34m(\u001b[0m\u001b[0mX\u001b[0m\u001b[0;34m+\u001b[0m\u001b[0mX\u001b[0m\u001b[0;34m+\u001b[0m\u001b[0mX\u001b[0m\u001b[0;34m,\u001b[0m \u001b[0mX\u001b[0m\u001b[0;34m+\u001b[0m\u001b[0mY\u001b[0m\u001b[0;34m)\u001b[0m\u001b[0;34m\u001b[0m\u001b[0m\n\u001b[0m",
      "\u001b[0;32m<string>\u001b[0m in \u001b[0;36m<lambda>\u001b[0;34m(self, *args, **kwargs)\u001b[0m\n",
      "\u001b[0;32m<string>\u001b[0m in \u001b[0;36m<lambda>\u001b[0;34m(x, y, bell_length)\u001b[0m\n",
      "\u001b[0;32m<string>\u001b[0m in \u001b[0;36mgetTSFromBellCoeffs\u001b[0;34m(self, *args, **kwargs)\u001b[0m\n",
      "\u001b[0;32m<string>\u001b[0m in \u001b[0;36mgetLZFromBellCoeffs\u001b[0;34m(bellCoeffs, bell_length)\u001b[0m\n",
      "\u001b[0;31mArithmeticError\u001b[0m: Berlekamp produced an empty list"
     ]
    }
   ],
   "source": [
    "TSC.boxproduct(X+X+X, X+Y)"
   ]
  },
  {
   "cell_type": "markdown",
   "metadata": {
    "collapsed": false
   },
   "source": [
    "When this happens, one can tweak a parameter in the Berlekamp-Massey algorithm, which is the number of sequence entries that the algorithm uses for detecting a possible linear recursion. The default value here is 20. In many cases, this number has to be increased, but in some cases (where the list contains very large integers), the value should instead be decreased from 20 to something smaller.\n",
    "\n",
    "Repeating the above calculation with a tweaked parameter, one can check that it still does not work for 30 or 40, but trying with 50, we get the right answer!"
   ]
  },
  {
   "cell_type": "code",
   "execution_count": 0,
   "metadata": {
    "collapsed": false
   },
   "outputs": [
   ],
   "source": [
    "Q = TSC.boxproduct(X+X+X, X+Y, 50); Q"
   ]
  },
  {
   "cell_type": "markdown",
   "metadata": {
    "collapsed": false
   },
   "source": [
    "Let's plot the elements of this symbol as well:"
   ]
  },
  {
   "cell_type": "code",
   "execution_count": 0,
   "metadata": {
    "collapsed": false
   },
   "outputs": [
   ],
   "source": [
    "Q.showplot(dotsize=30, upstairscolor=\"green\")"
   ]
  },
  {
   "cell_type": "markdown",
   "metadata": {
    "collapsed": false
   },
   "source": [
    "#### Problems with rounding errors"
   ]
  },
  {
   "cell_type": "markdown",
   "metadata": {
    "collapsed": false
   },
   "source": [
    "Sometimes, we make a computation in which the output is affected by rounding errors. In such a case, we can force the numbers to be rounded to integers or to Gaussian integers."
   ]
  },
  {
   "cell_type": "code",
   "execution_count": 0,
   "metadata": {
    "collapsed": false
   },
   "outputs": [
   ],
   "source": [
    "Q_Bell = Q.getBellCoefficients(10)\n",
    "Q_Bell_rounded = Q.getBellCoefficients(10).toNearestGaussianIntegers()\n",
    "for i in range(11): print \"The number\", Q_Bell[i], \"has been rounded to\", Q_Bell_rounded[i]\n"
   ]
  },
  {
   "cell_type": "markdown",
   "metadata": {
    "collapsed": false
   },
   "source": [
    "As you can see from the final few entries above, the rounding errors are at first extremely small, but as we move towards the final entries, they become larger.\n",
    "\n",
    "The next example show that these errors may create serious problems in methods that pass from Bell coefficients to the Tannakian symbol and/or back again. These problems are due to rounding errors when we list the reciprocal roots of a polynomial as elements in the Tannakian symbol, and later recover the Bell coefficients from the Tannakian symbol. In the latter step here, we apply Adams operations followed by the trace operator, and most likely the bad rounding happens when we apply the Adams operations for big values of $k$. \n",
    "\n",
    "A solution to all this might be to use a version of the complex numbers with higher precision, or (and we should do this in the future) switch to complex interval arithmetic.\n",
    "\n",
    "Note that for normal applications to classical multiplicative functions, these rounding errors rarely create problems, since the linear recursion degrees tend to be small."
   ]
  },
  {
   "cell_type": "code",
   "execution_count": 0,
   "metadata": {
    "collapsed": false
   },
   "outputs": [
   ],
   "source": [
    "#Run this code if you want to see the the bad rounding errors taking effect around i=12.\n",
    "#for i in range(14):\n",
    "#    print \"i = \", i\n",
    "#    print Q.getBellCoefficients()[i]\n",
    "#    print Q.getBellCoefficients().toNearestGaussianIntegers()[i]\n",
    "#    print Q.getBellCoefficients().toNearestIntegers()[i]"
   ]
  },
  {
   "cell_type": "markdown",
   "metadata": {
    "collapsed": false
   },
   "source": [
    "#### Creating Tannakian symbols from lists of Bell coefficients or point counts"
   ]
  },
  {
   "cell_type": "code",
   "execution_count": 0,
   "metadata": {
    "collapsed": false
   },
   "outputs": [
   ],
   "source": [
    "TSC.getTSFromBellCoeffs([1, 2, 3, 4, 5, 6, 7, 8, 9, 10])"
   ]
  },
  {
   "cell_type": "code",
   "execution_count": 0,
   "metadata": {
    "collapsed": false
   },
   "outputs": [
   ],
   "source": [
    "TSC.getTSFromPointCounts([1, 3, 7, 15, 31, 63, 127])"
   ]
  },
  {
   "cell_type": "markdown",
   "metadata": {
    "collapsed": false
   },
   "source": [
    "#### Circle action and box action"
   ]
  },
  {
   "cell_type": "code",
   "execution_count": 0,
   "metadata": {
    "collapsed": false
   },
   "outputs": [
   ],
   "source": [
    "X = ts(\"{2, 3}/{-1, -1 }\")\n",
    "X.circleaction(2)"
   ]
  },
  {
   "cell_type": "code",
   "execution_count": 0,
   "metadata": {
    "collapsed": false
   },
   "outputs": [
   ],
   "source": [
    "X.boxaction(7)"
   ]
  },
  {
   "cell_type": "markdown",
   "metadata": {
    "collapsed": false
   },
   "source": [
    "NOTE: Circle action currently seems a bit unstable, with pari errors appearing for example if you try \"X.circleaction(3)\" above. In any case, these operations are not super-important for our current applications."
   ]
  },
  {
   "cell_type": "markdown",
   "metadata": {
    "collapsed": false
   },
   "source": [
    "#### More Adams operations"
   ]
  },
  {
   "cell_type": "markdown",
   "metadata": {
    "collapsed": false
   },
   "source": [
    "The Adams-hat operation are not defined for most Tannakian symbols, but we have implemented an attempt, which will usually produce an error message. In the language of the article, this operation does not preserve the class of rational multiplicative functions."
   ]
  },
  {
   "cell_type": "code",
   "execution_count": 0,
   "metadata": {
    "collapsed": false
   },
   "outputs": [
   ],
   "source": [
    "#X.adamshatoperation(4)"
   ]
  },
  {
   "cell_type": "markdown",
   "metadata": {
    "collapsed": false
   },
   "source": [
    "The box-adams operation is implemented..."
   ]
  },
  {
   "cell_type": "code",
   "execution_count": 0,
   "metadata": {
    "collapsed": false
   },
   "outputs": [
   ],
   "source": [
    "X.boxadamsoperation(3)"
   ]
  },
  {
   "cell_type": "markdown",
   "metadata": {
    "collapsed": false
   },
   "source": [
    "... and so is the box-hat adams operation:"
   ]
  },
  {
   "cell_type": "code",
   "execution_count": 0,
   "metadata": {
    "collapsed": false
   },
   "outputs": [
   ],
   "source": [
    "X.boxadamshatoperation(3)"
   ]
  },
  {
   "cell_type": "markdown",
   "metadata": {
    "collapsed": false
   },
   "source": [
    "## Summary"
   ]
  },
  {
   "cell_type": "markdown",
   "metadata": {
    "collapsed": false
   },
   "source": [
    "From the comments to the file MonoidTS.sage:"
   ]
  },
  {
   "cell_type": "code",
   "execution_count": 0,
   "metadata": {
    "collapsed": false
   },
   "outputs": [
   ],
   "source": [
    "### Methods for Tannakian symbols with elements from a general commutative monoid\n",
    "###\n",
    "### Binary operations:     Direct sum (+)\n",
    "###                        Tensor product (*)\n",
    "###\n",
    "### Unary operations:      lambdaoperation\n",
    "###                        adamsoperation\n",
    "###                        gammaoperation\n",
    "###                        symmetricpoweroperation\n",
    "###\n",
    "### Invariants:            determintant\n",
    "###                        augmentation\n",
    "###                        evendimension\n",
    "###                        odddimension\n",
    "###                        superdimension\n",
    "###\n",
    "### Factory methods:       createElement\n",
    "###                        parseSymbol\n",
    "###\n",
    "### Printing methods:      _repr_\n",
    "###                        _latex_\n",
    "###\n",
    "### Other:                 upstairs\n",
    "###                        downstairs"
   ]
  },
  {
   "cell_type": "markdown",
   "metadata": {
    "collapsed": false
   },
   "source": [
    "From the comments to the file RingTS.sage:"
   ]
  },
  {
   "cell_type": "code",
   "execution_count": 0,
   "metadata": {
    "collapsed": false
   },
   "outputs": [
   ],
   "source": [
    "### Requires LazyList.sage, Berlekamp.sage, MonoidTS.sage\n",
    "###\n",
    "\n",
    "\n",
    "### Methods for Tannakian symbols with elements from a commutative ring ###\n",
    "###\n",
    "### Method for computing the trace of a Tannakian symbol:\n",
    "###    trace\n",
    "###\n",
    "### Methods for extracting list of Bell coefficients/list of point counts as a LazyList:\n",
    "###    getBellCoefficients\n",
    "###    getPointCounts\n",
    "###\n",
    "### NOTE: The convention used here is that both of these lists have the number 1 as the zero'th element."
   ]
  },
  {
   "cell_type": "markdown",
   "metadata": {
    "collapsed": false
   },
   "source": [
    "From the comments to the file ComplexTS.sage:"
   ]
  },
  {
   "cell_type": "code",
   "execution_count": 0,
   "metadata": {
    "collapsed": false
   },
   "outputs": [
   ],
   "source": [
    "### Methods for complex Tannakian symbols ###\n",
    "###\n",
    "### Binary operations:     boxsum\n",
    "###                        boxproduct\n",
    "###\n",
    "### Factory methods:       getTSFromBellCoefficients\n",
    "###                        getTSFromPointCounts\n",
    "###\n",
    "### Other:                 liftBellBinaryOp\n",
    "###                        liftPointCountBinaryOp\n",
    "###                        liftBellUnaryOp\n",
    "###                        liftPointCountUnaryOp\n",
    "###\n",
    "### C-actions:             circleaction\n",
    "###                        boxaction\n",
    "###\n",
    "### Unary operations:      adamshatoperation\n",
    "###                        boxadamsoperation\n",
    "###                        boxadamshatoperation\n",
    "###\n",
    "### Helper methods:        reciprocal_roots\n",
    "###                        BellDerivative\n",
    "###                        BellAntiderivative\n",
    "###                        toNearestGaussianInteger\n",
    "###                        toNearestInteger\n",
    "###\n",
    "### Plot methods:          showplot\n",
    "###\n",
    "### Global constant:       DEFAULT_BERLEKAMP_LENGTH"
   ]
  },
  {
   "cell_type": "markdown",
   "metadata": {
    "collapsed": false
   },
   "source": [
    "Use the built-in help functions to get more info on optional keywords and other syntax, like this:"
   ]
  },
  {
   "cell_type": "code",
   "execution_count": 0,
   "metadata": {
    "collapsed": false
   },
   "outputs": [
   ],
   "source": [
    "#X.showplot?"
   ]
  },
  {
   "cell_type": "markdown",
   "metadata": {
    "collapsed": false
   },
   "source": [
    "## Playing around"
   ]
  },
  {
   "cell_type": "markdown",
   "metadata": {
    "collapsed": false
   },
   "source": [
    "Checking out a probable relation between lambda operations and symmetric power operations:"
   ]
  },
  {
   "cell_type": "code",
   "execution_count": 0,
   "metadata": {
    "collapsed": false
   },
   "outputs": [
   ],
   "source": [
    "symbols = map(ts, [\"Ø/Ø\", \"{a}/Ø\", \"Ø/{a}\", \"{a, b}/Ø\", \"Ø/{a, b}\", \"{a}/{b}\", \"{a, b}/{c}\", \"{a}/{b, c}\", \"{a, b, c}/Ø\", \"Ø/{a, b, c}\"])\n",
    "for Q in symbols:\n",
    "    for k in range(0, 10):\n",
    "        if Q.lambdaoperation(k) != (-1)^k * (-Q).symmetricpoweroperation(k):\n",
    "            print \"Fail on k =\", k, \"and Q =\", Q, \"where lambda ->\", Q.lambdaoperation(k), \"and sympow ->\", Q.symmetricpoweroperation(k)\n",
    "    print \"done for\", Q\n",
    "print \"done!\""
   ]
  },
  {
   "cell_type": "code",
   "execution_count": 0,
   "metadata": {
    "collapsed": false
   },
   "outputs": [
   ],
   "source": [
   ]
  },
  {
   "cell_type": "markdown",
   "metadata": {
    "collapsed": false
   },
   "source": [
    "## Todo for multiplicative functions\n",
    "\n",
    "Add support for calling multiplicative functions, for producing zeta types and latex tables of zeta types.\n",
    "\n",
    "Note the commands available at nt quickref sheet for prime powers."
   ]
  },
  {
   "cell_type": "code",
   "execution_count": 0,
   "metadata": {
    "collapsed": false
   },
   "outputs": [
   ],
   "source": [
    "# Specification for multiplicative functions\n",
    "#\n",
    "%runfile ../Classical-Multiplicative-Functions/Multiplicative-Function-Library.sage\n",
    "#\n",
    "# printMultiplicativeLibrary()  # Prints a list of functions, perhaps with a little help text on how to use the library\n",
    "#\n",
    "# getZetaType(Liouville, 4, 7)  #Produces a simple global zeta type with 4 rows and 7 columns, stored as a list of row lists.\n",
    "#\n",
    "# getLaTeXedZetaType(Liouville, 4, 7)   #Prints a Latexed zeta type, just like the code we already have under Latex tools.\n",
    "# \n",
    "# createMultiplicativeFunctionFromList\n",
    "# createMultiplicativeFunctionFromLazyList\n",
    "#\n",
    "# f = createMultiplicativeFunction(sigma_k, k=4)\n",
    "# g = createMultiplicativeFunction(pow_r, r=1.5)\n",
    "# Liouville = createMultiplicativeFunction(Liouville)\n",
    "# f(8)\n",
    "# Liouville(42)\n",
    "# f.getRow(8)             #constructs the 8th row of the zeta type, as a LazyList\n",
    "# boxsum(f, g)            #Want similar methods for all our binary and unary operations\n",
    "# f.superdimension(p=5)   #Want similar methods for all invariants\n",
    "#\n",
    "# multiplicativeFunctionLibrary[sigma_k, k=7, r=5]"
   ]
  },
  {
   "cell_type": "code",
   "execution_count": 0,
   "metadata": {
    "collapsed": false
   },
   "outputs": [
   ],
   "source": [
    "loadMultiplicativeLibrary()"
   ]
  },
  {
   "cell_type": "code",
   "execution_count": 0,
   "metadata": {
    "collapsed": false
   },
   "outputs": [
   ],
   "source": [
   ]
  },
  {
   "cell_type": "code",
   "execution_count": 0,
   "metadata": {
    "collapsed": false
   },
   "outputs": [
   ],
   "source": [
   ]
  },
  {
   "cell_type": "code",
   "execution_count": 0,
   "metadata": {
    "collapsed": false
   },
   "outputs": [
   ],
   "source": [
   ]
  },
  {
   "cell_type": "code",
   "execution_count": 0,
   "metadata": {
    "collapsed": false
   },
   "outputs": [
   ],
   "source": [
   ]
  },
  {
   "cell_type": "code",
   "execution_count": 0,
   "metadata": {
    "collapsed": false
   },
   "outputs": [
   ],
   "source": [
   ]
  },
  {
   "cell_type": "code",
   "execution_count": 0,
   "metadata": {
    "collapsed": false
   },
   "outputs": [
   ],
   "source": [
   ]
  },
  {
   "cell_type": "code",
   "execution_count": 0,
   "metadata": {
    "collapsed": false
   },
   "outputs": [
   ],
   "source": [
   ]
  },
  {
   "cell_type": "code",
   "execution_count": 0,
   "metadata": {
    "collapsed": false
   },
   "outputs": [
   ],
   "source": [
   ]
  },
  {
   "cell_type": "code",
   "execution_count": 0,
   "metadata": {
    "collapsed": false
   },
   "outputs": [
   ],
   "source": [
   ]
  },
  {
   "cell_type": "code",
   "execution_count": 0,
   "metadata": {
    "collapsed": false
   },
   "outputs": [
   ],
   "source": [
   ]
  },
  {
   "cell_type": "code",
   "execution_count": 0,
   "metadata": {
    "collapsed": false
   },
   "outputs": [
   ],
   "source": [
   ]
  },
  {
   "cell_type": "code",
   "execution_count": 0,
   "metadata": {
    "collapsed": false
   },
   "outputs": [
   ],
   "source": [
   ]
  },
  {
   "cell_type": "code",
   "execution_count": 0,
   "metadata": {
    "collapsed": false
   },
   "outputs": [
   ],
   "source": [
   ]
  },
  {
   "cell_type": "code",
   "execution_count": 0,
   "metadata": {
    "collapsed": false
   },
   "outputs": [
   ],
   "source": [
   ]
  },
  {
   "cell_type": "code",
   "execution_count": 0,
   "metadata": {
    "collapsed": false
   },
   "outputs": [
   ],
   "source": [
   ]
  },
  {
   "cell_type": "code",
   "execution_count": 0,
   "metadata": {
    "collapsed": false
   },
   "outputs": [
   ],
   "source": [
   ]
  },
  {
   "cell_type": "code",
   "execution_count": 0,
   "metadata": {
    "collapsed": false
   },
   "outputs": [
   ],
   "source": [
   ]
  },
  {
   "cell_type": "code",
   "execution_count": 0,
   "metadata": {
    "collapsed": false
   },
   "outputs": [
   ],
   "source": [
   ]
  },
  {
   "cell_type": "code",
   "execution_count": 0,
   "metadata": {
    "collapsed": false
   },
   "outputs": [
   ],
   "source": [
   ]
  },
  {
   "cell_type": "code",
   "execution_count": 0,
   "metadata": {
    "collapsed": false
   },
   "outputs": [
   ],
   "source": [
   ]
  },
  {
   "cell_type": "code",
   "execution_count": 0,
   "metadata": {
    "collapsed": false
   },
   "outputs": [
   ],
   "source": [
   ]
  },
  {
   "cell_type": "code",
   "execution_count": 0,
   "metadata": {
    "collapsed": false
   },
   "outputs": [
   ],
   "source": [
   ]
  },
  {
   "cell_type": "code",
   "execution_count": 0,
   "metadata": {
    "collapsed": false
   },
   "outputs": [
   ],
   "source": [
   ]
  },
  {
   "cell_type": "code",
   "execution_count": 0,
   "metadata": {
    "collapsed": false
   },
   "outputs": [
   ],
   "source": [
   ]
  },
  {
   "cell_type": "code",
   "execution_count": 0,
   "metadata": {
    "collapsed": false
   },
   "outputs": [
   ],
   "source": [
   ]
  },
  {
   "cell_type": "code",
   "execution_count": 0,
   "metadata": {
    "collapsed": false
   },
   "outputs": [
   ],
   "source": [
   ]
  },
  {
   "cell_type": "code",
   "execution_count": 0,
   "metadata": {
    "collapsed": false
   },
   "outputs": [
   ],
   "source": [
   ]
  },
  {
   "cell_type": "code",
   "execution_count": 0,
   "metadata": {
    "collapsed": false
   },
   "outputs": [
   ],
   "source": [
   ]
  },
  {
   "cell_type": "code",
   "execution_count": 0,
   "metadata": {
    "collapsed": false
   },
   "outputs": [
   ],
   "source": [
   ]
  },
  {
   "cell_type": "code",
   "execution_count": 0,
   "metadata": {
    "collapsed": false
   },
   "outputs": [
   ],
   "source": [
   ]
  },
  {
   "cell_type": "code",
   "execution_count": 0,
   "metadata": {
    "collapsed": false
   },
   "outputs": [
   ],
   "source": [
   ]
  },
  {
   "cell_type": "code",
   "execution_count": 0,
   "metadata": {
    "collapsed": false
   },
   "outputs": [
   ],
   "source": [
   ]
  },
  {
   "cell_type": "code",
   "execution_count": 0,
   "metadata": {
    "collapsed": false
   },
   "outputs": [
   ],
   "source": [
   ]
  },
  {
   "cell_type": "code",
   "execution_count": 0,
   "metadata": {
    "collapsed": false
   },
   "outputs": [
   ],
   "source": [
   ]
  },
  {
   "cell_type": "code",
   "execution_count": 0,
   "metadata": {
    "collapsed": false
   },
   "outputs": [
   ],
   "source": [
   ]
  },
  {
   "cell_type": "code",
   "execution_count": 0,
   "metadata": {
    "collapsed": false
   },
   "outputs": [
   ],
   "source": [
   ]
  },
  {
   "cell_type": "code",
   "execution_count": 0,
   "metadata": {
    "collapsed": false
   },
   "outputs": [
   ],
   "source": [
   ]
  },
  {
   "cell_type": "code",
   "execution_count": 0,
   "metadata": {
    "collapsed": false
   },
   "outputs": [
   ],
   "source": [
   ]
  },
  {
   "cell_type": "code",
   "execution_count": 0,
   "metadata": {
    "collapsed": false
   },
   "outputs": [
   ],
   "source": [
   ]
  },
  {
   "cell_type": "code",
   "execution_count": 0,
   "metadata": {
    "collapsed": false
   },
   "outputs": [
   ],
   "source": [
   ]
  },
  {
   "cell_type": "code",
   "execution_count": 0,
   "metadata": {
    "collapsed": false
   },
   "outputs": [
   ],
   "source": [
   ]
  },
  {
   "cell_type": "code",
   "execution_count": 0,
   "metadata": {
    "collapsed": false
   },
   "outputs": [
   ],
   "source": [
   ]
  },
  {
   "cell_type": "code",
   "execution_count": 0,
   "metadata": {
    "collapsed": false
   },
   "outputs": [
   ],
   "source": [
   ]
  },
  {
   "cell_type": "code",
   "execution_count": 0,
   "metadata": {
    "collapsed": false
   },
   "outputs": [
   ],
   "source": [
   ]
  },
  {
   "cell_type": "code",
   "execution_count": 0,
   "metadata": {
    "collapsed": false
   },
   "outputs": [
   ],
   "source": [
   ]
  },
  {
   "cell_type": "code",
   "execution_count": 0,
   "metadata": {
    "collapsed": false
   },
   "outputs": [
   ],
   "source": [
   ]
  },
  {
   "cell_type": "code",
   "execution_count": 0,
   "metadata": {
    "collapsed": false
   },
   "outputs": [
   ],
   "source": [
   ]
  },
  {
   "cell_type": "code",
   "execution_count": 0,
   "metadata": {
    "collapsed": false
   },
   "outputs": [
   ],
   "source": [
   ]
  },
  {
   "cell_type": "code",
   "execution_count": 0,
   "metadata": {
    "collapsed": false
   },
   "outputs": [
   ],
   "source": [
   ]
  },
  {
   "cell_type": "code",
   "execution_count": 0,
   "metadata": {
    "collapsed": false
   },
   "outputs": [
   ],
   "source": [
   ]
  },
  {
   "cell_type": "code",
   "execution_count": 0,
   "metadata": {
    "collapsed": false
   },
   "outputs": [
   ],
   "source": [
   ]
  },
  {
   "cell_type": "code",
   "execution_count": 0,
   "metadata": {
    "collapsed": false
   },
   "outputs": [
   ],
   "source": [
   ]
  },
  {
   "cell_type": "code",
   "execution_count": 0,
   "metadata": {
    "collapsed": false
   },
   "outputs": [
   ],
   "source": [
   ]
  },
  {
   "cell_type": "code",
   "execution_count": 0,
   "metadata": {
    "collapsed": false
   },
   "outputs": [
   ],
   "source": [
   ]
  },
  {
   "cell_type": "code",
   "execution_count": 0,
   "metadata": {
    "collapsed": false
   },
   "outputs": [
   ],
   "source": [
   ]
  },
  {
   "cell_type": "code",
   "execution_count": 0,
   "metadata": {
    "collapsed": false
   },
   "outputs": [
   ],
   "source": [
   ]
  },
  {
   "cell_type": "code",
   "execution_count": 0,
   "metadata": {
    "collapsed": false
   },
   "outputs": [
   ],
   "source": [
   ]
  },
  {
   "cell_type": "code",
   "execution_count": 0,
   "metadata": {
    "collapsed": false
   },
   "outputs": [
   ],
   "source": [
   ]
  },
  {
   "cell_type": "code",
   "execution_count": 0,
   "metadata": {
    "collapsed": false
   },
   "outputs": [
   ],
   "source": [
   ]
  },
  {
   "cell_type": "code",
   "execution_count": 0,
   "metadata": {
    "collapsed": false
   },
   "outputs": [
   ],
   "source": [
   ]
  },
  {
   "cell_type": "code",
   "execution_count": 0,
   "metadata": {
    "collapsed": false
   },
   "outputs": [
   ],
   "source": [
   ]
  },
  {
   "cell_type": "code",
   "execution_count": 0,
   "metadata": {
    "collapsed": false
   },
   "outputs": [
   ],
   "source": [
   ]
  },
  {
   "cell_type": "code",
   "execution_count": 0,
   "metadata": {
    "collapsed": false
   },
   "outputs": [
   ],
   "source": [
   ]
  },
  {
   "cell_type": "code",
   "execution_count": 0,
   "metadata": {
    "collapsed": false
   },
   "outputs": [
   ],
   "source": [
   ]
  },
  {
   "cell_type": "code",
   "execution_count": 0,
   "metadata": {
    "collapsed": false
   },
   "outputs": [
   ],
   "source": [
   ]
  },
  {
   "cell_type": "code",
   "execution_count": 0,
   "metadata": {
    "collapsed": false
   },
   "outputs": [
   ],
   "source": [
   ]
  },
  {
   "cell_type": "code",
   "execution_count": 0,
   "metadata": {
    "collapsed": false
   },
   "outputs": [
   ],
   "source": [
   ]
  },
  {
   "cell_type": "code",
   "execution_count": 0,
   "metadata": {
    "collapsed": false
   },
   "outputs": [
   ],
   "source": [
   ]
  },
  {
   "cell_type": "code",
   "execution_count": 0,
   "metadata": {
    "collapsed": false
   },
   "outputs": [
   ],
   "source": [
   ]
  },
  {
   "cell_type": "code",
   "execution_count": 0,
   "metadata": {
    "collapsed": false
   },
   "outputs": [
   ],
   "source": [
   ]
  },
  {
   "cell_type": "code",
   "execution_count": 0,
   "metadata": {
    "collapsed": false
   },
   "outputs": [
   ],
   "source": [
   ]
  },
  {
   "cell_type": "code",
   "execution_count": 0,
   "metadata": {
    "collapsed": false
   },
   "outputs": [
   ],
   "source": [
   ]
  },
  {
   "cell_type": "code",
   "execution_count": 0,
   "metadata": {
    "collapsed": false
   },
   "outputs": [
   ],
   "source": [
   ]
  }
 ],
 "metadata": {
  "kernelspec": {
   "display_name": "SageMath 7.4",
   "name": "sage-7.4"
  },
  "language_info": {
   "codemirror_mode": {
    "name": "ipython",
    "version": 2
   },
   "file_extension": ".py",
   "mimetype": "text/x-python",
   "name": "python",
   "nbconvert_exporter": "python",
   "pygments_lexer": "ipython2",
   "version": "2.7.10"
  }
 },
 "nbformat": 4,
 "nbformat_minor": 0
}