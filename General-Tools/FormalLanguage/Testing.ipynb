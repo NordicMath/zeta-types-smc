{
 "cells": [
  {
   "cell_type": "code",
   "execution_count": 29,
   "metadata": {
    "collapsed": false
   },
   "outputs": [],
   "source": [
    "%runfile ../Parser.sage\n",
    "%runfile ../Parsers.sage\n",
    "%runfile FLParser.sage"
   ]
  },
  {
   "cell_type": "code",
   "execution_count": 30,
   "metadata": {
    "collapsed": false
   },
   "outputs": [
    {
     "ename": "ValueError",
     "evalue": "No parse! Using parser '(return ((((text ) or ((return (text IMPORT ) then (some (((((((((((((((((((((((((((((((((((((((((((((((((((((((((((((((((text a) or (text b)) or (text c)) or (text d)) or (text e)) or (text f)) or (text g)) or (text h)) or (text i)) or (text j)) or (text k)) or (text l)) or (text m)) or (text n)) or (text o)) or (text p)) or (text q)) or (text r)) or (text s)) or (text t)) or (text u)) or (text v)) or (text w)) or (text x)) or (text y)) or (text z)) or (text A)) or (text B)) or (text C)) or (text D)) or (text E)) or (text F)) or (text G)) or (text H)) or (text I)) or (text J)) or (text K)) or (text L)) or (text M)) or (text N)) or (text O)) or (text P)) or (text Q)) or (text R)) or (text S)) or (text T)) or (text U)) or (text V)) or (text W)) or (text X)) or (text Y)) or (text Z)) or (text -)) or (text _)) or (text 1)) or (text 2)) or (text 3)) or (text 4)) or (text 5)) or (text 6)) or (text 7)) or (text 8)) or (text 9)) or (text 0)) or (text .)) or (text /)) if then text .flf) then value to (<function <lambda> at 0x7f671a5d2410>))) or (((return some (((((((((((((((((((((((((((((((((((((((((((((((((((((((((((((((text a) or (text b)) or (text c)) or (text d)) or (text e)) or (text f)) or (text g)) or (text h)) or (text i)) or (text j)) or (text k)) or (text l)) or (text m)) or (text n)) or (text o)) or (text p)) or (text q)) or (text r)) or (text s)) or (text t)) or (text u)) or (text v)) or (text w)) or (text x)) or (text y)) or (text z)) or (text A)) or (text B)) or (text C)) or (text D)) or (text E)) or (text F)) or (text G)) or (text H)) or (text I)) or (text J)) or (text K)) or (text L)) or (text M)) or (text N)) or (text O)) or (text P)) or (text Q)) or (text R)) or (text S)) or (text T)) or (text U)) or (text V)) or (text W)) or (text X)) or (text Y)) or (text Z)) or (text -)) or (text _)) or (text 1)) or (text 2)) or (text 3)) or (text 4)) or (text 5)) or (text 6)) or (text 7)) or (text 8)) or (text 9)) or (text 0) and return many some (((((((((((((((((((((((((((((((((((((((((((((((((((((((((((((((text a) or (text b)) or (text c)) or (text d)) or (text e)) or (text f)) or (text g)) or (text h)) or (text i)) or (text j)) or (text k)) or (text l)) or (text m)) or (text n)) or (text o)) or (text p)) or (text q)) or (text r)) or (text s)) or (text t)) or (text u)) or (text v)) or (text w)) or (text x)) or (text y)) or (text z)) or (text A)) or (text B)) or (text C)) or (text D)) or (text E)) or (text F)) or (text G)) or (text H)) or (text I)) or (text J)) or (text K)) or (text L)) or (text M)) or (text N)) or (text O)) or (text P)) or (text Q)) or (text R)) or (text S)) or (text T)) or (text U)) or (text V)) or (text W)) or (text X)) or (text Y)) or (text Z)) or (text -)) or (text _)) or (text 1)) or (text 2)) or (text 3)) or (text 4)) or (text 5)) or (text 6)) or (text 7)) or (text 8)) or (text 9)) or (text 0) if then ((many whitespace) then (text  := )) then (many whitespace)) then value to (<function <lambda> at 0x7f671a5d29b0>)) then value to (<function <lambda> at 0x7f671a5d2a28>))) then (many whitespace)) then (text \n) and ((return (())) then value to (<function <lambda> at 0x7f671ca79c80>)) then (return (Sucess!))) then value to (<function <lambda> at 0x7f671c22aed8>)' on ''",
     "output_type": "error",
     "traceback": [
      "\u001b[0;31m---------------------------------------------------------------------------\u001b[0m",
      "\u001b[0;31mValueError\u001b[0m                                Traceback (most recent call last)",
      "\u001b[0;32m<ipython-input-30-cf9e04e6fed8>\u001b[0m in \u001b[0;36m<module>\u001b[0;34m()\u001b[0m\n\u001b[0;32m----> 1\u001b[0;31m \u001b[0mparse\u001b[0m\u001b[0;34m(\u001b[0m\u001b[0mFLCompile\u001b[0m\u001b[0;34m(\u001b[0m\u001b[0;34m\"\"\u001b[0m\u001b[0;34m)\u001b[0m\u001b[0;34m,\u001b[0m \u001b[0;34m\"hey\"\u001b[0m\u001b[0;34m)\u001b[0m\u001b[0;34m\u001b[0m\u001b[0m\n\u001b[0m",
      "\u001b[0;32m<string>\u001b[0m in \u001b[0;36mFLCompile\u001b[0;34m(str)\u001b[0m\n",
      "\u001b[0;32m<string>\u001b[0m in \u001b[0;36mparse\u001b[0;34m(parser, text, debug, mustFinish, includeTail, returnList, allowAmbiguousButEqual, scope)\u001b[0m\n",
      "\u001b[0;31mValueError\u001b[0m: No parse! Using parser '(return ((((text ) or ((return (text IMPORT ) then (some (((((((((((((((((((((((((((((((((((((((((((((((((((((((((((((((((text a) or (text b)) or (text c)) or (text d)) or (text e)) or (text f)) or (text g)) or (text h)) or (text i)) or (text j)) or (text k)) or (text l)) or (text m)) or (text n)) or (text o)) or (text p)) or (text q)) or (text r)) or (text s)) or (text t)) or (text u)) or (text v)) or (text w)) or (text x)) or (text y)) or (text z)) or (text A)) or (text B)) or (text C)) or (text D)) or (text E)) or (text F)) or (text G)) or (text H)) or (text I)) or (text J)) or (text K)) or (text L)) or (text M)) or (text N)) or (text O)) or (text P)) or (text Q)) or (text R)) or (text S)) or (text T)) or (text U)) or (text V)) or (text W)) or (text X)) or (text Y)) or (text Z)) or (text -)) or (text _)) or (text 1)) or (text 2)) or (text 3)) or (text 4)) or (text 5)) or (text 6)) or (text 7)) or (text 8)) or (text 9)) or (text 0)) or (text .)) or (text /)) if then text .flf) then value to (<function <lambda> at 0x7f671a5d2410>))) or (((return some (((((((((((((((((((((((((((((((((((((((((((((((((((((((((((((((text a) or (text b)) or (text c)) or (text d)) or (text e)) or (text f)) or (text g)) or (text h)) or (text i)) or (text j)) or (text k)) or (text l)) or (text m)) or (text n)) or (text o)) or (text p)) or (text q)) or (text r)) or (text s)) or (text t)) or (text u)) or (text v)) or (text w)) or (text x)) or (text y)) or (text z)) or (text A)) or (text B)) or (text C)) or (text D)) or (text E)) or (text F)) or (text G)) or (text H)) or (text I)) or (text J)) or (text K)) or (text L)) or (text M)) or (text N)) or (text O)) or (text P)) or (text Q)) or (text R)) or (text S)) or (text T)) or (text U)) or (text V)) or (text W)) or (text X)) or (text Y)) or (text Z)) or (text -)) or (text _)) or (text 1)) or (text 2)) or (text 3)) or (text 4)) or (text 5)) or (text 6)) or (text 7)) or (text 8)) or (text 9)) or (text 0) and return many some (((((((((((((((((((((((((((((((((((((((((((((((((((((((((((((((text a) or (text b)) or (text c)) or (text d)) or (text e)) or (text f)) or (text g)) or (text h)) or (text i)) or (text j)) or (text k)) or (text l)) or (text m)) or (text n)) or (text o)) or (text p)) or (text q)) or (text r)) or (text s)) or (text t)) or (text u)) or (text v)) or (text w)) or (text x)) or (text y)) or (text z)) or (text A)) or (text B)) or (text C)) or (text D)) or (text E)) or (text F)) or (text G)) or (text H)) or (text I)) or (text J)) or (text K)) or (text L)) or (text M)) or (text N)) or (text O)) or (text P)) or (text Q)) or (text R)) or (text S)) or (text T)) or (text U)) or (text V)) or (text W)) or (text X)) or (text Y)) or (text Z)) or (text -)) or (text _)) or (text 1)) or (text 2)) or (text 3)) or (text 4)) or (text 5)) or (text 6)) or (text 7)) or (text 8)) or (text 9)) or (text 0) if then ((many whitespace) then (text  := )) then (many whitespace)) then value to (<function <lambda> at 0x7f671a5d29b0>)) then value to (<function <lambda> at 0x7f671a5d2a28>))) then (many whitespace)) then (text \n) and ((return (())) then value to (<function <lambda> at 0x7f671ca79c80>)) then (return (Sucess!))) then value to (<function <lambda> at 0x7f671c22aed8>)' on ''"
     ]
    }
   ],
   "source": [
    "parse(FLCompile(\"\"), \"hey\")"
   ]
  },
  {
   "cell_type": "code",
   "execution_count": null,
   "metadata": {
    "collapsed": false
   },
   "outputs": [],
   "source": []
  },
  {
   "cell_type": "code",
   "execution_count": null,
   "metadata": {
    "collapsed": true
   },
   "outputs": [],
   "source": []
  }
 ],
 "metadata": {
  "kernelspec": {
   "display_name": "SageMath 7.5",
   "language": "",
   "name": "sagemath"
  },
  "language_info": {
   "codemirror_mode": {
    "name": "ipython",
    "version": 2
   },
   "file_extension": ".py",
   "mimetype": "text/x-python",
   "name": "python",
   "nbconvert_exporter": "python",
   "pygments_lexer": "ipython2",
   "version": "2.7.13"
  }
 },
 "nbformat": 4,
 "nbformat_minor": 0
}
