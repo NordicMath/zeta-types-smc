{
 "cells": [
  {
   "cell_type": "code",
   "execution_count": 533,
   "metadata": {
    "collapsed": false
   },
   "outputs": [],
   "source": [
    "import operator\n",
    "\n",
    "%runfile Parser.sage\n",
    "%runfile Parsers.sage"
   ]
  },
  {
   "cell_type": "code",
   "execution_count": null,
   "metadata": {
    "collapsed": true
   },
   "outputs": [],
   "source": []
  },
  {
   "cell_type": "code",
   "execution_count": 356,
   "metadata": {
    "collapsed": false
   },
   "outputs": [],
   "source": [
    "pWait = lambda f: empty() >> (lambda _: f())"
   ]
  },
  {
   "cell_type": "code",
   "execution_count": null,
   "metadata": {
    "collapsed": true
   },
   "outputs": [],
   "source": []
  },
  {
   "cell_type": "code",
   "execution_count": 424,
   "metadata": {
    "collapsed": true
   },
   "outputs": [],
   "source": [
    "def pContains(token, string):\n",
    "    return len(parse(many(pNext()) + token + many(pNext()), string, returnList = True)) > 0"
   ]
  },
  {
   "cell_type": "code",
   "execution_count": null,
   "metadata": {
    "collapsed": true
   },
   "outputs": [],
   "source": []
  },
  {
   "cell_type": "code",
   "execution_count": 538,
   "metadata": {
    "collapsed": false
   },
   "outputs": [],
   "source": [
    "exhaust = lambda token, s: liftPP(lambda pre, res, post: pReturn(res) if pre == s + post else pError(), pLook(), token, pLook())"
   ]
  },
  {
   "cell_type": "code",
   "execution_count": null,
   "metadata": {
    "collapsed": false
   },
   "outputs": [],
   "source": []
  },
  {
   "cell_type": "code",
   "execution_count": 542,
   "metadata": {
    "collapsed": false
   },
   "outputs": [
    {
     "data": {
      "text/plain": [
       "'hi'"
      ]
     },
     "execution_count": 542,
     "metadata": {},
     "output_type": "execute_result"
    }
   ],
   "source": [
    "parse(exhaust(text('hi'), 'hi'), \"hi\")"
   ]
  },
  {
   "cell_type": "code",
   "execution_count": null,
   "metadata": {
    "collapsed": true
   },
   "outputs": [],
   "source": []
  },
  {
   "cell_type": "code",
   "execution_count": 567,
   "metadata": {
    "collapsed": false
   },
   "outputs": [],
   "source": [
    "def sepParse(parser, string, **kwargs):\n",
    "    return reduce(lambda accum, other: accum | pReturn(other), parse(parser, string, returnList=True, **kwargs), pError())"
   ]
  },
  {
   "cell_type": "code",
   "execution_count": null,
   "metadata": {
    "collapsed": true
   },
   "outputs": [],
   "source": []
  },
  {
   "cell_type": "code",
   "execution_count": 577,
   "metadata": {
    "collapsed": false
   },
   "outputs": [
    {
     "name": "stdout",
     "output_type": "stream",
     "text": [
      "((error) or (return (1))) or (return (2))\n"
     ]
    }
   ],
   "source": [
    "print sepParse(pReturn(1) | pReturn(2), \"\")"
   ]
  },
  {
   "cell_type": "code",
   "execution_count": null,
   "metadata": {
    "collapsed": true
   },
   "outputs": [],
   "source": []
  },
  {
   "cell_type": "code",
   "execution_count": null,
   "metadata": {
    "collapsed": true
   },
   "outputs": [],
   "source": []
  },
  {
   "cell_type": "code",
   "execution_count": 568,
   "metadata": {
    "collapsed": true
   },
   "outputs": [],
   "source": [
    "ppAccept = lambda token, checkprec: lambda prec: pWait(token) if prec == checkprec else pError()\n",
    "ppAcceptF = lambda token, checkprec: lambda prec: empty() >> (lambda _: token(prec)) if prec == checkprec else pError()"
   ]
  },
  {
   "cell_type": "code",
   "execution_count": null,
   "metadata": {
    "collapsed": true
   },
   "outputs": [],
   "source": []
  },
  {
   "cell_type": "code",
   "execution_count": 569,
   "metadata": {
    "collapsed": true
   },
   "outputs": [],
   "source": [
    "infix = lambda token, symbol, checkprec, op: ppAcceptF(lambda prec: pLook() >> (lambda look: pError() if not pContains(symbol, look) else liftP(lambda l,_, r: op(l,r), token(prec), pSpaces + symbol + pSpaces, token(prec + 1))), checkprec)"
   ]
  },
  {
   "cell_type": "code",
   "execution_count": 584,
   "metadata": {
    "collapsed": false
   },
   "outputs": [],
   "source": [
    "def infix(token, symbol, checkprec, op):\n",
    "    return ppAcceptF(lambda prec: (many(pNext()) < (pSpaces + symbol + pSpaces)) >> (lambda fst: (sepParse(pWait(token(prec)), ''.join(fst)) & pWait(token(prec))) >> (lambda t: pReturn(op(*t)))), checkprec) "
   ]
  },
  {
   "cell_type": "code",
   "execution_count": null,
   "metadata": {
    "collapsed": false
   },
   "outputs": [],
   "source": []
  },
  {
   "cell_type": "code",
   "execution_count": 601,
   "metadata": {
    "collapsed": false
   },
   "outputs": [],
   "source": [
    "maxprec = 10\n",
    "token = lambda prec: lambda: pError() if prec > maxprec else pWait(token(prec + 1)) \\\n",
    "            | ppAccept(lambda: pNatural, maxprec)(prec) \\\n",
    "            | ppAccept(lambda: paren(pWait(token(0))), maxprec)(prec) \\\n",
    "            | infix(token, text('+'), 5, lambda l, r: ('+', l, r))(prec) \\\n",
    "            | infix(token, text('-'), 6, lambda l, r: ('-', l, r))(prec) \\\n",
    "\n",
    "token = lambda prec: lambda: pError() if prec > maxprec else pWait(token(prec + 1)) \\\n",
    "            | ppAccept(lambda: pNatural, maxprec)(prec) \\\n",
    "            | ppAccept(lambda: paren(pWait(token(0))), maxprec)(prec) \\\n",
    "            | infix(token, text('+'), 5, operator.add)(prec) \\\n",
    "            | infix(token, text('-'), 6, operator.sub)(prec) \\"
   ]
  },
  {
   "cell_type": "code",
   "execution_count": 602,
   "metadata": {
    "collapsed": false
   },
   "outputs": [],
   "source": [
    "tokenr = token(0)()"
   ]
  },
  {
   "cell_type": "code",
   "execution_count": 605,
   "metadata": {
    "collapsed": false
   },
   "outputs": [
    {
     "data": {
      "text/plain": [
       "0"
      ]
     },
     "execution_count": 605,
     "metadata": {},
     "output_type": "execute_result"
    }
   ],
   "source": [
    "parse(tokenr, \"((10) + 10) - (10 + 10)\")"
   ]
  },
  {
   "cell_type": "code",
   "execution_count": null,
   "metadata": {
    "collapsed": false
   },
   "outputs": [],
   "source": []
  },
  {
   "cell_type": "code",
   "execution_count": null,
   "metadata": {
    "collapsed": true
   },
   "outputs": [],
   "source": []
  },
  {
   "cell_type": "code",
   "execution_count": 565,
   "metadata": {
    "collapsed": false
   },
   "outputs": [
    {
     "ename": "ValueError",
     "evalue": "Ambiguous parse! Using parser 'return many next if then ((many whitespace) then (text +)) then (many whitespace)' on '10 + 10' returned [['1', '0', ' '], ['1', '0', ' '], ['1', '0'], ['1', '0']]",
     "output_type": "error",
     "traceback": [
      "\u001b[0;31m---------------------------------------------------------------------------\u001b[0m",
      "\u001b[0;31mValueError\u001b[0m                                Traceback (most recent call last)",
      "\u001b[0;32m<ipython-input-565-aed47cd08ad1>\u001b[0m in \u001b[0;36m<module>\u001b[0;34m()\u001b[0m\n\u001b[0;32m----> 1\u001b[0;31m \u001b[0mparse\u001b[0m\u001b[0;34m(\u001b[0m\u001b[0mmany\u001b[0m\u001b[0;34m(\u001b[0m\u001b[0mpNext\u001b[0m\u001b[0;34m(\u001b[0m\u001b[0;34m)\u001b[0m\u001b[0;34m)\u001b[0m \u001b[0;34m<\u001b[0m \u001b[0;34m(\u001b[0m\u001b[0mpSpaces\u001b[0m \u001b[0;34m+\u001b[0m \u001b[0mtext\u001b[0m\u001b[0;34m(\u001b[0m\u001b[0;34m'+'\u001b[0m\u001b[0;34m)\u001b[0m \u001b[0;34m+\u001b[0m \u001b[0mpSpaces\u001b[0m\u001b[0;34m)\u001b[0m\u001b[0;34m,\u001b[0m \u001b[0;34m\"10 + 10\"\u001b[0m\u001b[0;34m,\u001b[0m \u001b[0mmustFinish\u001b[0m\u001b[0;34m=\u001b[0m\u001b[0mFalse\u001b[0m\u001b[0;34m)\u001b[0m\u001b[0;34m\u001b[0m\u001b[0m\n\u001b[0m",
      "\u001b[0;32m<string>\u001b[0m in \u001b[0;36mparse\u001b[0;34m(parser, text, debug, mustFinish, includeTail, returnList, allowAmbiguousButEqual, scope)\u001b[0m\n",
      "\u001b[0;31mValueError\u001b[0m: Ambiguous parse! Using parser 'return many next if then ((many whitespace) then (text +)) then (many whitespace)' on '10 + 10' returned [['1', '0', ' '], ['1', '0', ' '], ['1', '0'], ['1', '0']]"
     ]
    }
   ],
   "source": [
    "parse(many(pNext()) < (pSpaces + text('+') + pSpaces), \"10 + 10\", mustFinish=False)"
   ]
  },
  {
   "cell_type": "code",
   "execution_count": null,
   "metadata": {
    "collapsed": false
   },
   "outputs": [],
   "source": []
  },
  {
   "cell_type": "code",
   "execution_count": null,
   "metadata": {
    "collapsed": true
   },
   "outputs": [],
   "source": []
  },
  {
   "cell_type": "code",
   "execution_count": null,
   "metadata": {
    "collapsed": true
   },
   "outputs": [],
   "source": []
  },
  {
   "cell_type": "code",
   "execution_count": null,
   "metadata": {
    "collapsed": true
   },
   "outputs": [],
   "source": []
  },
  {
   "cell_type": "code",
   "execution_count": null,
   "metadata": {
    "collapsed": true
   },
   "outputs": [],
   "source": []
  },
  {
   "cell_type": "code",
   "execution_count": 583,
   "metadata": {
    "collapsed": false
   },
   "outputs": [
    {
     "data": {
      "text/plain": [
       "(10, 10)"
      ]
     },
     "execution_count": 583,
     "metadata": {},
     "output_type": "execute_result"
    }
   ],
   "source": [
    "parse((many(pNext()) < (pSpaces + text('+') + pSpaces)) >> (lambda fst: (sepParse(pNatural, ''.join(fst)) & pNatural)), \"10 + 10\")"
   ]
  },
  {
   "cell_type": "code",
   "execution_count": null,
   "metadata": {
    "collapsed": true
   },
   "outputs": [],
   "source": []
  },
  {
   "cell_type": "code",
   "execution_count": 582,
   "metadata": {
    "collapsed": false
   },
   "outputs": [
    {
     "data": {
      "text/plain": [
       "[(['1', '0', ' '], '10'),\n",
       " (['1', '0', ' '], ' 10'),\n",
       " (['1', '0'], '10'),\n",
       " (['1', '0'], ' 10')]"
      ]
     },
     "execution_count": 582,
     "metadata": {},
     "output_type": "execute_result"
    }
   ],
   "source": [
    "parses((many(pNext()) < (pSpaces + text('+') + pSpaces)), \"10 + 10\")"
   ]
  },
  {
   "cell_type": "code",
   "execution_count": null,
   "metadata": {
    "collapsed": true
   },
   "outputs": [],
   "source": []
  },
  {
   "cell_type": "code",
   "execution_count": null,
   "metadata": {
    "collapsed": true
   },
   "outputs": [],
   "source": []
  },
  {
   "cell_type": "code",
   "execution_count": null,
   "metadata": {
    "collapsed": true
   },
   "outputs": [],
   "source": []
  },
  {
   "cell_type": "code",
   "execution_count": null,
   "metadata": {
    "collapsed": true
   },
   "outputs": [],
   "source": []
  },
  {
   "cell_type": "code",
   "execution_count": 575,
   "metadata": {
    "collapsed": false
   },
   "outputs": [
    {
     "ename": "TypeError",
     "evalue": "'Parser' object is not callable",
     "output_type": "error",
     "traceback": [
      "\u001b[0;31m---------------------------------------------------------------------------\u001b[0m",
      "\u001b[0;31mTypeError\u001b[0m                                 Traceback (most recent call last)",
      "\u001b[0;32m<ipython-input-575-5b5d5fa2e784>\u001b[0m in \u001b[0;36m<module>\u001b[0;34m()\u001b[0m\n\u001b[0;32m----> 1\u001b[0;31m \u001b[0mparse\u001b[0m\u001b[0;34m(\u001b[0m\u001b[0minfix\u001b[0m\u001b[0;34m(\u001b[0m\u001b[0;32mlambda\u001b[0m \u001b[0mprec\u001b[0m\u001b[0;34m:\u001b[0m \u001b[0mpNatural\u001b[0m\u001b[0;34m,\u001b[0m \u001b[0mtext\u001b[0m\u001b[0;34m(\u001b[0m\u001b[0;34m'+'\u001b[0m\u001b[0;34m)\u001b[0m\u001b[0;34m,\u001b[0m \u001b[0mInteger\u001b[0m\u001b[0;34m(\u001b[0m\u001b[0;36m10\u001b[0m\u001b[0;34m)\u001b[0m\u001b[0;34m,\u001b[0m \u001b[0moperator\u001b[0m\u001b[0;34m.\u001b[0m\u001b[0madd\u001b[0m\u001b[0;34m)\u001b[0m\u001b[0;34m(\u001b[0m\u001b[0mInteger\u001b[0m\u001b[0;34m(\u001b[0m\u001b[0;36m10\u001b[0m\u001b[0;34m)\u001b[0m\u001b[0;34m)\u001b[0m\u001b[0;34m,\u001b[0m \u001b[0;34m\"10 + 16\"\u001b[0m\u001b[0;34m)\u001b[0m\u001b[0;34m\u001b[0m\u001b[0m\n\u001b[0m",
      "\u001b[0;32m<string>\u001b[0m in \u001b[0;36mparse\u001b[0;34m(parser, text, debug, mustFinish, includeTail, returnList, allowAmbiguousButEqual, scope)\u001b[0m\n",
      "\u001b[0;32m<string>\u001b[0m in \u001b[0;36mparses\u001b[0;34m(parser, string, debug, scope)\u001b[0m\n",
      "\u001b[0;32m<string>\u001b[0m in \u001b[0;36mfBIND\u001b[0;34m(a, f)\u001b[0m\n",
      "\u001b[0;32m<string>\u001b[0m in \u001b[0;36mparses_\u001b[0;34m(parser_, string_)\u001b[0m\n",
      "\u001b[0;32m<string>\u001b[0m in \u001b[0;36mparses\u001b[0;34m(parser, string, debug, scope)\u001b[0m\n",
      "\u001b[0;32m<string>\u001b[0m in \u001b[0;36mfBIND\u001b[0;34m(a, f)\u001b[0m\n",
      "\u001b[0;32m<string>\u001b[0m in \u001b[0;36mcallWithScope\u001b[0;34m(f, value)\u001b[0m\n",
      "\u001b[0;32m<ipython-input-570-49be475c7a8d>\u001b[0m in \u001b[0;36m<lambda>\u001b[0;34m(fst)\u001b[0m\n\u001b[1;32m      1\u001b[0m \u001b[0;32mdef\u001b[0m \u001b[0minfix\u001b[0m\u001b[0;34m(\u001b[0m\u001b[0mtoken\u001b[0m\u001b[0;34m,\u001b[0m \u001b[0msymbol\u001b[0m\u001b[0;34m,\u001b[0m \u001b[0mcheckprec\u001b[0m\u001b[0;34m,\u001b[0m \u001b[0mop\u001b[0m\u001b[0;34m)\u001b[0m\u001b[0;34m:\u001b[0m\u001b[0;34m\u001b[0m\u001b[0m\n\u001b[0;32m----> 2\u001b[0;31m     \u001b[0;32mreturn\u001b[0m \u001b[0mppAcceptF\u001b[0m\u001b[0;34m(\u001b[0m\u001b[0;32mlambda\u001b[0m \u001b[0mprec\u001b[0m\u001b[0;34m:\u001b[0m \u001b[0;34m(\u001b[0m\u001b[0mmany\u001b[0m\u001b[0;34m(\u001b[0m\u001b[0mpNext\u001b[0m\u001b[0;34m(\u001b[0m\u001b[0;34m)\u001b[0m\u001b[0;34m)\u001b[0m \u001b[0;34m<\u001b[0m \u001b[0;34m(\u001b[0m\u001b[0mpSpaces\u001b[0m \u001b[0;34m+\u001b[0m \u001b[0msymbol\u001b[0m \u001b[0;34m+\u001b[0m \u001b[0mpSpaces\u001b[0m\u001b[0;34m)\u001b[0m\u001b[0;34m)\u001b[0m \u001b[0;34m>>\u001b[0m \u001b[0;34m(\u001b[0m\u001b[0;32mlambda\u001b[0m \u001b[0mfst\u001b[0m\u001b[0;34m:\u001b[0m \u001b[0;34m(\u001b[0m\u001b[0msepParse\u001b[0m\u001b[0;34m(\u001b[0m\u001b[0mpWait\u001b[0m\u001b[0;34m(\u001b[0m\u001b[0mtoken\u001b[0m\u001b[0;34m(\u001b[0m\u001b[0mprec\u001b[0m\u001b[0;34m)\u001b[0m\u001b[0;34m)\u001b[0m\u001b[0;34m,\u001b[0m \u001b[0mfst\u001b[0m\u001b[0;34m)\u001b[0m \u001b[0;34m&\u001b[0m \u001b[0mpWait\u001b[0m\u001b[0;34m(\u001b[0m\u001b[0mtoken\u001b[0m\u001b[0;34m(\u001b[0m\u001b[0mprec\u001b[0m\u001b[0;34m)\u001b[0m\u001b[0;34m)\u001b[0m\u001b[0;34m)\u001b[0m \u001b[0;34m>>\u001b[0m \u001b[0;34m(\u001b[0m\u001b[0;32mlambda\u001b[0m \u001b[0mt\u001b[0m\u001b[0;34m:\u001b[0m \u001b[0mpReturn\u001b[0m\u001b[0;34m(\u001b[0m\u001b[0mop\u001b[0m\u001b[0;34m(\u001b[0m\u001b[0;34m*\u001b[0m\u001b[0mt\u001b[0m\u001b[0;34m)\u001b[0m\u001b[0;34m)\u001b[0m\u001b[0;34m)\u001b[0m\u001b[0;34m)\u001b[0m\u001b[0;34m,\u001b[0m \u001b[0mcheckprec\u001b[0m\u001b[0;34m)\u001b[0m\u001b[0;34m\u001b[0m\u001b[0m\n\u001b[0m",
      "\u001b[0;32m<ipython-input-567-cc23fb312c53>\u001b[0m in \u001b[0;36msepParse\u001b[0;34m(parser, string, **kwargs)\u001b[0m\n\u001b[1;32m      1\u001b[0m \u001b[0;32mdef\u001b[0m \u001b[0msepParse\u001b[0m\u001b[0;34m(\u001b[0m\u001b[0mparser\u001b[0m\u001b[0;34m,\u001b[0m \u001b[0mstring\u001b[0m\u001b[0;34m,\u001b[0m \u001b[0;34m**\u001b[0m\u001b[0mkwargs\u001b[0m\u001b[0;34m)\u001b[0m\u001b[0;34m:\u001b[0m\u001b[0;34m\u001b[0m\u001b[0m\n\u001b[0;32m----> 2\u001b[0;31m     \u001b[0;32mreturn\u001b[0m \u001b[0mreduce\u001b[0m\u001b[0;34m(\u001b[0m\u001b[0;32mlambda\u001b[0m \u001b[0maccum\u001b[0m\u001b[0;34m,\u001b[0m \u001b[0mother\u001b[0m\u001b[0;34m:\u001b[0m \u001b[0maccum\u001b[0m \u001b[0;34m|\u001b[0m \u001b[0mpReturn\u001b[0m\u001b[0;34m(\u001b[0m\u001b[0mother\u001b[0m\u001b[0;34m)\u001b[0m\u001b[0;34m,\u001b[0m \u001b[0mparse\u001b[0m\u001b[0;34m(\u001b[0m\u001b[0mparser\u001b[0m\u001b[0;34m,\u001b[0m \u001b[0mstring\u001b[0m\u001b[0;34m,\u001b[0m \u001b[0mreturnList\u001b[0m\u001b[0;34m=\u001b[0m\u001b[0mTrue\u001b[0m\u001b[0;34m,\u001b[0m \u001b[0;34m**\u001b[0m\u001b[0mkwargs\u001b[0m\u001b[0;34m)\u001b[0m\u001b[0;34m,\u001b[0m \u001b[0mpError\u001b[0m\u001b[0;34m(\u001b[0m\u001b[0;34m)\u001b[0m\u001b[0;34m)\u001b[0m\u001b[0;34m\u001b[0m\u001b[0m\n\u001b[0m",
      "\u001b[0;32m<string>\u001b[0m in \u001b[0;36mparse\u001b[0;34m(parser, text, debug, mustFinish, includeTail, returnList, allowAmbiguousButEqual, scope)\u001b[0m\n",
      "\u001b[0;32m<string>\u001b[0m in \u001b[0;36mparses\u001b[0;34m(parser, string, debug, scope)\u001b[0m\n",
      "\u001b[0;32m<string>\u001b[0m in \u001b[0;36mfBIND\u001b[0;34m(a, f)\u001b[0m\n",
      "\u001b[0;32m<string>\u001b[0m in \u001b[0;36mcallWithScope\u001b[0;34m(f, value)\u001b[0m\n",
      "\u001b[0;32m<ipython-input-356-7cdd21278efe>\u001b[0m in \u001b[0;36m<lambda>\u001b[0;34m(_)\u001b[0m\n\u001b[0;32m----> 1\u001b[0;31m \u001b[0mpWait\u001b[0m \u001b[0;34m=\u001b[0m \u001b[0;32mlambda\u001b[0m \u001b[0mf\u001b[0m\u001b[0;34m:\u001b[0m \u001b[0mempty\u001b[0m\u001b[0;34m(\u001b[0m\u001b[0;34m)\u001b[0m \u001b[0;34m>>\u001b[0m \u001b[0;34m(\u001b[0m\u001b[0;32mlambda\u001b[0m \u001b[0m_\u001b[0m\u001b[0;34m:\u001b[0m \u001b[0mf\u001b[0m\u001b[0;34m(\u001b[0m\u001b[0;34m)\u001b[0m\u001b[0;34m)\u001b[0m\u001b[0;34m\u001b[0m\u001b[0m\n\u001b[0m",
      "\u001b[0;31mTypeError\u001b[0m: 'Parser' object is not callable"
     ]
    }
   ],
   "source": [
    "parse(infix(lambda prec: pNatural, text('+'), 10, operator.add)(10), \"10 + 16\")"
   ]
  },
  {
   "cell_type": "code",
   "execution_count": null,
   "metadata": {
    "collapsed": true
   },
   "outputs": [],
   "source": []
  },
  {
   "cell_type": "code",
   "execution_count": null,
   "metadata": {
    "collapsed": true
   },
   "outputs": [],
   "source": []
  },
  {
   "cell_type": "code",
   "execution_count": 547,
   "metadata": {
    "collapsed": false
   },
   "outputs": [
    {
     "ename": "TypeError",
     "evalue": "'Parser' object is not callable",
     "output_type": "error",
     "traceback": [
      "\u001b[0;31m---------------------------------------------------------------------------\u001b[0m",
      "\u001b[0;31mTypeError\u001b[0m                                 Traceback (most recent call last)",
      "\u001b[0;32m<ipython-input-547-0a5fe487cd2c>\u001b[0m in \u001b[0;36m<module>\u001b[0;34m()\u001b[0m\n\u001b[0;32m----> 1\u001b[0;31m \u001b[0mparse\u001b[0m\u001b[0;34m(\u001b[0m\u001b[0mparen\u001b[0m\u001b[0;34m(\u001b[0m\u001b[0minfix\u001b[0m\u001b[0;34m(\u001b[0m\u001b[0;32mlambda\u001b[0m \u001b[0mprec\u001b[0m\u001b[0;34m:\u001b[0m \u001b[0mpNatural\u001b[0m\u001b[0;34m,\u001b[0m \u001b[0mtext\u001b[0m\u001b[0;34m(\u001b[0m\u001b[0;34m'+'\u001b[0m\u001b[0;34m)\u001b[0m\u001b[0;34m,\u001b[0m \u001b[0mInteger\u001b[0m\u001b[0;34m(\u001b[0m\u001b[0;36m10\u001b[0m\u001b[0;34m)\u001b[0m\u001b[0;34m,\u001b[0m \u001b[0moperator\u001b[0m\u001b[0;34m.\u001b[0m\u001b[0madd\u001b[0m\u001b[0;34m)\u001b[0m\u001b[0;34m(\u001b[0m\u001b[0mInteger\u001b[0m\u001b[0;34m(\u001b[0m\u001b[0;36m10\u001b[0m\u001b[0;34m)\u001b[0m\u001b[0;34m)\u001b[0m\u001b[0;34m)\u001b[0m\u001b[0;34m,\u001b[0m \u001b[0;34m\"(10 + 10)\"\u001b[0m\u001b[0;34m)\u001b[0m\u001b[0;34m\u001b[0m\u001b[0m\n\u001b[0m",
      "\u001b[0;32m<string>\u001b[0m in \u001b[0;36mparse\u001b[0;34m(parser, text, debug, mustFinish, includeTail, returnList, allowAmbiguousButEqual, scope)\u001b[0m\n",
      "\u001b[0;32m<string>\u001b[0m in \u001b[0;36mparses\u001b[0;34m(parser, string, debug, scope)\u001b[0m\n",
      "\u001b[0;32m<string>\u001b[0m in \u001b[0;36mfBIND\u001b[0;34m(a, f)\u001b[0m\n",
      "\u001b[0;32m<string>\u001b[0m in \u001b[0;36mparses_\u001b[0;34m(parser_, string_)\u001b[0m\n",
      "\u001b[0;32m<string>\u001b[0m in \u001b[0;36mparses\u001b[0;34m(parser, string, debug, scope)\u001b[0m\n",
      "\u001b[0;32m<string>\u001b[0m in \u001b[0;36mfADD\u001b[0;34m(a, b)\u001b[0m\n",
      "\u001b[0;32m<string>\u001b[0m in \u001b[0;36mparses_\u001b[0;34m(parser_, string_)\u001b[0m\n",
      "\u001b[0;32m<string>\u001b[0m in \u001b[0;36mparses\u001b[0;34m(parser, string, debug, scope)\u001b[0m\n",
      "\u001b[0;32m<string>\u001b[0m in \u001b[0;36mfBIND\u001b[0;34m(a, f)\u001b[0m\n",
      "\u001b[0;32m<string>\u001b[0m in \u001b[0;36mparses_\u001b[0;34m(parser_, string_)\u001b[0m\n",
      "\u001b[0;32m<string>\u001b[0m in \u001b[0;36mparses\u001b[0;34m(parser, string, debug, scope)\u001b[0m\n",
      "\u001b[0;32m<string>\u001b[0m in \u001b[0;36mfBIND\u001b[0;34m(a, f)\u001b[0m\n",
      "\u001b[0;32m<string>\u001b[0m in \u001b[0;36mparses_\u001b[0;34m(parser_, string_)\u001b[0m\n",
      "\u001b[0;32m<string>\u001b[0m in \u001b[0;36mparses\u001b[0;34m(parser, string, debug, scope)\u001b[0m\n",
      "\u001b[0;32m<string>\u001b[0m in \u001b[0;36mfBIND\u001b[0;34m(a, f)\u001b[0m\n",
      "\u001b[0;32m<string>\u001b[0m in \u001b[0;36mparses_\u001b[0;34m(parser_, string_)\u001b[0m\n",
      "\u001b[0;32m<string>\u001b[0m in \u001b[0;36mparses\u001b[0;34m(parser, string, debug, scope)\u001b[0m\n",
      "\u001b[0;32m<string>\u001b[0m in \u001b[0;36mfBIND\u001b[0;34m(a, f)\u001b[0m\n",
      "\u001b[0;32m<string>\u001b[0m in \u001b[0;36mparses_\u001b[0;34m(parser_, string_)\u001b[0m\n",
      "\u001b[0;32m<string>\u001b[0m in \u001b[0;36mparses\u001b[0;34m(parser, string, debug, scope)\u001b[0m\n",
      "\u001b[0;32m<string>\u001b[0m in \u001b[0;36mfBIND\u001b[0;34m(a, f)\u001b[0m\n",
      "\u001b[0;32m<string>\u001b[0m in \u001b[0;36mparses_\u001b[0;34m(parser_, string_)\u001b[0m\n",
      "\u001b[0;32m<string>\u001b[0m in \u001b[0;36mparses\u001b[0;34m(parser, string, debug, scope)\u001b[0m\n",
      "\u001b[0;32m<string>\u001b[0m in \u001b[0;36mfBIND\u001b[0;34m(a, f)\u001b[0m\n",
      "\u001b[0;32m<string>\u001b[0m in \u001b[0;36mparses_\u001b[0;34m(parser_, string_)\u001b[0m\n",
      "\u001b[0;32m<string>\u001b[0m in \u001b[0;36mparses\u001b[0;34m(parser, string, debug, scope)\u001b[0m\n",
      "\u001b[0;32m<string>\u001b[0m in \u001b[0;36mfBIND\u001b[0;34m(a, f)\u001b[0m\n",
      "\u001b[0;32m<string>\u001b[0m in \u001b[0;36mcallWithScope\u001b[0;34m(f, value)\u001b[0m\n",
      "\u001b[0;32m<ipython-input-356-7cdd21278efe>\u001b[0m in \u001b[0;36m<lambda>\u001b[0;34m(_)\u001b[0m\n\u001b[0;32m----> 1\u001b[0;31m \u001b[0mpWait\u001b[0m \u001b[0;34m=\u001b[0m \u001b[0;32mlambda\u001b[0m \u001b[0mf\u001b[0m\u001b[0;34m:\u001b[0m \u001b[0mempty\u001b[0m\u001b[0;34m(\u001b[0m\u001b[0;34m)\u001b[0m \u001b[0;34m>>\u001b[0m \u001b[0;34m(\u001b[0m\u001b[0;32mlambda\u001b[0m \u001b[0m_\u001b[0m\u001b[0;34m:\u001b[0m \u001b[0mf\u001b[0m\u001b[0;34m(\u001b[0m\u001b[0;34m)\u001b[0m\u001b[0;34m)\u001b[0m\u001b[0;34m\u001b[0m\u001b[0m\n\u001b[0m",
      "\u001b[0;31mTypeError\u001b[0m: 'Parser' object is not callable"
     ]
    }
   ],
   "source": [
    "parse(paren(infix(lambda prec: pNatural, text('+'), 10, operator.add)(10)), \"(10 + 10)\")"
   ]
  },
  {
   "cell_type": "code",
   "execution_count": null,
   "metadata": {
    "collapsed": true
   },
   "outputs": [],
   "source": []
  },
  {
   "cell_type": "code",
   "execution_count": null,
   "metadata": {
    "collapsed": true
   },
   "outputs": [],
   "source": []
  },
  {
   "cell_type": "code",
   "execution_count": null,
   "metadata": {
    "collapsed": true
   },
   "outputs": [],
   "source": []
  },
  {
   "cell_type": "code",
   "execution_count": null,
   "metadata": {
    "collapsed": true
   },
   "outputs": [],
   "source": []
  },
  {
   "cell_type": "code",
   "execution_count": null,
   "metadata": {
    "collapsed": true
   },
   "outputs": [],
   "source": []
  },
  {
   "cell_type": "code",
   "execution_count": null,
   "metadata": {
    "collapsed": true
   },
   "outputs": [],
   "source": []
  },
  {
   "cell_type": "code",
   "execution_count": null,
   "metadata": {
    "collapsed": true
   },
   "outputs": [],
   "source": []
  },
  {
   "cell_type": "code",
   "execution_count": null,
   "metadata": {
    "collapsed": true
   },
   "outputs": [],
   "source": []
  },
  {
   "cell_type": "code",
   "execution_count": null,
   "metadata": {
    "collapsed": true
   },
   "outputs": [],
   "source": []
  },
  {
   "cell_type": "code",
   "execution_count": 16,
   "metadata": {
    "collapsed": false
   },
   "outputs": [],
   "source": [
    "pSum = lambda term: term | liftP(lambda t, _1, op, _2, s: {'+': t + s, '-': t - s}[op], term, pSpaces, text('+') | text('-'), pSpaces, lambda: pSum(term))"
   ]
  },
  {
   "cell_type": "code",
   "execution_count": null,
   "metadata": {
    "collapsed": true
   },
   "outputs": [],
   "source": []
  },
  {
   "cell_type": "code",
   "execution_count": 14,
   "metadata": {
    "collapsed": false
   },
   "outputs": [
    {
     "data": {
      "text/plain": [
       "-5"
      ]
     },
     "execution_count": 14,
     "metadata": {},
     "output_type": "execute_result"
    }
   ],
   "source": [
    "parse(pSum(pNatural), \"1 + 2 - 3 + 5\")"
   ]
  },
  {
   "cell_type": "code",
   "execution_count": null,
   "metadata": {
    "collapsed": true
   },
   "outputs": [],
   "source": []
  },
  {
   "cell_type": "code",
   "execution_count": null,
   "metadata": {
    "collapsed": true
   },
   "outputs": [],
   "source": [
    "parse(precParser([(pNatural, 10)], [(paren, 0)], [(text('+'), 5, 'right')]), )"
   ]
  },
  {
   "cell_type": "code",
   "execution_count": null,
   "metadata": {
    "collapsed": true
   },
   "outputs": [],
   "source": []
  },
  {
   "cell_type": "code",
   "execution_count": null,
   "metadata": {
    "collapsed": false
   },
   "outputs": [],
   "source": []
  },
  {
   "cell_type": "code",
   "execution_count": null,
   "metadata": {
    "collapsed": true
   },
   "outputs": [],
   "source": []
  },
  {
   "cell_type": "code",
   "execution_count": null,
   "metadata": {
    "collapsed": true
   },
   "outputs": [],
   "source": []
  },
  {
   "cell_type": "code",
   "execution_count": null,
   "metadata": {
    "collapsed": true
   },
   "outputs": [],
   "source": []
  },
  {
   "cell_type": "code",
   "execution_count": null,
   "metadata": {
    "collapsed": true
   },
   "outputs": [],
   "source": []
  },
  {
   "cell_type": "code",
   "execution_count": null,
   "metadata": {
    "collapsed": true
   },
   "outputs": [],
   "source": []
  },
  {
   "cell_type": "code",
   "execution_count": null,
   "metadata": {
    "collapsed": true
   },
   "outputs": [],
   "source": []
  },
  {
   "cell_type": "code",
   "execution_count": null,
   "metadata": {
    "collapsed": true
   },
   "outputs": [],
   "source": []
  },
  {
   "cell_type": "code",
   "execution_count": 4,
   "metadata": {
    "collapsed": false
   },
   "outputs": [],
   "source": [
    "listP = lambda n: between('[', ']', \n",
    "                manyWithEnd(\n",
    "                      n >> (lambda n:\n",
    "                      text(', ') + pReturn(n)),\n",
    "                      n\n",
    "                ))"
   ]
  },
  {
   "cell_type": "code",
   "execution_count": 5,
   "metadata": {
    "collapsed": false
   },
   "outputs": [],
   "source": [
    "digitsRange = lambda start, end: reduce(operator.or_, [expect(str(d)) + pReturn(d) for d in range(start, end)])"
   ]
  },
  {
   "cell_type": "code",
   "execution_count": 6,
   "metadata": {
    "collapsed": false
   },
   "outputs": [],
   "source": [
    "digits = digitsRange(0, 10)"
   ]
  },
  {
   "cell_type": "code",
   "execution_count": 7,
   "metadata": {
    "collapsed": true
   },
   "outputs": [],
   "source": [
    "natural = (some(digits) >> (lambda digs: pReturn(sum([ n * 10^e for e, n in enumerate(digs[::-1])])))).setname('natural')"
   ]
  },
  {
   "cell_type": "code",
   "execution_count": 8,
   "metadata": {
    "collapsed": true
   },
   "outputs": [],
   "source": [
    "integer = (natural | (expect('-') + natural >> (lambda n: pReturn(-n)))).setname('integer')"
   ]
  },
  {
   "cell_type": "code",
   "execution_count": 9,
   "metadata": {
    "collapsed": true
   },
   "outputs": [],
   "source": [
    "posrationalDecimals = liftP(lambda integral, _, decimals: integral + sum([n * (10 ** (-e - 1)) for e, n in enumerate(decimals)]), natural, text('.'), some(digits))\n",
    "posrationalDivision = liftP(lambda numerator, _, denominator: numerator / denominator, natural, text('/'), natural)\n",
    "\n",
    "posrational = (natural | posrationalDecimals | posrationalDivision).setname('positive rational')"
   ]
  },
  {
   "cell_type": "code",
   "execution_count": 10,
   "metadata": {
    "collapsed": true
   },
   "outputs": [],
   "source": [
    "rational = (posrational | (expect('-') + posrational >> (lambda n: pReturn(-n)))).setname('rational')"
   ]
  },
  {
   "cell_type": "code",
   "execution_count": null,
   "metadata": {
    "collapsed": false
   },
   "outputs": [],
   "source": []
  },
  {
   "cell_type": "code",
   "execution_count": 11,
   "metadata": {
    "collapsed": true
   },
   "outputs": [],
   "source": [
    "complexTerm = (rational | liftP(lambda r, _: r * I, rational, expect('i') | expect('I') | text('*i') | text('*I')) | \n",
    "               ((text('i') | text('I')) + pReturn(I)) | ((text('-i') | text('-I')) + pReturn(-I))).setname('complex term')\n",
    "\n",
    "sumordiff = lambda parser: (liftP(lambda l, _, r: l + r, parser, many(expect(' ')) + text('+') + many(expect(' ')), parser) | \n",
    "                            liftP(lambda l, _, r: l - r, parser, many(expect(' ')) + text('-') + many(expect(' ')), parser)).setname('sum or difference of ' + str(parser))\n",
    "\n",
    "complexP = (complexTerm | sumordiff(complexTerm)).setname('complex')"
   ]
  },
  {
   "cell_type": "code",
   "execution_count": null,
   "metadata": {
    "collapsed": true
   },
   "outputs": [],
   "source": []
  },
  {
   "cell_type": "code",
   "execution_count": 12,
   "metadata": {
    "collapsed": false
   },
   "outputs": [],
   "source": [
    "tannakian_set = between('{', '}', delimited(complexP, ',')) | (text('Ø') + pReturn([]))\n",
    "\n",
    "\n",
    "symbolify = lambda xs, m: [(x, m) for x in xs]\n",
    "\n",
    "tannakian_symbol = (\n",
    "    tannakian_set >> (lambda x:\n",
    "    expect('/') +\n",
    "    tannakian_set >> (lambda y:\n",
    "    pReturn(symbolify(x, 1) + symbolify(y, -1))\n",
    "    ))\n",
    ")"
   ]
  },
  {
   "cell_type": "code",
   "execution_count": null,
   "metadata": {
    "collapsed": true
   },
   "outputs": [],
   "source": []
  },
  {
   "cell_type": "code",
   "execution_count": 13,
   "metadata": {
    "collapsed": false
   },
   "outputs": [
    {
     "data": {
      "text/plain": [
       "[(1, 1), (-I + 1/2, 1), (-1, -1)]"
      ]
     },
     "execution_count": 13,
     "metadata": {},
     "output_type": "execute_result"
    }
   ],
   "source": [
    "parse(tannakian_symbol, '{1, -i + 1/2}/{ -1}')"
   ]
  },
  {
   "cell_type": "code",
   "execution_count": null,
   "metadata": {
    "collapsed": true
   },
   "outputs": [],
   "source": []
  },
  {
   "cell_type": "code",
   "execution_count": 14,
   "metadata": {
    "collapsed": false
   },
   "outputs": [],
   "source": [
    "tree = lambda n: (n | liftP(lambda _0, left, _1, op, _2, right, _3: (op, left, right), expect('('), lambda: tree(n), many(expect(' ')), text('+') | text('-') | text('*'), many(expect(' ')), lambda: tree(n), expect(')')))"
   ]
  },
  {
   "cell_type": "code",
   "execution_count": 110,
   "metadata": {
    "collapsed": false
   },
   "outputs": [
    {
     "data": {
      "text/plain": [
       "('*', ('+', 1, ('-', 1, 3)), ('+', 2, 2))"
      ]
     },
     "execution_count": 110,
     "metadata": {},
     "output_type": "execute_result"
    }
   ],
   "source": [
    "parse(tree(natural), \"((1 + (1 - 3)) * (2 + 2))\")"
   ]
  },
  {
   "cell_type": "code",
   "execution_count": 16,
   "metadata": {
    "collapsed": true
   },
   "outputs": [],
   "source": [
    "def eval_tree(tree):\n",
    "    try:\n",
    "        return int(tree)\n",
    "    except:\n",
    "        op, left, right = tree\n",
    "        return {\n",
    "            '+': operator.add,\n",
    "            '-': operator.sub,\n",
    "            '*': operator.mul\n",
    "        }[op](eval_tree(left), eval_tree(right))"
   ]
  },
  {
   "cell_type": "code",
   "execution_count": 17,
   "metadata": {
    "collapsed": false
   },
   "outputs": [
    {
     "data": {
      "text/plain": [
       "15"
      ]
     },
     "execution_count": 17,
     "metadata": {},
     "output_type": "execute_result"
    }
   ],
   "source": [
    "eval_tree(parse(tree(natural), \"((1 + 2) * (2 + 3))\"))"
   ]
  },
  {
   "cell_type": "code",
   "execution_count": null,
   "metadata": {
    "collapsed": true
   },
   "outputs": [],
   "source": []
  },
  {
   "cell_type": "code",
   "execution_count": 18,
   "metadata": {
    "collapsed": false
   },
   "outputs": [
    {
     "data": {
      "text/plain": [
       "[51, 16, 97, 11]"
      ]
     },
     "execution_count": 18,
     "metadata": {},
     "output_type": "execute_result"
    }
   ],
   "source": [
    "parse(delimitedWith(lambda d: natural >> (lambda res: pReturn(res + d)), text(' ') + natural < text(' '), 0), \"  51   4   12  88 9 9 2\")"
   ]
  },
  {
   "cell_type": "code",
   "execution_count": 19,
   "metadata": {
    "collapsed": false
   },
   "outputs": [
    {
     "data": {
      "text/plain": [
       "(12, 2)"
      ]
     },
     "execution_count": 19,
     "metadata": {},
     "output_type": "execute_result"
    }
   ],
   "source": [
    "parse((natural < text(' ')) & natural, \"12 2\")"
   ]
  },
  {
   "cell_type": "code",
   "execution_count": 20,
   "metadata": {
    "collapsed": false
   },
   "outputs": [
    {
     "data": {
      "text/plain": [
       "[51, 4, 12, 88, 9, 9, 2]"
      ]
     },
     "execution_count": 20,
     "metadata": {},
     "output_type": "execute_result"
    }
   ],
   "source": [
    "parse(delimited(natural, text(' '), paddingSpaces = False), \"51 4 12 88 9 9 2\")"
   ]
  },
  {
   "cell_type": "code",
   "execution_count": 21,
   "metadata": {
    "collapsed": false
   },
   "outputs": [
    {
     "data": {
      "text/plain": [
       "[1, 2]"
      ]
     },
     "execution_count": 21,
     "metadata": {},
     "output_type": "execute_result"
    }
   ],
   "source": [
    "parse(delimited(natural, expect(',')), \"1, 2\")"
   ]
  },
  {
   "cell_type": "code",
   "execution_count": 22,
   "metadata": {
    "collapsed": false
   },
   "outputs": [
    {
     "ename": "ValueError",
     "evalue": "Ambiguous parse! Using parser '((text t) then (return (1))) or ((text t) then (return (2)))' on 't' returned [1, 2]",
     "output_type": "error",
     "traceback": [
      "\u001b[0;31m---------------------------------------------------------------------------\u001b[0m",
      "\u001b[0;31mValueError\u001b[0m                                Traceback (most recent call last)",
      "\u001b[0;32m<ipython-input-22-9302b0e0d685>\u001b[0m in \u001b[0;36m<module>\u001b[0;34m()\u001b[0m\n\u001b[0;32m----> 1\u001b[0;31m \u001b[0mparse\u001b[0m\u001b[0;34m(\u001b[0m\u001b[0mtext\u001b[0m\u001b[0;34m(\u001b[0m\u001b[0;34m't'\u001b[0m\u001b[0;34m)\u001b[0m \u001b[0;34m+\u001b[0m \u001b[0mpReturn\u001b[0m\u001b[0;34m(\u001b[0m\u001b[0mInteger\u001b[0m\u001b[0;34m(\u001b[0m\u001b[0;36m1\u001b[0m\u001b[0;34m)\u001b[0m\u001b[0;34m)\u001b[0m \u001b[0;34m|\u001b[0m \u001b[0mtext\u001b[0m\u001b[0;34m(\u001b[0m\u001b[0;34m't'\u001b[0m\u001b[0;34m)\u001b[0m \u001b[0;34m+\u001b[0m \u001b[0mpReturn\u001b[0m\u001b[0;34m(\u001b[0m\u001b[0mInteger\u001b[0m\u001b[0;34m(\u001b[0m\u001b[0;36m2\u001b[0m\u001b[0;34m)\u001b[0m\u001b[0;34m)\u001b[0m\u001b[0;34m,\u001b[0m \u001b[0;34m\"t\"\u001b[0m\u001b[0;34m)\u001b[0m\u001b[0;34m\u001b[0m\u001b[0m\n\u001b[0m",
      "\u001b[0;32m<string>\u001b[0m in \u001b[0;36mparse\u001b[0;34m(parser, text, debug, mustFinish, includeTail, returnList, allowAmbiguousButEqual, scope)\u001b[0m\n",
      "\u001b[0;31mValueError\u001b[0m: Ambiguous parse! Using parser '((text t) then (return (1))) or ((text t) then (return (2)))' on 't' returned [1, 2]"
     ]
    }
   ],
   "source": [
    "parse(text('t') + pReturn(1) | text('t') + pReturn(2), \"t\")"
   ]
  },
  {
   "cell_type": "code",
   "execution_count": 23,
   "metadata": {
    "collapsed": false
   },
   "outputs": [
    {
     "data": {
      "text/plain": [
       "[1, 3]"
      ]
     },
     "execution_count": 23,
     "metadata": {},
     "output_type": "execute_result"
    }
   ],
   "source": [
    "parse(delimited(natural, expect(','), some = True), \"1, 3\")"
   ]
  },
  {
   "cell_type": "code",
   "execution_count": null,
   "metadata": {
    "collapsed": true
   },
   "outputs": [],
   "source": []
  },
  {
   "cell_type": "code",
   "execution_count": null,
   "metadata": {
    "collapsed": true
   },
   "outputs": [],
   "source": []
  },
  {
   "cell_type": "code",
   "execution_count": 24,
   "metadata": {
    "collapsed": true
   },
   "outputs": [],
   "source": [
    "polynomial = lambda n: delimitedWith(lambda sign: term(n) >> (lambda t: pReturn(sign * t)), valuePair('+', 1) | valuePair('-', -1), 1) >> (lambda res: pReturn(sum(res)))\n",
    "term = lambda n: empty() >> (lambda _: n | parenss(polynomial(n)))"
   ]
  },
  {
   "cell_type": "code",
   "execution_count": 25,
   "metadata": {
    "collapsed": false
   },
   "outputs": [
    {
     "data": {
      "text/plain": [
       "0"
      ]
     },
     "execution_count": 25,
     "metadata": {},
     "output_type": "execute_result"
    }
   ],
   "source": [
    "parse(polynomial(natural), \"1 - 2 + (6 + 2) - (3 + 4)\")\n"
   ]
  },
  {
   "cell_type": "code",
   "execution_count": 26,
   "metadata": {
    "collapsed": false
   },
   "outputs": [
    {
     "data": {
      "text/plain": [
       "\"(many <function <lambda> at 0x7fd566c2b8c0> delimitedWith by (value pair '+' to '1') or (value pair '-' to '-1') (first value 1)) then value to (<function <lambda> at 0x7fd567e33f50>)\""
      ]
     },
     "execution_count": 26,
     "metadata": {},
     "output_type": "execute_result"
    }
   ],
   "source": [
    "str(polynomial(natural))"
   ]
  },
  {
   "cell_type": "code",
   "execution_count": 27,
   "metadata": {
    "collapsed": false
   },
   "outputs": [
    {
     "data": {
      "text/plain": [
       "59674"
      ]
     },
     "execution_count": 27,
     "metadata": {},
     "output_type": "execute_result"
    }
   ],
   "source": [
    "parse(polynomial(complexTerm), \"((1 - 2)) + ((59676 - 2) + 1)\")"
   ]
  },
  {
   "cell_type": "code",
   "execution_count": null,
   "metadata": {
    "collapsed": true
   },
   "outputs": [],
   "source": []
  },
  {
   "cell_type": "code",
   "execution_count": 28,
   "metadata": {
    "collapsed": false
   },
   "outputs": [
    {
     "data": {
      "text/plain": [
       "12"
      ]
     },
     "execution_count": 28,
     "metadata": {},
     "output_type": "execute_result"
    }
   ],
   "source": [
    "parse(natural < many(expectLetter()) + text('end'), \"12DAFGDXfdgsend\")"
   ]
  },
  {
   "cell_type": "code",
   "execution_count": 117,
   "metadata": {
    "collapsed": false
   },
   "outputs": [
    {
     "ename": "SyntaxError",
     "evalue": "invalid syntax (<ipython-input-117-75c85a3e82c4>, line 7)",
     "output_type": "error",
     "traceback": [
      "\u001b[0;36m  File \u001b[0;32m\"<ipython-input-117-75c85a3e82c4>\"\u001b[0;36m, line \u001b[0;32m7\u001b[0m\n\u001b[0;31m    expression =\u001b[0m\n\u001b[0m                 ^\u001b[0m\n\u001b[0;31mSyntaxError\u001b[0m\u001b[0;31m:\u001b[0m invalid syntax\n"
     ]
    }
   ],
   "source": [
    "# Bind to this to get access to the identifier scope\n",
    "getScope = empty() >> (lambda _, scope=None: pReturn(scope))\n",
    "\n",
    "identifier = some(expectLetter()) >> (lambda l: pReturn(''.join(l)))\n",
    "new_identifier = getScope >> (lambda scope: identifier >> (lambda text: pFail() if text in scope else pReturn(text)))\n",
    "\n",
    "expression = identifier | \n",
    "\n",
    "assignment = new_identifier & many(expectSpace()) + text(\":=\") + many(expectSpace()) + expression\n",
    "\n",
    "lines = liftP(lambda content, rest: [content] + rest, empty() | assignment, lambda: pReturn([]) | text('\\n') + lines)\n",
    "code = lines\n",
    "\n",
    "def compileLanguage(inp):\n",
    "    scope = {}\n",
    "    return parse(code, inp, scope = {'scope': scope})\n",
    "    "
   ]
  },
  {
   "cell_type": "code",
   "execution_count": 116,
   "metadata": {
    "collapsed": false
   },
   "outputs": [
    {
     "name": "stdout",
     "output_type": "stream",
     "text": [
      "\n",
      "Hey := 5\n",
      "Wow := 4\n",
      "JEG := 3\n",
      "\n"
     ]
    },
    {
     "data": {
      "text/plain": [
       "[(), ('Hey', 5), ('Wow', 4), ('JEG', 3), ()]"
      ]
     },
     "execution_count": 116,
     "metadata": {},
     "output_type": "execute_result"
    }
   ],
   "source": [
    "inp = \"\"\"\n",
    "Hey := 5\n",
    "Wow := 4\n",
    "JEG := 3\n",
    "\"\"\"\n",
    "\n",
    "print inp\n",
    "compileLanguage(inp)"
   ]
  },
  {
   "cell_type": "code",
   "execution_count": null,
   "metadata": {
    "collapsed": false
   },
   "outputs": [],
   "source": []
  },
  {
   "cell_type": "code",
   "execution_count": 40,
   "metadata": {
    "collapsed": false
   },
   "outputs": [
    {
     "data": {
      "text/plain": [
       "'Laugh'"
      ]
     },
     "execution_count": 40,
     "metadata": {},
     "output_type": "execute_result"
    }
   ],
   "source": [
    "''.join(parse(some(expectLetter()), \"Laugh\"))"
   ]
  },
  {
   "cell_type": "code",
   "execution_count": null,
   "metadata": {
    "collapsed": true
   },
   "outputs": [],
   "source": []
  },
  {
   "cell_type": "code",
   "execution_count": null,
   "metadata": {
    "collapsed": true
   },
   "outputs": [],
   "source": []
  },
  {
   "cell_type": "code",
   "execution_count": null,
   "metadata": {
    "collapsed": true
   },
   "outputs": [],
   "source": []
  },
  {
   "cell_type": "code",
   "execution_count": null,
   "metadata": {
    "collapsed": true
   },
   "outputs": [],
   "source": []
  },
  {
   "cell_type": "code",
   "execution_count": null,
   "metadata": {
    "collapsed": true
   },
   "outputs": [],
   "source": []
  },
  {
   "cell_type": "code",
   "execution_count": null,
   "metadata": {
    "collapsed": true
   },
   "outputs": [],
   "source": []
  },
  {
   "cell_type": "code",
   "execution_count": null,
   "metadata": {
    "collapsed": true
   },
   "outputs": [],
   "source": []
  },
  {
   "cell_type": "code",
   "execution_count": null,
   "metadata": {
    "collapsed": true
   },
   "outputs": [],
   "source": []
  },
  {
   "cell_type": "code",
   "execution_count": null,
   "metadata": {
    "collapsed": true
   },
   "outputs": [],
   "source": []
  },
  {
   "cell_type": "code",
   "execution_count": null,
   "metadata": {
    "collapsed": true
   },
   "outputs": [],
   "source": []
  },
  {
   "cell_type": "code",
   "execution_count": null,
   "metadata": {
    "collapsed": false
   },
   "outputs": [],
   "source": []
  },
  {
   "cell_type": "code",
   "execution_count": null,
   "metadata": {
    "collapsed": true
   },
   "outputs": [],
   "source": []
  },
  {
   "cell_type": "code",
   "execution_count": 109,
   "metadata": {
    "collapsed": false
   },
   "outputs": [
    {
     "data": {
      "text/plain": [
       "[(1, 1), (2, 1), (-I + 1, -1)]"
      ]
     },
     "execution_count": 109,
     "metadata": {},
     "output_type": "execute_result"
    }
   ],
   "source": [
    "parse(tannakian_symbol, \"{1, 2}/{1 - i}\")"
   ]
  },
  {
   "cell_type": "code",
   "execution_count": null,
   "metadata": {
    "collapsed": true
   },
   "outputs": [],
   "source": []
  },
  {
   "cell_type": "code",
   "execution_count": null,
   "metadata": {
    "collapsed": true
   },
   "outputs": [],
   "source": []
  },
  {
   "cell_type": "code",
   "execution_count": null,
   "metadata": {
    "collapsed": true
   },
   "outputs": [],
   "source": []
  },
  {
   "cell_type": "code",
   "execution_count": null,
   "metadata": {
    "collapsed": true
   },
   "outputs": [],
   "source": []
  },
  {
   "cell_type": "code",
   "execution_count": null,
   "metadata": {
    "collapsed": true
   },
   "outputs": [],
   "source": []
  },
  {
   "cell_type": "code",
   "execution_count": null,
   "metadata": {
    "collapsed": true
   },
   "outputs": [],
   "source": []
  },
  {
   "cell_type": "code",
   "execution_count": null,
   "metadata": {
    "collapsed": true
   },
   "outputs": [],
   "source": []
  },
  {
   "cell_type": "code",
   "execution_count": null,
   "metadata": {
    "collapsed": true
   },
   "outputs": [],
   "source": []
  },
  {
   "cell_type": "code",
   "execution_count": 17,
   "metadata": {
    "collapsed": false
   },
   "outputs": [],
   "source": [
    "consonant = expectBy(lambda c: c in string.ascii_letters and c not in \"laeiouyAEIOUY\")\n",
    "vowel = expectBy(lambda c: c in \"aeiouyAEIOUY\")"
   ]
  },
  {
   "cell_type": "code",
   "execution_count": 21,
   "metadata": {
    "collapsed": false
   },
   "outputs": [
    {
     "data": {
      "text/plain": [
       "'nioL.'"
      ]
     },
     "execution_count": 21,
     "metadata": {},
     "output_type": "execute_result"
    }
   ],
   "source": [
    "parse(many(expectPunctuation() | text('l') | text('L') | (text('l') + vowel < text('l')) | (consonant >> (lambda c: text('o') + text(c)))) >> (lambda ar: pReturn(''.join(ar))), \"nonlillolL.\", mustFinish=True)"
   ]
  },
  {
   "cell_type": "code",
   "execution_count": null,
   "metadata": {
    "collapsed": true
   },
   "outputs": [],
   "source": []
  }
 ],
 "metadata": {
  "kernelspec": {
   "display_name": "SageMath (latest)",
   "language": "",
   "name": "sagemath"
  },
  "language_info": {
   "codemirror_mode": {
    "name": "ipython",
    "version": 2
   },
   "file_extension": ".py",
   "mimetype": "text/x-python",
   "name": "python",
   "nbconvert_exporter": "python",
   "pygments_lexer": "ipython2",
   "version": "2.7.13"
  }
 },
 "nbformat": 4,
 "nbformat_minor": 0
}
